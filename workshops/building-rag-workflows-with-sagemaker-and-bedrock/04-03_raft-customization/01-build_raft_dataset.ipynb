{
 "cells": [
  {
   "cell_type": "markdown",
   "id": "4bf70c43-b793-45a3-b3fe-9852b035a55a",
   "metadata": {},
   "source": [
    "# Building a Retrieval Augmented Fine-Tuning (RAFT) dataset\n",
    "\n",
    "This notebook uses the PubMedQA dataset:\n",
    "- Jin, Q., Dhingra, B., Liu, Z., Cohen, W., & Lu, X. (2019). PubMedQA: A Dataset for Biomedical Research Question Answering. Proceedings of the 2019 Conference on Empirical Methods in Natural Language Processing and the 9th International Joint Conference on Natural Language Processing (EMNLP-IJCNLP), 2567–2577.\n",
    "\n",
    "\n",
    "The RAFT approach is a product of this research paper:\n",
    "- Zhang, T., Patil, S. G., Jain, N., Shen, S., Zaharia, M., Stoica, I., & Gonzalez, J. E. (2024). RAFT: Adapting Language Model to Domain Specific RAG. https://arxiv.org/abs/2403.10131\n",
    "\n",
    "> Note that this notebook set doesn't yet incorporate CoT Reasoning, but it will further enhance the results."
   ]
  },
  {
   "cell_type": "markdown",
   "id": "048b44a8-5fb5-44af-adc4-13ed94fd9f6a",
   "metadata": {},
   "source": [
    "## Introduction to RAFT\n",
    "\n",
    "Retrieval Augmented Fine Tuning (RAFT) aims to improve the performance of large language models on domain-specific open-book question answering tasks. \n",
    "\n",
    "![](images/x1.png)\n",
    "\n",
    "RAFT trains the language model to ignore \"distractor\" documents that do not contain relevant information to answer the given question, and instead focus on extracting the answer from the \"golden\" relevant documents. It also encourages the model to generate chain-of-thought style responses that cite relevant quotes from the documents, which improves the model's reasoning abilities. Experiments show that RAFT consistently outperforms standard fine-tuning and retrieval-augmented generation approaches across several specialized domains like medical literature, coding APIs, and multi-hop reasoning.\n",
    "\n",
    "As outlined in the following diagrams, training a model on distractor data has a material impact on the final accuracy of the response.\n",
    "\n",
    "Natural Questions|HotspotQA\n",
    "--- | --\n",
    "![](images/x5.png) | ![](images/x6.png)\n"
   ]
  },
  {
   "cell_type": "markdown",
   "id": "0c4578e9-373f-4cc3-ac47-81a0f3805d54",
   "metadata": {},
   "source": [
    "## Outcome\n",
    "\n",
    "In this series of notebooks you will learn how to build a RAFT dataset based on the PubMedQA dataset, then train a new generation model in a SageMaker Managed Training Job, then host the fine-tuned model on SageMaker hosting or Bedrock via Custom Model Import. After hosting the model, you will run some quick evaluations to quantify the improvement on hold out data."
   ]
  },
  {
   "cell_type": "markdown",
   "id": "8b818842-e799-40dd-b44a-eb93a907330d",
   "metadata": {},
   "source": [
    "## Dependencies"
   ]
  },
  {
   "cell_type": "code",
   "execution_count": 1,
   "id": "bb4933ed-ebca-4825-a9f6-e0a9d50b2a68",
   "metadata": {},
   "outputs": [
    {
     "name": "stdout",
     "output_type": "stream",
     "text": [
      "\u001b[31mERROR: pip's dependency resolver does not currently take into account all the packages that are installed. This behaviour is the source of the following dependency conflicts.\n",
      "jupyter-ai 2.29.1 requires faiss-cpu!=1.8.0.post0,<2.0.0,>=1.8.0, which is not installed.\n",
      "s3fs 2024.10.0 requires fsspec==2024.10.0.*, but you have fsspec 2024.3.1 which is incompatible.\u001b[0m\u001b[31m\n",
      "\u001b[31mERROR: pip's dependency resolver does not currently take into account all the packages that are installed. This behaviour is the source of the following dependency conflicts.\n",
      "jupyter-ai 2.29.1 requires faiss-cpu!=1.8.0.post0,<2.0.0,>=1.8.0, which is not installed.\n",
      "dask 2025.2.0 requires cloudpickle>=3.0.0, but you have cloudpickle 2.2.1 which is incompatible.\n",
      "distributed 2025.2.0 requires cloudpickle>=3.0.0, but you have cloudpickle 2.2.1 which is incompatible.\u001b[0m\u001b[31m\n",
      "\u001b[0m"
     ]
    }
   ],
   "source": [
    "!pip uninstall -q -y autogluon-multimodal autogluon-timeseries autogluon-features autogluon-common autogluon-core\n",
    "!pip install -Uq pathos==0.3.2\n",
    "!pip install -Uq datasets==2.19.2\n",
    "!pip install -Uq transformers==4.40.2\n",
    "!pip install -Uq transformers[torch]==4.40.2\n",
    "!pip install -Uq sentence_transformers==3.1.1\n",
    "!pip install -Uq accelerate==1.0.0\n",
    "!pip install -Uq sagemaker==2.224.1"
   ]
  },
  {
   "cell_type": "code",
   "execution_count": 11,
   "id": "dfec9584-0bbe-4b81-acc5-9d98e5d2e0c6",
   "metadata": {},
   "outputs": [],
   "source": [
    "import boto3\n",
    "import json\n",
    "\n",
    "import json\n",
    "import torch\n",
    "from sentence_transformers import SentenceTransformer\n",
    "from sentence_transformers.evaluation import (\n",
    "    InformationRetrievalEvaluator,\n",
    "    SequentialEvaluator,\n",
    ")\n",
    "from sentence_transformers.util import cos_sim\n",
    "from datasets import load_dataset, concatenate_datasets\n",
    "\n",
    "from botocore.exceptions import ClientError\n",
    "\n",
    "\n",
    "import sagemaker\n",
    "\n",
    "sess = sagemaker.Session()\n",
    "region = sess.boto_region_name"
   ]
  },
  {
   "cell_type": "markdown",
   "id": "24f6d77a-81ae-4d72-b3b4-7092786d941e",
   "metadata": {},
   "source": [
    "Process the raw PubMedQA dataset for RAFT. This involves building a set of Question/Answer/Context elements, with oracle context (all the correct context to answer the question) and distractor context (irrelevant data). The dataset will have a set of \"distracted\" documents where the oracle context isn't present at all along with standard documents where the oracle contexts are present but shuffled to prevent the model from learning to bias early contexts.\n",
    "\n",
    "The combination of these elements allows the model to better discern the correct way to answer a given user query when presented with a mixed corpus of content to work with."
   ]
  },
  {
   "cell_type": "markdown",
   "id": "7aef01bd-9685-45ef-8d07-8bb1bbb2b4f7",
   "metadata": {},
   "source": [
    "First, you'll pull down the PubMedQA from HuggingFace Datasets, then build a base dataset that you will use for a variety of tasks."
   ]
  },
  {
   "cell_type": "code",
   "execution_count": 12,
   "id": "6fae0b72-26aa-49ce-9e98-ec0e08c6b398",
   "metadata": {},
   "outputs": [
    {
     "data": {
      "text/plain": [
       "{'pubid': 25429730,\n",
       " 'question': 'Are group 2 innate lymphoid cells ( ILC2s ) increased in chronic rhinosinusitis with nasal polyps or eosinophilia?',\n",
       " 'context': {'contexts': ['Chronic rhinosinusitis (CRS) is a heterogeneous disease with an uncertain pathogenesis. Group 2 innate lymphoid cells (ILC2s) represent a recently discovered cell population which has been implicated in driving Th2 inflammation in CRS; however, their relationship with clinical disease characteristics has yet to be investigated.',\n",
       "   'The aim of this study was to identify ILC2s in sinus mucosa in patients with CRS and controls and compare ILC2s across characteristics of disease.',\n",
       "   'A cross-sectional study of patients with CRS undergoing endoscopic sinus surgery was conducted. Sinus mucosal biopsies were obtained during surgery and control tissue from patients undergoing pituitary tumour resection through transphenoidal approach. ILC2s were identified as CD45(+) Lin(-) CD127(+) CD4(-) CD8(-) CRTH2(CD294)(+) CD161(+) cells in single cell suspensions through flow cytometry. ILC2 frequencies, measured as a percentage of CD45(+) cells, were compared across CRS phenotype, endotype, inflammatory CRS subtype and other disease characteristics including blood eosinophils, serum IgE, asthma status and nasal symptom score.',\n",
       "   '35 patients (40% female, age 48 ± 17 years) including 13 with eosinophilic CRS (eCRS), 13 with non-eCRS and 9 controls were recruited. ILC2 frequencies were associated with the presence of nasal polyps (P = 0.002) as well as high tissue eosinophilia (P = 0.004) and eosinophil-dominant CRS (P = 0.001) (Mann-Whitney U). They were also associated with increased blood eosinophilia (P = 0.005). There were no significant associations found between ILC2s and serum total IgE and allergic disease. In the CRS with nasal polyps (CRSwNP) population, ILC2s were increased in patients with co-existing asthma (P = 0.03). ILC2s were also correlated with worsening nasal symptom score in CRS (P = 0.04).'],\n",
       "  'labels': ['BACKGROUND', 'OBJECTIVE', 'METHODS', 'RESULTS'],\n",
       "  'meshes': ['Adult',\n",
       "   'Aged',\n",
       "   'Antigens, Surface',\n",
       "   'Case-Control Studies',\n",
       "   'Chronic Disease',\n",
       "   'Eosinophilia',\n",
       "   'Female',\n",
       "   'Humans',\n",
       "   'Hypersensitivity',\n",
       "   'Immunity, Innate',\n",
       "   'Immunoglobulin E',\n",
       "   'Immunophenotyping',\n",
       "   'Leukocyte Count',\n",
       "   'Lymphocyte Subsets',\n",
       "   'Male',\n",
       "   'Middle Aged',\n",
       "   'Nasal Mucosa',\n",
       "   'Nasal Polyps',\n",
       "   'Neutrophil Infiltration',\n",
       "   'Patient Outcome Assessment',\n",
       "   'Rhinitis',\n",
       "   'Sinusitis',\n",
       "   'Young Adult']},\n",
       " 'long_answer': 'As ILC2s are elevated in patients with CRSwNP, they may drive nasal polyp formation in CRS. ILC2s are also linked with high tissue and blood eosinophilia and have a potential role in the activation and survival of eosinophils during the Th2 immune response. The association of innate lymphoid cells in CRS provides insights into its pathogenesis.',\n",
       " 'final_decision': 'yes'}"
      ]
     },
     "execution_count": 12,
     "metadata": {},
     "output_type": "execute_result"
    }
   ],
   "source": [
    "source_dataset = load_dataset(\"qiaojin/PubMedQA\", \"pqa_artificial\")\n",
    "source_dataset[\"train\"][0]"
   ]
  },
  {
   "cell_type": "code",
   "execution_count": 13,
   "id": "02b9925f-d63b-46da-87bf-05c8658f0ae3",
   "metadata": {},
   "outputs": [],
   "source": [
    "import random\n",
    "\n",
    "def process_dataset(input_dataset, output_filename, p=0.7, distract=3, max_items=-1):\n",
    "\n",
    "    output_data = []\n",
    "\n",
    "    if max_items > -1:\n",
    "        print(f\"max_items set, reducing input to {max_items} items.\")\n",
    "    else:\n",
    "        max_items = len(input_dataset)\n",
    "    \n",
    "    for idx, item in enumerate(input_dataset.select(range(max_items))):\n",
    "        \n",
    "        distractor_docs = []\n",
    "        \n",
    "        for i in range(distract):\n",
    "            distractor_element = input_dataset[random.randint(0,len(input_dataset)-1)]\n",
    "            distractor_contexts = distractor_element[\"context\"][\"contexts\"]\n",
    "            distractor_docs.append(random.sample(sorted(distractor_contexts),1)[0])\n",
    "\n",
    "        contexts = []\n",
    "        \n",
    "        #randomly select distractors\n",
    "        full_distractor = random.uniform(0, 1) > p\n",
    "        \n",
    "        if full_distractor:\n",
    "            contexts = distractor_docs\n",
    "        else:\n",
    "            contexts = item[\"context\"][\"contexts\"] + distractor_docs\n",
    "            \n",
    "        random.shuffle(contexts)\n",
    "        \n",
    "        data_item = {\n",
    "            \"question\": item[\"question\"],\n",
    "            \"context\": \"\\n\\n\".join(contexts),\n",
    "            \"oracle\": \"\\n\\n\".join(item[\"context\"][\"contexts\"]),\n",
    "            \"distracted\": full_distractor,\n",
    "            \"original_answer\": item[\"long_answer\"]\n",
    "        }\n",
    "        output_data.append(data_item)\n",
    "        \n",
    "        print(f\"item: {idx+1}\", end=\"\\r\")\n",
    "        \n",
    "    #write training data to an output file\n",
    "    with open(output_filename, 'w', encoding='utf-8') as f:\n",
    "        json.dump(output_data, f, ensure_ascii=False, indent=4)"
   ]
  },
  {
   "cell_type": "code",
   "execution_count": 14,
   "id": "e322633a-a009-4c2b-9a3f-12f6a6360ed0",
   "metadata": {},
   "outputs": [
    {
     "name": "stdout",
     "output_type": "stream",
     "text": [
      "max_items set, reducing input to 40000 items.\n",
      "item: 40000"
     ]
    }
   ],
   "source": [
    "process_dataset(source_dataset[\"train\"].shuffle(),\"./data/base_data/base_data.json\", max_items=40000)"
   ]
  },
  {
   "cell_type": "markdown",
   "id": "17ddd164-5d85-4b6c-a20b-3c825b3d5ea9",
   "metadata": {},
   "source": [
    "Then load the processed file into a dataset object and inspect one of the elements. \n",
    "\n",
    "You can see 5 properties in the dataset:\n",
    "- `question` - The user query related to this entry.\n",
    "- `oracle` - The oracle context for the given question, this is all of the correct context to generate the answer. This will be used to generate synthetic data in a following step as well as can be used to further measure the factual accuracy of generated responses.\n",
    "- `context` - The combined context elements. Either consistes entirely of distractor documents, or a mix of oracle/distractor documents.\n",
    "- `distracted` - A boolean flag identifying whether the context completely consists of distractor documents.\n",
    "- `original_answer` - The source PubMedQA answer. Here, you will generate longer versions based on oracle context since these are typically short."
   ]
  },
  {
   "cell_type": "code",
   "execution_count": 15,
   "id": "be0030e9-5a4a-421f-af27-74581df84b65",
   "metadata": {},
   "outputs": [
    {
     "data": {
      "application/vnd.jupyter.widget-view+json": {
       "model_id": "9932502a6fcf41fda644e501dc8da3cd",
       "version_major": 2,
       "version_minor": 0
      },
      "text/plain": [
       "Generating train split: 0 examples [00:00, ? examples/s]"
      ]
     },
     "metadata": {},
     "output_type": "display_data"
    },
    {
     "data": {
      "text/plain": [
       "{'oracle': 'The aim of the study was to search for serologic, immunopathologic, and morphologic evidence of antibody-mediated rejection (AMR) among patients with acute renal allograft dysfunction. The study included 19 patients with episodes of acute rejection (ARE) within the first year after transplantation. All patients had negative crossmatch tests before transplantation. Patients underwent biopsy for histologic and C4d examinations. All patients were monitored for donor-specific HLA alloantibodies during the first posttransplant year. Complement-dependent cytotoxic crossmatches were performed with donor lymphocytes. In eight patients, the crossmatch test results changed to positive during ARE. In all biopsies except one with cortical infarction, we observed C4d staining (group 1). The biopsies of four patients showed histologic changes of AMR, and all of their grafts were lost. In one patient, cellular and vascular rejection (Banff II) were present; in two, Banff I; and in one, borderline lesions. These results were compared with 11 patients with ARE but negative posttransplant crossmatches and negative staining for C4d (group 2). The histologic findings in the biopsies of these patients were cellular interstitial and vascular rejection (Banff I and Banff II). With no features suggestive of AMR. During the first year after transplantation, the creatinine levels of group 1 patients, were significantly higher than group 2 patients. One-year graft survival was 50% in group 1 and 91% in group 2.',\n",
       " 'original_answer': 'C4d and a positive posttransplant crossmatch were not associated with histologic features of AMR in half of the ARE. Nevertheless, C4d deposition and positive posttransplant crossmatches correlated with allograft injury among renal transplant patients.',\n",
       " 'distracted': False,\n",
       " 'context': 'We retrospectively reviewed the records of 460 patients who underwent ureteral reimplantation between 1980 and 2002, and identified children with primary vesicoureteral reflux and severe unilateral reflux nephropathy (RRF 30% or less on renal scintigraphy). The postoperative outcomes were assessed for relative renal function and complications including hypertension, pyelonephritis or persistent reflux.\\n\\nRetrospective, cross-sectional study. Data were collected over a 9-month period. Spectral domain optical coherence tomography scans were performed over areas of new vessel complexes (NVC) in both the disk and elsewhere, and were qualitatively graded by two masked observers. New vessel complexes activity was determined using clinical and angiographic criteria and correlated with spectral domain optical coherence tomography features.\\n\\nThe aim of the study was to search for serologic, immunopathologic, and morphologic evidence of antibody-mediated rejection (AMR) among patients with acute renal allograft dysfunction. The study included 19 patients with episodes of acute rejection (ARE) within the first year after transplantation. All patients had negative crossmatch tests before transplantation. Patients underwent biopsy for histologic and C4d examinations. All patients were monitored for donor-specific HLA alloantibodies during the first posttransplant year. Complement-dependent cytotoxic crossmatches were performed with donor lymphocytes. In eight patients, the crossmatch test results changed to positive during ARE. In all biopsies except one with cortical infarction, we observed C4d staining (group 1). The biopsies of four patients showed histologic changes of AMR, and all of their grafts were lost. In one patient, cellular and vascular rejection (Banff II) were present; in two, Banff I; and in one, borderline lesions. These results were compared with 11 patients with ARE but negative posttransplant crossmatches and negative staining for C4d (group 2). The histologic findings in the biopsies of these patients were cellular interstitial and vascular rejection (Banff I and Banff II). With no features suggestive of AMR. During the first year after transplantation, the creatinine levels of group 1 patients, were significantly higher than group 2 patients. One-year graft survival was 50% in group 1 and 91% in group 2.\\n\\nCan human Sertoli cells cultured in vitro and that have formed an epithelium be used as a model to monitor toxicant-induced junction disruption and to better understand the mechanism(s) by which toxicants disrupt cell adhesion at the Sertoli cell blood-testis barrier (BTB)?',\n",
       " 'question': 'Are c4D deposition and positive posttransplant crossmatch necessarily markers of antibody-mediated rejection in renal allograft recipients?'}"
      ]
     },
     "execution_count": 15,
     "metadata": {},
     "output_type": "execute_result"
    }
   ],
   "source": [
    "dataset = load_dataset(\"json\", data_files=\"./data/base_data/base_data.json\", split=\"train\")\n",
    "\n",
    "dataset[0]"
   ]
  },
  {
   "cell_type": "markdown",
   "id": "0a4f6375-2b72-4777-bd74-5cfd6ca758b5",
   "metadata": {},
   "source": [
    "The `create_oracle_rag_prompts` function takes in an element from the base dataset and generates a prompt consisting of only oracle context so you can generate training data with longer answers."
   ]
  },
  {
   "cell_type": "code",
   "execution_count": 16,
   "id": "0fcee73d-c1e8-4f29-9a30-e756a7d64bb6",
   "metadata": {},
   "outputs": [],
   "source": [
    "# Convert dataset to summarization messages    \n",
    "def create_oracle_rag_prompts(data_point):\n",
    "    full_prompt = f\"\"\"\n",
    "        <|begin_of_text|>\n",
    "        <|start_header_id|>system<|end_header_id|>\n",
    "        You are an assistant for question-answering tasks. Answer the following question in 5 sentences using the provided context. If you don't know the answer, just say \"I don't know.\".\n",
    "        <|start_header_id|>user<|end_header_id|>\n",
    "        Context: {data_point[\"oracle\"]}\n",
    "        \n",
    "        Question: {data_point[\"question\"]}\n",
    "        <|start_header_id|>assistant<|end_header_id|>\n",
    "        Answer:\"\"\"\n",
    "    return {\"prompt\": full_prompt}"
   ]
  },
  {
   "cell_type": "markdown",
   "id": "90881e6e-0a34-4a1e-adff-c60c2d1667bd",
   "metadata": {},
   "source": [
    "Use `dataset.map` to run the `create_oracle_rag_prompts` function on all the rows of the dataset, creating a `prompt` feature for each element that you'll use for generation. After the mapping, dump to a `generation_data.json` file in the data directory."
   ]
  },
  {
   "cell_type": "code",
   "execution_count": 17,
   "id": "015459f4-de88-4176-bef5-2962a203c1dd",
   "metadata": {},
   "outputs": [
    {
     "data": {
      "application/vnd.jupyter.widget-view+json": {
       "model_id": "16d6fc9dfd8e41a6bd4feff964bd4396",
       "version_major": 2,
       "version_minor": 0
      },
      "text/plain": [
       "Map:   0%|          | 0/40000 [00:00<?, ? examples/s]"
      ]
     },
     "metadata": {},
     "output_type": "display_data"
    },
    {
     "data": {
      "application/vnd.jupyter.widget-view+json": {
       "model_id": "d9e5a2ff72534280892bc17312fe7993",
       "version_major": 2,
       "version_minor": 0
      },
      "text/plain": [
       "Creating json from Arrow format:   0%|          | 0/40 [00:00<?, ?ba/s]"
      ]
     },
     "metadata": {},
     "output_type": "display_data"
    },
    {
     "data": {
      "text/plain": [
       "248235961"
      ]
     },
     "execution_count": 17,
     "metadata": {},
     "output_type": "execute_result"
    }
   ],
   "source": [
    "dataset = dataset.map(\n",
    "    create_oracle_rag_prompts,\n",
    "    batched=False\n",
    ")\n",
    "\n",
    "dataset.to_json(\"./data/generation_data/generation_data.json\", orient=\"records\")"
   ]
  },
  {
   "cell_type": "markdown",
   "id": "54fcdcf7-3ab3-437f-a2a6-c86897113c21",
   "metadata": {},
   "source": [
    "Load the data directly from the filesystem in case you've already generated the prompt data."
   ]
  },
  {
   "cell_type": "code",
   "execution_count": 18,
   "id": "5616bdce-1c7e-40d0-8a8e-bb8b004b8bd6",
   "metadata": {},
   "outputs": [
    {
     "data": {
      "application/vnd.jupyter.widget-view+json": {
       "model_id": "7e47b04d4e36438a83248c392105b07a",
       "version_major": 2,
       "version_minor": 0
      },
      "text/plain": [
       "Generating train split: 0 examples [00:00, ? examples/s]"
      ]
     },
     "metadata": {},
     "output_type": "display_data"
    },
    {
     "data": {
      "text/plain": [
       "{'oracle': 'The aim of the study was to search for serologic, immunopathologic, and morphologic evidence of antibody-mediated rejection (AMR) among patients with acute renal allograft dysfunction. The study included 19 patients with episodes of acute rejection (ARE) within the first year after transplantation. All patients had negative crossmatch tests before transplantation. Patients underwent biopsy for histologic and C4d examinations. All patients were monitored for donor-specific HLA alloantibodies during the first posttransplant year. Complement-dependent cytotoxic crossmatches were performed with donor lymphocytes. In eight patients, the crossmatch test results changed to positive during ARE. In all biopsies except one with cortical infarction, we observed C4d staining (group 1). The biopsies of four patients showed histologic changes of AMR, and all of their grafts were lost. In one patient, cellular and vascular rejection (Banff II) were present; in two, Banff I; and in one, borderline lesions. These results were compared with 11 patients with ARE but negative posttransplant crossmatches and negative staining for C4d (group 2). The histologic findings in the biopsies of these patients were cellular interstitial and vascular rejection (Banff I and Banff II). With no features suggestive of AMR. During the first year after transplantation, the creatinine levels of group 1 patients, were significantly higher than group 2 patients. One-year graft survival was 50% in group 1 and 91% in group 2.',\n",
       " 'original_answer': 'C4d and a positive posttransplant crossmatch were not associated with histologic features of AMR in half of the ARE. Nevertheless, C4d deposition and positive posttransplant crossmatches correlated with allograft injury among renal transplant patients.',\n",
       " 'distracted': False,\n",
       " 'context': 'We retrospectively reviewed the records of 460 patients who underwent ureteral reimplantation between 1980 and 2002, and identified children with primary vesicoureteral reflux and severe unilateral reflux nephropathy (RRF 30% or less on renal scintigraphy). The postoperative outcomes were assessed for relative renal function and complications including hypertension, pyelonephritis or persistent reflux.\\n\\nRetrospective, cross-sectional study. Data were collected over a 9-month period. Spectral domain optical coherence tomography scans were performed over areas of new vessel complexes (NVC) in both the disk and elsewhere, and were qualitatively graded by two masked observers. New vessel complexes activity was determined using clinical and angiographic criteria and correlated with spectral domain optical coherence tomography features.\\n\\nThe aim of the study was to search for serologic, immunopathologic, and morphologic evidence of antibody-mediated rejection (AMR) among patients with acute renal allograft dysfunction. The study included 19 patients with episodes of acute rejection (ARE) within the first year after transplantation. All patients had negative crossmatch tests before transplantation. Patients underwent biopsy for histologic and C4d examinations. All patients were monitored for donor-specific HLA alloantibodies during the first posttransplant year. Complement-dependent cytotoxic crossmatches were performed with donor lymphocytes. In eight patients, the crossmatch test results changed to positive during ARE. In all biopsies except one with cortical infarction, we observed C4d staining (group 1). The biopsies of four patients showed histologic changes of AMR, and all of their grafts were lost. In one patient, cellular and vascular rejection (Banff II) were present; in two, Banff I; and in one, borderline lesions. These results were compared with 11 patients with ARE but negative posttransplant crossmatches and negative staining for C4d (group 2). The histologic findings in the biopsies of these patients were cellular interstitial and vascular rejection (Banff I and Banff II). With no features suggestive of AMR. During the first year after transplantation, the creatinine levels of group 1 patients, were significantly higher than group 2 patients. One-year graft survival was 50% in group 1 and 91% in group 2.\\n\\nCan human Sertoli cells cultured in vitro and that have formed an epithelium be used as a model to monitor toxicant-induced junction disruption and to better understand the mechanism(s) by which toxicants disrupt cell adhesion at the Sertoli cell blood-testis barrier (BTB)?',\n",
       " 'question': 'Are c4D deposition and positive posttransplant crossmatch necessarily markers of antibody-mediated rejection in renal allograft recipients?',\n",
       " 'prompt': '\\n        <|begin_of_text|>\\n        <|start_header_id|>system<|end_header_id|>\\n        You are an assistant for question-answering tasks. Answer the following question in 5 sentences using the provided context. If you don\\'t know the answer, just say \"I don\\'t know.\".\\n        <|start_header_id|>user<|end_header_id|>\\n        Context: The aim of the study was to search for serologic, immunopathologic, and morphologic evidence of antibody-mediated rejection (AMR) among patients with acute renal allograft dysfunction. The study included 19 patients with episodes of acute rejection (ARE) within the first year after transplantation. All patients had negative crossmatch tests before transplantation. Patients underwent biopsy for histologic and C4d examinations. All patients were monitored for donor-specific HLA alloantibodies during the first posttransplant year. Complement-dependent cytotoxic crossmatches were performed with donor lymphocytes. In eight patients, the crossmatch test results changed to positive during ARE. In all biopsies except one with cortical infarction, we observed C4d staining (group 1). The biopsies of four patients showed histologic changes of AMR, and all of their grafts were lost. In one patient, cellular and vascular rejection (Banff II) were present; in two, Banff I; and in one, borderline lesions. These results were compared with 11 patients with ARE but negative posttransplant crossmatches and negative staining for C4d (group 2). The histologic findings in the biopsies of these patients were cellular interstitial and vascular rejection (Banff I and Banff II). With no features suggestive of AMR. During the first year after transplantation, the creatinine levels of group 1 patients, were significantly higher than group 2 patients. One-year graft survival was 50% in group 1 and 91% in group 2.\\n        \\n        Question: Are c4D deposition and positive posttransplant crossmatch necessarily markers of antibody-mediated rejection in renal allograft recipients?\\n        <|start_header_id|>assistant<|end_header_id|>\\n        Answer:'}"
      ]
     },
     "execution_count": 18,
     "metadata": {},
     "output_type": "execute_result"
    }
   ],
   "source": [
    "generation_dataset = load_dataset(\"json\", data_files=\"./data/generation_data/generation_data.json\", split=\"train\")\n",
    "generation_dataset[0]"
   ]
  },
  {
   "cell_type": "markdown",
   "id": "de608428-00a7-4a76-958c-c3274ff0d3c5",
   "metadata": {},
   "source": [
    "## Generate Oracle Summary Data"
   ]
  },
  {
   "cell_type": "code",
   "execution_count": 23,
   "id": "c8a9df92-049e-4740-9452-398eb218416e",
   "metadata": {},
   "outputs": [],
   "source": [
    "from sagemaker.deserializers import JSONDeserializer\n",
    "from sagemaker.serializers import JSONSerializer\n",
    "\n",
    "generation_base_predictor = sagemaker.Predictor(\n",
    "    endpoint_name=\"<<YOUR ENDPOINT HERE>>\",\n",
    "    sagemaker_session=sess,\n",
    "    serializer=JSONSerializer(),\n",
    "    deserializer=JSONDeserializer(),\n",
    ")"
   ]
  },
  {
   "cell_type": "markdown",
   "id": "b613e9df-b096-44d5-b241-8c8848355293",
   "metadata": {},
   "source": [
    "Preview the prompt being used for generation."
   ]
  },
  {
   "cell_type": "code",
   "execution_count": 24,
   "id": "9424c853-d6a7-4e64-a6bc-42a936132a9a",
   "metadata": {},
   "outputs": [
    {
     "data": {
      "text/plain": [
       "'\\n        <|begin_of_text|>\\n        <|start_header_id|>system<|end_header_id|>\\n        You are an assistant for question-answering tasks. Answer the following question in 5 sentences using the provided context. If you don\\'t know the answer, just say \"I don\\'t know.\".\\n        <|start_header_id|>user<|end_header_id|>\\n        Context: To determine the long-term coronary heart disease (CHD) mortality in women and men with symptoms, according to the Rose Angina Questionnaire at a relatively young age.\\n\\nCohort study with the baseline survey conducted during 1974-8. Information on symptoms was collected by a short, three-item version of the Rose Angina Questionnaire. Participants were re-invited to a similar survey five years later and followed for mortality throughout 2000.\\n\\nThree counties in Norway (the Norwegian Counties Study).\\n\\n16 616 men and 16 265 women aged 40-49 years and denying CHD in 1974-8.\\n\\nCHD mortality during 23 years.\\n\\nBy the end of follow-up 1316 men (7.9%) and 310 women (1.9%) had died from CHD, including 16% (66/406) of men and 4% (24/563) of women with Rose angina in 1974-8. Rose angina implied an elevated mortality from CHD with adjusted hazard ratios 1.50 (95% CI 1.16 to 1.93) in men and 1.98 (95% CI 1.30 to 3.02) in women. According to calculations based on the Cox model these increases in risk are similar to those associated with elevations of total cholesterol by 1.8 mmol/l (men) and 2.5 mmol/l (women) or elevations of systolic blood pressure by 21 mm Hg (men) or 31 mm Hg (women).\\n        \\n        Question: Does rose angina predict 23-year coronary heart disease mortality in women and men aged 40-49 years?\\n        <|start_header_id|>assistant<|end_header_id|>\\n        Answer:'"
      ]
     },
     "execution_count": 24,
     "metadata": {},
     "output_type": "execute_result"
    }
   ],
   "source": [
    "test_item = generation_dataset[2]\n",
    "test_item[\"prompt\"]"
   ]
  },
  {
   "cell_type": "markdown",
   "id": "2da8e012-e5e2-48b7-b7ca-c10a54665571",
   "metadata": {},
   "source": [
    "Here, you will set the parameters being used for generation and insert your prompt. Then use the Bedrock `invoke.model` API to test what a generated response looks like before running against the whole dataset."
   ]
  },
  {
   "cell_type": "code",
   "execution_count": 25,
   "id": "08ec5283-5d3f-404f-82a9-f3fd7c4dcd83",
   "metadata": {},
   "outputs": [],
   "source": [
    "def send_prompt(predictor, prompt, parameters):\n",
    "    # convert u/a format \n",
    "    payload = {\n",
    "        \"inputs\": prompt,\n",
    "        \"parameters\": parameters\n",
    "    }\n",
    "    response = predictor.predict(payload)\n",
    "    return response"
   ]
  },
  {
   "cell_type": "code",
   "execution_count": 26,
   "id": "ee4c40aa-c31c-45e1-944e-bdc5b8911537",
   "metadata": {},
   "outputs": [
    {
     "name": "stdout",
     "output_type": "stream",
     "text": [
      "CPU times: user 13.1 ms, sys: 0 ns, total: 13.1 ms\n",
      "Wall time: 716 ms\n"
     ]
    },
    {
     "data": {
      "text/plain": [
       "{'generated_text': ' Yes, the study found that Rose angina predicted 23-year coronary heart disease mortality in both women and men aged 40-49 years. The risk of CHD mortality was significantly higher in individuals with Rose angina compared to those without. In men, the adjusted hazard ratio for CHD mortality was 1.50, while in women, it was 1.98. These findings suggest that Rose angina is a significant predictor of long-term CHD mortality in this age group. The risk associated with Rose angina was comparable to the risk associated with elevated cholesterol levels and blood pressure.'}"
      ]
     },
     "execution_count": 26,
     "metadata": {},
     "output_type": "execute_result"
    }
   ],
   "source": [
    "%%time\n",
    "prompt = test_item[\"prompt\"]\n",
    "\n",
    "base_response = send_prompt(\n",
    "    p4d_base_predictor,\n",
    "    prompt,\n",
    "    parameters={\n",
    "        \"temperature\": 0.9, \n",
    "        \"max_new_tokens\": 512,\n",
    "        \"top_p\": 0.9\n",
    "    }\n",
    ")\n",
    "\n",
    "base_response"
   ]
  },
  {
   "cell_type": "markdown",
   "id": "b3b33a04-59c6-4459-916f-fb6584e6ef9c",
   "metadata": {},
   "source": [
    "## Generate summaries based on oracle contexts for supervised fine tuning\n",
    "\n",
    "This step will go through the generation dataset and build longer summaries than the standard PubMedQA summaries, only using oracle contexts. This is then joined with the existing data fields to build the training dataset."
   ]
  },
  {
   "cell_type": "code",
   "execution_count": null,
   "id": "ffb85bf5-9f4b-420f-a0e2-a9c9dddaf37e",
   "metadata": {},
   "outputs": [],
   "source": [
    "from IPython.display import clear_output\n",
    "\n",
    "with open(f\"../data/synthetic_data/synthetic_training_data.json\", \"w\") as output_file:\n",
    "    output_json = []\n",
    "    for idx, data in enumerate(generation_dataset):\n",
    "    \n",
    "        model_response = send_prompt(\n",
    "            generation_base_predictor,\n",
    "            data[\"prompt\"],\n",
    "            parameters={\n",
    "                \"temperature\": 0.9, \n",
    "                \"max_new_tokens\": 512,\n",
    "                \"top_p\": 0.9\n",
    "            }\n",
    "        )\n",
    "        \n",
    "        # Extract and print the response text.\n",
    "        response_text = model_response[\"generated_text\"]\n",
    "        #print(response_text)\n",
    "    \n",
    "        output_item = data\n",
    "\n",
    "        #print(output_item)\n",
    "        \n",
    "        del(output_item[\"prompt\"])\n",
    "        output_item[\"synthetic_answer\"] = response_text\n",
    "\n",
    "        output_json.append(output_item)\n",
    "\n",
    "        clear_output()\n",
    "        print(f\"{idx+1} of {len(generation_dataset)}\\n\\n{output_item}\")\n",
    "        \n",
    "    output_file.write(json.dumps(output_json))"
   ]
  },
  {
   "cell_type": "code",
   "execution_count": null,
   "id": "7819c182-8c70-497a-bc89-25d3c24c5056",
   "metadata": {},
   "outputs": [],
   "source": []
  }
 ],
 "metadata": {
  "kernelspec": {
   "display_name": "Python 3 (ipykernel)",
   "language": "python",
   "name": "python3"
  },
  "language_info": {
   "codemirror_mode": {
    "name": "ipython",
    "version": 3
   },
   "file_extension": ".py",
   "mimetype": "text/x-python",
   "name": "python",
   "nbconvert_exporter": "python",
   "pygments_lexer": "ipython3",
   "version": "3.11.11"
  }
 },
 "nbformat": 4,
 "nbformat_minor": 5
}
