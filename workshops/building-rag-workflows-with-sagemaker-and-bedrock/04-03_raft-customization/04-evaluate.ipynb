{
 "cells": [
  {
   "cell_type": "code",
   "execution_count": 14,
   "id": "23ae8f86-38ea-4d88-81de-f8d20a6ad9ab",
   "metadata": {
    "scrolled": true
   },
   "outputs": [
    {
     "name": "stdout",
     "output_type": "stream",
     "text": [
      "\u001b[31mERROR: pip's dependency resolver does not currently take into account all the packages that are installed. This behaviour is the source of the following dependency conflicts.\n",
      "autogluon-multimodal 1.2 requires nvidia-ml-py3==7.352.0, which is not installed.\n",
      "autogluon-multimodal 1.2 requires jsonschema<4.22,>=4.18, but you have jsonschema 4.23.0 which is incompatible.\n",
      "autogluon-multimodal 1.2 requires nltk<3.9,>=3.4.5, but you have nltk 3.9.1 which is incompatible.\n",
      "autogluon-multimodal 1.2 requires omegaconf<2.3.0,>=2.1.1, but you have omegaconf 2.3.0 which is incompatible.\u001b[0m\u001b[31m\n",
      "Note: you may need to restart the kernel to use updated packages.\n",
      "Note: you may need to restart the kernel to use updated packages.\n",
      "Note: you may need to restart the kernel to use updated packages.\n",
      "\u001b[31mERROR: pip's dependency resolver does not currently take into account all the packages that are installed. This behaviour is the source of the following dependency conflicts.\n",
      "langchain-progress 0.1.1 requires langchain-community<=0.0.28, but you have langchain-community 0.3.21 which is incompatible.\u001b[0m\u001b[31m\n",
      "Note: you may need to restart the kernel to use updated packages.\n",
      "Note: you may need to restart the kernel to use updated packages.\n"
     ]
    }
   ],
   "source": [
    "%pip install -Uq evaluate\n",
    "%pip install -Uq rouge-score\n",
    "%pip install -Uq bleu\n",
    "%pip install -Uq ragas\n",
    "%pip install -Uq langchain-aws"
   ]
  },
  {
   "cell_type": "code",
   "execution_count": 20,
   "id": "cd5c252e-eacd-4b09-b2e3-f735c7867cbe",
   "metadata": {},
   "outputs": [],
   "source": [
    "import json\n",
    "import os\n",
    "from typing import Any, Dict, List, Optional\n",
    "\n",
    "# External Dependencies:\n",
    "import pandas as pd  # For working with tabular data\n",
    "import boto3, uuid\n",
    "from botocore.response import StreamingBody\n",
    "\n",
    "from datasets import Dataset, load_dataset\n",
    "from random import sample\n",
    "from asyncio import run\n",
    "\n",
    "import evaluate as hf_evaluate\n",
    "\n",
    "# Langchain\n",
    "from langchain_aws.chat_models.sagemaker_endpoint import ChatSagemakerEndpoint, ChatModelContentHandler\n",
    "from langchain_core.messages import HumanMessage, AIMessageChunk, SystemMessage\n",
    "from langchain_aws.embeddings import BedrockEmbeddings\n",
    "from langchain_community.embeddings import SagemakerEndpointEmbeddings\n",
    "\n",
    "\n",
    "# Sagemaker\n",
    "import sagemaker\n",
    "from sagemaker.huggingface import HuggingFaceModel\n",
    "from sagemaker.huggingface import get_huggingface_llm_image_uri\n",
    "from sagemaker.utils import name_from_base\n",
    "from sagemaker import get_execution_role\n",
    "\n",
    "# RAGAS\n",
    "import ragas\n",
    "from ragas.run_config import RunConfig\n",
    "from ragas.metrics.base import MetricWithLLM, MetricWithEmbeddings\n",
    "from ragas import evaluate as ragas_evaluate\n",
    "from ragas.metrics import Faithfulness, ResponseRelevancy\n",
    "from ragas.metrics import answer_relevancy, faithfulness, context_precision\n",
    "from ragas.llms import LangchainLLMWrapper\n",
    "from ragas.embeddings import LangchainEmbeddingsWrapper\n",
    "from ragas.dataset_schema import SingleTurnSample"
   ]
  },
  {
   "cell_type": "code",
   "execution_count": 15,
   "id": "f6ac7fc6-b62c-4bee-b018-a76eb5104d42",
   "metadata": {},
   "outputs": [
    {
     "name": "stderr",
     "output_type": "stream",
     "text": [
      "2025-04-05 18:55:46.275981: E external/local_xla/xla/stream_executor/cuda/cuda_fft.cc:485] Unable to register cuFFT factory: Attempting to register factory for plugin cuFFT when one has already been registered\n",
      "2025-04-05 18:55:46.291988: E external/local_xla/xla/stream_executor/cuda/cuda_dnn.cc:8454] Unable to register cuDNN factory: Attempting to register factory for plugin cuDNN when one has already been registered\n",
      "2025-04-05 18:55:46.296895: E external/local_xla/xla/stream_executor/cuda/cuda_blas.cc:1452] Unable to register cuBLAS factory: Attempting to register factory for plugin cuBLAS when one has already been registered\n",
      "2025-04-05 18:55:46.308220: I tensorflow/core/platform/cpu_feature_guard.cc:210] This TensorFlow binary is optimized to use available CPU instructions in performance-critical operations.\n",
      "To enable the following instructions: SSE4.1 SSE4.2 AVX AVX2 FMA, in other operations, rebuild TensorFlow with the appropriate compiler flags.\n"
     ]
    }
   ],
   "source": [
    "\n",
    "# Load the BLEU evaluation metric\n",
    "bleu = hf_evaluate.load(\"bleu\")\n",
    "rouge = hf_evaluate.load(\"rouge\")"
   ]
  },
  {
   "cell_type": "code",
   "execution_count": 16,
   "id": "cd385d8b-b794-45ae-a6be-9ece2ed1c007",
   "metadata": {},
   "outputs": [
    {
     "data": {
      "application/vnd.jupyter.widget-view+json": {
       "model_id": "aae20c0324884acdb592927752abd1c9",
       "version_major": 2,
       "version_minor": 0
      },
      "text/plain": [
       "Generating train split: 0 examples [00:00, ? examples/s]"
      ]
     },
     "metadata": {},
     "output_type": "display_data"
    }
   ],
   "source": [
    "evaluation_dataset = load_dataset(\"json\", data_files=\"eval.json\", split=\"train\")"
   ]
  },
  {
   "cell_type": "code",
   "execution_count": 17,
   "id": "aa29fe45-91b8-4618-89d0-9c7b62c54cd9",
   "metadata": {},
   "outputs": [
    {
     "data": {
      "text/html": [
       "<pre style=\"white-space:pre;overflow-x:auto;line-height:normal;font-family:Menlo,'DejaVu Sans Mono',consolas,'Courier New',monospace\"><span style=\"color: #7fbfbf; text-decoration-color: #7fbfbf\">[04/05/25 18:55:58] </span><span style=\"color: #0069ff; text-decoration-color: #0069ff; font-weight: bold\">INFO    </span> Using default tokenizer.                                            <a href=\"file:///opt/conda/lib/python3.11/site-packages/rouge_score/rouge_scorer.py\" target=\"_blank\"><span style=\"color: #7f7f7f; text-decoration-color: #7f7f7f\">rouge_scorer.py</span></a><span style=\"color: #7f7f7f; text-decoration-color: #7f7f7f\">:</span><a href=\"file:///opt/conda/lib/python3.11/site-packages/rouge_score/rouge_scorer.py#83\" target=\"_blank\"><span style=\"color: #7f7f7f; text-decoration-color: #7f7f7f\">83</span></a>\n",
       "</pre>\n"
      ],
      "text/plain": [
       "\u001b[2;36m[04/05/25 18:55:58]\u001b[0m\u001b[2;36m \u001b[0m\u001b[1;38;2;0;105;255mINFO    \u001b[0m Using default tokenizer.                                            \u001b]8;id=556870;file:///opt/conda/lib/python3.11/site-packages/rouge_score/rouge_scorer.py\u001b\\\u001b[2mrouge_scorer.py\u001b[0m\u001b]8;;\u001b\\\u001b[2m:\u001b[0m\u001b]8;id=165821;file:///opt/conda/lib/python3.11/site-packages/rouge_score/rouge_scorer.py#83\u001b\\\u001b[2m83\u001b[0m\u001b]8;;\u001b\\\n"
      ]
     },
     "metadata": {},
     "output_type": "display_data"
    },
    {
     "data": {
      "text/html": [
       "<pre style=\"white-space:pre;overflow-x:auto;line-height:normal;font-family:Menlo,'DejaVu Sans Mono',consolas,'Courier New',monospace\"><span style=\"color: #7fbfbf; text-decoration-color: #7fbfbf\">[04/05/25 18:56:14] </span><span style=\"color: #0069ff; text-decoration-color: #0069ff; font-weight: bold\">INFO    </span> Using default tokenizer.                                            <a href=\"file:///opt/conda/lib/python3.11/site-packages/rouge_score/rouge_scorer.py\" target=\"_blank\"><span style=\"color: #7f7f7f; text-decoration-color: #7f7f7f\">rouge_scorer.py</span></a><span style=\"color: #7f7f7f; text-decoration-color: #7f7f7f\">:</span><a href=\"file:///opt/conda/lib/python3.11/site-packages/rouge_score/rouge_scorer.py#83\" target=\"_blank\"><span style=\"color: #7f7f7f; text-decoration-color: #7f7f7f\">83</span></a>\n",
       "</pre>\n"
      ],
      "text/plain": [
       "\u001b[2;36m[04/05/25 18:56:14]\u001b[0m\u001b[2;36m \u001b[0m\u001b[1;38;2;0;105;255mINFO    \u001b[0m Using default tokenizer.                                            \u001b]8;id=119227;file:///opt/conda/lib/python3.11/site-packages/rouge_score/rouge_scorer.py\u001b\\\u001b[2mrouge_scorer.py\u001b[0m\u001b]8;;\u001b\\\u001b[2m:\u001b[0m\u001b]8;id=943144;file:///opt/conda/lib/python3.11/site-packages/rouge_score/rouge_scorer.py#83\u001b\\\u001b[2m83\u001b[0m\u001b]8;;\u001b\\\n"
      ]
     },
     "metadata": {},
     "output_type": "display_data"
    },
    {
     "name": "stdout",
     "output_type": "stream",
     "text": [
      "=======BASE MODEL=======\n",
      "{'bleu': 0.4114756154832229, 'precisions': [0.6616061544758556, 0.45710818427201044, 0.3469485627025168, 0.27320760722527254], 'brevity_penalty': 1.0, 'length_ratio': 1.0314523944310647, 'translation_length': 322497, 'reference_length': 312663, 'rouge1': 0.6611996106659694, 'rouge2': 0.45891180129876374, 'rougeL': 0.47968244426749934, 'rougeLsum': 0.4794930604388219}\n",
      "=======TUNED MODEL=======\n",
      "{'bleu': 0.47653356485280896, 'precisions': [0.6957336146068233, 0.516426514730066, 0.41553424995375793, 0.34539467547247255], 'brevity_penalty': 1.0, 'length_ratio': 1.055219197666497, 'translation_length': 329928, 'reference_length': 312663, 'rouge1': 0.7117874158422234, 'rouge2': 0.5277112952305623, 'rougeL': 0.5702154382716487, 'rougeLsum': 0.5703270752421614}\n"
     ]
    }
   ],
   "source": [
    "ground_truth = []\n",
    "base_predictions = []\n",
    "sft_predictions = []\n",
    "\n",
    "for eval_item in evaluation_dataset:\n",
    "\n",
    "    ground_truth.append(eval_item[\"ground_truth\"])\n",
    "    base_predictions.append(eval_item['base'])\n",
    "    sft_predictions.append(eval_item['tuned'])\n",
    "\n",
    "\n",
    "base_bleu_results = bleu.compute(predictions=base_predictions, references=ground_truth)\n",
    "base_rouge_results = rouge.compute(predictions=base_predictions, references=ground_truth)\n",
    "\n",
    "# Compute the BLEU score\n",
    "sft_bleu_results = bleu.compute(predictions=sft_predictions, references=ground_truth)\n",
    "sft_rouge_results = rouge.compute(predictions=sft_predictions, references=ground_truth)\n",
    "\n",
    "base_scores = (base_bleu_results | base_rouge_results)\n",
    "sft_scores = (sft_bleu_results | sft_rouge_results)\n",
    "\n",
    "print(\"=======BASE MODEL=======\")\n",
    "print(base_scores)\n",
    "print(\"=======TUNED MODEL=======\")\n",
    "print(sft_scores)"
   ]
  },
  {
   "cell_type": "code",
   "execution_count": 18,
   "id": "5f795b8b-0252-415c-a338-3d3e1f0d9df8",
   "metadata": {},
   "outputs": [
    {
     "data": {
      "text/html": [
       "<div>\n",
       "<style scoped>\n",
       "    .dataframe tbody tr th:only-of-type {\n",
       "        vertical-align: middle;\n",
       "    }\n",
       "\n",
       "    .dataframe tbody tr th {\n",
       "        vertical-align: top;\n",
       "    }\n",
       "\n",
       "    .dataframe thead th {\n",
       "        text-align: right;\n",
       "    }\n",
       "</style>\n",
       "<table border=\"1\" class=\"dataframe\">\n",
       "  <thead>\n",
       "    <tr style=\"text-align: right;\">\n",
       "      <th></th>\n",
       "      <th>dimension</th>\n",
       "      <th>base</th>\n",
       "      <th>tuned</th>\n",
       "      <th>delta</th>\n",
       "      <th>delta_percent</th>\n",
       "    </tr>\n",
       "  </thead>\n",
       "  <tbody>\n",
       "    <tr>\n",
       "      <th>0</th>\n",
       "      <td>bleu</td>\n",
       "      <td>0.411476</td>\n",
       "      <td>0.476534</td>\n",
       "      <td>0.065058</td>\n",
       "      <td>15.810888</td>\n",
       "    </tr>\n",
       "    <tr>\n",
       "      <th>1</th>\n",
       "      <td>rouge1</td>\n",
       "      <td>0.661200</td>\n",
       "      <td>0.711787</td>\n",
       "      <td>0.050588</td>\n",
       "      <td>7.650913</td>\n",
       "    </tr>\n",
       "    <tr>\n",
       "      <th>2</th>\n",
       "      <td>rouge2</td>\n",
       "      <td>0.458912</td>\n",
       "      <td>0.527711</td>\n",
       "      <td>0.068799</td>\n",
       "      <td>14.991877</td>\n",
       "    </tr>\n",
       "    <tr>\n",
       "      <th>3</th>\n",
       "      <td>rougeL</td>\n",
       "      <td>0.479682</td>\n",
       "      <td>0.570215</td>\n",
       "      <td>0.090533</td>\n",
       "      <td>18.873527</td>\n",
       "    </tr>\n",
       "    <tr>\n",
       "      <th>4</th>\n",
       "      <td>rougeLsum</td>\n",
       "      <td>0.479493</td>\n",
       "      <td>0.570327</td>\n",
       "      <td>0.090834</td>\n",
       "      <td>18.943760</td>\n",
       "    </tr>\n",
       "  </tbody>\n",
       "</table>\n",
       "</div>"
      ],
      "text/plain": [
       "   dimension      base     tuned     delta  delta_percent\n",
       "0       bleu  0.411476  0.476534  0.065058      15.810888\n",
       "1     rouge1  0.661200  0.711787  0.050588       7.650913\n",
       "2     rouge2  0.458912  0.527711  0.068799      14.991877\n",
       "3     rougeL  0.479682  0.570215  0.090533      18.873527\n",
       "4  rougeLsum  0.479493  0.570327  0.090834      18.943760"
      ]
     },
     "execution_count": 18,
     "metadata": {},
     "output_type": "execute_result"
    }
   ],
   "source": [
    "import pandas as pd\n",
    "data = {'dimension':[], 'base': [], 'tuned': [], 'delta': [], 'delta_percent': []}\n",
    "\n",
    "for key in base_scores.keys():\n",
    "    if key in [\"length_ratio\",\"precisions\",\"brevity_penalty\",\"translation_length\",\"reference_length\"]:\n",
    "        continue\n",
    "        \n",
    "    delta = sft_scores[key]-base_scores[key]\n",
    "    delta_percent = (delta/base_scores[key])*100\n",
    "    \n",
    "    data['dimension'].append(key)\n",
    "    data['base'].append(base_scores[key])\n",
    "    data['tuned'].append(sft_scores[key])\n",
    "    data['delta'].append(delta)\n",
    "    data['delta_percent'].append(delta_percent)\n",
    "    \n",
    "df = pd.DataFrame(data)\n",
    "\n",
    "df"
   ]
  },
  {
   "cell_type": "markdown",
   "id": "9531148c-a12b-44b2-b94a-2154255bc71a",
   "metadata": {},
   "source": [
    "## LLM-as-a-judge Metrics"
   ]
  },
  {
   "cell_type": "code",
   "execution_count": null,
   "id": "c225530c-9fb1-4fdf-b242-f2a4c92e6426",
   "metadata": {},
   "outputs": [],
   "source": [
    "llm_image = get_huggingface_llm_image_uri(\n",
    "  \"huggingface\",\n",
    "  version=\"3.0.1\"\n",
    ")\n",
    "\n",
    "\n",
    "role = get_execution_role()\n",
    "print(role)\n",
    "\n",
    "hub = {\n",
    "    'HF_TASK': 'text-generation', \n",
    "    'HF_MODEL_ID': 'Qwen/Qwen2.5-1.5B-Instruct'\n",
    "}\n",
    "\n",
    "model_for_deployment = HuggingFaceModel(\n",
    "    #model_data=s3_location,\n",
    "    role=role,\n",
    "    env=hub,\n",
    "    image_uri=llm_image,\n",
    ")\n",
    "\n",
    "endpoint_name = name_from_base(\"qwen25\")\n",
    "\n",
    "instance_type = \"ml.g5.2xlarge\"\n",
    "number_of_gpu = 1\n",
    "health_check_timeout = 300\n",
    "\n",
    "model_for_deployment.deploy(\n",
    "    endpoint_name=endpoint_name,\n",
    "    initial_instance_count=1,\n",
    "    instance_type=instance_type,\n",
    "    container_startup_health_check_timeout=health_check_timeout,\n",
    "    routing_config = {\n",
    "        \"RoutingStrategy\":  sagemaker.enums.RoutingStrategy.LEAST_OUTSTANDING_REQUESTS\n",
    "    }\n",
    ")"
   ]
  },
  {
   "cell_type": "code",
   "execution_count": null,
   "id": "eb850cf9-76a0-42fa-b769-1ff75ce4ffb2",
   "metadata": {},
   "outputs": [],
   "source": [
    "llm_image = get_huggingface_llm_image_uri(\n",
    "  \"huggingface-tei\",\n",
    "  version=\"1.4\"\n",
    ")\n",
    "\n",
    "\n",
    "role = get_execution_role()\n",
    "print(role)\n",
    "\n",
    "hub = {\n",
    "    #'HF_TASK': 'text-generation', \n",
    "    'HF_MODEL_ID': 'Alibaba-NLP/gte-large-en-v1.5'\n",
    "}\n",
    "\n",
    "embedding_model_for_deployment = HuggingFaceModel(\n",
    "    #model_data=s3_location,\n",
    "    role=role,\n",
    "    env=hub,\n",
    "    image_uri=llm_image,\n",
    ")\n",
    "\n",
    "endpoint_name = name_from_base(\"gte-large-en-v1-5\")\n",
    "\n",
    "instance_type = \"ml.g5.2xlarge\"\n",
    "number_of_gpu = 1\n",
    "health_check_timeout = 300\n",
    "\n",
    "embedding_model_for_deployment.deploy(\n",
    "    endpoint_name=endpoint_name,\n",
    "    initial_instance_count=1,\n",
    "    instance_type=instance_type,\n",
    "    container_startup_health_check_timeout=health_check_timeout,\n",
    "    routing_config = {\n",
    "        \"RoutingStrategy\":  sagemaker.enums.RoutingStrategy.LEAST_OUTSTANDING_REQUESTS\n",
    "    }\n",
    ")"
   ]
  },
  {
   "cell_type": "code",
   "execution_count": 2,
   "id": "bd66eb3d-0333-42ad-98d0-9c822dd28dc6",
   "metadata": {},
   "outputs": [
    {
     "name": "stderr",
     "output_type": "stream",
     "text": [
      "/opt/conda/lib/python3.11/site-packages/pydantic/_internal/_fields.py:198: UserWarning: Field name \"json\" in \"MonitoringDatasetFormat\" shadows an attribute in parent \"Base\"\n",
      "  warnings.warn(\n"
     ]
    },
    {
     "name": "stdout",
     "output_type": "stream",
     "text": [
      "sagemaker.config INFO - Not applying SDK defaults from location: /etc/xdg/sagemaker/config.yaml\n",
      "sagemaker.config INFO - Not applying SDK defaults from location: /home/sagemaker-user/.config/sagemaker/config.yaml\n"
     ]
    }
   ],
   "source": []
  },
  {
   "cell_type": "markdown",
   "id": "02fa676f-3baf-4d9b-9a01-1551bd2940e4",
   "metadata": {},
   "source": [
    "### Deploy Qwen "
   ]
  },
  {
   "cell_type": "code",
   "execution_count": 21,
   "id": "c9fb0a5f-a5c8-4284-be7d-01b295bc6f1f",
   "metadata": {},
   "outputs": [],
   "source": [
    "# import metrics\n",
    "metrics=[\n",
    "        ragas.metrics.answer_relevancy,\n",
    "        ragas.metrics.faithfulness,\n",
    "        ragas.metrics.context_precision,\n",
    "        ragas.metrics.context_recall,\n",
    "        ragas.metrics.answer_similarity,\n",
    "        ragas.metrics.answer_correctness,\n",
    "    ]"
   ]
  },
  {
   "cell_type": "code",
   "execution_count": 22,
   "id": "3619d2fe-56ab-4222-9a97-073a0bc8041d",
   "metadata": {},
   "outputs": [],
   "source": [
    "# util function to init Ragas Metrics\n",
    "def init_ragas_metrics(metrics, llm, embedding):\n",
    "    for metric in metrics:\n",
    "        if isinstance(metric, MetricWithLLM):\n",
    "            print(metric.name + \" llm\")\n",
    "            metric.llm = llm\n",
    "        if isinstance(metric, MetricWithEmbeddings):\n",
    "            print(metric.name + \" embedding\")\n",
    "            metric.embeddings = embedding\n",
    "        run_config = RunConfig()\n",
    "        metric.init(run_config)"
   ]
  },
  {
   "cell_type": "code",
   "execution_count": 25,
   "id": "ca0f8b76-9f15-49a4-8c68-3bc6dc715150",
   "metadata": {},
   "outputs": [],
   "source": [
    "from botocore.config import Config\n",
    "\n",
    "sm = boto3.Session().client('sagemaker-runtime', config=Config(max_pool_connections=20))\n",
    "endpoint_name = \"qwen25-2025-04-04-17-16-38-665\"\n",
    "\n",
    "class ChatContentHandler(ChatModelContentHandler):\n",
    "    content_type = \"application/json\"\n",
    "    accepts = \"application/json\"\n",
    "\n",
    "    def transform_input(self, prompt, model_kwargs: Dict) -> bytes:\n",
    "        body = {\n",
    "            \"messages\": prompt,\n",
    "            \"stream\": True,\n",
    "            **model_kwargs  # Ensure all model parameters are passed\n",
    "        }\n",
    "        return json.dumps(body).encode(\"utf-8\")\n",
    "\n",
    "    def transform_output(self, output: StreamingBody) -> AIMessageChunk:\n",
    "        stop_token = \"[DONE]\"\n",
    "        try:\n",
    "            all_content = []\n",
    "\n",
    "            # Process streaming response line by line\n",
    "            for line in output.iter_lines():\n",
    "                if line:\n",
    "                    line = line.decode(\"utf-8\").strip()\n",
    "\n",
    "                    # Skip empty lines or lines without \"data:\"\n",
    "                    if not line.startswith(\"data:\"):\n",
    "                        continue\n",
    "\n",
    "                    # Validate and parse JSON\n",
    "                    try:\n",
    "                        json_data = json.loads(line[6:])\n",
    "                        \n",
    "                    except json.JSONDecodeError as e:\n",
    "                        #print(f\"Skipping invalid JSON chunk: {line}\")\n",
    "                        continue\n",
    "                    \n",
    "                    # Check for stop token\n",
    "                    if json_data.get(\"choices\", [{}])[0].get(\"delta\", {}).get(\"content\") == stop_token:\n",
    "                        break\n",
    "                    \n",
    "                    # Extract content and append to the list\n",
    "                    content = json_data[\"choices\"][0][\"delta\"][\"content\"]\n",
    "                    all_content.append(content)\n",
    "\n",
    "            # Join all chunks into a single string\n",
    "            full_response = \"\".join(all_content)\n",
    "            return AIMessageChunk(content=full_response)\n",
    "        except Exception as e:\n",
    "            return AIMessageChunk(content=f\"Error processing response: {str(e)}\")\n",
    "\n",
    "\n",
    "chat_content_handler = ChatContentHandler()\n",
    "\n",
    "llm = ChatSagemakerEndpoint(\n",
    "    name=\"Testmodel\",\n",
    "    endpoint_name=endpoint_name,\n",
    "    client=sm,\n",
    "    model_kwargs={\n",
    "        \"temperature\": 0.7,  # Adjust temperature for balanced randomness\n",
    "        \"max_new_tokens\": 1200,  # Ensure sufficient token generation\n",
    "        \"top_p\": 0.95,  # Use nucleus sampling for diversity\n",
    "        \"do_sample\": True  # Enable sampling for generative tasks\n",
    "    },\n",
    "    content_handler=chat_content_handler\n",
    ")"
   ]
  },
  {
   "cell_type": "code",
   "execution_count": 26,
   "id": "f86ea2af-29a6-4ecb-acf6-50041aa5f22b",
   "metadata": {},
   "outputs": [],
   "source": [
    "from langchain_community.embeddings.sagemaker_endpoint import EmbeddingsContentHandler\n",
    "\n",
    "class EmbedContentHandler(EmbeddingsContentHandler):\n",
    "    content_type = \"application/json\"\n",
    "    accepts = \"application/json\"\n",
    "\n",
    "    def transform_input(self, inputs: list[str], model_kwargs: Dict) -> bytes:\n",
    "        \"\"\"\n",
    "        Transforms the input into bytes that can be consumed by SageMaker endpoint.\n",
    "        Args:\n",
    "            inputs: List of input strings.\n",
    "            model_kwargs: Additional keyword arguments to be passed to the endpoint.\n",
    "        Returns:\n",
    "            The transformed bytes input.\n",
    "        \"\"\"\n",
    "        # Example: inference.py expects a JSON string with a \"inputs\" key:\n",
    "        input_str = json.dumps({\"inputs\": inputs, **model_kwargs})\n",
    "        return input_str.encode(\"utf-8\")\n",
    "\n",
    "    def transform_output(self, output: bytes) -> List[List[float]]:\n",
    "        \"\"\"\n",
    "        Transforms the bytes output from the endpoint into a list of embeddings.\n",
    "        Args:\n",
    "            output: The bytes output from SageMaker endpoint.\n",
    "        Returns:\n",
    "            The transformed output - list of embeddings\n",
    "        Note:\n",
    "            The length of the outer list is the number of input strings.\n",
    "            The length of the inner lists is the embedding dimension.\n",
    "        \"\"\"\n",
    "        # Example: inference.py returns a JSON string with the list of\n",
    "        # embeddings in a \"vectors\" key:\n",
    "        response_json = json.loads(output.read().decode(\"utf-8\"))\n",
    "        return response_json #response_json[\"vectors\"]\n",
    "\n",
    "\n",
    "embeddings_content_handler = EmbedContentHandler()"
   ]
  },
  {
   "cell_type": "code",
   "execution_count": 27,
   "id": "1137da7b-91b5-4f44-bc24-6cc00d321dea",
   "metadata": {},
   "outputs": [],
   "source": [
    "embed_endpoint_name = \"gte-large-en-v1-5-2025-04-04-18-52-08-528\"\n",
    "\n",
    "embed = SagemakerEndpointEmbeddings(\n",
    "    endpoint_name=embed_endpoint_name,\n",
    "    client=sm,\n",
    "    model_kwargs={\n",
    "        \"temperature\": 0.7,  # Adjust temperature for balanced randomness\n",
    "        \"max_new_tokens\": 1200,  # Ensure sufficient token generation\n",
    "        \"top_p\": 0.95,  # Use nucleus sampling for diversity\n",
    "        \"do_sample\": True  # Enable sampling for generative tasks\n",
    "    },\n",
    "    content_handler=embeddings_content_handler\n",
    ")"
   ]
  },
  {
   "cell_type": "code",
   "execution_count": 28,
   "id": "83c6a366-8ad3-43dd-be4f-58c9551fa02d",
   "metadata": {},
   "outputs": [
    {
     "name": "stdout",
     "output_type": "stream",
     "text": [
      "answer_relevancy llm\n",
      "answer_relevancy embedding\n",
      "faithfulness llm\n",
      "context_precision llm\n",
      "context_recall llm\n",
      "semantic_similarity embedding\n",
      "answer_correctness llm\n",
      "answer_correctness embedding\n"
     ]
    }
   ],
   "source": [
    "init_ragas_metrics(\n",
    "    metrics,\n",
    "    llm=LangchainLLMWrapper(llm),\n",
    "    embedding=LangchainEmbeddingsWrapper(embed)\n",
    ")"
   ]
  },
  {
   "cell_type": "code",
   "execution_count": 47,
   "id": "2b524342-7e44-4d64-ab06-e688f79e38c6",
   "metadata": {},
   "outputs": [],
   "source": [
    "# Read the JSONL file line by line\n",
    "data = []\n",
    "with open('full_eval.json', 'r') as f:\n",
    "    for line in f:\n",
    "        data.append(json.loads(line))\n",
    "\n",
    "\n",
    "\n",
    "# Define metrics\n",
    "metrics = [\n",
    "    ragas.metrics.answer_relevancy,\n",
    "    ragas.metrics.faithfulness,\n",
    "    #ragas.metrics.context_precision,\n",
    "    #ragas.metrics.context_recall,\n",
    "    #ragas.metrics.answer_similarity,\n",
    "    ragas.metrics.answer_correctness,\n",
    "]\n",
    "\n",
    "sample_size = 2000"
   ]
  },
  {
   "cell_type": "code",
   "execution_count": 48,
   "id": "6643d4de-245f-444b-b3a7-4d50489f5945",
   "metadata": {
    "scrolled": true
   },
   "outputs": [
    {
     "data": {
      "application/vnd.jupyter.widget-view+json": {
       "model_id": "f5fdc4b971754cb88ff1d795366f42d4",
       "version_major": 2,
       "version_minor": 0
      },
      "text/plain": [
       "Evaluating:   0%|          | 0/6000 [00:00<?, ?it/s]"
      ]
     },
     "metadata": {},
     "output_type": "display_data"
    },
    {
     "data": {
      "text/html": [
       "<pre style=\"white-space:pre;overflow-x:auto;line-height:normal;font-family:Menlo,'DejaVu Sans Mono',consolas,'Courier New',monospace\"><span style=\"color: #7fbfbf; text-decoration-color: #7fbfbf\">[04/05/25 20:16:13] </span><span style=\"color: #d70000; text-decoration-color: #d70000; font-weight: bold\">ERROR   </span> Error raised by inference endpoint: An error occurred        <a href=\"file:///opt/conda/lib/python3.11/site-packages/langchain_aws/chat_models/sagemaker_endpoint.py\" target=\"_blank\"><span style=\"color: #7f7f7f; text-decoration-color: #7f7f7f\">sagemaker_endpoint.py</span></a><span style=\"color: #7f7f7f; text-decoration-color: #7f7f7f\">:</span><a href=\"file:///opt/conda/lib/python3.11/site-packages/langchain_aws/chat_models/sagemaker_endpoint.py#413\" target=\"_blank\"><span style=\"color: #7f7f7f; text-decoration-color: #7f7f7f\">413</span></a>\n",
       "<span style=\"color: #7fbfbf; text-decoration-color: #7fbfbf\">                    </span>         <span style=\"font-weight: bold\">(</span>ModelError<span style=\"font-weight: bold\">)</span> when calling the InvokeEndpoint operation:      <span style=\"color: #7f7f7f; text-decoration-color: #7f7f7f\">                         </span>\n",
       "<span style=\"color: #7fbfbf; text-decoration-color: #7fbfbf\">                    </span>         Received server error <span style=\"font-weight: bold\">(</span><span style=\"color: #008080; text-decoration-color: #008080; font-weight: bold\">0</span><span style=\"font-weight: bold\">)</span> from primary with message <span style=\"color: #008700; text-decoration-color: #008700\">\"Your </span>   <span style=\"color: #7f7f7f; text-decoration-color: #7f7f7f\">                         </span>\n",
       "<span style=\"color: #7fbfbf; text-decoration-color: #7fbfbf\">                    </span>         <span style=\"color: #008700; text-decoration-color: #008700\">invocation timed out while waiting for a response from </span>      <span style=\"color: #7f7f7f; text-decoration-color: #7f7f7f\">                         </span>\n",
       "<span style=\"color: #7fbfbf; text-decoration-color: #7fbfbf\">                    </span>         <span style=\"color: #008700; text-decoration-color: #008700\">container primary. Review the latency metrics for each </span>      <span style=\"color: #7f7f7f; text-decoration-color: #7f7f7f\">                         </span>\n",
       "<span style=\"color: #7fbfbf; text-decoration-color: #7fbfbf\">                    </span>         <span style=\"color: #008700; text-decoration-color: #008700\">container in Amazon CloudWatch, resolve the issue, and try </span>  <span style=\"color: #7f7f7f; text-decoration-color: #7f7f7f\">                         </span>\n",
       "<span style=\"color: #7fbfbf; text-decoration-color: #7fbfbf\">                    </span>         <span style=\"color: #008700; text-decoration-color: #008700\">again.\"</span>. See                                                 <span style=\"color: #7f7f7f; text-decoration-color: #7f7f7f\">                         </span>\n",
       "<span style=\"color: #7fbfbf; text-decoration-color: #7fbfbf\">                    </span>         <span style=\"color: #0069ff; text-decoration-color: #0069ff; text-decoration: underline\">https://us-west-2.console.aws.amazon.com/cloudwatch/home?</span><span style=\"color: #0069ff; text-decoration-color: #0069ff; text-decoration: underline\">reg</span> <span style=\"color: #7f7f7f; text-decoration-color: #7f7f7f\">                         </span>\n",
       "<span style=\"color: #7fbfbf; text-decoration-color: #7fbfbf\">                    </span>         <span style=\"color: #0069ff; text-decoration-color: #0069ff; text-decoration: underline\">ion</span><span style=\"color: #0069ff; text-decoration-color: #0069ff; text-decoration: underline\">=</span><span style=\"color: #0069ff; text-decoration-color: #0069ff; text-decoration: underline\">us</span><span style=\"color: #0069ff; text-decoration-color: #0069ff; text-decoration: underline\">-west-2#logEventViewer:</span><span style=\"color: #0069ff; text-decoration-color: #0069ff; text-decoration: underline\">group</span><span style=\"color: #0069ff; text-decoration-color: #0069ff; text-decoration: underline\">=/aws/sagemaker/Endpoints/</span> <span style=\"color: #7f7f7f; text-decoration-color: #7f7f7f\">                         </span>\n",
       "<span style=\"color: #7fbfbf; text-decoration-color: #7fbfbf\">                    </span>         <span style=\"color: #0069ff; text-decoration-color: #0069ff; text-decoration: underline\">qwen25-2025-04-04-17-16-38-665</span> in account <span style=\"color: #008080; text-decoration-color: #008080; font-weight: bold\">340043819279</span> for   <span style=\"color: #7f7f7f; text-decoration-color: #7f7f7f\">                         </span>\n",
       "<span style=\"color: #7fbfbf; text-decoration-color: #7fbfbf\">                    </span>         more information.                                            <span style=\"color: #7f7f7f; text-decoration-color: #7f7f7f\">                         </span>\n",
       "</pre>\n"
      ],
      "text/plain": [
       "\u001b[2;36m[04/05/25 20:16:13]\u001b[0m\u001b[2;36m \u001b[0m\u001b[1;38;2;215;0;0mERROR   \u001b[0m Error raised by inference endpoint: An error occurred        \u001b]8;id=410079;file:///opt/conda/lib/python3.11/site-packages/langchain_aws/chat_models/sagemaker_endpoint.py\u001b\\\u001b[2msagemaker_endpoint.py\u001b[0m\u001b]8;;\u001b\\\u001b[2m:\u001b[0m\u001b]8;id=604683;file:///opt/conda/lib/python3.11/site-packages/langchain_aws/chat_models/sagemaker_endpoint.py#413\u001b\\\u001b[2m413\u001b[0m\u001b]8;;\u001b\\\n",
       "\u001b[2;36m                    \u001b[0m         \u001b[1m(\u001b[0mModelError\u001b[1m)\u001b[0m when calling the InvokeEndpoint operation:      \u001b[2m                         \u001b[0m\n",
       "\u001b[2;36m                    \u001b[0m         Received server error \u001b[1m(\u001b[0m\u001b[1;36m0\u001b[0m\u001b[1m)\u001b[0m from primary with message \u001b[38;2;0;135;0m\"Your \u001b[0m   \u001b[2m                         \u001b[0m\n",
       "\u001b[2;36m                    \u001b[0m         \u001b[38;2;0;135;0minvocation timed out while waiting for a response from \u001b[0m      \u001b[2m                         \u001b[0m\n",
       "\u001b[2;36m                    \u001b[0m         \u001b[38;2;0;135;0mcontainer primary. Review the latency metrics for each \u001b[0m      \u001b[2m                         \u001b[0m\n",
       "\u001b[2;36m                    \u001b[0m         \u001b[38;2;0;135;0mcontainer in Amazon CloudWatch, resolve the issue, and try \u001b[0m  \u001b[2m                         \u001b[0m\n",
       "\u001b[2;36m                    \u001b[0m         \u001b[38;2;0;135;0magain.\"\u001b[0m. See                                                 \u001b[2m                         \u001b[0m\n",
       "\u001b[2;36m                    \u001b[0m         \u001b[4;38;2;0;105;255mhttps://us-west-2.console.aws.amazon.com/cloudwatch/home?\u001b[0m\u001b[4;38;2;0;105;255mreg\u001b[0m \u001b[2m                         \u001b[0m\n",
       "\u001b[2;36m                    \u001b[0m         \u001b[4;38;2;0;105;255mion\u001b[0m\u001b[4;38;2;0;105;255m=\u001b[0m\u001b[4;38;2;0;105;255mus\u001b[0m\u001b[4;38;2;0;105;255m-west-2#logEventViewer:\u001b[0m\u001b[4;38;2;0;105;255mgroup\u001b[0m\u001b[4;38;2;0;105;255m=/aws/sagemaker/Endpoints/\u001b[0m \u001b[2m                         \u001b[0m\n",
       "\u001b[2;36m                    \u001b[0m         \u001b[4;38;2;0;105;255mqwen25-2025-04-04-17-16-38-665\u001b[0m in account \u001b[1;36m340043819279\u001b[0m for   \u001b[2m                         \u001b[0m\n",
       "\u001b[2;36m                    \u001b[0m         more information.                                            \u001b[2m                         \u001b[0m\n"
      ]
     },
     "metadata": {},
     "output_type": "display_data"
    },
    {
     "data": {
      "text/html": [
       "<pre style=\"white-space:pre;overflow-x:auto;line-height:normal;font-family:Menlo,'DejaVu Sans Mono',consolas,'Courier New',monospace\"><span style=\"color: #7fbfbf; text-decoration-color: #7fbfbf\">                    </span><span style=\"color: #d70000; text-decoration-color: #d70000; font-weight: bold\">ERROR   </span> Error raised by inference endpoint: An error occurred        <a href=\"file:///opt/conda/lib/python3.11/site-packages/langchain_aws/chat_models/sagemaker_endpoint.py\" target=\"_blank\"><span style=\"color: #7f7f7f; text-decoration-color: #7f7f7f\">sagemaker_endpoint.py</span></a><span style=\"color: #7f7f7f; text-decoration-color: #7f7f7f\">:</span><a href=\"file:///opt/conda/lib/python3.11/site-packages/langchain_aws/chat_models/sagemaker_endpoint.py#413\" target=\"_blank\"><span style=\"color: #7f7f7f; text-decoration-color: #7f7f7f\">413</span></a>\n",
       "<span style=\"color: #7fbfbf; text-decoration-color: #7fbfbf\">                    </span>         <span style=\"font-weight: bold\">(</span>ModelError<span style=\"font-weight: bold\">)</span> when calling the InvokeEndpoint operation:      <span style=\"color: #7f7f7f; text-decoration-color: #7f7f7f\">                         </span>\n",
       "<span style=\"color: #7fbfbf; text-decoration-color: #7fbfbf\">                    </span>         Received server error <span style=\"font-weight: bold\">(</span><span style=\"color: #008080; text-decoration-color: #008080; font-weight: bold\">0</span><span style=\"font-weight: bold\">)</span> from primary with message <span style=\"color: #008700; text-decoration-color: #008700\">\"Your </span>   <span style=\"color: #7f7f7f; text-decoration-color: #7f7f7f\">                         </span>\n",
       "<span style=\"color: #7fbfbf; text-decoration-color: #7fbfbf\">                    </span>         <span style=\"color: #008700; text-decoration-color: #008700\">invocation timed out while waiting for a response from </span>      <span style=\"color: #7f7f7f; text-decoration-color: #7f7f7f\">                         </span>\n",
       "<span style=\"color: #7fbfbf; text-decoration-color: #7fbfbf\">                    </span>         <span style=\"color: #008700; text-decoration-color: #008700\">container primary. Review the latency metrics for each </span>      <span style=\"color: #7f7f7f; text-decoration-color: #7f7f7f\">                         </span>\n",
       "<span style=\"color: #7fbfbf; text-decoration-color: #7fbfbf\">                    </span>         <span style=\"color: #008700; text-decoration-color: #008700\">container in Amazon CloudWatch, resolve the issue, and try </span>  <span style=\"color: #7f7f7f; text-decoration-color: #7f7f7f\">                         </span>\n",
       "<span style=\"color: #7fbfbf; text-decoration-color: #7fbfbf\">                    </span>         <span style=\"color: #008700; text-decoration-color: #008700\">again.\"</span>. See                                                 <span style=\"color: #7f7f7f; text-decoration-color: #7f7f7f\">                         </span>\n",
       "<span style=\"color: #7fbfbf; text-decoration-color: #7fbfbf\">                    </span>         <span style=\"color: #0069ff; text-decoration-color: #0069ff; text-decoration: underline\">https://us-west-2.console.aws.amazon.com/cloudwatch/home?</span><span style=\"color: #0069ff; text-decoration-color: #0069ff; text-decoration: underline\">reg</span> <span style=\"color: #7f7f7f; text-decoration-color: #7f7f7f\">                         </span>\n",
       "<span style=\"color: #7fbfbf; text-decoration-color: #7fbfbf\">                    </span>         <span style=\"color: #0069ff; text-decoration-color: #0069ff; text-decoration: underline\">ion</span><span style=\"color: #0069ff; text-decoration-color: #0069ff; text-decoration: underline\">=</span><span style=\"color: #0069ff; text-decoration-color: #0069ff; text-decoration: underline\">us</span><span style=\"color: #0069ff; text-decoration-color: #0069ff; text-decoration: underline\">-west-2#logEventViewer:</span><span style=\"color: #0069ff; text-decoration-color: #0069ff; text-decoration: underline\">group</span><span style=\"color: #0069ff; text-decoration-color: #0069ff; text-decoration: underline\">=/aws/sagemaker/Endpoints/</span> <span style=\"color: #7f7f7f; text-decoration-color: #7f7f7f\">                         </span>\n",
       "<span style=\"color: #7fbfbf; text-decoration-color: #7fbfbf\">                    </span>         <span style=\"color: #0069ff; text-decoration-color: #0069ff; text-decoration: underline\">qwen25-2025-04-04-17-16-38-665</span> in account <span style=\"color: #008080; text-decoration-color: #008080; font-weight: bold\">340043819279</span> for   <span style=\"color: #7f7f7f; text-decoration-color: #7f7f7f\">                         </span>\n",
       "<span style=\"color: #7fbfbf; text-decoration-color: #7fbfbf\">                    </span>         more information.                                            <span style=\"color: #7f7f7f; text-decoration-color: #7f7f7f\">                         </span>\n",
       "</pre>\n"
      ],
      "text/plain": [
       "\u001b[2;36m                   \u001b[0m\u001b[2;36m \u001b[0m\u001b[1;38;2;215;0;0mERROR   \u001b[0m Error raised by inference endpoint: An error occurred        \u001b]8;id=727723;file:///opt/conda/lib/python3.11/site-packages/langchain_aws/chat_models/sagemaker_endpoint.py\u001b\\\u001b[2msagemaker_endpoint.py\u001b[0m\u001b]8;;\u001b\\\u001b[2m:\u001b[0m\u001b]8;id=745484;file:///opt/conda/lib/python3.11/site-packages/langchain_aws/chat_models/sagemaker_endpoint.py#413\u001b\\\u001b[2m413\u001b[0m\u001b]8;;\u001b\\\n",
       "\u001b[2;36m                    \u001b[0m         \u001b[1m(\u001b[0mModelError\u001b[1m)\u001b[0m when calling the InvokeEndpoint operation:      \u001b[2m                         \u001b[0m\n",
       "\u001b[2;36m                    \u001b[0m         Received server error \u001b[1m(\u001b[0m\u001b[1;36m0\u001b[0m\u001b[1m)\u001b[0m from primary with message \u001b[38;2;0;135;0m\"Your \u001b[0m   \u001b[2m                         \u001b[0m\n",
       "\u001b[2;36m                    \u001b[0m         \u001b[38;2;0;135;0minvocation timed out while waiting for a response from \u001b[0m      \u001b[2m                         \u001b[0m\n",
       "\u001b[2;36m                    \u001b[0m         \u001b[38;2;0;135;0mcontainer primary. Review the latency metrics for each \u001b[0m      \u001b[2m                         \u001b[0m\n",
       "\u001b[2;36m                    \u001b[0m         \u001b[38;2;0;135;0mcontainer in Amazon CloudWatch, resolve the issue, and try \u001b[0m  \u001b[2m                         \u001b[0m\n",
       "\u001b[2;36m                    \u001b[0m         \u001b[38;2;0;135;0magain.\"\u001b[0m. See                                                 \u001b[2m                         \u001b[0m\n",
       "\u001b[2;36m                    \u001b[0m         \u001b[4;38;2;0;105;255mhttps://us-west-2.console.aws.amazon.com/cloudwatch/home?\u001b[0m\u001b[4;38;2;0;105;255mreg\u001b[0m \u001b[2m                         \u001b[0m\n",
       "\u001b[2;36m                    \u001b[0m         \u001b[4;38;2;0;105;255mion\u001b[0m\u001b[4;38;2;0;105;255m=\u001b[0m\u001b[4;38;2;0;105;255mus\u001b[0m\u001b[4;38;2;0;105;255m-west-2#logEventViewer:\u001b[0m\u001b[4;38;2;0;105;255mgroup\u001b[0m\u001b[4;38;2;0;105;255m=/aws/sagemaker/Endpoints/\u001b[0m \u001b[2m                         \u001b[0m\n",
       "\u001b[2;36m                    \u001b[0m         \u001b[4;38;2;0;105;255mqwen25-2025-04-04-17-16-38-665\u001b[0m in account \u001b[1;36m340043819279\u001b[0m for   \u001b[2m                         \u001b[0m\n",
       "\u001b[2;36m                    \u001b[0m         more information.                                            \u001b[2m                         \u001b[0m\n"
      ]
     },
     "metadata": {},
     "output_type": "display_data"
    },
    {
     "data": {
      "text/html": [
       "<pre style=\"white-space:pre;overflow-x:auto;line-height:normal;font-family:Menlo,'DejaVu Sans Mono',consolas,'Courier New',monospace\"><span style=\"color: #7fbfbf; text-decoration-color: #7fbfbf\">[04/05/25 20:16:37] </span><span style=\"color: #d70000; text-decoration-color: #d70000; font-weight: bold\">ERROR   </span> Exception raised in Job<span style=\"font-weight: bold\">[</span><span style=\"color: #008080; text-decoration-color: #008080; font-weight: bold\">737</span><span style=\"font-weight: bold\">]</span>: <span style=\"color: #e100e1; text-decoration-color: #e100e1; font-weight: bold\">OutputParserException</span><span style=\"font-weight: bold\">(</span>Failed to parse    <a href=\"file:///opt/conda/lib/python3.11/site-packages/ragas/executor.py\" target=\"_blank\"><span style=\"color: #7f7f7f; text-decoration-color: #7f7f7f\">executor.py</span></a><span style=\"color: #7f7f7f; text-decoration-color: #7f7f7f\">:</span><a href=\"file:///opt/conda/lib/python3.11/site-packages/ragas/executor.py#104\" target=\"_blank\"><span style=\"color: #7f7f7f; text-decoration-color: #7f7f7f\">104</span></a>\n",
       "<span style=\"color: #7fbfbf; text-decoration-color: #7fbfbf\">                    </span>         StringIO from completion <span style=\"font-weight: bold\">{</span><span style=\"color: #008700; text-decoration-color: #008700\">\"TP\"</span>: <span style=\"font-weight: bold\">[]</span>, <span style=\"color: #008700; text-decoration-color: #008700\">\"FP\"</span>: <span style=\"font-weight: bold\">[]</span>, <span style=\"color: #008700; text-decoration-color: #008700\">\"FN\"</span>: <span style=\"font-weight: bold\">[{</span><span style=\"color: #008700; text-decoration-color: #008700\">\"statement\"</span>: <span style=\"color: #008700; text-decoration-color: #008700\">\"Do</span> <span style=\"color: #7f7f7f; text-decoration-color: #7f7f7f\">               </span>\n",
       "<span style=\"color: #7fbfbf; text-decoration-color: #7fbfbf\">                    </span>         <span style=\"color: #008700; text-decoration-color: #008700\">recent developments in the assessment of the multiply injured trauma </span>  <span style=\"color: #7f7f7f; text-decoration-color: #7f7f7f\">               </span>\n",
       "<span style=\"color: #7fbfbf; text-decoration-color: #7fbfbf\">                    </span>         <span style=\"color: #008700; text-decoration-color: #008700\">patient?\"</span>, <span style=\"color: #008700; text-decoration-color: #008700\">\"reason\"</span>: <span style=\"color: #008700; text-decoration-color: #008700\">\"The question is not directly supported by any of</span> <span style=\"color: #7f7f7f; text-decoration-color: #7f7f7f\">               </span>\n",
       "<span style=\"color: #7fbfbf; text-decoration-color: #7fbfbf\">                    </span>         <span style=\"color: #008700; text-decoration-color: #008700\">the statements in the answer.\"</span><span style=\"font-weight: bold\">}</span>, <span style=\"font-weight: bold\">{</span><span style=\"color: #008700; text-decoration-color: #008700\">\"statement\"</span>: <span style=\"color: #008700; text-decoration-color: #008700\">\"The ground truth is </span>   <span style=\"color: #7f7f7f; text-decoration-color: #7f7f7f\">               </span>\n",
       "<span style=\"color: #7fbfbf; text-decoration-color: #7fbfbf\">                    </span>         <span style=\"color: #008700; text-decoration-color: #008700\">not directly supported by any of the statements in the answer.\"</span>,       <span style=\"color: #7f7f7f; text-decoration-color: #7f7f7f\">               </span>\n",
       "<span style=\"color: #7fbfbf; text-decoration-color: #7fbfbf\">                    </span>         <span style=\"color: #008700; text-decoration-color: #008700\">\"reason\"</span>: <span style=\"color: #008700; text-decoration-color: #008700\">\"The ground truth is not directly supported by any of the </span>   <span style=\"color: #7f7f7f; text-decoration-color: #7f7f7f\">               </span>\n",
       "<span style=\"color: #7fbfbf; text-decoration-color: #7fbfbf\">                    </span>         <span style=\"color: #008700; text-decoration-color: #008700\">statements in the answer.\"</span><span style=\"font-weight: bold\">}]}</span>. Got: <span style=\"color: #008080; text-decoration-color: #008080; font-weight: bold\">1</span> validation error for StringIO    <span style=\"color: #7f7f7f; text-decoration-color: #7f7f7f\">               </span>\n",
       "<span style=\"color: #7fbfbf; text-decoration-color: #7fbfbf\">                    </span>         text                                                                   <span style=\"color: #7f7f7f; text-decoration-color: #7f7f7f\">               </span>\n",
       "<span style=\"color: #7fbfbf; text-decoration-color: #7fbfbf\">                    </span>           Field required <span style=\"font-weight: bold\">[</span><span style=\"color: #d7af00; text-decoration-color: #d7af00\">type</span>=<span style=\"color: #e100e1; text-decoration-color: #e100e1\">missing</span>, <span style=\"color: #d7af00; text-decoration-color: #d7af00\">input_value</span>=<span style=\"font-weight: bold\">{</span><span style=\"color: #008700; text-decoration-color: #008700\">'TP'</span>: <span style=\"font-weight: bold\">[]</span>, <span style=\"color: #008700; text-decoration-color: #008700\">'FP'</span>: <span style=\"font-weight: bold\">[]</span>,       <span style=\"color: #7f7f7f; text-decoration-color: #7f7f7f\">               </span>\n",
       "<span style=\"color: #7fbfbf; text-decoration-color: #7fbfbf\">                    </span>         <span style=\"color: #008700; text-decoration-color: #008700\">'FN'</span><span style=\"color: #808000; text-decoration-color: #808000\">...</span>ments in the answer.'<span style=\"font-weight: bold\">}]}</span>, <span style=\"color: #d7af00; text-decoration-color: #d7af00\">input_type</span>=<span style=\"color: #e100e1; text-decoration-color: #e100e1\">dict</span><span style=\"font-weight: bold\">]</span>                      <span style=\"color: #7f7f7f; text-decoration-color: #7f7f7f\">               </span>\n",
       "<span style=\"color: #7fbfbf; text-decoration-color: #7fbfbf\">                    </span>             For further information visit                                      <span style=\"color: #7f7f7f; text-decoration-color: #7f7f7f\">               </span>\n",
       "<span style=\"color: #7fbfbf; text-decoration-color: #7fbfbf\">                    </span>         <span style=\"color: #0069ff; text-decoration-color: #0069ff; text-decoration: underline\">https://errors.pydantic.dev/2.11/v/missing</span>                             <span style=\"color: #7f7f7f; text-decoration-color: #7f7f7f\">               </span>\n",
       "<span style=\"color: #7fbfbf; text-decoration-color: #7fbfbf\">                    </span>         For troubleshooting, visit:                                            <span style=\"color: #7f7f7f; text-decoration-color: #7f7f7f\">               </span>\n",
       "<span style=\"color: #7fbfbf; text-decoration-color: #7fbfbf\">                    </span>         <span style=\"color: #0069ff; text-decoration-color: #0069ff; text-decoration: underline\">https://python.langchain.com/docs/troubleshooting/errors/OUT</span><span style=\"color: #d7af00; text-decoration-color: #d7af00; font-weight: bold; text-decoration: underline\">PUT</span><span style=\"color: #0069ff; text-decoration-color: #0069ff; text-decoration: underline\">_PARSIN</span> <span style=\"color: #7f7f7f; text-decoration-color: #7f7f7f\">               </span>\n",
       "<span style=\"color: #7fbfbf; text-decoration-color: #7fbfbf\">                    </span>         <span style=\"color: #0069ff; text-decoration-color: #0069ff; text-decoration: underline\">G_FAILURE</span> <span style=\"font-weight: bold\">)</span>                                                            <span style=\"color: #7f7f7f; text-decoration-color: #7f7f7f\">               </span>\n",
       "</pre>\n"
      ],
      "text/plain": [
       "\u001b[2;36m[04/05/25 20:16:37]\u001b[0m\u001b[2;36m \u001b[0m\u001b[1;38;2;215;0;0mERROR   \u001b[0m Exception raised in Job\u001b[1m[\u001b[0m\u001b[1;36m737\u001b[0m\u001b[1m]\u001b[0m: \u001b[1;38;2;225;0;225mOutputParserException\u001b[0m\u001b[1m(\u001b[0mFailed to parse    \u001b]8;id=51230;file:///opt/conda/lib/python3.11/site-packages/ragas/executor.py\u001b\\\u001b[2mexecutor.py\u001b[0m\u001b]8;;\u001b\\\u001b[2m:\u001b[0m\u001b]8;id=176656;file:///opt/conda/lib/python3.11/site-packages/ragas/executor.py#104\u001b\\\u001b[2m104\u001b[0m\u001b]8;;\u001b\\\n",
       "\u001b[2;36m                    \u001b[0m         StringIO from completion \u001b[1m{\u001b[0m\u001b[38;2;0;135;0m\"TP\"\u001b[0m: \u001b[1m[\u001b[0m\u001b[1m]\u001b[0m, \u001b[38;2;0;135;0m\"FP\"\u001b[0m: \u001b[1m[\u001b[0m\u001b[1m]\u001b[0m, \u001b[38;2;0;135;0m\"FN\"\u001b[0m: \u001b[1m[\u001b[0m\u001b[1m{\u001b[0m\u001b[38;2;0;135;0m\"statement\"\u001b[0m: \u001b[38;2;0;135;0m\"Do\u001b[0m \u001b[2m               \u001b[0m\n",
       "\u001b[2;36m                    \u001b[0m         \u001b[38;2;0;135;0mrecent developments in the assessment of the multiply injured trauma \u001b[0m  \u001b[2m               \u001b[0m\n",
       "\u001b[2;36m                    \u001b[0m         \u001b[38;2;0;135;0mpatient?\"\u001b[0m, \u001b[38;2;0;135;0m\"reason\"\u001b[0m: \u001b[38;2;0;135;0m\"The question is not directly supported by any of\u001b[0m \u001b[2m               \u001b[0m\n",
       "\u001b[2;36m                    \u001b[0m         \u001b[38;2;0;135;0mthe statements in the answer.\"\u001b[0m\u001b[1m}\u001b[0m, \u001b[1m{\u001b[0m\u001b[38;2;0;135;0m\"statement\"\u001b[0m: \u001b[38;2;0;135;0m\"The ground truth is \u001b[0m   \u001b[2m               \u001b[0m\n",
       "\u001b[2;36m                    \u001b[0m         \u001b[38;2;0;135;0mnot directly supported by any of the statements in the answer.\"\u001b[0m,       \u001b[2m               \u001b[0m\n",
       "\u001b[2;36m                    \u001b[0m         \u001b[38;2;0;135;0m\"reason\"\u001b[0m: \u001b[38;2;0;135;0m\"The ground truth is not directly supported by any of the \u001b[0m   \u001b[2m               \u001b[0m\n",
       "\u001b[2;36m                    \u001b[0m         \u001b[38;2;0;135;0mstatements in the answer.\"\u001b[0m\u001b[1m}\u001b[0m\u001b[1m]\u001b[0m\u001b[1m}\u001b[0m. Got: \u001b[1;36m1\u001b[0m validation error for StringIO    \u001b[2m               \u001b[0m\n",
       "\u001b[2;36m                    \u001b[0m         text                                                                   \u001b[2m               \u001b[0m\n",
       "\u001b[2;36m                    \u001b[0m           Field required \u001b[1m[\u001b[0m\u001b[38;2;215;175;0mtype\u001b[0m=\u001b[38;2;225;0;225mmissing\u001b[0m, \u001b[38;2;215;175;0minput_value\u001b[0m=\u001b[1m{\u001b[0m\u001b[38;2;0;135;0m'TP'\u001b[0m: \u001b[1m[\u001b[0m\u001b[1m]\u001b[0m, \u001b[38;2;0;135;0m'FP'\u001b[0m: \u001b[1m[\u001b[0m\u001b[1m]\u001b[0m,       \u001b[2m               \u001b[0m\n",
       "\u001b[2;36m                    \u001b[0m         \u001b[38;2;0;135;0m'FN'\u001b[0m\u001b[33m...\u001b[0mments in the answer.'\u001b[1m}\u001b[0m\u001b[1m]\u001b[0m\u001b[1m}\u001b[0m, \u001b[38;2;215;175;0minput_type\u001b[0m=\u001b[38;2;225;0;225mdict\u001b[0m\u001b[1m]\u001b[0m                      \u001b[2m               \u001b[0m\n",
       "\u001b[2;36m                    \u001b[0m             For further information visit                                      \u001b[2m               \u001b[0m\n",
       "\u001b[2;36m                    \u001b[0m         \u001b[4;38;2;0;105;255mhttps://errors.pydantic.dev/2.11/v/missing\u001b[0m                             \u001b[2m               \u001b[0m\n",
       "\u001b[2;36m                    \u001b[0m         For troubleshooting, visit:                                            \u001b[2m               \u001b[0m\n",
       "\u001b[2;36m                    \u001b[0m         \u001b[4;38;2;0;105;255mhttps://python.langchain.com/docs/troubleshooting/errors/OUT\u001b[0m\u001b[1;4;38;2;215;175;0mPUT\u001b[0m\u001b[4;38;2;0;105;255m_PARSIN\u001b[0m \u001b[2m               \u001b[0m\n",
       "\u001b[2;36m                    \u001b[0m         \u001b[4;38;2;0;105;255mG_FAILURE\u001b[0m \u001b[1m)\u001b[0m                                                            \u001b[2m               \u001b[0m\n"
      ]
     },
     "metadata": {},
     "output_type": "display_data"
    },
    {
     "data": {
      "text/html": [
       "<pre style=\"white-space:pre;overflow-x:auto;line-height:normal;font-family:Menlo,'DejaVu Sans Mono',consolas,'Courier New',monospace\"><span style=\"color: #7fbfbf; text-decoration-color: #7fbfbf\">[04/05/25 20:17:34] </span><span style=\"color: #d70000; text-decoration-color: #d70000; font-weight: bold\">ERROR   </span> Exception raised in Job<span style=\"font-weight: bold\">[</span><span style=\"color: #008080; text-decoration-color: #008080; font-weight: bold\">860</span><span style=\"font-weight: bold\">]</span>: <span style=\"color: #e100e1; text-decoration-color: #e100e1; font-weight: bold\">OutputParserException</span><span style=\"font-weight: bold\">(</span>Failed to parse    <a href=\"file:///opt/conda/lib/python3.11/site-packages/ragas/executor.py\" target=\"_blank\"><span style=\"color: #7f7f7f; text-decoration-color: #7f7f7f\">executor.py</span></a><span style=\"color: #7f7f7f; text-decoration-color: #7f7f7f\">:</span><a href=\"file:///opt/conda/lib/python3.11/site-packages/ragas/executor.py#104\" target=\"_blank\"><span style=\"color: #7f7f7f; text-decoration-color: #7f7f7f\">104</span></a>\n",
       "<span style=\"color: #7fbfbf; text-decoration-color: #7fbfbf\">                    </span>         StringIO from completion <span style=\"font-weight: bold\">{</span><span style=\"color: #008700; text-decoration-color: #008700\">\"TP\"</span>: <span style=\"font-weight: bold\">[{</span><span style=\"color: #008700; text-decoration-color: #008700\">\"statement\"</span>: <span style=\"color: #008700; text-decoration-color: #008700\">\"The study suggests </span>    <span style=\"color: #7f7f7f; text-decoration-color: #7f7f7f\">               </span>\n",
       "<span style=\"color: #7fbfbf; text-decoration-color: #7fbfbf\">                    </span>         <span style=\"color: #008700; text-decoration-color: #008700\">that the maternal ITPK1 gene polymorphism, particularly the rs3783903 </span> <span style=\"color: #7f7f7f; text-decoration-color: #7f7f7f\">               </span>\n",
       "<span style=\"color: #7fbfbf; text-decoration-color: #7fbfbf\">                    </span>         <span style=\"color: #008700; text-decoration-color: #008700\">variant, may be associated with an increased risk of NTDs in a </span>        <span style=\"color: #7f7f7f; text-decoration-color: #7f7f7f\">               </span>\n",
       "<span style=\"color: #7fbfbf; text-decoration-color: #7fbfbf\">                    </span>         <span style=\"color: #008700; text-decoration-color: #008700\">high-risk Chinese population.\"</span>, <span style=\"color: #008700; text-decoration-color: #008700\">\"reason\"</span>: <span style=\"color: #008700; text-decoration-color: #008700\">\"This statement is directly </span> <span style=\"color: #7f7f7f; text-decoration-color: #7f7f7f\">               </span>\n",
       "<span style=\"color: #7fbfbf; text-decoration-color: #7fbfbf\">                    </span>         <span style=\"color: #008700; text-decoration-color: #008700\">supported by the ground truth which mentions the association between </span>  <span style=\"color: #7f7f7f; text-decoration-color: #7f7f7f\">               </span>\n",
       "<span style=\"color: #7fbfbf; text-decoration-color: #7fbfbf\">                    </span>         <span style=\"color: #008700; text-decoration-color: #008700\">the ITPK1 gene polymorphism and neural tube defects in a high-risk </span>    <span style=\"color: #7f7f7f; text-decoration-color: #7f7f7f\">               </span>\n",
       "<span style=\"color: #7fbfbf; text-decoration-color: #7fbfbf\">                    </span>         <span style=\"color: #008700; text-decoration-color: #008700\">Chinese population.\"</span><span style=\"font-weight: bold\">}]</span>, <span style=\"color: #008700; text-decoration-color: #008700\">\"FP\"</span>: <span style=\"font-weight: bold\">[]</span>, <span style=\"color: #008700; text-decoration-color: #008700\">\"FN\"</span>: <span style=\"font-weight: bold\">[]}</span>. Got: <span style=\"color: #008080; text-decoration-color: #008080; font-weight: bold\">1</span> validation error   <span style=\"color: #7f7f7f; text-decoration-color: #7f7f7f\">               </span>\n",
       "<span style=\"color: #7fbfbf; text-decoration-color: #7fbfbf\">                    </span>         for StringIO                                                           <span style=\"color: #7f7f7f; text-decoration-color: #7f7f7f\">               </span>\n",
       "<span style=\"color: #7fbfbf; text-decoration-color: #7fbfbf\">                    </span>         text                                                                   <span style=\"color: #7f7f7f; text-decoration-color: #7f7f7f\">               </span>\n",
       "<span style=\"color: #7fbfbf; text-decoration-color: #7fbfbf\">                    </span>           Field required <span style=\"font-weight: bold\">[</span><span style=\"color: #d7af00; text-decoration-color: #d7af00\">type</span>=<span style=\"color: #e100e1; text-decoration-color: #e100e1\">missing</span>, <span style=\"color: #d7af00; text-decoration-color: #d7af00\">input_value</span>=<span style=\"font-weight: bold\">{</span><span style=\"color: #008700; text-decoration-color: #008700\">'TP'</span>: <span style=\"font-weight: bold\">[{</span><span style=\"color: #008700; text-decoration-color: #008700\">'statement'</span>:      <span style=\"color: #7f7f7f; text-decoration-color: #7f7f7f\">               </span>\n",
       "<span style=\"color: #7fbfbf; text-decoration-color: #7fbfbf\">                    </span>         <span style=\"color: #008700; text-decoration-color: #008700\">'Th...'</span><span style=\"font-weight: bold\">}]</span>, <span style=\"color: #008700; text-decoration-color: #008700\">'FP'</span>: <span style=\"font-weight: bold\">[]</span>, <span style=\"color: #008700; text-decoration-color: #008700\">'FN'</span>: <span style=\"font-weight: bold\">[]}</span>, <span style=\"color: #d7af00; text-decoration-color: #d7af00\">input_type</span>=<span style=\"color: #e100e1; text-decoration-color: #e100e1\">dict</span><span style=\"font-weight: bold\">]</span>                       <span style=\"color: #7f7f7f; text-decoration-color: #7f7f7f\">               </span>\n",
       "<span style=\"color: #7fbfbf; text-decoration-color: #7fbfbf\">                    </span>             For further information visit                                      <span style=\"color: #7f7f7f; text-decoration-color: #7f7f7f\">               </span>\n",
       "<span style=\"color: #7fbfbf; text-decoration-color: #7fbfbf\">                    </span>         <span style=\"color: #0069ff; text-decoration-color: #0069ff; text-decoration: underline\">https://errors.pydantic.dev/2.11/v/missing</span>                             <span style=\"color: #7f7f7f; text-decoration-color: #7f7f7f\">               </span>\n",
       "<span style=\"color: #7fbfbf; text-decoration-color: #7fbfbf\">                    </span>         For troubleshooting, visit:                                            <span style=\"color: #7f7f7f; text-decoration-color: #7f7f7f\">               </span>\n",
       "<span style=\"color: #7fbfbf; text-decoration-color: #7fbfbf\">                    </span>         <span style=\"color: #0069ff; text-decoration-color: #0069ff; text-decoration: underline\">https://python.langchain.com/docs/troubleshooting/errors/OUT</span><span style=\"color: #d7af00; text-decoration-color: #d7af00; font-weight: bold; text-decoration: underline\">PUT</span><span style=\"color: #0069ff; text-decoration-color: #0069ff; text-decoration: underline\">_PARSIN</span> <span style=\"color: #7f7f7f; text-decoration-color: #7f7f7f\">               </span>\n",
       "<span style=\"color: #7fbfbf; text-decoration-color: #7fbfbf\">                    </span>         <span style=\"color: #0069ff; text-decoration-color: #0069ff; text-decoration: underline\">G_FAILURE</span> <span style=\"font-weight: bold\">)</span>                                                            <span style=\"color: #7f7f7f; text-decoration-color: #7f7f7f\">               </span>\n",
       "</pre>\n"
      ],
      "text/plain": [
       "\u001b[2;36m[04/05/25 20:17:34]\u001b[0m\u001b[2;36m \u001b[0m\u001b[1;38;2;215;0;0mERROR   \u001b[0m Exception raised in Job\u001b[1m[\u001b[0m\u001b[1;36m860\u001b[0m\u001b[1m]\u001b[0m: \u001b[1;38;2;225;0;225mOutputParserException\u001b[0m\u001b[1m(\u001b[0mFailed to parse    \u001b]8;id=690546;file:///opt/conda/lib/python3.11/site-packages/ragas/executor.py\u001b\\\u001b[2mexecutor.py\u001b[0m\u001b]8;;\u001b\\\u001b[2m:\u001b[0m\u001b]8;id=729554;file:///opt/conda/lib/python3.11/site-packages/ragas/executor.py#104\u001b\\\u001b[2m104\u001b[0m\u001b]8;;\u001b\\\n",
       "\u001b[2;36m                    \u001b[0m         StringIO from completion \u001b[1m{\u001b[0m\u001b[38;2;0;135;0m\"TP\"\u001b[0m: \u001b[1m[\u001b[0m\u001b[1m{\u001b[0m\u001b[38;2;0;135;0m\"statement\"\u001b[0m: \u001b[38;2;0;135;0m\"The study suggests \u001b[0m    \u001b[2m               \u001b[0m\n",
       "\u001b[2;36m                    \u001b[0m         \u001b[38;2;0;135;0mthat the maternal ITPK1 gene polymorphism, particularly the rs3783903 \u001b[0m \u001b[2m               \u001b[0m\n",
       "\u001b[2;36m                    \u001b[0m         \u001b[38;2;0;135;0mvariant, may be associated with an increased risk of NTDs in a \u001b[0m        \u001b[2m               \u001b[0m\n",
       "\u001b[2;36m                    \u001b[0m         \u001b[38;2;0;135;0mhigh-risk Chinese population.\"\u001b[0m, \u001b[38;2;0;135;0m\"reason\"\u001b[0m: \u001b[38;2;0;135;0m\"This statement is directly \u001b[0m \u001b[2m               \u001b[0m\n",
       "\u001b[2;36m                    \u001b[0m         \u001b[38;2;0;135;0msupported by the ground truth which mentions the association between \u001b[0m  \u001b[2m               \u001b[0m\n",
       "\u001b[2;36m                    \u001b[0m         \u001b[38;2;0;135;0mthe ITPK1 gene polymorphism and neural tube defects in a high-risk \u001b[0m    \u001b[2m               \u001b[0m\n",
       "\u001b[2;36m                    \u001b[0m         \u001b[38;2;0;135;0mChinese population.\"\u001b[0m\u001b[1m}\u001b[0m\u001b[1m]\u001b[0m, \u001b[38;2;0;135;0m\"FP\"\u001b[0m: \u001b[1m[\u001b[0m\u001b[1m]\u001b[0m, \u001b[38;2;0;135;0m\"FN\"\u001b[0m: \u001b[1m[\u001b[0m\u001b[1m]\u001b[0m\u001b[1m}\u001b[0m. Got: \u001b[1;36m1\u001b[0m validation error   \u001b[2m               \u001b[0m\n",
       "\u001b[2;36m                    \u001b[0m         for StringIO                                                           \u001b[2m               \u001b[0m\n",
       "\u001b[2;36m                    \u001b[0m         text                                                                   \u001b[2m               \u001b[0m\n",
       "\u001b[2;36m                    \u001b[0m           Field required \u001b[1m[\u001b[0m\u001b[38;2;215;175;0mtype\u001b[0m=\u001b[38;2;225;0;225mmissing\u001b[0m, \u001b[38;2;215;175;0minput_value\u001b[0m=\u001b[1m{\u001b[0m\u001b[38;2;0;135;0m'TP'\u001b[0m: \u001b[1m[\u001b[0m\u001b[1m{\u001b[0m\u001b[38;2;0;135;0m'statement'\u001b[0m:      \u001b[2m               \u001b[0m\n",
       "\u001b[2;36m                    \u001b[0m         \u001b[38;2;0;135;0m'Th...'\u001b[0m\u001b[1m}\u001b[0m\u001b[1m]\u001b[0m, \u001b[38;2;0;135;0m'FP'\u001b[0m: \u001b[1m[\u001b[0m\u001b[1m]\u001b[0m, \u001b[38;2;0;135;0m'FN'\u001b[0m: \u001b[1m[\u001b[0m\u001b[1m]\u001b[0m\u001b[1m}\u001b[0m, \u001b[38;2;215;175;0minput_type\u001b[0m=\u001b[38;2;225;0;225mdict\u001b[0m\u001b[1m]\u001b[0m                       \u001b[2m               \u001b[0m\n",
       "\u001b[2;36m                    \u001b[0m             For further information visit                                      \u001b[2m               \u001b[0m\n",
       "\u001b[2;36m                    \u001b[0m         \u001b[4;38;2;0;105;255mhttps://errors.pydantic.dev/2.11/v/missing\u001b[0m                             \u001b[2m               \u001b[0m\n",
       "\u001b[2;36m                    \u001b[0m         For troubleshooting, visit:                                            \u001b[2m               \u001b[0m\n",
       "\u001b[2;36m                    \u001b[0m         \u001b[4;38;2;0;105;255mhttps://python.langchain.com/docs/troubleshooting/errors/OUT\u001b[0m\u001b[1;4;38;2;215;175;0mPUT\u001b[0m\u001b[4;38;2;0;105;255m_PARSIN\u001b[0m \u001b[2m               \u001b[0m\n",
       "\u001b[2;36m                    \u001b[0m         \u001b[4;38;2;0;105;255mG_FAILURE\u001b[0m \u001b[1m)\u001b[0m                                                            \u001b[2m               \u001b[0m\n"
      ]
     },
     "metadata": {},
     "output_type": "display_data"
    },
    {
     "data": {
      "text/html": [
       "<pre style=\"white-space:pre;overflow-x:auto;line-height:normal;font-family:Menlo,'DejaVu Sans Mono',consolas,'Courier New',monospace\"><span style=\"color: #7fbfbf; text-decoration-color: #7fbfbf\">[04/05/25 20:21:27] </span><span style=\"color: #d70000; text-decoration-color: #d70000; font-weight: bold\">ERROR   </span> Exception raised in Job<span style=\"font-weight: bold\">[</span><span style=\"color: #008080; text-decoration-color: #008080; font-weight: bold\">1339</span><span style=\"font-weight: bold\">]</span>: <span style=\"color: #e100e1; text-decoration-color: #e100e1; font-weight: bold\">OutputParserException</span><span style=\"font-weight: bold\">(</span>Invalid json      <a href=\"file:///opt/conda/lib/python3.11/site-packages/ragas/executor.py\" target=\"_blank\"><span style=\"color: #7f7f7f; text-decoration-color: #7f7f7f\">executor.py</span></a><span style=\"color: #7f7f7f; text-decoration-color: #7f7f7f\">:</span><a href=\"file:///opt/conda/lib/python3.11/site-packages/ragas/executor.py#104\" target=\"_blank\"><span style=\"color: #7f7f7f; text-decoration-color: #7f7f7f\">104</span></a>\n",
       "<span style=\"color: #7fbfbf; text-decoration-color: #7fbfbf\">                    </span>         output: The proteome of endoplasmic reticulum-derived protein bodies   <span style=\"color: #7f7f7f; text-decoration-color: #7f7f7f\">               </span>\n",
       "<span style=\"color: #7fbfbf; text-decoration-color: #7fbfbf\">                    </span>         <span style=\"font-weight: bold\">(</span>PBs<span style=\"font-weight: bold\">)</span> in Nicotiana benthamiana leaves was analyzed.                    <span style=\"color: #7f7f7f; text-decoration-color: #7f7f7f\">               </span>\n",
       "<span style=\"color: #7fbfbf; text-decoration-color: #7fbfbf\">                    </span>         Transient transformation with Zera fused to a fluorescent marker       <span style=\"color: #7f7f7f; text-decoration-color: #7f7f7f\">               </span>\n",
       "<span style=\"color: #7fbfbf; text-decoration-color: #7fbfbf\">                    </span>         protein <span style=\"font-weight: bold\">(</span>DsRed<span style=\"font-weight: bold\">)</span> was conducted.                                         <span style=\"color: #7f7f7f; text-decoration-color: #7f7f7f\">               </span>\n",
       "<span style=\"color: #7fbfbf; text-decoration-color: #7fbfbf\">                    </span>         Zera-DsRed accounted for around <span style=\"color: #008080; text-decoration-color: #008080; font-weight: bold\">85</span>% of PB proteins in terms of         <span style=\"color: #7f7f7f; text-decoration-color: #7f7f7f\">               </span>\n",
       "<span style=\"color: #7fbfbf; text-decoration-color: #7fbfbf\">                    </span>         abundance.                                                             <span style=\"color: #7f7f7f; text-decoration-color: #7f7f7f\">               </span>\n",
       "<span style=\"color: #7fbfbf; text-decoration-color: #7fbfbf\">                    </span>         Additional <span style=\"color: #008080; text-decoration-color: #008080; font-weight: bold\">195</span> proteins were identified, including proteins resident   <span style=\"color: #7f7f7f; text-decoration-color: #7f7f7f\">               </span>\n",
       "<span style=\"color: #7fbfbf; text-decoration-color: #7fbfbf\">                    </span>         or trafficking through the ER and recruited within the Zera-DsRed      <span style=\"color: #7f7f7f; text-decoration-color: #7f7f7f\">               </span>\n",
       "<span style=\"color: #7fbfbf; text-decoration-color: #7fbfbf\">                    </span>         polymer.                                                               <span style=\"color: #7f7f7f; text-decoration-color: #7f7f7f\">               </span>\n",
       "<span style=\"color: #7fbfbf; text-decoration-color: #7fbfbf\">                    </span>         The exhaustive analysis of protein composition of PBs is expected to   <span style=\"color: #7f7f7f; text-decoration-color: #7f7f7f\">               </span>\n",
       "<span style=\"color: #7fbfbf; text-decoration-color: #7fbfbf\">                    </span>         facilitate a better understanding of PB formation and the optimization <span style=\"color: #7f7f7f; text-decoration-color: #7f7f7f\">               </span>\n",
       "<span style=\"color: #7fbfbf; text-decoration-color: #7fbfbf\">                    </span>         of recombinant protein purification approaches from these organelles.  <span style=\"color: #7f7f7f; text-decoration-color: #7f7f7f\">               </span>\n",
       "<span style=\"color: #7fbfbf; text-decoration-color: #7fbfbf\">                    </span>         The study aimed to evaluate if induced PBs encapsulate additional      <span style=\"color: #7f7f7f; text-decoration-color: #7f7f7f\">               </span>\n",
       "<span style=\"color: #7fbfbf; text-decoration-color: #7fbfbf\">                    </span>         proteins jointly with the recombinant protein.                         <span style=\"color: #7f7f7f; text-decoration-color: #7f7f7f\">               </span>\n",
       "<span style=\"color: #7fbfbf; text-decoration-color: #7fbfbf\">                    </span>         For troubleshooting, visit:                                            <span style=\"color: #7f7f7f; text-decoration-color: #7f7f7f\">               </span>\n",
       "<span style=\"color: #7fbfbf; text-decoration-color: #7fbfbf\">                    </span>         <span style=\"color: #0069ff; text-decoration-color: #0069ff; text-decoration: underline\">https://python.langchain.com/docs/troubleshooting/errors/OUT</span><span style=\"color: #d7af00; text-decoration-color: #d7af00; font-weight: bold; text-decoration: underline\">PUT</span><span style=\"color: #0069ff; text-decoration-color: #0069ff; text-decoration: underline\">_PARSIN</span> <span style=\"color: #7f7f7f; text-decoration-color: #7f7f7f\">               </span>\n",
       "<span style=\"color: #7fbfbf; text-decoration-color: #7fbfbf\">                    </span>         <span style=\"color: #0069ff; text-decoration-color: #0069ff; text-decoration: underline\">G_FAILURE</span> <span style=\"font-weight: bold\">)</span>                                                            <span style=\"color: #7f7f7f; text-decoration-color: #7f7f7f\">               </span>\n",
       "</pre>\n"
      ],
      "text/plain": [
       "\u001b[2;36m[04/05/25 20:21:27]\u001b[0m\u001b[2;36m \u001b[0m\u001b[1;38;2;215;0;0mERROR   \u001b[0m Exception raised in Job\u001b[1m[\u001b[0m\u001b[1;36m1339\u001b[0m\u001b[1m]\u001b[0m: \u001b[1;38;2;225;0;225mOutputParserException\u001b[0m\u001b[1m(\u001b[0mInvalid json      \u001b]8;id=904212;file:///opt/conda/lib/python3.11/site-packages/ragas/executor.py\u001b\\\u001b[2mexecutor.py\u001b[0m\u001b]8;;\u001b\\\u001b[2m:\u001b[0m\u001b]8;id=568890;file:///opt/conda/lib/python3.11/site-packages/ragas/executor.py#104\u001b\\\u001b[2m104\u001b[0m\u001b]8;;\u001b\\\n",
       "\u001b[2;36m                    \u001b[0m         output: The proteome of endoplasmic reticulum-derived protein bodies   \u001b[2m               \u001b[0m\n",
       "\u001b[2;36m                    \u001b[0m         \u001b[1m(\u001b[0mPBs\u001b[1m)\u001b[0m in Nicotiana benthamiana leaves was analyzed.                    \u001b[2m               \u001b[0m\n",
       "\u001b[2;36m                    \u001b[0m         Transient transformation with Zera fused to a fluorescent marker       \u001b[2m               \u001b[0m\n",
       "\u001b[2;36m                    \u001b[0m         protein \u001b[1m(\u001b[0mDsRed\u001b[1m)\u001b[0m was conducted.                                         \u001b[2m               \u001b[0m\n",
       "\u001b[2;36m                    \u001b[0m         Zera-DsRed accounted for around \u001b[1;36m85\u001b[0m% of PB proteins in terms of         \u001b[2m               \u001b[0m\n",
       "\u001b[2;36m                    \u001b[0m         abundance.                                                             \u001b[2m               \u001b[0m\n",
       "\u001b[2;36m                    \u001b[0m         Additional \u001b[1;36m195\u001b[0m proteins were identified, including proteins resident   \u001b[2m               \u001b[0m\n",
       "\u001b[2;36m                    \u001b[0m         or trafficking through the ER and recruited within the Zera-DsRed      \u001b[2m               \u001b[0m\n",
       "\u001b[2;36m                    \u001b[0m         polymer.                                                               \u001b[2m               \u001b[0m\n",
       "\u001b[2;36m                    \u001b[0m         The exhaustive analysis of protein composition of PBs is expected to   \u001b[2m               \u001b[0m\n",
       "\u001b[2;36m                    \u001b[0m         facilitate a better understanding of PB formation and the optimization \u001b[2m               \u001b[0m\n",
       "\u001b[2;36m                    \u001b[0m         of recombinant protein purification approaches from these organelles.  \u001b[2m               \u001b[0m\n",
       "\u001b[2;36m                    \u001b[0m         The study aimed to evaluate if induced PBs encapsulate additional      \u001b[2m               \u001b[0m\n",
       "\u001b[2;36m                    \u001b[0m         proteins jointly with the recombinant protein.                         \u001b[2m               \u001b[0m\n",
       "\u001b[2;36m                    \u001b[0m         For troubleshooting, visit:                                            \u001b[2m               \u001b[0m\n",
       "\u001b[2;36m                    \u001b[0m         \u001b[4;38;2;0;105;255mhttps://python.langchain.com/docs/troubleshooting/errors/OUT\u001b[0m\u001b[1;4;38;2;215;175;0mPUT\u001b[0m\u001b[4;38;2;0;105;255m_PARSIN\u001b[0m \u001b[2m               \u001b[0m\n",
       "\u001b[2;36m                    \u001b[0m         \u001b[4;38;2;0;105;255mG_FAILURE\u001b[0m \u001b[1m)\u001b[0m                                                            \u001b[2m               \u001b[0m\n"
      ]
     },
     "metadata": {},
     "output_type": "display_data"
    },
    {
     "data": {
      "text/html": [
       "<pre style=\"white-space:pre;overflow-x:auto;line-height:normal;font-family:Menlo,'DejaVu Sans Mono',consolas,'Courier New',monospace\"><span style=\"color: #7fbfbf; text-decoration-color: #7fbfbf\">[04/05/25 20:21:28] </span><span style=\"color: #d70000; text-decoration-color: #d70000; font-weight: bold\">ERROR   </span> Exception raised in Job<span style=\"font-weight: bold\">[</span><span style=\"color: #008080; text-decoration-color: #008080; font-weight: bold\">1430</span><span style=\"font-weight: bold\">]</span>: <span style=\"color: #e100e1; text-decoration-color: #e100e1; font-weight: bold\">OutputParserException</span><span style=\"font-weight: bold\">(</span>Invalid json      <a href=\"file:///opt/conda/lib/python3.11/site-packages/ragas/executor.py\" target=\"_blank\"><span style=\"color: #7f7f7f; text-decoration-color: #7f7f7f\">executor.py</span></a><span style=\"color: #7f7f7f; text-decoration-color: #7f7f7f\">:</span><a href=\"file:///opt/conda/lib/python3.11/site-packages/ragas/executor.py#104\" target=\"_blank\"><span style=\"color: #7f7f7f; text-decoration-color: #7f7f7f\">104</span></a>\n",
       "<span style=\"color: #7fbfbf; text-decoration-color: #7fbfbf\">                    </span>         output: ```json                                                        <span style=\"color: #7f7f7f; text-decoration-color: #7f7f7f\">               </span>\n",
       "<span style=\"color: #7fbfbf; text-decoration-color: #7fbfbf\">                    </span>         <span style=\"font-weight: bold\">{</span>                                                                      <span style=\"color: #7f7f7f; text-decoration-color: #7f7f7f\">               </span>\n",
       "<span style=\"color: #7fbfbf; text-decoration-color: #7fbfbf\">                    </span>             <span style=\"color: #008700; text-decoration-color: #008700\">\"TP\"</span>: <span style=\"font-weight: bold\">[</span>                                                            <span style=\"color: #7f7f7f; text-decoration-color: #7f7f7f\">               </span>\n",
       "<span style=\"color: #7fbfbf; text-decoration-color: #7fbfbf\">                    </span>                 <span style=\"font-weight: bold\">{</span>                                                              <span style=\"color: #7f7f7f; text-decoration-color: #7f7f7f\">               </span>\n",
       "<span style=\"color: #7fbfbf; text-decoration-color: #7fbfbf\">                    </span>                     <span style=\"color: #008700; text-decoration-color: #008700\">\"statement\"</span>: <span style=\"color: #008700; text-decoration-color: #008700\">\"Frontal lobe changes occur early in the </span>     <span style=\"color: #7f7f7f; text-decoration-color: #7f7f7f\">               </span>\n",
       "<span style=\"color: #7fbfbf; text-decoration-color: #7fbfbf\">                    </span>         <span style=\"color: #008700; text-decoration-color: #008700\">course of affective disorders in young people.\"</span>,                       <span style=\"color: #7f7f7f; text-decoration-color: #7f7f7f\">               </span>\n",
       "<span style=\"color: #7fbfbf; text-decoration-color: #7fbfbf\">                    </span>                     <span style=\"color: #008700; text-decoration-color: #008700\">\"reason\"</span>: <span style=\"color: #008700; text-decoration-color: #008700\">\"This statement is directly supported by the </span>    <span style=\"color: #7f7f7f; text-decoration-color: #7f7f7f\">               </span>\n",
       "<span style=\"color: #7fbfbf; text-decoration-color: #7fbfbf\">                    </span>         <span style=\"color: #008700; text-decoration-color: #008700\">ground truth which states that frontal lobe changes occur early in the</span> <span style=\"color: #7f7f7f; text-decoration-color: #7f7f7f\">               </span>\n",
       "<span style=\"color: #7fbfbf; text-decoration-color: #7fbfbf\">                    </span>         <span style=\"color: #008700; text-decoration-color: #008700\">course of affective disorders in young people.\"</span>,                       <span style=\"color: #7f7f7f; text-decoration-color: #7f7f7f\">               </span>\n",
       "<span style=\"color: #7fbfbf; text-decoration-color: #7fbfbf\">                    </span>                 <span style=\"font-weight: bold\">}</span>                                                              <span style=\"color: #7f7f7f; text-decoration-color: #7f7f7f\">               </span>\n",
       "<span style=\"color: #7fbfbf; text-decoration-color: #7fbfbf\">                    </span>             <span style=\"font-weight: bold\">]</span>,                                                                 <span style=\"color: #7f7f7f; text-decoration-color: #7f7f7f\">               </span>\n",
       "<span style=\"color: #7fbfbf; text-decoration-color: #7fbfbf\">                    </span>             <span style=\"color: #008700; text-decoration-color: #008700\">\"FP\"</span>: <span style=\"font-weight: bold\">[]</span>,                                                          <span style=\"color: #7f7f7f; text-decoration-color: #7f7f7f\">               </span>\n",
       "<span style=\"color: #7fbfbf; text-decoration-color: #7fbfbf\">                    </span>             <span style=\"color: #008700; text-decoration-color: #008700\">\"FN\"</span>: <span style=\"font-weight: bold\">[]</span>                                                           <span style=\"color: #7f7f7f; text-decoration-color: #7f7f7f\">               </span>\n",
       "<span style=\"color: #7fbfbf; text-decoration-color: #7fbfbf\">                    </span>         <span style=\"font-weight: bold\">}</span>                                                                      <span style=\"color: #7f7f7f; text-decoration-color: #7f7f7f\">               </span>\n",
       "<span style=\"color: #7fbfbf; text-decoration-color: #7fbfbf\">                    </span>         ```                                                                    <span style=\"color: #7f7f7f; text-decoration-color: #7f7f7f\">               </span>\n",
       "<span style=\"color: #7fbfbf; text-decoration-color: #7fbfbf\">                    </span>         For troubleshooting, visit:                                            <span style=\"color: #7f7f7f; text-decoration-color: #7f7f7f\">               </span>\n",
       "<span style=\"color: #7fbfbf; text-decoration-color: #7fbfbf\">                    </span>         <span style=\"color: #0069ff; text-decoration-color: #0069ff; text-decoration: underline\">https://python.langchain.com/docs/troubleshooting/errors/OUT</span><span style=\"color: #d7af00; text-decoration-color: #d7af00; font-weight: bold; text-decoration: underline\">PUT</span><span style=\"color: #0069ff; text-decoration-color: #0069ff; text-decoration: underline\">_PARSIN</span> <span style=\"color: #7f7f7f; text-decoration-color: #7f7f7f\">               </span>\n",
       "<span style=\"color: #7fbfbf; text-decoration-color: #7fbfbf\">                    </span>         <span style=\"color: #0069ff; text-decoration-color: #0069ff; text-decoration: underline\">G_FAILURE</span> <span style=\"font-weight: bold\">)</span>                                                            <span style=\"color: #7f7f7f; text-decoration-color: #7f7f7f\">               </span>\n",
       "</pre>\n"
      ],
      "text/plain": [
       "\u001b[2;36m[04/05/25 20:21:28]\u001b[0m\u001b[2;36m \u001b[0m\u001b[1;38;2;215;0;0mERROR   \u001b[0m Exception raised in Job\u001b[1m[\u001b[0m\u001b[1;36m1430\u001b[0m\u001b[1m]\u001b[0m: \u001b[1;38;2;225;0;225mOutputParserException\u001b[0m\u001b[1m(\u001b[0mInvalid json      \u001b]8;id=850292;file:///opt/conda/lib/python3.11/site-packages/ragas/executor.py\u001b\\\u001b[2mexecutor.py\u001b[0m\u001b]8;;\u001b\\\u001b[2m:\u001b[0m\u001b]8;id=915767;file:///opt/conda/lib/python3.11/site-packages/ragas/executor.py#104\u001b\\\u001b[2m104\u001b[0m\u001b]8;;\u001b\\\n",
       "\u001b[2;36m                    \u001b[0m         output: ```json                                                        \u001b[2m               \u001b[0m\n",
       "\u001b[2;36m                    \u001b[0m         \u001b[1m{\u001b[0m                                                                      \u001b[2m               \u001b[0m\n",
       "\u001b[2;36m                    \u001b[0m             \u001b[38;2;0;135;0m\"TP\"\u001b[0m: \u001b[1m[\u001b[0m                                                            \u001b[2m               \u001b[0m\n",
       "\u001b[2;36m                    \u001b[0m                 \u001b[1m{\u001b[0m                                                              \u001b[2m               \u001b[0m\n",
       "\u001b[2;36m                    \u001b[0m                     \u001b[38;2;0;135;0m\"statement\"\u001b[0m: \u001b[38;2;0;135;0m\"Frontal lobe changes occur early in the \u001b[0m     \u001b[2m               \u001b[0m\n",
       "\u001b[2;36m                    \u001b[0m         \u001b[38;2;0;135;0mcourse of affective disorders in young people.\"\u001b[0m,                       \u001b[2m               \u001b[0m\n",
       "\u001b[2;36m                    \u001b[0m                     \u001b[38;2;0;135;0m\"reason\"\u001b[0m: \u001b[38;2;0;135;0m\"This statement is directly supported by the \u001b[0m    \u001b[2m               \u001b[0m\n",
       "\u001b[2;36m                    \u001b[0m         \u001b[38;2;0;135;0mground truth which states that frontal lobe changes occur early in the\u001b[0m \u001b[2m               \u001b[0m\n",
       "\u001b[2;36m                    \u001b[0m         \u001b[38;2;0;135;0mcourse of affective disorders in young people.\"\u001b[0m,                       \u001b[2m               \u001b[0m\n",
       "\u001b[2;36m                    \u001b[0m                 \u001b[1m}\u001b[0m                                                              \u001b[2m               \u001b[0m\n",
       "\u001b[2;36m                    \u001b[0m             \u001b[1m]\u001b[0m,                                                                 \u001b[2m               \u001b[0m\n",
       "\u001b[2;36m                    \u001b[0m             \u001b[38;2;0;135;0m\"FP\"\u001b[0m: \u001b[1m[\u001b[0m\u001b[1m]\u001b[0m,                                                          \u001b[2m               \u001b[0m\n",
       "\u001b[2;36m                    \u001b[0m             \u001b[38;2;0;135;0m\"FN\"\u001b[0m: \u001b[1m[\u001b[0m\u001b[1m]\u001b[0m                                                           \u001b[2m               \u001b[0m\n",
       "\u001b[2;36m                    \u001b[0m         \u001b[1m}\u001b[0m                                                                      \u001b[2m               \u001b[0m\n",
       "\u001b[2;36m                    \u001b[0m         ```                                                                    \u001b[2m               \u001b[0m\n",
       "\u001b[2;36m                    \u001b[0m         For troubleshooting, visit:                                            \u001b[2m               \u001b[0m\n",
       "\u001b[2;36m                    \u001b[0m         \u001b[4;38;2;0;105;255mhttps://python.langchain.com/docs/troubleshooting/errors/OUT\u001b[0m\u001b[1;4;38;2;215;175;0mPUT\u001b[0m\u001b[4;38;2;0;105;255m_PARSIN\u001b[0m \u001b[2m               \u001b[0m\n",
       "\u001b[2;36m                    \u001b[0m         \u001b[4;38;2;0;105;255mG_FAILURE\u001b[0m \u001b[1m)\u001b[0m                                                            \u001b[2m               \u001b[0m\n"
      ]
     },
     "metadata": {},
     "output_type": "display_data"
    },
    {
     "data": {
      "text/html": [
       "<pre style=\"white-space:pre;overflow-x:auto;line-height:normal;font-family:Menlo,'DejaVu Sans Mono',consolas,'Courier New',monospace\"><span style=\"color: #7fbfbf; text-decoration-color: #7fbfbf\">[04/05/25 20:23:22] </span><span style=\"color: #d70000; text-decoration-color: #d70000; font-weight: bold\">ERROR   </span> Exception raised in Job<span style=\"font-weight: bold\">[</span><span style=\"color: #008080; text-decoration-color: #008080; font-weight: bold\">1624</span><span style=\"font-weight: bold\">]</span>: <span style=\"color: #e100e1; text-decoration-color: #e100e1; font-weight: bold\">OutputParserException</span><span style=\"font-weight: bold\">(</span>Failed to parse   <a href=\"file:///opt/conda/lib/python3.11/site-packages/ragas/executor.py\" target=\"_blank\"><span style=\"color: #7f7f7f; text-decoration-color: #7f7f7f\">executor.py</span></a><span style=\"color: #7f7f7f; text-decoration-color: #7f7f7f\">:</span><a href=\"file:///opt/conda/lib/python3.11/site-packages/ragas/executor.py#104\" target=\"_blank\"><span style=\"color: #7f7f7f; text-decoration-color: #7f7f7f\">104</span></a>\n",
       "<span style=\"color: #7fbfbf; text-decoration-color: #7fbfbf\">                    </span>         StringIO from completion <span style=\"font-weight: bold\">{</span><span style=\"color: #008700; text-decoration-color: #008700\">\"statements\"</span>: <span style=\"font-weight: bold\">[{</span><span style=\"color: #008700; text-decoration-color: #008700\">\"statement\"</span>: <span style=\"color: #008700; text-decoration-color: #008700\">\"Intravenous </span>   <span style=\"color: #7f7f7f; text-decoration-color: #7f7f7f\">               </span>\n",
       "<span style=\"color: #7fbfbf; text-decoration-color: #7fbfbf\">                    </span>         <span style=\"color: #008700; text-decoration-color: #008700\">ursodeoxycholic acid </span><span style=\"color: #008700; text-decoration-color: #008700; font-weight: bold\">(</span><span style=\"color: #008700; text-decoration-color: #008700\">UDCA</span><span style=\"color: #008700; text-decoration-color: #008700; font-weight: bold\">)</span><span style=\"color: #008700; text-decoration-color: #008700\"> was administered to newborn piglets </span>       <span style=\"color: #7f7f7f; text-decoration-color: #7f7f7f\">               </span>\n",
       "<span style=\"color: #7fbfbf; text-decoration-color: #7fbfbf\">                    </span>         <span style=\"color: #008700; text-decoration-color: #008700\">receiving total parenteral nutrition </span><span style=\"color: #008700; text-decoration-color: #008700; font-weight: bold\">(</span><span style=\"color: #008700; text-decoration-color: #008700\">TPN</span><span style=\"color: #008700; text-decoration-color: #008700; font-weight: bold\">)</span><span style=\"color: #008700; text-decoration-color: #008700\">.\"</span>, <span style=\"color: #008700; text-decoration-color: #008700\">\"reason\"</span>: <span style=\"color: #008700; text-decoration-color: #008700\">\"The context </span>  <span style=\"color: #7f7f7f; text-decoration-color: #7f7f7f\">               </span>\n",
       "<span style=\"color: #7fbfbf; text-decoration-color: #7fbfbf\">                    </span>         <span style=\"color: #008700; text-decoration-color: #008700\">explicitly states that 'The hypothesis of this study was that </span>         <span style=\"color: #7f7f7f; text-decoration-color: #7f7f7f\">               </span>\n",
       "<span style=\"color: #7fbfbf; text-decoration-color: #7fbfbf\">                    </span>         <span style=\"color: #008700; text-decoration-color: #008700\">intravenous UDCA prevents TPN-induced cholestasis by </span><span style=\"color: #008700; text-decoration-color: #008700; font-weight: bold\">(</span><span style=\"color: #008700; text-decoration-color: #008700\">1</span><span style=\"color: #008700; text-decoration-color: #008700; font-weight: bold\">)</span><span style=\"color: #008700; text-decoration-color: #008700\"> maintaining </span>  <span style=\"color: #7f7f7f; text-decoration-color: #7f7f7f\">               </span>\n",
       "<span style=\"color: #7fbfbf; text-decoration-color: #7fbfbf\">                    </span>         <span style=\"color: #008700; text-decoration-color: #008700\">normal basal and stimulated bile flow, </span><span style=\"color: #008700; text-decoration-color: #008700; font-weight: bold\">(</span><span style=\"color: #008700; text-decoration-color: #008700\">2</span><span style=\"color: #008700; text-decoration-color: #008700; font-weight: bold\">)</span><span style=\"color: #008700; text-decoration-color: #008700\"> altering bile composition, </span> <span style=\"color: #7f7f7f; text-decoration-color: #7f7f7f\">               </span>\n",
       "<span style=\"color: #7fbfbf; text-decoration-color: #7fbfbf\">                    </span>         <span style=\"color: #008700; text-decoration-color: #008700\">and </span><span style=\"color: #008700; text-decoration-color: #008700; font-weight: bold\">(</span><span style=\"color: #008700; text-decoration-color: #008700\">3</span><span style=\"color: #008700; text-decoration-color: #008700; font-weight: bold\">)</span><span style=\"color: #008700; text-decoration-color: #008700\"> changing hepatocyte membrane composition and </span>                  <span style=\"color: #7f7f7f; text-decoration-color: #7f7f7f\">               </span>\n",
       "<span style=\"color: #7fbfbf; text-decoration-color: #7fbfbf\">                    </span>         <span style=\"color: #008700; text-decoration-color: #008700\">Na+,K</span><span style=\"color: #008700; text-decoration-color: #008700; font-weight: bold\">(</span><span style=\"color: #008700; text-decoration-color: #008700\">+</span><span style=\"color: #008700; text-decoration-color: #008700; font-weight: bold\">)</span><span style=\"color: #008700; text-decoration-color: #008700\">-adenosine triphosphatase </span><span style=\"color: #008700; text-decoration-color: #008700; font-weight: bold\">(</span><span style=\"color: #008700; text-decoration-color: #008700\">ATPase</span><span style=\"color: #008700; text-decoration-color: #008700; font-weight: bold\">)</span><span style=\"color: #008700; text-decoration-color: #008700\"> activity.',\\n            </span>   <span style=\"color: #7f7f7f; text-decoration-color: #7f7f7f\">               </span>\n",
       "<span style=\"color: #7fbfbf; text-decoration-color: #7fbfbf\">                    </span>         <span style=\"color: #008700; text-decoration-color: #008700\">\"</span><span style=\"font-weight: bold\">}]}</span>. Got: <span style=\"color: #008080; text-decoration-color: #008080; font-weight: bold\">1</span> validation error for StringIO                             <span style=\"color: #7f7f7f; text-decoration-color: #7f7f7f\">               </span>\n",
       "<span style=\"color: #7fbfbf; text-decoration-color: #7fbfbf\">                    </span>         text                                                                   <span style=\"color: #7f7f7f; text-decoration-color: #7f7f7f\">               </span>\n",
       "<span style=\"color: #7fbfbf; text-decoration-color: #7fbfbf\">                    </span>           Field required <span style=\"font-weight: bold\">[</span><span style=\"color: #d7af00; text-decoration-color: #d7af00\">type</span>=<span style=\"color: #e100e1; text-decoration-color: #e100e1\">missing</span>, <span style=\"color: #d7af00; text-decoration-color: #d7af00\">input_value</span>=<span style=\"font-weight: bold\">{</span><span style=\"color: #008700; text-decoration-color: #008700\">'statements'</span>:             <span style=\"color: #7f7f7f; text-decoration-color: #7f7f7f\">               </span>\n",
       "<span style=\"color: #7fbfbf; text-decoration-color: #7fbfbf\">                    </span>         <span style=\"font-weight: bold\">[{</span><span style=\"color: #008700; text-decoration-color: #008700\">'stateme...ity.'</span>,\\n            \"<span style=\"font-weight: bold\">}]}</span>, <span style=\"color: #d7af00; text-decoration-color: #d7af00\">input_type</span>=<span style=\"color: #e100e1; text-decoration-color: #e100e1\">dict</span><span style=\"font-weight: bold\">]</span>                <span style=\"color: #7f7f7f; text-decoration-color: #7f7f7f\">               </span>\n",
       "<span style=\"color: #7fbfbf; text-decoration-color: #7fbfbf\">                    </span>             For further information visit                                      <span style=\"color: #7f7f7f; text-decoration-color: #7f7f7f\">               </span>\n",
       "<span style=\"color: #7fbfbf; text-decoration-color: #7fbfbf\">                    </span>         <span style=\"color: #0069ff; text-decoration-color: #0069ff; text-decoration: underline\">https://errors.pydantic.dev/2.11/v/missing</span>                             <span style=\"color: #7f7f7f; text-decoration-color: #7f7f7f\">               </span>\n",
       "<span style=\"color: #7fbfbf; text-decoration-color: #7fbfbf\">                    </span>         For troubleshooting, visit:                                            <span style=\"color: #7f7f7f; text-decoration-color: #7f7f7f\">               </span>\n",
       "<span style=\"color: #7fbfbf; text-decoration-color: #7fbfbf\">                    </span>         <span style=\"color: #0069ff; text-decoration-color: #0069ff; text-decoration: underline\">https://python.langchain.com/docs/troubleshooting/errors/OUT</span><span style=\"color: #d7af00; text-decoration-color: #d7af00; font-weight: bold; text-decoration: underline\">PUT</span><span style=\"color: #0069ff; text-decoration-color: #0069ff; text-decoration: underline\">_PARSIN</span> <span style=\"color: #7f7f7f; text-decoration-color: #7f7f7f\">               </span>\n",
       "<span style=\"color: #7fbfbf; text-decoration-color: #7fbfbf\">                    </span>         <span style=\"color: #0069ff; text-decoration-color: #0069ff; text-decoration: underline\">G_FAILURE</span> <span style=\"font-weight: bold\">)</span>                                                            <span style=\"color: #7f7f7f; text-decoration-color: #7f7f7f\">               </span>\n",
       "</pre>\n"
      ],
      "text/plain": [
       "\u001b[2;36m[04/05/25 20:23:22]\u001b[0m\u001b[2;36m \u001b[0m\u001b[1;38;2;215;0;0mERROR   \u001b[0m Exception raised in Job\u001b[1m[\u001b[0m\u001b[1;36m1624\u001b[0m\u001b[1m]\u001b[0m: \u001b[1;38;2;225;0;225mOutputParserException\u001b[0m\u001b[1m(\u001b[0mFailed to parse   \u001b]8;id=780991;file:///opt/conda/lib/python3.11/site-packages/ragas/executor.py\u001b\\\u001b[2mexecutor.py\u001b[0m\u001b]8;;\u001b\\\u001b[2m:\u001b[0m\u001b]8;id=321578;file:///opt/conda/lib/python3.11/site-packages/ragas/executor.py#104\u001b\\\u001b[2m104\u001b[0m\u001b]8;;\u001b\\\n",
       "\u001b[2;36m                    \u001b[0m         StringIO from completion \u001b[1m{\u001b[0m\u001b[38;2;0;135;0m\"statements\"\u001b[0m: \u001b[1m[\u001b[0m\u001b[1m{\u001b[0m\u001b[38;2;0;135;0m\"statement\"\u001b[0m: \u001b[38;2;0;135;0m\"Intravenous \u001b[0m   \u001b[2m               \u001b[0m\n",
       "\u001b[2;36m                    \u001b[0m         \u001b[38;2;0;135;0mursodeoxycholic acid \u001b[0m\u001b[1;38;2;0;135;0m(\u001b[0m\u001b[38;2;0;135;0mUDCA\u001b[0m\u001b[1;38;2;0;135;0m)\u001b[0m\u001b[38;2;0;135;0m was administered to newborn piglets \u001b[0m       \u001b[2m               \u001b[0m\n",
       "\u001b[2;36m                    \u001b[0m         \u001b[38;2;0;135;0mreceiving total parenteral nutrition \u001b[0m\u001b[1;38;2;0;135;0m(\u001b[0m\u001b[38;2;0;135;0mTPN\u001b[0m\u001b[1;38;2;0;135;0m)\u001b[0m\u001b[38;2;0;135;0m.\"\u001b[0m, \u001b[38;2;0;135;0m\"reason\"\u001b[0m: \u001b[38;2;0;135;0m\"The context \u001b[0m  \u001b[2m               \u001b[0m\n",
       "\u001b[2;36m                    \u001b[0m         \u001b[38;2;0;135;0mexplicitly states that 'The hypothesis of this study was that \u001b[0m         \u001b[2m               \u001b[0m\n",
       "\u001b[2;36m                    \u001b[0m         \u001b[38;2;0;135;0mintravenous UDCA prevents TPN-induced cholestasis by \u001b[0m\u001b[1;38;2;0;135;0m(\u001b[0m\u001b[38;2;0;135;0m1\u001b[0m\u001b[1;38;2;0;135;0m)\u001b[0m\u001b[38;2;0;135;0m maintaining \u001b[0m  \u001b[2m               \u001b[0m\n",
       "\u001b[2;36m                    \u001b[0m         \u001b[38;2;0;135;0mnormal basal and stimulated bile flow, \u001b[0m\u001b[1;38;2;0;135;0m(\u001b[0m\u001b[38;2;0;135;0m2\u001b[0m\u001b[1;38;2;0;135;0m)\u001b[0m\u001b[38;2;0;135;0m altering bile composition, \u001b[0m \u001b[2m               \u001b[0m\n",
       "\u001b[2;36m                    \u001b[0m         \u001b[38;2;0;135;0mand \u001b[0m\u001b[1;38;2;0;135;0m(\u001b[0m\u001b[38;2;0;135;0m3\u001b[0m\u001b[1;38;2;0;135;0m)\u001b[0m\u001b[38;2;0;135;0m changing hepatocyte membrane composition and \u001b[0m                  \u001b[2m               \u001b[0m\n",
       "\u001b[2;36m                    \u001b[0m         \u001b[38;2;0;135;0mNa+,K\u001b[0m\u001b[1;38;2;0;135;0m(\u001b[0m\u001b[38;2;0;135;0m+\u001b[0m\u001b[1;38;2;0;135;0m)\u001b[0m\u001b[38;2;0;135;0m-adenosine triphosphatase \u001b[0m\u001b[1;38;2;0;135;0m(\u001b[0m\u001b[38;2;0;135;0mATPase\u001b[0m\u001b[1;38;2;0;135;0m)\u001b[0m\u001b[38;2;0;135;0m activity.',\\n            \u001b[0m   \u001b[2m               \u001b[0m\n",
       "\u001b[2;36m                    \u001b[0m         \u001b[38;2;0;135;0m\"\u001b[0m\u001b[1m}\u001b[0m\u001b[1m]\u001b[0m\u001b[1m}\u001b[0m. Got: \u001b[1;36m1\u001b[0m validation error for StringIO                             \u001b[2m               \u001b[0m\n",
       "\u001b[2;36m                    \u001b[0m         text                                                                   \u001b[2m               \u001b[0m\n",
       "\u001b[2;36m                    \u001b[0m           Field required \u001b[1m[\u001b[0m\u001b[38;2;215;175;0mtype\u001b[0m=\u001b[38;2;225;0;225mmissing\u001b[0m, \u001b[38;2;215;175;0minput_value\u001b[0m=\u001b[1m{\u001b[0m\u001b[38;2;0;135;0m'statements'\u001b[0m:             \u001b[2m               \u001b[0m\n",
       "\u001b[2;36m                    \u001b[0m         \u001b[1m[\u001b[0m\u001b[1m{\u001b[0m\u001b[38;2;0;135;0m'stateme...ity.'\u001b[0m,\\n            \"\u001b[1m}\u001b[0m\u001b[1m]\u001b[0m\u001b[1m}\u001b[0m, \u001b[38;2;215;175;0minput_type\u001b[0m=\u001b[38;2;225;0;225mdict\u001b[0m\u001b[1m]\u001b[0m                \u001b[2m               \u001b[0m\n",
       "\u001b[2;36m                    \u001b[0m             For further information visit                                      \u001b[2m               \u001b[0m\n",
       "\u001b[2;36m                    \u001b[0m         \u001b[4;38;2;0;105;255mhttps://errors.pydantic.dev/2.11/v/missing\u001b[0m                             \u001b[2m               \u001b[0m\n",
       "\u001b[2;36m                    \u001b[0m         For troubleshooting, visit:                                            \u001b[2m               \u001b[0m\n",
       "\u001b[2;36m                    \u001b[0m         \u001b[4;38;2;0;105;255mhttps://python.langchain.com/docs/troubleshooting/errors/OUT\u001b[0m\u001b[1;4;38;2;215;175;0mPUT\u001b[0m\u001b[4;38;2;0;105;255m_PARSIN\u001b[0m \u001b[2m               \u001b[0m\n",
       "\u001b[2;36m                    \u001b[0m         \u001b[4;38;2;0;105;255mG_FAILURE\u001b[0m \u001b[1m)\u001b[0m                                                            \u001b[2m               \u001b[0m\n"
      ]
     },
     "metadata": {},
     "output_type": "display_data"
    },
    {
     "data": {
      "text/html": [
       "<pre style=\"white-space:pre;overflow-x:auto;line-height:normal;font-family:Menlo,'DejaVu Sans Mono',consolas,'Courier New',monospace\"><span style=\"color: #7fbfbf; text-decoration-color: #7fbfbf\">[04/05/25 20:30:28] </span><span style=\"color: #d70000; text-decoration-color: #d70000; font-weight: bold\">ERROR   </span> Prompt fix_output_format failed to parse output: The output     <a href=\"file:///opt/conda/lib/python3.11/site-packages/ragas/prompt/pydantic_prompt.py\" target=\"_blank\"><span style=\"color: #7f7f7f; text-decoration-color: #7f7f7f\">pydantic_prompt.py</span></a><span style=\"color: #7f7f7f; text-decoration-color: #7f7f7f\">:</span><a href=\"file:///opt/conda/lib/python3.11/site-packages/ragas/prompt/pydantic_prompt.py#214\" target=\"_blank\"><span style=\"color: #7f7f7f; text-decoration-color: #7f7f7f\">214</span></a>\n",
       "<span style=\"color: #7fbfbf; text-decoration-color: #7fbfbf\">                    </span>         parser failed to parse the output including retries.            <span style=\"color: #7f7f7f; text-decoration-color: #7f7f7f\">                      </span>\n",
       "</pre>\n"
      ],
      "text/plain": [
       "\u001b[2;36m[04/05/25 20:30:28]\u001b[0m\u001b[2;36m \u001b[0m\u001b[1;38;2;215;0;0mERROR   \u001b[0m Prompt fix_output_format failed to parse output: The output     \u001b]8;id=954187;file:///opt/conda/lib/python3.11/site-packages/ragas/prompt/pydantic_prompt.py\u001b\\\u001b[2mpydantic_prompt.py\u001b[0m\u001b]8;;\u001b\\\u001b[2m:\u001b[0m\u001b]8;id=822471;file:///opt/conda/lib/python3.11/site-packages/ragas/prompt/pydantic_prompt.py#214\u001b\\\u001b[2m214\u001b[0m\u001b]8;;\u001b\\\n",
       "\u001b[2;36m                    \u001b[0m         parser failed to parse the output including retries.            \u001b[2m                      \u001b[0m\n"
      ]
     },
     "metadata": {},
     "output_type": "display_data"
    },
    {
     "data": {
      "text/html": [
       "<pre style=\"white-space:pre;overflow-x:auto;line-height:normal;font-family:Menlo,'DejaVu Sans Mono',consolas,'Courier New',monospace\"><span style=\"color: #7fbfbf; text-decoration-color: #7fbfbf\">                    </span><span style=\"color: #d70000; text-decoration-color: #d70000; font-weight: bold\">ERROR   </span> Prompt fix_output_format failed to parse output: The output     <a href=\"file:///opt/conda/lib/python3.11/site-packages/ragas/prompt/pydantic_prompt.py\" target=\"_blank\"><span style=\"color: #7f7f7f; text-decoration-color: #7f7f7f\">pydantic_prompt.py</span></a><span style=\"color: #7f7f7f; text-decoration-color: #7f7f7f\">:</span><a href=\"file:///opt/conda/lib/python3.11/site-packages/ragas/prompt/pydantic_prompt.py#214\" target=\"_blank\"><span style=\"color: #7f7f7f; text-decoration-color: #7f7f7f\">214</span></a>\n",
       "<span style=\"color: #7fbfbf; text-decoration-color: #7fbfbf\">                    </span>         parser failed to parse the output including retries.            <span style=\"color: #7f7f7f; text-decoration-color: #7f7f7f\">                      </span>\n",
       "</pre>\n"
      ],
      "text/plain": [
       "\u001b[2;36m                   \u001b[0m\u001b[2;36m \u001b[0m\u001b[1;38;2;215;0;0mERROR   \u001b[0m Prompt fix_output_format failed to parse output: The output     \u001b]8;id=802504;file:///opt/conda/lib/python3.11/site-packages/ragas/prompt/pydantic_prompt.py\u001b\\\u001b[2mpydantic_prompt.py\u001b[0m\u001b]8;;\u001b\\\u001b[2m:\u001b[0m\u001b]8;id=324481;file:///opt/conda/lib/python3.11/site-packages/ragas/prompt/pydantic_prompt.py#214\u001b\\\u001b[2m214\u001b[0m\u001b]8;;\u001b\\\n",
       "\u001b[2;36m                    \u001b[0m         parser failed to parse the output including retries.            \u001b[2m                      \u001b[0m\n"
      ]
     },
     "metadata": {},
     "output_type": "display_data"
    },
    {
     "data": {
      "text/html": [
       "<pre style=\"white-space:pre;overflow-x:auto;line-height:normal;font-family:Menlo,'DejaVu Sans Mono',consolas,'Courier New',monospace\"><span style=\"color: #7fbfbf; text-decoration-color: #7fbfbf\">                    </span><span style=\"color: #d70000; text-decoration-color: #d70000; font-weight: bold\">ERROR   </span> Prompt fix_output_format failed to parse output: The output     <a href=\"file:///opt/conda/lib/python3.11/site-packages/ragas/prompt/pydantic_prompt.py\" target=\"_blank\"><span style=\"color: #7f7f7f; text-decoration-color: #7f7f7f\">pydantic_prompt.py</span></a><span style=\"color: #7f7f7f; text-decoration-color: #7f7f7f\">:</span><a href=\"file:///opt/conda/lib/python3.11/site-packages/ragas/prompt/pydantic_prompt.py#214\" target=\"_blank\"><span style=\"color: #7f7f7f; text-decoration-color: #7f7f7f\">214</span></a>\n",
       "<span style=\"color: #7fbfbf; text-decoration-color: #7fbfbf\">                    </span>         parser failed to parse the output including retries.            <span style=\"color: #7f7f7f; text-decoration-color: #7f7f7f\">                      </span>\n",
       "</pre>\n"
      ],
      "text/plain": [
       "\u001b[2;36m                   \u001b[0m\u001b[2;36m \u001b[0m\u001b[1;38;2;215;0;0mERROR   \u001b[0m Prompt fix_output_format failed to parse output: The output     \u001b]8;id=641096;file:///opt/conda/lib/python3.11/site-packages/ragas/prompt/pydantic_prompt.py\u001b\\\u001b[2mpydantic_prompt.py\u001b[0m\u001b]8;;\u001b\\\u001b[2m:\u001b[0m\u001b]8;id=817533;file:///opt/conda/lib/python3.11/site-packages/ragas/prompt/pydantic_prompt.py#214\u001b\\\u001b[2m214\u001b[0m\u001b]8;;\u001b\\\n",
       "\u001b[2;36m                    \u001b[0m         parser failed to parse the output including retries.            \u001b[2m                      \u001b[0m\n"
      ]
     },
     "metadata": {},
     "output_type": "display_data"
    },
    {
     "data": {
      "text/html": [
       "<pre style=\"white-space:pre;overflow-x:auto;line-height:normal;font-family:Menlo,'DejaVu Sans Mono',consolas,'Courier New',monospace\"><span style=\"color: #7fbfbf; text-decoration-color: #7fbfbf\">                    </span><span style=\"color: #d70000; text-decoration-color: #d70000; font-weight: bold\">ERROR   </span> Prompt n_l_i_statement_prompt failed to parse output: The       <a href=\"file:///opt/conda/lib/python3.11/site-packages/ragas/prompt/pydantic_prompt.py\" target=\"_blank\"><span style=\"color: #7f7f7f; text-decoration-color: #7f7f7f\">pydantic_prompt.py</span></a><span style=\"color: #7f7f7f; text-decoration-color: #7f7f7f\">:</span><a href=\"file:///opt/conda/lib/python3.11/site-packages/ragas/prompt/pydantic_prompt.py#214\" target=\"_blank\"><span style=\"color: #7f7f7f; text-decoration-color: #7f7f7f\">214</span></a>\n",
       "<span style=\"color: #7fbfbf; text-decoration-color: #7fbfbf\">                    </span>         output parser failed to parse the output including retries.     <span style=\"color: #7f7f7f; text-decoration-color: #7f7f7f\">                      </span>\n",
       "</pre>\n"
      ],
      "text/plain": [
       "\u001b[2;36m                   \u001b[0m\u001b[2;36m \u001b[0m\u001b[1;38;2;215;0;0mERROR   \u001b[0m Prompt n_l_i_statement_prompt failed to parse output: The       \u001b]8;id=110824;file:///opt/conda/lib/python3.11/site-packages/ragas/prompt/pydantic_prompt.py\u001b\\\u001b[2mpydantic_prompt.py\u001b[0m\u001b]8;;\u001b\\\u001b[2m:\u001b[0m\u001b]8;id=346739;file:///opt/conda/lib/python3.11/site-packages/ragas/prompt/pydantic_prompt.py#214\u001b\\\u001b[2m214\u001b[0m\u001b]8;;\u001b\\\n",
       "\u001b[2;36m                    \u001b[0m         output parser failed to parse the output including retries.     \u001b[2m                      \u001b[0m\n"
      ]
     },
     "metadata": {},
     "output_type": "display_data"
    },
    {
     "data": {
      "text/html": [
       "<pre style=\"white-space:pre;overflow-x:auto;line-height:normal;font-family:Menlo,'DejaVu Sans Mono',consolas,'Courier New',monospace\"><span style=\"color: #7fbfbf; text-decoration-color: #7fbfbf\">                    </span><span style=\"color: #d70000; text-decoration-color: #d70000; font-weight: bold\">ERROR   </span> Exception raised in Job<span style=\"font-weight: bold\">[</span><span style=\"color: #008080; text-decoration-color: #008080; font-weight: bold\">2623</span><span style=\"font-weight: bold\">]</span>: <span style=\"color: #e100e1; text-decoration-color: #e100e1; font-weight: bold\">RagasOutputParserException</span><span style=\"font-weight: bold\">(</span>The output   <a href=\"file:///opt/conda/lib/python3.11/site-packages/ragas/executor.py\" target=\"_blank\"><span style=\"color: #7f7f7f; text-decoration-color: #7f7f7f\">executor.py</span></a><span style=\"color: #7f7f7f; text-decoration-color: #7f7f7f\">:</span><a href=\"file:///opt/conda/lib/python3.11/site-packages/ragas/executor.py#104\" target=\"_blank\"><span style=\"color: #7f7f7f; text-decoration-color: #7f7f7f\">104</span></a>\n",
       "<span style=\"color: #7fbfbf; text-decoration-color: #7fbfbf\">                    </span>         parser failed to parse the output including retries.<span style=\"font-weight: bold\">)</span>                  <span style=\"color: #7f7f7f; text-decoration-color: #7f7f7f\">               </span>\n",
       "</pre>\n"
      ],
      "text/plain": [
       "\u001b[2;36m                   \u001b[0m\u001b[2;36m \u001b[0m\u001b[1;38;2;215;0;0mERROR   \u001b[0m Exception raised in Job\u001b[1m[\u001b[0m\u001b[1;36m2623\u001b[0m\u001b[1m]\u001b[0m: \u001b[1;38;2;225;0;225mRagasOutputParserException\u001b[0m\u001b[1m(\u001b[0mThe output   \u001b]8;id=915811;file:///opt/conda/lib/python3.11/site-packages/ragas/executor.py\u001b\\\u001b[2mexecutor.py\u001b[0m\u001b]8;;\u001b\\\u001b[2m:\u001b[0m\u001b]8;id=867097;file:///opt/conda/lib/python3.11/site-packages/ragas/executor.py#104\u001b\\\u001b[2m104\u001b[0m\u001b]8;;\u001b\\\n",
       "\u001b[2;36m                    \u001b[0m         parser failed to parse the output including retries.\u001b[1m)\u001b[0m                  \u001b[2m               \u001b[0m\n"
      ]
     },
     "metadata": {},
     "output_type": "display_data"
    },
    {
     "data": {
      "text/html": [
       "<pre style=\"white-space:pre;overflow-x:auto;line-height:normal;font-family:Menlo,'DejaVu Sans Mono',consolas,'Courier New',monospace\"><span style=\"color: #7fbfbf; text-decoration-color: #7fbfbf\">[04/05/25 20:31:30] </span><span style=\"color: #d70000; text-decoration-color: #d70000; font-weight: bold\">ERROR   </span> Exception raised in Job<span style=\"font-weight: bold\">[</span><span style=\"color: #008080; text-decoration-color: #008080; font-weight: bold\">2761</span><span style=\"font-weight: bold\">]</span>: <span style=\"color: #e100e1; text-decoration-color: #e100e1; font-weight: bold\">OutputParserException</span><span style=\"font-weight: bold\">(</span>Invalid json      <a href=\"file:///opt/conda/lib/python3.11/site-packages/ragas/executor.py\" target=\"_blank\"><span style=\"color: #7f7f7f; text-decoration-color: #7f7f7f\">executor.py</span></a><span style=\"color: #7f7f7f; text-decoration-color: #7f7f7f\">:</span><a href=\"file:///opt/conda/lib/python3.11/site-packages/ragas/executor.py#104\" target=\"_blank\"><span style=\"color: #7f7f7f; text-decoration-color: #7f7f7f\">104</span></a>\n",
       "<span style=\"color: #7fbfbf; text-decoration-color: #7fbfbf\">                    </span>         output: ```json                                                        <span style=\"color: #7f7f7f; text-decoration-color: #7f7f7f\">               </span>\n",
       "<span style=\"color: #7fbfbf; text-decoration-color: #7fbfbf\">                    </span>         <span style=\"font-weight: bold\">{</span>                                                                      <span style=\"color: #7f7f7f; text-decoration-color: #7f7f7f\">               </span>\n",
       "<span style=\"color: #7fbfbf; text-decoration-color: #7fbfbf\">                    </span>             <span style=\"color: #008700; text-decoration-color: #008700\">\"statements\"</span>: <span style=\"font-weight: bold\">[</span>                                                    <span style=\"color: #7f7f7f; text-decoration-color: #7f7f7f\">               </span>\n",
       "<span style=\"color: #7fbfbf; text-decoration-color: #7fbfbf\">                    </span>                 <span style=\"font-weight: bold\">{</span>                                                              <span style=\"color: #7f7f7f; text-decoration-color: #7f7f7f\">               </span>\n",
       "<span style=\"color: #7fbfbf; text-decoration-color: #7fbfbf\">                    </span>                     <span style=\"color: #008700; text-decoration-color: #008700\">\"statement\"</span>: <span style=\"color: #008700; text-decoration-color: #008700\">\"Intranasal insulin was administered to 17 </span>   <span style=\"color: #7f7f7f; text-decoration-color: #7f7f7f\">               </span>\n",
       "<span style=\"color: #7fbfbf; text-decoration-color: #7fbfbf\">                    </span>         <span style=\"color: #008700; text-decoration-color: #008700\">healthy lean female subjects.\"</span>,                                        <span style=\"color: #7f7f7f; text-decoration-color: #7f7f7f\">               </span>\n",
       "<span style=\"color: #7fbfbf; text-decoration-color: #7fbfbf\">                    </span>                     <span style=\"color: #008700; text-decoration-color: #008700\">\"reason\"</span>: \"The context directly states <span style=\"color: #008700; text-decoration-color: #008700\">'We performed </span>      <span style=\"color: #7f7f7f; text-decoration-color: #7f7f7f\">               </span>\n",
       "<span style=\"color: #7fbfbf; text-decoration-color: #7fbfbf\">                    </span>         <span style=\"color: #008700; text-decoration-color: #008700\">'</span>resting-state' functional magnetic resonance imaging in <span style=\"color: #008080; text-decoration-color: #008080; font-weight: bold\">17</span> healthy    <span style=\"color: #7f7f7f; text-decoration-color: #7f7f7f\">               </span>\n",
       "<span style=\"color: #7fbfbf; text-decoration-color: #7fbfbf\">                    </span>         lean female subjects to assess intrinsic brain activity by fractional  <span style=\"color: #7f7f7f; text-decoration-color: #7f7f7f\">               </span>\n",
       "<span style=\"color: #7fbfbf; text-decoration-color: #7fbfbf\">                    </span>         amplitude of low-frequency fluctuations <span style=\"font-weight: bold\">(</span>fALFF<span style=\"font-weight: bold\">)</span> before, <span style=\"color: #008080; text-decoration-color: #008080; font-weight: bold\">30</span> and <span style=\"color: #008080; text-decoration-color: #008080; font-weight: bold\">90</span> min  <span style=\"color: #7f7f7f; text-decoration-color: #7f7f7f\">               </span>\n",
       "<span style=\"color: #7fbfbf; text-decoration-color: #7fbfbf\">                    </span>         after application of intranasal insulin.',                             <span style=\"color: #7f7f7f; text-decoration-color: #7f7f7f\">               </span>\n",
       "<span style=\"color: #7fbfbf; text-decoration-color: #7fbfbf\">                    </span>                     <span style=\"color: #008700; text-decoration-color: #008700\">\"verdict\"</span>: <span style=\"color: #008080; text-decoration-color: #008080; font-weight: bold\">1</span>                                               <span style=\"color: #7f7f7f; text-decoration-color: #7f7f7f\">               </span>\n",
       "<span style=\"color: #7fbfbf; text-decoration-color: #7fbfbf\">                    </span>                 <span style=\"font-weight: bold\">}</span>,                                                             <span style=\"color: #7f7f7f; text-decoration-color: #7f7f7f\">               </span>\n",
       "<span style=\"color: #7fbfbf; text-decoration-color: #7fbfbf\">                    </span>                 <span style=\"font-weight: bold\">{</span>                                                              <span style=\"color: #7f7f7f; text-decoration-color: #7f7f7f\">               </span>\n",
       "<span style=\"color: #7fbfbf; text-decoration-color: #7fbfbf\">                    </span>                     <span style=\"color: #008700; text-decoration-color: #008700\">\"statement\"</span>: <span style=\"color: #008700; text-decoration-color: #008700\">\"The study used 'resting-state' functional </span>   <span style=\"color: #7f7f7f; text-decoration-color: #7f7f7f\">               </span>\n",
       "<span style=\"color: #7fbfbf; text-decoration-color: #7fbfbf\">                    </span>         <span style=\"color: #008700; text-decoration-color: #008700\">magnetic resonance imaging to measure fractional amplitude of </span>         <span style=\"color: #7f7f7f; text-decoration-color: #7f7f7f\">               </span>\n",
       "<span style=\"color: #7fbfbf; text-decoration-color: #7fbfbf\">                    </span>         <span style=\"color: #008700; text-decoration-color: #008700\">low-frequency fluctuations </span><span style=\"color: #008700; text-decoration-color: #008700; font-weight: bold\">(</span><span style=\"color: #008700; text-decoration-color: #008700\">fALFF</span><span style=\"color: #008700; text-decoration-color: #008700; font-weight: bold\">)</span><span style=\"color: #008700; text-decoration-color: #008700\">.\"</span>,                                  <span style=\"color: #7f7f7f; text-decoration-color: #7f7f7f\">               </span>\n",
       "<span style=\"color: #7fbfbf; text-decoration-color: #7fbfbf\">                    </span>                     <span style=\"color: #008700; text-decoration-color: #008700\">\"reason\"</span>: \"The context directly mentions <span style=\"color: #008700; text-decoration-color: #008700\">'We performed </span>    <span style=\"color: #7f7f7f; text-decoration-color: #7f7f7f\">               </span>\n",
       "<span style=\"color: #7fbfbf; text-decoration-color: #7fbfbf\">                    </span>         <span style=\"color: #008700; text-decoration-color: #008700\">'</span>resting-state' functional magnetic resonance imaging in <span style=\"color: #008080; text-decoration-color: #008080; font-weight: bold\">17</span> healthy    <span style=\"color: #7f7f7f; text-decoration-color: #7f7f7f\">               </span>\n",
       "<span style=\"color: #7fbfbf; text-decoration-color: #7fbfbf\">                    </span>         lean female subjects to assess intrinsic brain activity by fractional  <span style=\"color: #7f7f7f; text-decoration-color: #7f7f7f\">               </span>\n",
       "<span style=\"color: #7fbfbf; text-decoration-color: #7fbfbf\">                    </span>         amplitude of low-frequency fluctuations <span style=\"font-weight: bold\">(</span>fALFF<span style=\"font-weight: bold\">)</span> before, <span style=\"color: #008080; text-decoration-color: #008080; font-weight: bold\">30</span> and <span style=\"color: #008080; text-decoration-color: #008080; font-weight: bold\">90</span> min  <span style=\"color: #7f7f7f; text-decoration-color: #7f7f7f\">               </span>\n",
       "<span style=\"color: #7fbfbf; text-decoration-color: #7fbfbf\">                    </span>         after application of intranasal insulin.',                             <span style=\"color: #7f7f7f; text-decoration-color: #7f7f7f\">               </span>\n",
       "<span style=\"color: #7fbfbf; text-decoration-color: #7fbfbf\">                    </span>                     <span style=\"color: #008700; text-decoration-color: #008700\">\"verdict\"</span>: <span style=\"color: #008080; text-decoration-color: #008080; font-weight: bold\">1</span>                                               <span style=\"color: #7f7f7f; text-decoration-color: #7f7f7f\">               </span>\n",
       "<span style=\"color: #7fbfbf; text-decoration-color: #7fbfbf\">                    </span>                 <span style=\"font-weight: bold\">}</span>,                                                             <span style=\"color: #7f7f7f; text-decoration-color: #7f7f7f\">               </span>\n",
       "<span style=\"color: #7fbfbf; text-decoration-color: #7fbfbf\">                    </span>                 <span style=\"font-weight: bold\">{</span>                                                              <span style=\"color: #7f7f7f; text-decoration-color: #7f7f7f\">               </span>\n",
       "<span style=\"color: #7fbfbf; text-decoration-color: #7fbfbf\">                    </span>                     <span style=\"color: #008700; text-decoration-color: #008700\">\"statement\"</span>: <span style=\"color: #008700; text-decoration-color: #008700\">\"Fractional amplitude of low-frequency </span>       <span style=\"color: #7f7f7f; text-decoration-color: #7f7f7f\">               </span>\n",
       "<span style=\"color: #7fbfbf; text-decoration-color: #7fbfbf\">                    </span>         <span style=\"color: #008700; text-decoration-color: #008700\">fluctuations </span><span style=\"color: #008700; text-decoration-color: #008700; font-weight: bold\">(</span><span style=\"color: #008700; text-decoration-color: #008700\">fALFF</span><span style=\"color: #008700; text-decoration-color: #008700; font-weight: bold\">)</span><span style=\"color: #008700; text-decoration-color: #008700\"> was measured before, 30, and 90 minutes after </span>    <span style=\"color: #7f7f7f; text-decoration-color: #7f7f7f\">               </span>\n",
       "<span style=\"color: #7fbfbf; text-decoration-color: #7fbfbf\">                    </span>         <span style=\"color: #008700; text-decoration-color: #008700\">insulin application.\"</span>,                                                 <span style=\"color: #7f7f7f; text-decoration-color: #7f7f7f\">               </span>\n",
       "<span style=\"color: #7fbfbf; text-decoration-color: #7fbfbf\">                    </span>                     <span style=\"color: #008700; text-decoration-color: #008700\">\"reason\"</span>: \"The context explicitly states <span style=\"color: #008700; text-decoration-color: #008700\">'We performed </span>    <span style=\"color: #7f7f7f; text-decoration-color: #7f7f7f\">               </span>\n",
       "<span style=\"color: #7fbfbf; text-decoration-color: #7fbfbf\">                    </span>         <span style=\"color: #008700; text-decoration-color: #008700\">'</span>resting-state' functional magnetic resonance imaging in <span style=\"color: #008080; text-decoration-color: #008080; font-weight: bold\">17</span> healthy    <span style=\"color: #7f7f7f; text-decoration-color: #7f7f7f\">               </span>\n",
       "<span style=\"color: #7fbfbf; text-decoration-color: #7fbfbf\">                    </span>         lean female subjects to assess intrinsic brain activity by fractional  <span style=\"color: #7f7f7f; text-decoration-color: #7f7f7f\">               </span>\n",
       "<span style=\"color: #7fbfbf; text-decoration-color: #7fbfbf\">                    </span>         amplitude of low-frequency fluctuations <span style=\"font-weight: bold\">(</span>fALFF<span style=\"font-weight: bold\">)</span> before, <span style=\"color: #008080; text-decoration-color: #008080; font-weight: bold\">30</span> and <span style=\"color: #008080; text-decoration-color: #008080; font-weight: bold\">90</span> min  <span style=\"color: #7f7f7f; text-decoration-color: #7f7f7f\">               </span>\n",
       "<span style=\"color: #7fbfbf; text-decoration-color: #7fbfbf\">                    </span>         after application of intranasal insulin.',                             <span style=\"color: #7f7f7f; text-decoration-color: #7f7f7f\">               </span>\n",
       "<span style=\"color: #7fbfbf; text-decoration-color: #7fbfbf\">                    </span>                     <span style=\"color: #008700; text-decoration-color: #008700\">\"verdict\"</span>: <span style=\"color: #008080; text-decoration-color: #008080; font-weight: bold\">1</span>                                               <span style=\"color: #7f7f7f; text-decoration-color: #7f7f7f\">               </span>\n",
       "<span style=\"color: #7fbfbf; text-decoration-color: #7fbfbf\">                    </span>                 <span style=\"font-weight: bold\">}</span>,                                                             <span style=\"color: #7f7f7f; text-decoration-color: #7f7f7f\">               </span>\n",
       "<span style=\"color: #7fbfbf; text-decoration-color: #7fbfbf\">                    </span>                 <span style=\"font-weight: bold\">{</span>                                                              <span style=\"color: #7f7f7f; text-decoration-color: #7f7f7f\">               </span>\n",
       "<span style=\"color: #7fbfbf; text-decoration-color: #7fbfbf\">                    </span>                     <span style=\"color: #008700; text-decoration-color: #008700\">\"statement\"</span>: <span style=\"color: #008700; text-decoration-color: #008700\">\"Results showed that insulin modulates </span>       <span style=\"color: #7f7f7f; text-decoration-color: #7f7f7f\">               </span>\n",
       "<span style=\"color: #7fbfbf; text-decoration-color: #7fbfbf\">                    </span>         <span style=\"color: #008700; text-decoration-color: #008700\">intrinsic brain activity in the hypothalamus and orbitofrontal </span>        <span style=\"color: #7f7f7f; text-decoration-color: #7f7f7f\">               </span>\n",
       "<span style=\"color: #7fbfbf; text-decoration-color: #7fbfbf\">                    </span>         <span style=\"color: #008700; text-decoration-color: #008700\">cortex.\"</span>,                                                              <span style=\"color: #7f7f7f; text-decoration-color: #7f7f7f\">               </span>\n",
       "<span style=\"color: #7fbfbf; text-decoration-color: #7fbfbf\">                    </span>                     <span style=\"color: #008700; text-decoration-color: #008700\">\"reason\"</span>: \"The context directly states <span style=\"color: #008700; text-decoration-color: #008700\">'Here, we showed </span>   <span style=\"color: #7f7f7f; text-decoration-color: #7f7f7f\">               </span>\n",
       "<span style=\"color: #7fbfbf; text-decoration-color: #7fbfbf\">                    </span>         <span style=\"color: #008700; text-decoration-color: #008700\">that insulin modulates intrinsic brain activity in the hypothalamus </span>   <span style=\"color: #7f7f7f; text-decoration-color: #7f7f7f\">               </span>\n",
       "<span style=\"color: #7fbfbf; text-decoration-color: #7fbfbf\">                    </span>         <span style=\"color: #008700; text-decoration-color: #008700\">and orbitofrontal cortex.'</span>,                                            <span style=\"color: #7f7f7f; text-decoration-color: #7f7f7f\">               </span>\n",
       "<span style=\"color: #7fbfbf; text-decoration-color: #7fbfbf\">                    </span>                     <span style=\"color: #008700; text-decoration-color: #008700\">\"verdict\"</span>: <span style=\"color: #008080; text-decoration-color: #008080; font-weight: bold\">1</span>                                               <span style=\"color: #7f7f7f; text-decoration-color: #7f7f7f\">               </span>\n",
       "<span style=\"color: #7fbfbf; text-decoration-color: #7fbfbf\">                    </span>                 <span style=\"font-weight: bold\">}</span>,                                                             <span style=\"color: #7f7f7f; text-decoration-color: #7f7f7f\">               </span>\n",
       "<span style=\"color: #7fbfbf; text-decoration-color: #7fbfbf\">                    </span>                 <span style=\"font-weight: bold\">{</span>                                                              <span style=\"color: #7f7f7f; text-decoration-color: #7f7f7f\">               </span>\n",
       "<span style=\"color: #7fbfbf; text-decoration-color: #7fbfbf\">                    </span>                     <span style=\"color: #008700; text-decoration-color: #008700\">\"statement\"</span>: <span style=\"color: #008700; text-decoration-color: #008700\">\"The prefrontal and anterior cingulate cortex</span> <span style=\"color: #7f7f7f; text-decoration-color: #7f7f7f\">               </span>\n",
       "<span style=\"color: #7fbfbf; text-decoration-color: #7fbfbf\">                    </span>         <span style=\"color: #008700; text-decoration-color: #008700\">response to insulin was associated with body mass index.\"</span>,             <span style=\"color: #7f7f7f; text-decoration-color: #7f7f7f\">               </span>\n",
       "<span style=\"color: #7fbfbf; text-decoration-color: #7fbfbf\">                    </span>                     <span style=\"color: #008700; text-decoration-color: #008700\">\"reason\"</span>: \"The context explicitly states <span style=\"color: #008700; text-decoration-color: #008700\">'The prefrontal </span>  <span style=\"color: #7f7f7f; text-decoration-color: #7f7f7f\">               </span>\n",
       "<span style=\"color: #7fbfbf; text-decoration-color: #7fbfbf\">                    </span>         <span style=\"color: #008700; text-decoration-color: #008700\">and anterior cingulate cortex response to insulin was associated with </span> <span style=\"color: #7f7f7f; text-decoration-color: #7f7f7f\">               </span>\n",
       "<span style=\"color: #7fbfbf; text-decoration-color: #7fbfbf\">                    </span>         <span style=\"color: #008700; text-decoration-color: #008700\">body mass index.'</span>,                                                     <span style=\"color: #7f7f7f; text-decoration-color: #7f7f7f\">               </span>\n",
       "<span style=\"color: #7fbfbf; text-decoration-color: #7fbfbf\">                    </span>                     <span style=\"color: #008700; text-decoration-color: #008700\">\"verdict\"</span>: <span style=\"color: #008080; text-decoration-color: #008080; font-weight: bold\">1</span>                                               <span style=\"color: #7f7f7f; text-decoration-color: #7f7f7f\">               </span>\n",
       "<span style=\"color: #7fbfbf; text-decoration-color: #7fbfbf\">                    </span>                 <span style=\"font-weight: bold\">}</span>,                                                             <span style=\"color: #7f7f7f; text-decoration-color: #7f7f7f\">               </span>\n",
       "<span style=\"color: #7fbfbf; text-decoration-color: #7fbfbf\">                    </span>                 <span style=\"font-weight: bold\">{</span>                                                              <span style=\"color: #7f7f7f; text-decoration-color: #7f7f7f\">               </span>\n",
       "<span style=\"color: #7fbfbf; text-decoration-color: #7fbfbf\">                    </span>                     <span style=\"color: #008700; text-decoration-color: #008700\">\"statement\"</span>: <span style=\"color: #008700; text-decoration-color: #008700\">\"This suggests that intranasal insulin may </span>   <span style=\"color: #7f7f7f; text-decoration-color: #7f7f7f\">               </span>\n",
       "<span style=\"color: #7fbfbf; text-decoration-color: #7fbfbf\">                    </span>         <span style=\"color: #008700; text-decoration-color: #008700\">modulate intrinsic reward and prefrontal circuitry of the human brain </span> <span style=\"color: #7f7f7f; text-decoration-color: #7f7f7f\">               </span>\n",
       "<span style=\"color: #7fbfbf; text-decoration-color: #7fbfbf\">                    </span>         <span style=\"color: #008700; text-decoration-color: #008700\">in lean women.\"</span>,                                                       <span style=\"color: #7f7f7f; text-decoration-color: #7f7f7f\">               </span>\n",
       "<span style=\"color: #7fbfbf; text-decoration-color: #7fbfbf\">                    </span>                     <span style=\"color: #008700; text-decoration-color: #008700\">\"reason\"</span>: \"The context directly states <span style=\"color: #008700; text-decoration-color: #008700\">'This suggests that</span> <span style=\"color: #7f7f7f; text-decoration-color: #7f7f7f\">               </span>\n",
       "<span style=\"color: #7fbfbf; text-decoration-color: #7fbfbf\">                    </span>         <span style=\"color: #008700; text-decoration-color: #008700\">intranasal insulin may modulate intrinsic reward and prefrontal </span>       <span style=\"color: #7f7f7f; text-decoration-color: #7f7f7f\">               </span>\n",
       "<span style=\"color: #7fbfbf; text-decoration-color: #7fbfbf\">                    </span>         <span style=\"color: #008700; text-decoration-color: #008700\">circuitry of the human brain in lean women.'</span>,                          <span style=\"color: #7f7f7f; text-decoration-color: #7f7f7f\">               </span>\n",
       "<span style=\"color: #7fbfbf; text-decoration-color: #7fbfbf\">                    </span>                     <span style=\"color: #008700; text-decoration-color: #008700\">\"verdict\"</span>: <span style=\"color: #008080; text-decoration-color: #008080; font-weight: bold\">1</span>                                               <span style=\"color: #7f7f7f; text-decoration-color: #7f7f7f\">               </span>\n",
       "<span style=\"color: #7fbfbf; text-decoration-color: #7fbfbf\">                    </span>                 <span style=\"font-weight: bold\">}</span>                                                              <span style=\"color: #7f7f7f; text-decoration-color: #7f7f7f\">               </span>\n",
       "<span style=\"color: #7fbfbf; text-decoration-color: #7fbfbf\">                    </span>             <span style=\"font-weight: bold\">]</span>                                                                  <span style=\"color: #7f7f7f; text-decoration-color: #7f7f7f\">               </span>\n",
       "<span style=\"color: #7fbfbf; text-decoration-color: #7fbfbf\">                    </span>         <span style=\"font-weight: bold\">}</span>                                                                      <span style=\"color: #7f7f7f; text-decoration-color: #7f7f7f\">               </span>\n",
       "<span style=\"color: #7fbfbf; text-decoration-color: #7fbfbf\">                    </span>         ```                                                                    <span style=\"color: #7f7f7f; text-decoration-color: #7f7f7f\">               </span>\n",
       "<span style=\"color: #7fbfbf; text-decoration-color: #7fbfbf\">                    </span>         For troubleshooting, visit:                                            <span style=\"color: #7f7f7f; text-decoration-color: #7f7f7f\">               </span>\n",
       "<span style=\"color: #7fbfbf; text-decoration-color: #7fbfbf\">                    </span>         <span style=\"color: #0069ff; text-decoration-color: #0069ff; text-decoration: underline\">https://python.langchain.com/docs/troubleshooting/errors/OUT</span><span style=\"color: #d7af00; text-decoration-color: #d7af00; font-weight: bold; text-decoration: underline\">PUT</span><span style=\"color: #0069ff; text-decoration-color: #0069ff; text-decoration: underline\">_PARSIN</span> <span style=\"color: #7f7f7f; text-decoration-color: #7f7f7f\">               </span>\n",
       "<span style=\"color: #7fbfbf; text-decoration-color: #7fbfbf\">                    </span>         <span style=\"color: #0069ff; text-decoration-color: #0069ff; text-decoration: underline\">G_FAILURE</span> <span style=\"font-weight: bold\">)</span>                                                            <span style=\"color: #7f7f7f; text-decoration-color: #7f7f7f\">               </span>\n",
       "</pre>\n"
      ],
      "text/plain": [
       "\u001b[2;36m[04/05/25 20:31:30]\u001b[0m\u001b[2;36m \u001b[0m\u001b[1;38;2;215;0;0mERROR   \u001b[0m Exception raised in Job\u001b[1m[\u001b[0m\u001b[1;36m2761\u001b[0m\u001b[1m]\u001b[0m: \u001b[1;38;2;225;0;225mOutputParserException\u001b[0m\u001b[1m(\u001b[0mInvalid json      \u001b]8;id=349380;file:///opt/conda/lib/python3.11/site-packages/ragas/executor.py\u001b\\\u001b[2mexecutor.py\u001b[0m\u001b]8;;\u001b\\\u001b[2m:\u001b[0m\u001b]8;id=119254;file:///opt/conda/lib/python3.11/site-packages/ragas/executor.py#104\u001b\\\u001b[2m104\u001b[0m\u001b]8;;\u001b\\\n",
       "\u001b[2;36m                    \u001b[0m         output: ```json                                                        \u001b[2m               \u001b[0m\n",
       "\u001b[2;36m                    \u001b[0m         \u001b[1m{\u001b[0m                                                                      \u001b[2m               \u001b[0m\n",
       "\u001b[2;36m                    \u001b[0m             \u001b[38;2;0;135;0m\"statements\"\u001b[0m: \u001b[1m[\u001b[0m                                                    \u001b[2m               \u001b[0m\n",
       "\u001b[2;36m                    \u001b[0m                 \u001b[1m{\u001b[0m                                                              \u001b[2m               \u001b[0m\n",
       "\u001b[2;36m                    \u001b[0m                     \u001b[38;2;0;135;0m\"statement\"\u001b[0m: \u001b[38;2;0;135;0m\"Intranasal insulin was administered to 17 \u001b[0m   \u001b[2m               \u001b[0m\n",
       "\u001b[2;36m                    \u001b[0m         \u001b[38;2;0;135;0mhealthy lean female subjects.\"\u001b[0m,                                        \u001b[2m               \u001b[0m\n",
       "\u001b[2;36m                    \u001b[0m                     \u001b[38;2;0;135;0m\"reason\"\u001b[0m: \"The context directly states \u001b[38;2;0;135;0m'We performed \u001b[0m      \u001b[2m               \u001b[0m\n",
       "\u001b[2;36m                    \u001b[0m         \u001b[38;2;0;135;0m'\u001b[0mresting-state' functional magnetic resonance imaging in \u001b[1;36m17\u001b[0m healthy    \u001b[2m               \u001b[0m\n",
       "\u001b[2;36m                    \u001b[0m         lean female subjects to assess intrinsic brain activity by fractional  \u001b[2m               \u001b[0m\n",
       "\u001b[2;36m                    \u001b[0m         amplitude of low-frequency fluctuations \u001b[1m(\u001b[0mfALFF\u001b[1m)\u001b[0m before, \u001b[1;36m30\u001b[0m and \u001b[1;36m90\u001b[0m min  \u001b[2m               \u001b[0m\n",
       "\u001b[2;36m                    \u001b[0m         after application of intranasal insulin.',                             \u001b[2m               \u001b[0m\n",
       "\u001b[2;36m                    \u001b[0m                     \u001b[38;2;0;135;0m\"verdict\"\u001b[0m: \u001b[1;36m1\u001b[0m                                               \u001b[2m               \u001b[0m\n",
       "\u001b[2;36m                    \u001b[0m                 \u001b[1m}\u001b[0m,                                                             \u001b[2m               \u001b[0m\n",
       "\u001b[2;36m                    \u001b[0m                 \u001b[1m{\u001b[0m                                                              \u001b[2m               \u001b[0m\n",
       "\u001b[2;36m                    \u001b[0m                     \u001b[38;2;0;135;0m\"statement\"\u001b[0m: \u001b[38;2;0;135;0m\"The study used 'resting-state' functional \u001b[0m   \u001b[2m               \u001b[0m\n",
       "\u001b[2;36m                    \u001b[0m         \u001b[38;2;0;135;0mmagnetic resonance imaging to measure fractional amplitude of \u001b[0m         \u001b[2m               \u001b[0m\n",
       "\u001b[2;36m                    \u001b[0m         \u001b[38;2;0;135;0mlow-frequency fluctuations \u001b[0m\u001b[1;38;2;0;135;0m(\u001b[0m\u001b[38;2;0;135;0mfALFF\u001b[0m\u001b[1;38;2;0;135;0m)\u001b[0m\u001b[38;2;0;135;0m.\"\u001b[0m,                                  \u001b[2m               \u001b[0m\n",
       "\u001b[2;36m                    \u001b[0m                     \u001b[38;2;0;135;0m\"reason\"\u001b[0m: \"The context directly mentions \u001b[38;2;0;135;0m'We performed \u001b[0m    \u001b[2m               \u001b[0m\n",
       "\u001b[2;36m                    \u001b[0m         \u001b[38;2;0;135;0m'\u001b[0mresting-state' functional magnetic resonance imaging in \u001b[1;36m17\u001b[0m healthy    \u001b[2m               \u001b[0m\n",
       "\u001b[2;36m                    \u001b[0m         lean female subjects to assess intrinsic brain activity by fractional  \u001b[2m               \u001b[0m\n",
       "\u001b[2;36m                    \u001b[0m         amplitude of low-frequency fluctuations \u001b[1m(\u001b[0mfALFF\u001b[1m)\u001b[0m before, \u001b[1;36m30\u001b[0m and \u001b[1;36m90\u001b[0m min  \u001b[2m               \u001b[0m\n",
       "\u001b[2;36m                    \u001b[0m         after application of intranasal insulin.',                             \u001b[2m               \u001b[0m\n",
       "\u001b[2;36m                    \u001b[0m                     \u001b[38;2;0;135;0m\"verdict\"\u001b[0m: \u001b[1;36m1\u001b[0m                                               \u001b[2m               \u001b[0m\n",
       "\u001b[2;36m                    \u001b[0m                 \u001b[1m}\u001b[0m,                                                             \u001b[2m               \u001b[0m\n",
       "\u001b[2;36m                    \u001b[0m                 \u001b[1m{\u001b[0m                                                              \u001b[2m               \u001b[0m\n",
       "\u001b[2;36m                    \u001b[0m                     \u001b[38;2;0;135;0m\"statement\"\u001b[0m: \u001b[38;2;0;135;0m\"Fractional amplitude of low-frequency \u001b[0m       \u001b[2m               \u001b[0m\n",
       "\u001b[2;36m                    \u001b[0m         \u001b[38;2;0;135;0mfluctuations \u001b[0m\u001b[1;38;2;0;135;0m(\u001b[0m\u001b[38;2;0;135;0mfALFF\u001b[0m\u001b[1;38;2;0;135;0m)\u001b[0m\u001b[38;2;0;135;0m was measured before, 30, and 90 minutes after \u001b[0m    \u001b[2m               \u001b[0m\n",
       "\u001b[2;36m                    \u001b[0m         \u001b[38;2;0;135;0minsulin application.\"\u001b[0m,                                                 \u001b[2m               \u001b[0m\n",
       "\u001b[2;36m                    \u001b[0m                     \u001b[38;2;0;135;0m\"reason\"\u001b[0m: \"The context explicitly states \u001b[38;2;0;135;0m'We performed \u001b[0m    \u001b[2m               \u001b[0m\n",
       "\u001b[2;36m                    \u001b[0m         \u001b[38;2;0;135;0m'\u001b[0mresting-state' functional magnetic resonance imaging in \u001b[1;36m17\u001b[0m healthy    \u001b[2m               \u001b[0m\n",
       "\u001b[2;36m                    \u001b[0m         lean female subjects to assess intrinsic brain activity by fractional  \u001b[2m               \u001b[0m\n",
       "\u001b[2;36m                    \u001b[0m         amplitude of low-frequency fluctuations \u001b[1m(\u001b[0mfALFF\u001b[1m)\u001b[0m before, \u001b[1;36m30\u001b[0m and \u001b[1;36m90\u001b[0m min  \u001b[2m               \u001b[0m\n",
       "\u001b[2;36m                    \u001b[0m         after application of intranasal insulin.',                             \u001b[2m               \u001b[0m\n",
       "\u001b[2;36m                    \u001b[0m                     \u001b[38;2;0;135;0m\"verdict\"\u001b[0m: \u001b[1;36m1\u001b[0m                                               \u001b[2m               \u001b[0m\n",
       "\u001b[2;36m                    \u001b[0m                 \u001b[1m}\u001b[0m,                                                             \u001b[2m               \u001b[0m\n",
       "\u001b[2;36m                    \u001b[0m                 \u001b[1m{\u001b[0m                                                              \u001b[2m               \u001b[0m\n",
       "\u001b[2;36m                    \u001b[0m                     \u001b[38;2;0;135;0m\"statement\"\u001b[0m: \u001b[38;2;0;135;0m\"Results showed that insulin modulates \u001b[0m       \u001b[2m               \u001b[0m\n",
       "\u001b[2;36m                    \u001b[0m         \u001b[38;2;0;135;0mintrinsic brain activity in the hypothalamus and orbitofrontal \u001b[0m        \u001b[2m               \u001b[0m\n",
       "\u001b[2;36m                    \u001b[0m         \u001b[38;2;0;135;0mcortex.\"\u001b[0m,                                                              \u001b[2m               \u001b[0m\n",
       "\u001b[2;36m                    \u001b[0m                     \u001b[38;2;0;135;0m\"reason\"\u001b[0m: \"The context directly states \u001b[38;2;0;135;0m'Here, we showed \u001b[0m   \u001b[2m               \u001b[0m\n",
       "\u001b[2;36m                    \u001b[0m         \u001b[38;2;0;135;0mthat insulin modulates intrinsic brain activity in the hypothalamus \u001b[0m   \u001b[2m               \u001b[0m\n",
       "\u001b[2;36m                    \u001b[0m         \u001b[38;2;0;135;0mand orbitofrontal cortex.'\u001b[0m,                                            \u001b[2m               \u001b[0m\n",
       "\u001b[2;36m                    \u001b[0m                     \u001b[38;2;0;135;0m\"verdict\"\u001b[0m: \u001b[1;36m1\u001b[0m                                               \u001b[2m               \u001b[0m\n",
       "\u001b[2;36m                    \u001b[0m                 \u001b[1m}\u001b[0m,                                                             \u001b[2m               \u001b[0m\n",
       "\u001b[2;36m                    \u001b[0m                 \u001b[1m{\u001b[0m                                                              \u001b[2m               \u001b[0m\n",
       "\u001b[2;36m                    \u001b[0m                     \u001b[38;2;0;135;0m\"statement\"\u001b[0m: \u001b[38;2;0;135;0m\"The prefrontal and anterior cingulate cortex\u001b[0m \u001b[2m               \u001b[0m\n",
       "\u001b[2;36m                    \u001b[0m         \u001b[38;2;0;135;0mresponse to insulin was associated with body mass index.\"\u001b[0m,             \u001b[2m               \u001b[0m\n",
       "\u001b[2;36m                    \u001b[0m                     \u001b[38;2;0;135;0m\"reason\"\u001b[0m: \"The context explicitly states \u001b[38;2;0;135;0m'The prefrontal \u001b[0m  \u001b[2m               \u001b[0m\n",
       "\u001b[2;36m                    \u001b[0m         \u001b[38;2;0;135;0mand anterior cingulate cortex response to insulin was associated with \u001b[0m \u001b[2m               \u001b[0m\n",
       "\u001b[2;36m                    \u001b[0m         \u001b[38;2;0;135;0mbody mass index.'\u001b[0m,                                                     \u001b[2m               \u001b[0m\n",
       "\u001b[2;36m                    \u001b[0m                     \u001b[38;2;0;135;0m\"verdict\"\u001b[0m: \u001b[1;36m1\u001b[0m                                               \u001b[2m               \u001b[0m\n",
       "\u001b[2;36m                    \u001b[0m                 \u001b[1m}\u001b[0m,                                                             \u001b[2m               \u001b[0m\n",
       "\u001b[2;36m                    \u001b[0m                 \u001b[1m{\u001b[0m                                                              \u001b[2m               \u001b[0m\n",
       "\u001b[2;36m                    \u001b[0m                     \u001b[38;2;0;135;0m\"statement\"\u001b[0m: \u001b[38;2;0;135;0m\"This suggests that intranasal insulin may \u001b[0m   \u001b[2m               \u001b[0m\n",
       "\u001b[2;36m                    \u001b[0m         \u001b[38;2;0;135;0mmodulate intrinsic reward and prefrontal circuitry of the human brain \u001b[0m \u001b[2m               \u001b[0m\n",
       "\u001b[2;36m                    \u001b[0m         \u001b[38;2;0;135;0min lean women.\"\u001b[0m,                                                       \u001b[2m               \u001b[0m\n",
       "\u001b[2;36m                    \u001b[0m                     \u001b[38;2;0;135;0m\"reason\"\u001b[0m: \"The context directly states \u001b[38;2;0;135;0m'This suggests that\u001b[0m \u001b[2m               \u001b[0m\n",
       "\u001b[2;36m                    \u001b[0m         \u001b[38;2;0;135;0mintranasal insulin may modulate intrinsic reward and prefrontal \u001b[0m       \u001b[2m               \u001b[0m\n",
       "\u001b[2;36m                    \u001b[0m         \u001b[38;2;0;135;0mcircuitry of the human brain in lean women.'\u001b[0m,                          \u001b[2m               \u001b[0m\n",
       "\u001b[2;36m                    \u001b[0m                     \u001b[38;2;0;135;0m\"verdict\"\u001b[0m: \u001b[1;36m1\u001b[0m                                               \u001b[2m               \u001b[0m\n",
       "\u001b[2;36m                    \u001b[0m                 \u001b[1m}\u001b[0m                                                              \u001b[2m               \u001b[0m\n",
       "\u001b[2;36m                    \u001b[0m             \u001b[1m]\u001b[0m                                                                  \u001b[2m               \u001b[0m\n",
       "\u001b[2;36m                    \u001b[0m         \u001b[1m}\u001b[0m                                                                      \u001b[2m               \u001b[0m\n",
       "\u001b[2;36m                    \u001b[0m         ```                                                                    \u001b[2m               \u001b[0m\n",
       "\u001b[2;36m                    \u001b[0m         For troubleshooting, visit:                                            \u001b[2m               \u001b[0m\n",
       "\u001b[2;36m                    \u001b[0m         \u001b[4;38;2;0;105;255mhttps://python.langchain.com/docs/troubleshooting/errors/OUT\u001b[0m\u001b[1;4;38;2;215;175;0mPUT\u001b[0m\u001b[4;38;2;0;105;255m_PARSIN\u001b[0m \u001b[2m               \u001b[0m\n",
       "\u001b[2;36m                    \u001b[0m         \u001b[4;38;2;0;105;255mG_FAILURE\u001b[0m \u001b[1m)\u001b[0m                                                            \u001b[2m               \u001b[0m\n"
      ]
     },
     "metadata": {},
     "output_type": "display_data"
    },
    {
     "data": {
      "text/html": [
       "<pre style=\"white-space:pre;overflow-x:auto;line-height:normal;font-family:Menlo,'DejaVu Sans Mono',consolas,'Courier New',monospace\"><span style=\"color: #7fbfbf; text-decoration-color: #7fbfbf\">[04/05/25 20:31:53] </span><span style=\"color: #d70000; text-decoration-color: #d70000; font-weight: bold\">ERROR   </span> Exception raised in Job<span style=\"font-weight: bold\">[</span><span style=\"color: #008080; text-decoration-color: #008080; font-weight: bold\">2827</span><span style=\"font-weight: bold\">]</span>: <span style=\"color: #e100e1; text-decoration-color: #e100e1; font-weight: bold\">OutputParserException</span><span style=\"font-weight: bold\">(</span>Failed to parse   <a href=\"file:///opt/conda/lib/python3.11/site-packages/ragas/executor.py\" target=\"_blank\"><span style=\"color: #7f7f7f; text-decoration-color: #7f7f7f\">executor.py</span></a><span style=\"color: #7f7f7f; text-decoration-color: #7f7f7f\">:</span><a href=\"file:///opt/conda/lib/python3.11/site-packages/ragas/executor.py#104\" target=\"_blank\"><span style=\"color: #7f7f7f; text-decoration-color: #7f7f7f\">104</span></a>\n",
       "<span style=\"color: #7fbfbf; text-decoration-color: #7fbfbf\">                    </span>         StringIO from completion <span style=\"font-weight: bold\">{</span><span style=\"color: #008700; text-decoration-color: #008700\">\"statements\"</span>: <span style=\"font-weight: bold\">[{</span><span style=\"color: #008700; text-decoration-color: #008700\">\"statement\"</span>: <span style=\"color: #008700; text-decoration-color: #008700\">\"Plasma </span>        <span style=\"color: #7f7f7f; text-decoration-color: #7f7f7f\">               </span>\n",
       "<span style=\"color: #7fbfbf; text-decoration-color: #7fbfbf\">                    </span>         <span style=\"color: #008700; text-decoration-color: #008700\">\\u03b2-amyloid </span><span style=\"color: #008700; text-decoration-color: #008700; font-weight: bold\">(</span><span style=\"color: #008700; text-decoration-color: #008700\">A\\u03b2</span><span style=\"color: #008700; text-decoration-color: #008700; font-weight: bold\">)</span><span style=\"color: #008700; text-decoration-color: #008700\"> levels were associated with mortality risks </span>  <span style=\"color: #7f7f7f; text-decoration-color: #7f7f7f\">               </span>\n",
       "<span style=\"color: #7fbfbf; text-decoration-color: #7fbfbf\">                    </span>         <span style=\"color: #008700; text-decoration-color: #008700\">in a subsample of the French Three-City prospective cohort study.\"</span>,    <span style=\"color: #7f7f7f; text-decoration-color: #7f7f7f\">               </span>\n",
       "<span style=\"color: #7fbfbf; text-decoration-color: #7fbfbf\">                    </span>         <span style=\"color: #008700; text-decoration-color: #008700\">\"reason\"</span>: <span style=\"color: #008700; text-decoration-color: #008700\">\"The context explicitly states that 'The association between</span> <span style=\"color: #7f7f7f; text-decoration-color: #7f7f7f\">               </span>\n",
       "<span style=\"color: #7fbfbf; text-decoration-color: #7fbfbf\">                    </span>         <span style=\"color: #008700; text-decoration-color: #008700\">high plasma A\\u03b21-40 concentrations and risk of mortality </span><span style=\"color: #008700; text-decoration-color: #008700; font-weight: bold\">(</span><span style=\"color: #008700; text-decoration-color: #008700\">hazards </span> <span style=\"color: #7f7f7f; text-decoration-color: #7f7f7f\">               </span>\n",
       "<span style=\"color: #7fbfbf; text-decoration-color: #7fbfbf\">                    </span>         <span style=\"color: #008700; text-decoration-color: #008700\">ratio, 1.15; 95% confidence interval, 1.01-1.31, P\\</span><span style=\"color: #008700; text-decoration-color: #008700\">u00a0</span><span style=\"color: #008700; text-decoration-color: #008700\">=\\u00a0.03</span><span style=\"color: #008700; text-decoration-color: #008700; font-weight: bold\">)</span><span style=\"color: #008700; text-decoration-color: #008700\"> </span>   <span style=\"color: #7f7f7f; text-decoration-color: #7f7f7f\">               </span>\n",
       "<span style=\"color: #7fbfbf; text-decoration-color: #7fbfbf\">                    </span>         <span style=\"color: #008700; text-decoration-color: #008700\">was unveiled independently of age, educational level, vascular risk </span>   <span style=\"color: #7f7f7f; text-decoration-color: #7f7f7f\">               </span>\n",
       "<span style=\"color: #7fbfbf; text-decoration-color: #7fbfbf\">                    </span>         <span style=\"color: #008700; text-decoration-color: #008700\">factors, diet, physical activity, cognitive impairment, or frailty </span>    <span style=\"color: #7f7f7f; text-decoration-color: #7f7f7f\">               </span>\n",
       "<span style=\"color: #7fbfbf; text-decoration-color: #7fbfbf\">                    </span>         <span style=\"color: #008700; text-decoration-color: #008700\">status. It was only modified when we included cystatin C levels.',\\n  </span> <span style=\"color: #7f7f7f; text-decoration-color: #7f7f7f\">               </span>\n",
       "<span style=\"color: #7fbfbf; text-decoration-color: #7fbfbf\">                    </span>         <span style=\"color: #008700; text-decoration-color: #008700\">\"</span><span style=\"font-weight: bold\">}]}</span>. Got: <span style=\"color: #008080; text-decoration-color: #008080; font-weight: bold\">1</span> validation error for StringIO                             <span style=\"color: #7f7f7f; text-decoration-color: #7f7f7f\">               </span>\n",
       "<span style=\"color: #7fbfbf; text-decoration-color: #7fbfbf\">                    </span>         text                                                                   <span style=\"color: #7f7f7f; text-decoration-color: #7f7f7f\">               </span>\n",
       "<span style=\"color: #7fbfbf; text-decoration-color: #7fbfbf\">                    </span>           Field required <span style=\"font-weight: bold\">[</span><span style=\"color: #d7af00; text-decoration-color: #d7af00\">type</span>=<span style=\"color: #e100e1; text-decoration-color: #e100e1\">missing</span>, <span style=\"color: #d7af00; text-decoration-color: #d7af00\">input_value</span>=<span style=\"font-weight: bold\">{</span><span style=\"color: #008700; text-decoration-color: #008700\">'statements'</span>:             <span style=\"color: #7f7f7f; text-decoration-color: #7f7f7f\">               </span>\n",
       "<span style=\"color: #7fbfbf; text-decoration-color: #7fbfbf\">                    </span>         <span style=\"font-weight: bold\">[{</span><span style=\"color: #008700; text-decoration-color: #008700\">'stateme...els.'</span>,\\n            \"<span style=\"font-weight: bold\">}]}</span>, <span style=\"color: #d7af00; text-decoration-color: #d7af00\">input_type</span>=<span style=\"color: #e100e1; text-decoration-color: #e100e1\">dict</span><span style=\"font-weight: bold\">]</span>                <span style=\"color: #7f7f7f; text-decoration-color: #7f7f7f\">               </span>\n",
       "<span style=\"color: #7fbfbf; text-decoration-color: #7fbfbf\">                    </span>             For further information visit                                      <span style=\"color: #7f7f7f; text-decoration-color: #7f7f7f\">               </span>\n",
       "<span style=\"color: #7fbfbf; text-decoration-color: #7fbfbf\">                    </span>         <span style=\"color: #0069ff; text-decoration-color: #0069ff; text-decoration: underline\">https://errors.pydantic.dev/2.11/v/missing</span>                             <span style=\"color: #7f7f7f; text-decoration-color: #7f7f7f\">               </span>\n",
       "<span style=\"color: #7fbfbf; text-decoration-color: #7fbfbf\">                    </span>         For troubleshooting, visit:                                            <span style=\"color: #7f7f7f; text-decoration-color: #7f7f7f\">               </span>\n",
       "<span style=\"color: #7fbfbf; text-decoration-color: #7fbfbf\">                    </span>         <span style=\"color: #0069ff; text-decoration-color: #0069ff; text-decoration: underline\">https://python.langchain.com/docs/troubleshooting/errors/OUT</span><span style=\"color: #d7af00; text-decoration-color: #d7af00; font-weight: bold; text-decoration: underline\">PUT</span><span style=\"color: #0069ff; text-decoration-color: #0069ff; text-decoration: underline\">_PARSIN</span> <span style=\"color: #7f7f7f; text-decoration-color: #7f7f7f\">               </span>\n",
       "<span style=\"color: #7fbfbf; text-decoration-color: #7fbfbf\">                    </span>         <span style=\"color: #0069ff; text-decoration-color: #0069ff; text-decoration: underline\">G_FAILURE</span> <span style=\"font-weight: bold\">)</span>                                                            <span style=\"color: #7f7f7f; text-decoration-color: #7f7f7f\">               </span>\n",
       "</pre>\n"
      ],
      "text/plain": [
       "\u001b[2;36m[04/05/25 20:31:53]\u001b[0m\u001b[2;36m \u001b[0m\u001b[1;38;2;215;0;0mERROR   \u001b[0m Exception raised in Job\u001b[1m[\u001b[0m\u001b[1;36m2827\u001b[0m\u001b[1m]\u001b[0m: \u001b[1;38;2;225;0;225mOutputParserException\u001b[0m\u001b[1m(\u001b[0mFailed to parse   \u001b]8;id=87907;file:///opt/conda/lib/python3.11/site-packages/ragas/executor.py\u001b\\\u001b[2mexecutor.py\u001b[0m\u001b]8;;\u001b\\\u001b[2m:\u001b[0m\u001b]8;id=492324;file:///opt/conda/lib/python3.11/site-packages/ragas/executor.py#104\u001b\\\u001b[2m104\u001b[0m\u001b]8;;\u001b\\\n",
       "\u001b[2;36m                    \u001b[0m         StringIO from completion \u001b[1m{\u001b[0m\u001b[38;2;0;135;0m\"statements\"\u001b[0m: \u001b[1m[\u001b[0m\u001b[1m{\u001b[0m\u001b[38;2;0;135;0m\"statement\"\u001b[0m: \u001b[38;2;0;135;0m\"Plasma \u001b[0m        \u001b[2m               \u001b[0m\n",
       "\u001b[2;36m                    \u001b[0m         \u001b[38;2;0;135;0m\\u03b2-amyloid \u001b[0m\u001b[1;38;2;0;135;0m(\u001b[0m\u001b[38;2;0;135;0mA\\u03b2\u001b[0m\u001b[1;38;2;0;135;0m)\u001b[0m\u001b[38;2;0;135;0m levels were associated with mortality risks \u001b[0m  \u001b[2m               \u001b[0m\n",
       "\u001b[2;36m                    \u001b[0m         \u001b[38;2;0;135;0min a subsample of the French Three-City prospective cohort study.\"\u001b[0m,    \u001b[2m               \u001b[0m\n",
       "\u001b[2;36m                    \u001b[0m         \u001b[38;2;0;135;0m\"reason\"\u001b[0m: \u001b[38;2;0;135;0m\"The context explicitly states that 'The association between\u001b[0m \u001b[2m               \u001b[0m\n",
       "\u001b[2;36m                    \u001b[0m         \u001b[38;2;0;135;0mhigh plasma A\\u03b21-40 concentrations and risk of mortality \u001b[0m\u001b[1;38;2;0;135;0m(\u001b[0m\u001b[38;2;0;135;0mhazards \u001b[0m \u001b[2m               \u001b[0m\n",
       "\u001b[2;36m                    \u001b[0m         \u001b[38;2;0;135;0mratio, 1.15; 95% confidence interval, 1.01-1.31, P\\\u001b[0m\u001b[38;2;0;135;0mu00a0\u001b[0m\u001b[38;2;0;135;0m=\\u00a0.03\u001b[0m\u001b[1;38;2;0;135;0m)\u001b[0m\u001b[38;2;0;135;0m \u001b[0m   \u001b[2m               \u001b[0m\n",
       "\u001b[2;36m                    \u001b[0m         \u001b[38;2;0;135;0mwas unveiled independently of age, educational level, vascular risk \u001b[0m   \u001b[2m               \u001b[0m\n",
       "\u001b[2;36m                    \u001b[0m         \u001b[38;2;0;135;0mfactors, diet, physical activity, cognitive impairment, or frailty \u001b[0m    \u001b[2m               \u001b[0m\n",
       "\u001b[2;36m                    \u001b[0m         \u001b[38;2;0;135;0mstatus. It was only modified when we included cystatin C levels.',\\n  \u001b[0m \u001b[2m               \u001b[0m\n",
       "\u001b[2;36m                    \u001b[0m         \u001b[38;2;0;135;0m\"\u001b[0m\u001b[1m}\u001b[0m\u001b[1m]\u001b[0m\u001b[1m}\u001b[0m. Got: \u001b[1;36m1\u001b[0m validation error for StringIO                             \u001b[2m               \u001b[0m\n",
       "\u001b[2;36m                    \u001b[0m         text                                                                   \u001b[2m               \u001b[0m\n",
       "\u001b[2;36m                    \u001b[0m           Field required \u001b[1m[\u001b[0m\u001b[38;2;215;175;0mtype\u001b[0m=\u001b[38;2;225;0;225mmissing\u001b[0m, \u001b[38;2;215;175;0minput_value\u001b[0m=\u001b[1m{\u001b[0m\u001b[38;2;0;135;0m'statements'\u001b[0m:             \u001b[2m               \u001b[0m\n",
       "\u001b[2;36m                    \u001b[0m         \u001b[1m[\u001b[0m\u001b[1m{\u001b[0m\u001b[38;2;0;135;0m'stateme...els.'\u001b[0m,\\n            \"\u001b[1m}\u001b[0m\u001b[1m]\u001b[0m\u001b[1m}\u001b[0m, \u001b[38;2;215;175;0minput_type\u001b[0m=\u001b[38;2;225;0;225mdict\u001b[0m\u001b[1m]\u001b[0m                \u001b[2m               \u001b[0m\n",
       "\u001b[2;36m                    \u001b[0m             For further information visit                                      \u001b[2m               \u001b[0m\n",
       "\u001b[2;36m                    \u001b[0m         \u001b[4;38;2;0;105;255mhttps://errors.pydantic.dev/2.11/v/missing\u001b[0m                             \u001b[2m               \u001b[0m\n",
       "\u001b[2;36m                    \u001b[0m         For troubleshooting, visit:                                            \u001b[2m               \u001b[0m\n",
       "\u001b[2;36m                    \u001b[0m         \u001b[4;38;2;0;105;255mhttps://python.langchain.com/docs/troubleshooting/errors/OUT\u001b[0m\u001b[1;4;38;2;215;175;0mPUT\u001b[0m\u001b[4;38;2;0;105;255m_PARSIN\u001b[0m \u001b[2m               \u001b[0m\n",
       "\u001b[2;36m                    \u001b[0m         \u001b[4;38;2;0;105;255mG_FAILURE\u001b[0m \u001b[1m)\u001b[0m                                                            \u001b[2m               \u001b[0m\n"
      ]
     },
     "metadata": {},
     "output_type": "display_data"
    },
    {
     "data": {
      "text/html": [
       "<pre style=\"white-space:pre;overflow-x:auto;line-height:normal;font-family:Menlo,'DejaVu Sans Mono',consolas,'Courier New',monospace\"><span style=\"color: #7fbfbf; text-decoration-color: #7fbfbf\">[04/05/25 20:32:51] </span><span style=\"color: #d70000; text-decoration-color: #d70000; font-weight: bold\">ERROR   </span> Exception raised in Job<span style=\"font-weight: bold\">[</span><span style=\"color: #008080; text-decoration-color: #008080; font-weight: bold\">2971</span><span style=\"font-weight: bold\">]</span>: <span style=\"color: #e100e1; text-decoration-color: #e100e1; font-weight: bold\">OutputParserException</span><span style=\"font-weight: bold\">(</span>Invalid json      <a href=\"file:///opt/conda/lib/python3.11/site-packages/ragas/executor.py\" target=\"_blank\"><span style=\"color: #7f7f7f; text-decoration-color: #7f7f7f\">executor.py</span></a><span style=\"color: #7f7f7f; text-decoration-color: #7f7f7f\">:</span><a href=\"file:///opt/conda/lib/python3.11/site-packages/ragas/executor.py#104\" target=\"_blank\"><span style=\"color: #7f7f7f; text-decoration-color: #7f7f7f\">104</span></a>\n",
       "<span style=\"color: #7fbfbf; text-decoration-color: #7fbfbf\">                    </span>         output: The learning curve in complex surgery refers to the            <span style=\"color: #7f7f7f; text-decoration-color: #7f7f7f\">               </span>\n",
       "<span style=\"color: #7fbfbf; text-decoration-color: #7fbfbf\">                    </span>         improvement in surgical skills and outcomes as a surgeon gains         <span style=\"color: #7f7f7f; text-decoration-color: #7f7f7f\">               </span>\n",
       "<span style=\"color: #7fbfbf; text-decoration-color: #7fbfbf\">                    </span>         experience with a new procedure. The learning curve is influenced by   <span style=\"color: #7f7f7f; text-decoration-color: #7f7f7f\">               </span>\n",
       "<span style=\"color: #7fbfbf; text-decoration-color: #7fbfbf\">                    </span>         various factors, including technical skills, decision-making, and      <span style=\"color: #7f7f7f; text-decoration-color: #7f7f7f\">               </span>\n",
       "<span style=\"color: #7fbfbf; text-decoration-color: #7fbfbf\">                    </span>         risk-taking. A single surgeon's experience with a novel surgical       <span style=\"color: #7f7f7f; text-decoration-color: #7f7f7f\">               </span>\n",
       "<span style=\"color: #7fbfbf; text-decoration-color: #7fbfbf\">                    </span>         procedure for peritoneal malignancy is described in the provided text. <span style=\"color: #7f7f7f; text-decoration-color: #7f7f7f\">               </span>\n",
       "<span style=\"color: #7fbfbf; text-decoration-color: #7fbfbf\">                    </span>         The text analyzes the proportions undergoing surgery, mortality, and   <span style=\"color: #7f7f7f; text-decoration-color: #7f7f7f\">               </span>\n",
       "<span style=\"color: #7fbfbf; text-decoration-color: #7fbfbf\">                    </span>         major morbidity rates for three groups of patients. The text suggests  <span style=\"color: #7f7f7f; text-decoration-color: #7f7f7f\">               </span>\n",
       "<span style=\"color: #7fbfbf; text-decoration-color: #7fbfbf\">                    </span>         that the learning curve is a natural part of surgical training and     <span style=\"color: #7f7f7f; text-decoration-color: #7f7f7f\">               </span>\n",
       "<span style=\"color: #7fbfbf; text-decoration-color: #7fbfbf\">                    </span>         development. It is improbable that technical and innovative skills can <span style=\"color: #7f7f7f; text-decoration-color: #7f7f7f\">               </span>\n",
       "<span style=\"color: #7fbfbf; text-decoration-color: #7fbfbf\">                    </span>         be developed without some aspects of learning by experience and indeed <span style=\"color: #7f7f7f; text-decoration-color: #7f7f7f\">               </span>\n",
       "<span style=\"color: #7fbfbf; text-decoration-color: #7fbfbf\">                    </span>         <span style=\"color: #008700; text-decoration-color: #008700\">'risk taking'</span>.                                                         <span style=\"color: #7f7f7f; text-decoration-color: #7f7f7f\">               </span>\n",
       "<span style=\"color: #7fbfbf; text-decoration-color: #7fbfbf\">                    </span>         For troubleshooting, visit:                                            <span style=\"color: #7f7f7f; text-decoration-color: #7f7f7f\">               </span>\n",
       "<span style=\"color: #7fbfbf; text-decoration-color: #7fbfbf\">                    </span>         <span style=\"color: #0069ff; text-decoration-color: #0069ff; text-decoration: underline\">https://python.langchain.com/docs/troubleshooting/errors/OUT</span><span style=\"color: #d7af00; text-decoration-color: #d7af00; font-weight: bold; text-decoration: underline\">PUT</span><span style=\"color: #0069ff; text-decoration-color: #0069ff; text-decoration: underline\">_PARSIN</span> <span style=\"color: #7f7f7f; text-decoration-color: #7f7f7f\">               </span>\n",
       "<span style=\"color: #7fbfbf; text-decoration-color: #7fbfbf\">                    </span>         <span style=\"color: #0069ff; text-decoration-color: #0069ff; text-decoration: underline\">G_FAILURE</span> <span style=\"font-weight: bold\">)</span>                                                            <span style=\"color: #7f7f7f; text-decoration-color: #7f7f7f\">               </span>\n",
       "</pre>\n"
      ],
      "text/plain": [
       "\u001b[2;36m[04/05/25 20:32:51]\u001b[0m\u001b[2;36m \u001b[0m\u001b[1;38;2;215;0;0mERROR   \u001b[0m Exception raised in Job\u001b[1m[\u001b[0m\u001b[1;36m2971\u001b[0m\u001b[1m]\u001b[0m: \u001b[1;38;2;225;0;225mOutputParserException\u001b[0m\u001b[1m(\u001b[0mInvalid json      \u001b]8;id=683301;file:///opt/conda/lib/python3.11/site-packages/ragas/executor.py\u001b\\\u001b[2mexecutor.py\u001b[0m\u001b]8;;\u001b\\\u001b[2m:\u001b[0m\u001b]8;id=286833;file:///opt/conda/lib/python3.11/site-packages/ragas/executor.py#104\u001b\\\u001b[2m104\u001b[0m\u001b]8;;\u001b\\\n",
       "\u001b[2;36m                    \u001b[0m         output: The learning curve in complex surgery refers to the            \u001b[2m               \u001b[0m\n",
       "\u001b[2;36m                    \u001b[0m         improvement in surgical skills and outcomes as a surgeon gains         \u001b[2m               \u001b[0m\n",
       "\u001b[2;36m                    \u001b[0m         experience with a new procedure. The learning curve is influenced by   \u001b[2m               \u001b[0m\n",
       "\u001b[2;36m                    \u001b[0m         various factors, including technical skills, decision-making, and      \u001b[2m               \u001b[0m\n",
       "\u001b[2;36m                    \u001b[0m         risk-taking. A single surgeon's experience with a novel surgical       \u001b[2m               \u001b[0m\n",
       "\u001b[2;36m                    \u001b[0m         procedure for peritoneal malignancy is described in the provided text. \u001b[2m               \u001b[0m\n",
       "\u001b[2;36m                    \u001b[0m         The text analyzes the proportions undergoing surgery, mortality, and   \u001b[2m               \u001b[0m\n",
       "\u001b[2;36m                    \u001b[0m         major morbidity rates for three groups of patients. The text suggests  \u001b[2m               \u001b[0m\n",
       "\u001b[2;36m                    \u001b[0m         that the learning curve is a natural part of surgical training and     \u001b[2m               \u001b[0m\n",
       "\u001b[2;36m                    \u001b[0m         development. It is improbable that technical and innovative skills can \u001b[2m               \u001b[0m\n",
       "\u001b[2;36m                    \u001b[0m         be developed without some aspects of learning by experience and indeed \u001b[2m               \u001b[0m\n",
       "\u001b[2;36m                    \u001b[0m         \u001b[38;2;0;135;0m'risk taking'\u001b[0m.                                                         \u001b[2m               \u001b[0m\n",
       "\u001b[2;36m                    \u001b[0m         For troubleshooting, visit:                                            \u001b[2m               \u001b[0m\n",
       "\u001b[2;36m                    \u001b[0m         \u001b[4;38;2;0;105;255mhttps://python.langchain.com/docs/troubleshooting/errors/OUT\u001b[0m\u001b[1;4;38;2;215;175;0mPUT\u001b[0m\u001b[4;38;2;0;105;255m_PARSIN\u001b[0m \u001b[2m               \u001b[0m\n",
       "\u001b[2;36m                    \u001b[0m         \u001b[4;38;2;0;105;255mG_FAILURE\u001b[0m \u001b[1m)\u001b[0m                                                            \u001b[2m               \u001b[0m\n"
      ]
     },
     "metadata": {},
     "output_type": "display_data"
    },
    {
     "data": {
      "text/html": [
       "<pre style=\"white-space:pre;overflow-x:auto;line-height:normal;font-family:Menlo,'DejaVu Sans Mono',consolas,'Courier New',monospace\"><span style=\"color: #7fbfbf; text-decoration-color: #7fbfbf\">[04/05/25 20:34:51] </span><span style=\"color: #d70000; text-decoration-color: #d70000; font-weight: bold\">ERROR   </span> Exception raised in Job<span style=\"font-weight: bold\">[</span><span style=\"color: #008080; text-decoration-color: #008080; font-weight: bold\">3226</span><span style=\"font-weight: bold\">]</span>: <span style=\"color: #e100e1; text-decoration-color: #e100e1; font-weight: bold\">OutputParserException</span><span style=\"font-weight: bold\">(</span>Failed to parse   <a href=\"file:///opt/conda/lib/python3.11/site-packages/ragas/executor.py\" target=\"_blank\"><span style=\"color: #7f7f7f; text-decoration-color: #7f7f7f\">executor.py</span></a><span style=\"color: #7f7f7f; text-decoration-color: #7f7f7f\">:</span><a href=\"file:///opt/conda/lib/python3.11/site-packages/ragas/executor.py#104\" target=\"_blank\"><span style=\"color: #7f7f7f; text-decoration-color: #7f7f7f\">104</span></a>\n",
       "<span style=\"color: #7fbfbf; text-decoration-color: #7fbfbf\">                    </span>         StringIO from completion <span style=\"font-weight: bold\">{</span><span style=\"color: #008700; text-decoration-color: #008700\">\"statements\"</span>: <span style=\"font-weight: bold\">[{</span><span style=\"color: #008700; text-decoration-color: #008700\">\"statement\"</span>: <span style=\"color: #008700; text-decoration-color: #008700\">\"The study </span>     <span style=\"color: #7f7f7f; text-decoration-color: #7f7f7f\">               </span>\n",
       "<span style=\"color: #7fbfbf; text-decoration-color: #7fbfbf\">                    </span>         <span style=\"color: #008700; text-decoration-color: #008700\">investigated the association between homocysteine levels and carotid </span>  <span style=\"color: #7f7f7f; text-decoration-color: #7f7f7f\">               </span>\n",
       "<span style=\"color: #7fbfbf; text-decoration-color: #7fbfbf\">                    </span>         <span style=\"color: #008700; text-decoration-color: #008700\">intima-media thickness </span><span style=\"color: #008700; text-decoration-color: #008700; font-weight: bold\">(</span><span style=\"color: #008700; text-decoration-color: #008700\">cIMT</span><span style=\"color: #008700; text-decoration-color: #008700; font-weight: bold\">)</span><span style=\"color: #008700; text-decoration-color: #008700\"> in ischemic stroke patients.\"</span>, <span style=\"color: #008700; text-decoration-color: #008700\">\"reason\"</span>: <span style=\"color: #7f7f7f; text-decoration-color: #7f7f7f\">               </span>\n",
       "<span style=\"color: #7fbfbf; text-decoration-color: #7fbfbf\">                    </span>         <span style=\"color: #008700; text-decoration-color: #008700\">\"The context states that the study investigated the association </span>       <span style=\"color: #7f7f7f; text-decoration-color: #7f7f7f\">               </span>\n",
       "<span style=\"color: #7fbfbf; text-decoration-color: #7fbfbf\">                    </span>         <span style=\"color: #008700; text-decoration-color: #008700\">between homocysteine levels and carotid intima-media thickness </span><span style=\"color: #008700; text-decoration-color: #008700; font-weight: bold\">(</span><span style=\"color: #008700; text-decoration-color: #008700\">cIMT</span><span style=\"color: #008700; text-decoration-color: #008700; font-weight: bold\">)</span><span style=\"color: #008700; text-decoration-color: #008700\"> </span> <span style=\"color: #7f7f7f; text-decoration-color: #7f7f7f\">               </span>\n",
       "<span style=\"color: #7fbfbf; text-decoration-color: #7fbfbf\">                    </span>         <span style=\"color: #008700; text-decoration-color: #008700\">in ischemic stroke patients.\"</span>, <span style=\"color: #008700; text-decoration-color: #008700\">\"verdict\"</span>: <span style=\"color: #008080; text-decoration-color: #008080; font-weight: bold\">1</span><span style=\"font-weight: bold\">}</span>, <span style=\"font-weight: bold\">{</span><span style=\"color: #008700; text-decoration-color: #008700\">\"statement\"</span>: <span style=\"color: #008700; text-decoration-color: #008700\">\"In the </span>   <span style=\"color: #7f7f7f; text-decoration-color: #7f7f7f\">               </span>\n",
       "<span style=\"color: #7fbfbf; text-decoration-color: #7fbfbf\">                    </span>         <span style=\"color: #008700; text-decoration-color: #008700\">study, 97 Greek patients were hospitalized due to ischemic stroke.\"</span>,   <span style=\"color: #7f7f7f; text-decoration-color: #7f7f7f\">               </span>\n",
       "<span style=\"color: #7fbfbf; text-decoration-color: #7fbfbf\">                    </span>         <span style=\"color: #008700; text-decoration-color: #008700\">\"reason\"</span>: <span style=\"color: #008700; text-decoration-color: #008700\">\"The context directly states that 97 Greek patients were </span>    <span style=\"color: #7f7f7f; text-decoration-color: #7f7f7f\">               </span>\n",
       "<span style=\"color: #7fbfbf; text-decoration-color: #7fbfbf\">                    </span>         <span style=\"color: #008700; text-decoration-color: #008700\">hospitalized due to ischemic stroke.\"</span>, <span style=\"color: #008700; text-decoration-color: #008700\">\"verdict\"</span>: <span style=\"color: #008080; text-decoration-color: #008080; font-weight: bold\">1</span><span style=\"font-weight: bold\">}</span>, <span style=\"font-weight: bold\">{</span><span style=\"color: #008700; text-decoration-color: #008700\">\"statement\"</span>:    <span style=\"color: #7f7f7f; text-decoration-color: #7f7f7f\">               </span>\n",
       "<span style=\"color: #7fbfbf; text-decoration-color: #7fbfbf\">                    </span>         <span style=\"color: #008700; text-decoration-color: #008700\">\"The mean homocysteine concentration was 11.5 mumol/L in patients with</span> <span style=\"color: #7f7f7f; text-decoration-color: #7f7f7f\">               </span>\n",
       "<span style=\"color: #7fbfbf; text-decoration-color: #7fbfbf\">                    </span>         <span style=\"color: #008700; text-decoration-color: #008700\">serum homocysteine below 15 mumol/L and 21.5 mumol/L in those with </span>    <span style=\"color: #7f7f7f; text-decoration-color: #7f7f7f\">               </span>\n",
       "<span style=\"color: #7fbfbf; text-decoration-color: #7fbfbf\">                    </span>         <span style=\"color: #008700; text-decoration-color: #008700\">serum homocysteine exceeding this value.\"</span>, <span style=\"color: #008700; text-decoration-color: #008700\">\"reason\"</span>: <span style=\"color: #008700; text-decoration-color: #008700\">\"The context </span>     <span style=\"color: #7f7f7f; text-decoration-color: #7f7f7f\">               </span>\n",
       "<span style=\"color: #7fbfbf; text-decoration-color: #7fbfbf\">                    </span>         <span style=\"color: #008700; text-decoration-color: #008700\">provides the specific mean homocysteine concentrations for patients </span>   <span style=\"color: #7f7f7f; text-decoration-color: #7f7f7f\">               </span>\n",
       "<span style=\"color: #7fbfbf; text-decoration-color: #7fbfbf\">                    </span>         <span style=\"color: #008700; text-decoration-color: #008700\">with and without serum homocysteine levels above 15 mumol/L.\"</span>,         <span style=\"color: #7f7f7f; text-decoration-color: #7f7f7f\">               </span>\n",
       "<span style=\"color: #7fbfbf; text-decoration-color: #7fbfbf\">                    </span>         <span style=\"color: #008700; text-decoration-color: #008700\">\"verdict\"</span>: <span style=\"color: #008080; text-decoration-color: #008080; font-weight: bold\">1</span><span style=\"font-weight: bold\">}</span>, <span style=\"font-weight: bold\">{</span><span style=\"color: #008700; text-decoration-color: #008700\">\"statement\"</span>: <span style=\"color: #008700; text-decoration-color: #008700\">\"The study found no significant </span>          <span style=\"color: #7f7f7f; text-decoration-color: #7f7f7f\">               </span>\n",
       "<span style=\"color: #7fbfbf; text-decoration-color: #7fbfbf\">                    </span>         <span style=\"color: #008700; text-decoration-color: #008700\">difference in carotid IMT between the two groups, with values of 1.012</span> <span style=\"color: #7f7f7f; text-decoration-color: #7f7f7f\">               </span>\n",
       "<span style=\"color: #7fbfbf; text-decoration-color: #7fbfbf\">                    </span>         <span style=\"color: #008700; text-decoration-color: #008700\">mm and 1.015 mm, respectively.\"</span>, <span style=\"color: #008700; text-decoration-color: #008700\">\"reason\"</span>: <span style=\"color: #008700; text-decoration-color: #008700\">\"The context states that </span>   <span style=\"color: #7f7f7f; text-decoration-color: #7f7f7f\">               </span>\n",
       "<span style=\"color: #7fbfbf; text-decoration-color: #7fbfbf\">                    </span>         <span style=\"color: #008700; text-decoration-color: #008700\">the study found no significant difference in carotid IMT between the </span>  <span style=\"color: #7f7f7f; text-decoration-color: #7f7f7f\">               </span>\n",
       "<span style=\"color: #7fbfbf; text-decoration-color: #7fbfbf\">                    </span>         <span style=\"color: #008700; text-decoration-color: #008700\">two groups, with values of 1.012 mm and 1.015 mm, respectively.\"</span>,      <span style=\"color: #7f7f7f; text-decoration-color: #7f7f7f\">               </span>\n",
       "<span style=\"color: #7fbfbf; text-decoration-color: #7fbfbf\">                    </span>         <span style=\"color: #008700; text-decoration-color: #008700\">\"verdict\"</span>: <span style=\"color: #008080; text-decoration-color: #008080; font-weight: bold\">1</span><span style=\"font-weight: bold\">}</span>, <span style=\"font-weight: bold\">{</span><span style=\"color: #008700; text-decoration-color: #008700\">\"statement\"</span>: <span style=\"color: #008700; text-decoration-color: #008700\">\"This suggests that there may not be a </span>   <span style=\"color: #7f7f7f; text-decoration-color: #7f7f7f\">               </span>\n",
       "<span style=\"color: #7fbfbf; text-decoration-color: #7fbfbf\">                    </span>         <span style=\"color: #008700; text-decoration-color: #008700\">direct correlation between homocysteine levels and carotid </span>            <span style=\"color: #7f7f7f; text-decoration-color: #7f7f7f\">               </span>\n",
       "<span style=\"color: #7fbfbf; text-decoration-color: #7fbfbf\">                    </span>         <span style=\"color: #008700; text-decoration-color: #008700\">intima-media thickness in ischemic stroke patients.\"</span>, <span style=\"color: #008700; text-decoration-color: #008700\">\"reason\"</span>: <span style=\"color: #008700; text-decoration-color: #008700\">\"The </span>  <span style=\"color: #7f7f7f; text-decoration-color: #7f7f7f\">               </span>\n",
       "<span style=\"color: #7fbfbf; text-decoration-color: #7fbfbf\">                    </span>         <span style=\"color: #008700; text-decoration-color: #008700\">context does not provide any information to suggest that there may not</span> <span style=\"color: #7f7f7f; text-decoration-color: #7f7f7f\">               </span>\n",
       "<span style=\"color: #7fbfbf; text-decoration-color: #7fbfbf\">                    </span>         <span style=\"color: #008700; text-decoration-color: #008700\">be a direct correlation between homocysteine levels and carotid </span>       <span style=\"color: #7f7f7f; text-decoration-color: #7f7f7f\">               </span>\n",
       "<span style=\"color: #7fbfbf; text-decoration-color: #7fbfbf\">                    </span>         <span style=\"color: #008700; text-decoration-color: #008700\">intima-media thickness in ischemic stroke patients.\"</span>, <span style=\"color: #008700; text-decoration-color: #008700\">\"verdict\"</span>: <span style=\"color: #008080; text-decoration-color: #008080; font-weight: bold\">0</span><span style=\"font-weight: bold\">}</span>,   <span style=\"color: #7f7f7f; text-decoration-color: #7f7f7f\">               </span>\n",
       "<span style=\"color: #7fbfbf; text-decoration-color: #7fbfbf\">                    </span>         <span style=\"font-weight: bold\">{</span><span style=\"color: #008700; text-decoration-color: #008700\">\"statement\"</span>: <span style=\"color: #008700; text-decoration-color: #008700\">\"Further research is needed to fully understand the </span>     <span style=\"color: #7f7f7f; text-decoration-color: #7f7f7f\">               </span>\n",
       "<span style=\"color: #7fbfbf; text-decoration-color: #7fbfbf\">                    </span>         <span style=\"color: #008700; text-decoration-color: #008700\">relationship between these two factors.\"</span>, <span style=\"color: #008700; text-decoration-color: #008700\">\"reason\"</span>: <span style=\"color: #008700; text-decoration-color: #008700\">\"The context does </span> <span style=\"color: #7f7f7f; text-decoration-color: #7f7f7f\">               </span>\n",
       "<span style=\"color: #7fbfbf; text-decoration-color: #7fbfbf\">                    </span>         <span style=\"color: #008700; text-decoration-color: #008700\">not provide any information about the need for further research.\"</span>,     <span style=\"color: #7f7f7f; text-decoration-color: #7f7f7f\">               </span>\n",
       "<span style=\"color: #7fbfbf; text-decoration-color: #7fbfbf\">                    </span>         <span style=\"color: #008700; text-decoration-color: #008700\">\"verdict\"</span>: <span style=\"color: #008080; text-decoration-color: #008080; font-weight: bold\">0</span><span style=\"font-weight: bold\">}]}</span>. Got: <span style=\"color: #008080; text-decoration-color: #008080; font-weight: bold\">1</span> validation error for StringIO                  <span style=\"color: #7f7f7f; text-decoration-color: #7f7f7f\">               </span>\n",
       "<span style=\"color: #7fbfbf; text-decoration-color: #7fbfbf\">                    </span>         text                                                                   <span style=\"color: #7f7f7f; text-decoration-color: #7f7f7f\">               </span>\n",
       "<span style=\"color: #7fbfbf; text-decoration-color: #7fbfbf\">                    </span>           Field required <span style=\"font-weight: bold\">[</span><span style=\"color: #d7af00; text-decoration-color: #d7af00\">type</span>=<span style=\"color: #e100e1; text-decoration-color: #e100e1\">missing</span>, <span style=\"color: #d7af00; text-decoration-color: #d7af00\">input_value</span>=<span style=\"font-weight: bold\">{</span><span style=\"color: #008700; text-decoration-color: #008700\">'statements'</span>:             <span style=\"color: #7f7f7f; text-decoration-color: #7f7f7f\">               </span>\n",
       "<span style=\"color: #7fbfbf; text-decoration-color: #7fbfbf\">                    </span>         <span style=\"font-weight: bold\">[{</span><span style=\"color: #008700; text-decoration-color: #008700\">'stateme...earch.'</span>, <span style=\"color: #008700; text-decoration-color: #008700\">'verdict'</span>: <span style=\"color: #008080; text-decoration-color: #008080; font-weight: bold\">0</span><span style=\"font-weight: bold\">}]}</span>, <span style=\"color: #d7af00; text-decoration-color: #d7af00\">input_type</span>=<span style=\"color: #e100e1; text-decoration-color: #e100e1\">dict</span><span style=\"font-weight: bold\">]</span>                <span style=\"color: #7f7f7f; text-decoration-color: #7f7f7f\">               </span>\n",
       "<span style=\"color: #7fbfbf; text-decoration-color: #7fbfbf\">                    </span>             For further information visit                                      <span style=\"color: #7f7f7f; text-decoration-color: #7f7f7f\">               </span>\n",
       "<span style=\"color: #7fbfbf; text-decoration-color: #7fbfbf\">                    </span>         <span style=\"color: #0069ff; text-decoration-color: #0069ff; text-decoration: underline\">https://errors.pydantic.dev/2.11/v/missing</span>                             <span style=\"color: #7f7f7f; text-decoration-color: #7f7f7f\">               </span>\n",
       "<span style=\"color: #7fbfbf; text-decoration-color: #7fbfbf\">                    </span>         For troubleshooting, visit:                                            <span style=\"color: #7f7f7f; text-decoration-color: #7f7f7f\">               </span>\n",
       "<span style=\"color: #7fbfbf; text-decoration-color: #7fbfbf\">                    </span>         <span style=\"color: #0069ff; text-decoration-color: #0069ff; text-decoration: underline\">https://python.langchain.com/docs/troubleshooting/errors/OUT</span><span style=\"color: #d7af00; text-decoration-color: #d7af00; font-weight: bold; text-decoration: underline\">PUT</span><span style=\"color: #0069ff; text-decoration-color: #0069ff; text-decoration: underline\">_PARSIN</span> <span style=\"color: #7f7f7f; text-decoration-color: #7f7f7f\">               </span>\n",
       "<span style=\"color: #7fbfbf; text-decoration-color: #7fbfbf\">                    </span>         <span style=\"color: #0069ff; text-decoration-color: #0069ff; text-decoration: underline\">G_FAILURE</span> <span style=\"font-weight: bold\">)</span>                                                            <span style=\"color: #7f7f7f; text-decoration-color: #7f7f7f\">               </span>\n",
       "</pre>\n"
      ],
      "text/plain": [
       "\u001b[2;36m[04/05/25 20:34:51]\u001b[0m\u001b[2;36m \u001b[0m\u001b[1;38;2;215;0;0mERROR   \u001b[0m Exception raised in Job\u001b[1m[\u001b[0m\u001b[1;36m3226\u001b[0m\u001b[1m]\u001b[0m: \u001b[1;38;2;225;0;225mOutputParserException\u001b[0m\u001b[1m(\u001b[0mFailed to parse   \u001b]8;id=802392;file:///opt/conda/lib/python3.11/site-packages/ragas/executor.py\u001b\\\u001b[2mexecutor.py\u001b[0m\u001b]8;;\u001b\\\u001b[2m:\u001b[0m\u001b]8;id=721801;file:///opt/conda/lib/python3.11/site-packages/ragas/executor.py#104\u001b\\\u001b[2m104\u001b[0m\u001b]8;;\u001b\\\n",
       "\u001b[2;36m                    \u001b[0m         StringIO from completion \u001b[1m{\u001b[0m\u001b[38;2;0;135;0m\"statements\"\u001b[0m: \u001b[1m[\u001b[0m\u001b[1m{\u001b[0m\u001b[38;2;0;135;0m\"statement\"\u001b[0m: \u001b[38;2;0;135;0m\"The study \u001b[0m     \u001b[2m               \u001b[0m\n",
       "\u001b[2;36m                    \u001b[0m         \u001b[38;2;0;135;0minvestigated the association between homocysteine levels and carotid \u001b[0m  \u001b[2m               \u001b[0m\n",
       "\u001b[2;36m                    \u001b[0m         \u001b[38;2;0;135;0mintima-media thickness \u001b[0m\u001b[1;38;2;0;135;0m(\u001b[0m\u001b[38;2;0;135;0mcIMT\u001b[0m\u001b[1;38;2;0;135;0m)\u001b[0m\u001b[38;2;0;135;0m in ischemic stroke patients.\"\u001b[0m, \u001b[38;2;0;135;0m\"reason\"\u001b[0m: \u001b[2m               \u001b[0m\n",
       "\u001b[2;36m                    \u001b[0m         \u001b[38;2;0;135;0m\"The context states that the study investigated the association \u001b[0m       \u001b[2m               \u001b[0m\n",
       "\u001b[2;36m                    \u001b[0m         \u001b[38;2;0;135;0mbetween homocysteine levels and carotid intima-media thickness \u001b[0m\u001b[1;38;2;0;135;0m(\u001b[0m\u001b[38;2;0;135;0mcIMT\u001b[0m\u001b[1;38;2;0;135;0m)\u001b[0m\u001b[38;2;0;135;0m \u001b[0m \u001b[2m               \u001b[0m\n",
       "\u001b[2;36m                    \u001b[0m         \u001b[38;2;0;135;0min ischemic stroke patients.\"\u001b[0m, \u001b[38;2;0;135;0m\"verdict\"\u001b[0m: \u001b[1;36m1\u001b[0m\u001b[1m}\u001b[0m, \u001b[1m{\u001b[0m\u001b[38;2;0;135;0m\"statement\"\u001b[0m: \u001b[38;2;0;135;0m\"In the \u001b[0m   \u001b[2m               \u001b[0m\n",
       "\u001b[2;36m                    \u001b[0m         \u001b[38;2;0;135;0mstudy, 97 Greek patients were hospitalized due to ischemic stroke.\"\u001b[0m,   \u001b[2m               \u001b[0m\n",
       "\u001b[2;36m                    \u001b[0m         \u001b[38;2;0;135;0m\"reason\"\u001b[0m: \u001b[38;2;0;135;0m\"The context directly states that 97 Greek patients were \u001b[0m    \u001b[2m               \u001b[0m\n",
       "\u001b[2;36m                    \u001b[0m         \u001b[38;2;0;135;0mhospitalized due to ischemic stroke.\"\u001b[0m, \u001b[38;2;0;135;0m\"verdict\"\u001b[0m: \u001b[1;36m1\u001b[0m\u001b[1m}\u001b[0m, \u001b[1m{\u001b[0m\u001b[38;2;0;135;0m\"statement\"\u001b[0m:    \u001b[2m               \u001b[0m\n",
       "\u001b[2;36m                    \u001b[0m         \u001b[38;2;0;135;0m\"The mean homocysteine concentration was 11.5 mumol/L in patients with\u001b[0m \u001b[2m               \u001b[0m\n",
       "\u001b[2;36m                    \u001b[0m         \u001b[38;2;0;135;0mserum homocysteine below 15 mumol/L and 21.5 mumol/L in those with \u001b[0m    \u001b[2m               \u001b[0m\n",
       "\u001b[2;36m                    \u001b[0m         \u001b[38;2;0;135;0mserum homocysteine exceeding this value.\"\u001b[0m, \u001b[38;2;0;135;0m\"reason\"\u001b[0m: \u001b[38;2;0;135;0m\"The context \u001b[0m     \u001b[2m               \u001b[0m\n",
       "\u001b[2;36m                    \u001b[0m         \u001b[38;2;0;135;0mprovides the specific mean homocysteine concentrations for patients \u001b[0m   \u001b[2m               \u001b[0m\n",
       "\u001b[2;36m                    \u001b[0m         \u001b[38;2;0;135;0mwith and without serum homocysteine levels above 15 mumol/L.\"\u001b[0m,         \u001b[2m               \u001b[0m\n",
       "\u001b[2;36m                    \u001b[0m         \u001b[38;2;0;135;0m\"verdict\"\u001b[0m: \u001b[1;36m1\u001b[0m\u001b[1m}\u001b[0m, \u001b[1m{\u001b[0m\u001b[38;2;0;135;0m\"statement\"\u001b[0m: \u001b[38;2;0;135;0m\"The study found no significant \u001b[0m          \u001b[2m               \u001b[0m\n",
       "\u001b[2;36m                    \u001b[0m         \u001b[38;2;0;135;0mdifference in carotid IMT between the two groups, with values of 1.012\u001b[0m \u001b[2m               \u001b[0m\n",
       "\u001b[2;36m                    \u001b[0m         \u001b[38;2;0;135;0mmm and 1.015 mm, respectively.\"\u001b[0m, \u001b[38;2;0;135;0m\"reason\"\u001b[0m: \u001b[38;2;0;135;0m\"The context states that \u001b[0m   \u001b[2m               \u001b[0m\n",
       "\u001b[2;36m                    \u001b[0m         \u001b[38;2;0;135;0mthe study found no significant difference in carotid IMT between the \u001b[0m  \u001b[2m               \u001b[0m\n",
       "\u001b[2;36m                    \u001b[0m         \u001b[38;2;0;135;0mtwo groups, with values of 1.012 mm and 1.015 mm, respectively.\"\u001b[0m,      \u001b[2m               \u001b[0m\n",
       "\u001b[2;36m                    \u001b[0m         \u001b[38;2;0;135;0m\"verdict\"\u001b[0m: \u001b[1;36m1\u001b[0m\u001b[1m}\u001b[0m, \u001b[1m{\u001b[0m\u001b[38;2;0;135;0m\"statement\"\u001b[0m: \u001b[38;2;0;135;0m\"This suggests that there may not be a \u001b[0m   \u001b[2m               \u001b[0m\n",
       "\u001b[2;36m                    \u001b[0m         \u001b[38;2;0;135;0mdirect correlation between homocysteine levels and carotid \u001b[0m            \u001b[2m               \u001b[0m\n",
       "\u001b[2;36m                    \u001b[0m         \u001b[38;2;0;135;0mintima-media thickness in ischemic stroke patients.\"\u001b[0m, \u001b[38;2;0;135;0m\"reason\"\u001b[0m: \u001b[38;2;0;135;0m\"The \u001b[0m  \u001b[2m               \u001b[0m\n",
       "\u001b[2;36m                    \u001b[0m         \u001b[38;2;0;135;0mcontext does not provide any information to suggest that there may not\u001b[0m \u001b[2m               \u001b[0m\n",
       "\u001b[2;36m                    \u001b[0m         \u001b[38;2;0;135;0mbe a direct correlation between homocysteine levels and carotid \u001b[0m       \u001b[2m               \u001b[0m\n",
       "\u001b[2;36m                    \u001b[0m         \u001b[38;2;0;135;0mintima-media thickness in ischemic stroke patients.\"\u001b[0m, \u001b[38;2;0;135;0m\"verdict\"\u001b[0m: \u001b[1;36m0\u001b[0m\u001b[1m}\u001b[0m,   \u001b[2m               \u001b[0m\n",
       "\u001b[2;36m                    \u001b[0m         \u001b[1m{\u001b[0m\u001b[38;2;0;135;0m\"statement\"\u001b[0m: \u001b[38;2;0;135;0m\"Further research is needed to fully understand the \u001b[0m     \u001b[2m               \u001b[0m\n",
       "\u001b[2;36m                    \u001b[0m         \u001b[38;2;0;135;0mrelationship between these two factors.\"\u001b[0m, \u001b[38;2;0;135;0m\"reason\"\u001b[0m: \u001b[38;2;0;135;0m\"The context does \u001b[0m \u001b[2m               \u001b[0m\n",
       "\u001b[2;36m                    \u001b[0m         \u001b[38;2;0;135;0mnot provide any information about the need for further research.\"\u001b[0m,     \u001b[2m               \u001b[0m\n",
       "\u001b[2;36m                    \u001b[0m         \u001b[38;2;0;135;0m\"verdict\"\u001b[0m: \u001b[1;36m0\u001b[0m\u001b[1m}\u001b[0m\u001b[1m]\u001b[0m\u001b[1m}\u001b[0m. Got: \u001b[1;36m1\u001b[0m validation error for StringIO                  \u001b[2m               \u001b[0m\n",
       "\u001b[2;36m                    \u001b[0m         text                                                                   \u001b[2m               \u001b[0m\n",
       "\u001b[2;36m                    \u001b[0m           Field required \u001b[1m[\u001b[0m\u001b[38;2;215;175;0mtype\u001b[0m=\u001b[38;2;225;0;225mmissing\u001b[0m, \u001b[38;2;215;175;0minput_value\u001b[0m=\u001b[1m{\u001b[0m\u001b[38;2;0;135;0m'statements'\u001b[0m:             \u001b[2m               \u001b[0m\n",
       "\u001b[2;36m                    \u001b[0m         \u001b[1m[\u001b[0m\u001b[1m{\u001b[0m\u001b[38;2;0;135;0m'stateme...earch.'\u001b[0m, \u001b[38;2;0;135;0m'verdict'\u001b[0m: \u001b[1;36m0\u001b[0m\u001b[1m}\u001b[0m\u001b[1m]\u001b[0m\u001b[1m}\u001b[0m, \u001b[38;2;215;175;0minput_type\u001b[0m=\u001b[38;2;225;0;225mdict\u001b[0m\u001b[1m]\u001b[0m                \u001b[2m               \u001b[0m\n",
       "\u001b[2;36m                    \u001b[0m             For further information visit                                      \u001b[2m               \u001b[0m\n",
       "\u001b[2;36m                    \u001b[0m         \u001b[4;38;2;0;105;255mhttps://errors.pydantic.dev/2.11/v/missing\u001b[0m                             \u001b[2m               \u001b[0m\n",
       "\u001b[2;36m                    \u001b[0m         For troubleshooting, visit:                                            \u001b[2m               \u001b[0m\n",
       "\u001b[2;36m                    \u001b[0m         \u001b[4;38;2;0;105;255mhttps://python.langchain.com/docs/troubleshooting/errors/OUT\u001b[0m\u001b[1;4;38;2;215;175;0mPUT\u001b[0m\u001b[4;38;2;0;105;255m_PARSIN\u001b[0m \u001b[2m               \u001b[0m\n",
       "\u001b[2;36m                    \u001b[0m         \u001b[4;38;2;0;105;255mG_FAILURE\u001b[0m \u001b[1m)\u001b[0m                                                            \u001b[2m               \u001b[0m\n"
      ]
     },
     "metadata": {},
     "output_type": "display_data"
    },
    {
     "data": {
      "text/html": [
       "<pre style=\"white-space:pre;overflow-x:auto;line-height:normal;font-family:Menlo,'DejaVu Sans Mono',consolas,'Courier New',monospace\"><span style=\"color: #7fbfbf; text-decoration-color: #7fbfbf\">[04/05/25 20:35:25] </span><span style=\"color: #d70000; text-decoration-color: #d70000; font-weight: bold\">ERROR   </span> Exception raised in Job<span style=\"font-weight: bold\">[</span><span style=\"color: #008080; text-decoration-color: #008080; font-weight: bold\">3311</span><span style=\"font-weight: bold\">]</span>: <span style=\"color: #e100e1; text-decoration-color: #e100e1; font-weight: bold\">OutputParserException</span><span style=\"font-weight: bold\">(</span>Failed to parse   <a href=\"file:///opt/conda/lib/python3.11/site-packages/ragas/executor.py\" target=\"_blank\"><span style=\"color: #7f7f7f; text-decoration-color: #7f7f7f\">executor.py</span></a><span style=\"color: #7f7f7f; text-decoration-color: #7f7f7f\">:</span><a href=\"file:///opt/conda/lib/python3.11/site-packages/ragas/executor.py#104\" target=\"_blank\"><span style=\"color: #7f7f7f; text-decoration-color: #7f7f7f\">104</span></a>\n",
       "<span style=\"color: #7fbfbf; text-decoration-color: #7fbfbf\">                    </span>         StringIO from completion <span style=\"font-weight: bold\">{</span><span style=\"color: #008700; text-decoration-color: #008700\">\"TP\"</span>: <span style=\"font-weight: bold\">[]</span>, <span style=\"color: #008700; text-decoration-color: #008700\">\"FP\"</span>: <span style=\"font-weight: bold\">[]</span>, <span style=\"color: #008700; text-decoration-color: #008700\">\"FN\"</span>: <span style=\"font-weight: bold\">[{</span><span style=\"color: #008700; text-decoration-color: #008700\">\"statement\"</span>:     <span style=\"color: #7f7f7f; text-decoration-color: #7f7f7f\">               </span>\n",
       "<span style=\"color: #7fbfbf; text-decoration-color: #7fbfbf\">                    </span>         <span style=\"color: #008700; text-decoration-color: #008700\">\"The study suggests that preoperative localization methods and routine</span> <span style=\"color: #7f7f7f; text-decoration-color: #7f7f7f\">               </span>\n",
       "<span style=\"color: #7fbfbf; text-decoration-color: #7fbfbf\">                    </span>         <span style=\"color: #008700; text-decoration-color: #008700\">biopsy of unaltered glands may not be necessary for parathyroidectomy </span> <span style=\"color: #7f7f7f; text-decoration-color: #7f7f7f\">               </span>\n",
       "<span style=\"color: #7fbfbf; text-decoration-color: #7fbfbf\">                    </span>         <span style=\"color: #008700; text-decoration-color: #008700\">in primary hyperparathyroidism.\"</span>, <span style=\"color: #008700; text-decoration-color: #008700\">\"reason\"</span>: <span style=\"color: #008700; text-decoration-color: #008700\">\"This statement is not </span>    <span style=\"color: #7f7f7f; text-decoration-color: #7f7f7f\">               </span>\n",
       "<span style=\"color: #7fbfbf; text-decoration-color: #7fbfbf\">                    </span>         <span style=\"color: #008700; text-decoration-color: #008700\">directly supported by the ground truth. The ground truth mentions that</span> <span style=\"color: #7f7f7f; text-decoration-color: #7f7f7f\">               </span>\n",
       "<span style=\"color: #7fbfbf; text-decoration-color: #7fbfbf\">                    </span>         <span style=\"color: #008700; text-decoration-color: #008700\">no routine preoperative localization methods were used, contradicting </span> <span style=\"color: #7f7f7f; text-decoration-color: #7f7f7f\">               </span>\n",
       "<span style=\"color: #7fbfbf; text-decoration-color: #7fbfbf\">                    </span>         <span style=\"color: #008700; text-decoration-color: #008700\">this statement.\"</span><span style=\"font-weight: bold\">}</span>, <span style=\"font-weight: bold\">{</span><span style=\"color: #008700; text-decoration-color: #008700\">\"statement\"</span>: <span style=\"color: #008700; text-decoration-color: #008700\">\"In the study, no routine </span>            <span style=\"color: #7f7f7f; text-decoration-color: #7f7f7f\">               </span>\n",
       "<span style=\"color: #7fbfbf; text-decoration-color: #7fbfbf\">                    </span>         <span style=\"color: #008700; text-decoration-color: #008700\">preoperative localization methods were used.\"</span>, <span style=\"color: #008700; text-decoration-color: #008700\">\"reason\"</span>: <span style=\"color: #008700; text-decoration-color: #008700\">\"This </span>        <span style=\"color: #7f7f7f; text-decoration-color: #7f7f7f\">               </span>\n",
       "<span style=\"color: #7fbfbf; text-decoration-color: #7fbfbf\">                    </span>         <span style=\"color: #008700; text-decoration-color: #008700\">statement is not directly supported by the ground truth. The ground </span>   <span style=\"color: #7f7f7f; text-decoration-color: #7f7f7f\">               </span>\n",
       "<span style=\"color: #7fbfbf; text-decoration-color: #7fbfbf\">                    </span>         <span style=\"color: #008700; text-decoration-color: #008700\">truth explicitly mentions that no routine preoperative localization </span>   <span style=\"color: #7f7f7f; text-decoration-color: #7f7f7f\">               </span>\n",
       "<span style=\"color: #7fbfbf; text-decoration-color: #7fbfbf\">                    </span>         <span style=\"color: #008700; text-decoration-color: #008700\">methods were used, contradicting this statement.\"</span><span style=\"font-weight: bold\">}</span>, <span style=\"font-weight: bold\">{</span><span style=\"color: #008700; text-decoration-color: #008700\">\"statement\"</span>:      <span style=\"color: #7f7f7f; text-decoration-color: #7f7f7f\">               </span>\n",
       "<span style=\"color: #7fbfbf; text-decoration-color: #7fbfbf\">                    </span>         <span style=\"color: #008700; text-decoration-color: #008700\">\"Intraoperative biopsy of glands with normal macroscopic appearance </span>   <span style=\"color: #7f7f7f; text-decoration-color: #7f7f7f\">               </span>\n",
       "<span style=\"color: #7fbfbf; text-decoration-color: #7fbfbf\">                    </span>         <span style=\"color: #008700; text-decoration-color: #008700\">was not performed.\"</span>, <span style=\"color: #008700; text-decoration-color: #008700\">\"reason\"</span>: <span style=\"color: #008700; text-decoration-color: #008700\">\"This statement is not directly </span>        <span style=\"color: #7f7f7f; text-decoration-color: #7f7f7f\">               </span>\n",
       "<span style=\"color: #7fbfbf; text-decoration-color: #7fbfbf\">                    </span>         <span style=\"color: #008700; text-decoration-color: #008700\">supported by the ground truth. The ground truth explicitly mentions </span>   <span style=\"color: #7f7f7f; text-decoration-color: #7f7f7f\">               </span>\n",
       "<span style=\"color: #7fbfbf; text-decoration-color: #7fbfbf\">                    </span>         <span style=\"color: #008700; text-decoration-color: #008700\">that intraoperative biopsy of glands with normal macroscopic </span>          <span style=\"color: #7f7f7f; text-decoration-color: #7f7f7f\">               </span>\n",
       "<span style=\"color: #7fbfbf; text-decoration-color: #7fbfbf\">                    </span>         <span style=\"color: #008700; text-decoration-color: #008700\">appearance was not performed, contradicting this statement.\"</span><span style=\"font-weight: bold\">}</span>,         <span style=\"color: #7f7f7f; text-decoration-color: #7f7f7f\">               </span>\n",
       "<span style=\"color: #7fbfbf; text-decoration-color: #7fbfbf\">                    </span>         <span style=\"font-weight: bold\">{</span><span style=\"color: #008700; text-decoration-color: #008700\">\"statement\"</span>: <span style=\"color: #008700; text-decoration-color: #008700\">\"Routine biopsy of normal-appearing glands may increase </span> <span style=\"color: #7f7f7f; text-decoration-color: #7f7f7f\">               </span>\n",
       "<span style=\"color: #7fbfbf; text-decoration-color: #7fbfbf\">                    </span>         <span style=\"color: #008700; text-decoration-color: #008700\">the risk of hypoparathyroidism.\"</span>, <span style=\"color: #008700; text-decoration-color: #008700\">\"reason\"</span>: <span style=\"color: #008700; text-decoration-color: #008700\">\"This statement is not </span>    <span style=\"color: #7f7f7f; text-decoration-color: #7f7f7f\">               </span>\n",
       "<span style=\"color: #7fbfbf; text-decoration-color: #7fbfbf\">                    </span>         <span style=\"color: #008700; text-decoration-color: #008700\">directly supported by the ground truth. The ground truth states that </span>  <span style=\"color: #7f7f7f; text-decoration-color: #7f7f7f\">               </span>\n",
       "<span style=\"color: #7fbfbf; text-decoration-color: #7fbfbf\">                    </span>         <span style=\"color: #008700; text-decoration-color: #008700\">routine biopsy of normal-appearing glands may increase the risk of </span>    <span style=\"color: #7f7f7f; text-decoration-color: #7f7f7f\">               </span>\n",
       "<span style=\"color: #7fbfbf; text-decoration-color: #7fbfbf\">                    </span>         <span style=\"color: #008700; text-decoration-color: #008700\">hypoparathyroidism, contradicting this statement.\"</span><span style=\"font-weight: bold\">}</span>, <span style=\"font-weight: bold\">{</span><span style=\"color: #008700; text-decoration-color: #008700\">\"statement\"</span>:     <span style=\"color: #7f7f7f; text-decoration-color: #7f7f7f\">               </span>\n",
       "<span style=\"color: #7fbfbf; text-decoration-color: #7fbfbf\">                    </span>         <span style=\"color: #008700; text-decoration-color: #008700\">\"The outcomes were favorable.\"</span>, <span style=\"color: #008700; text-decoration-color: #008700\">\"reason\"</span>: <span style=\"color: #008700; text-decoration-color: #008700\">\"This statement is not </span>      <span style=\"color: #7f7f7f; text-decoration-color: #7f7f7f\">               </span>\n",
       "<span style=\"color: #7fbfbf; text-decoration-color: #7fbfbf\">                    </span>         <span style=\"color: #008700; text-decoration-color: #008700\">directly supported by the ground truth. The ground truth states that </span>  <span style=\"color: #7f7f7f; text-decoration-color: #7f7f7f\">               </span>\n",
       "<span style=\"color: #7fbfbf; text-decoration-color: #7fbfbf\">                    </span>         <span style=\"color: #008700; text-decoration-color: #008700\">the outcomes were favorable in more than 95% of patients, not just </span>    <span style=\"color: #7f7f7f; text-decoration-color: #7f7f7f\">               </span>\n",
       "<span style=\"color: #7fbfbf; text-decoration-color: #7fbfbf\">                    </span>         <span style=\"color: #008700; text-decoration-color: #008700\">favorable.\"</span><span style=\"font-weight: bold\">}</span>, <span style=\"font-weight: bold\">{</span><span style=\"color: #008700; text-decoration-color: #008700\">\"statement\"</span>: <span style=\"color: #008700; text-decoration-color: #008700\">\"The study implies that a more </span>            <span style=\"color: #7f7f7f; text-decoration-color: #7f7f7f\">               </span>\n",
       "<span style=\"color: #7fbfbf; text-decoration-color: #7fbfbf\">                    </span>         <span style=\"color: #008700; text-decoration-color: #008700\">conservative approach to parathyroidectomy may be effective in </span>        <span style=\"color: #7f7f7f; text-decoration-color: #7f7f7f\">               </span>\n",
       "<span style=\"color: #7fbfbf; text-decoration-color: #7fbfbf\">                    </span>         <span style=\"color: #008700; text-decoration-color: #008700\">managing primary hyperparathyroidism.\"</span>, <span style=\"color: #008700; text-decoration-color: #008700\">\"reason\"</span>: <span style=\"color: #008700; text-decoration-color: #008700\">\"This statement is </span>  <span style=\"color: #7f7f7f; text-decoration-color: #7f7f7f\">               </span>\n",
       "<span style=\"color: #7fbfbf; text-decoration-color: #7fbfbf\">                    </span>         <span style=\"color: #008700; text-decoration-color: #008700\">not directly supported by the ground truth. The ground truth does not </span> <span style=\"color: #7f7f7f; text-decoration-color: #7f7f7f\">               </span>\n",
       "<span style=\"color: #7fbfbf; text-decoration-color: #7fbfbf\">                    </span>         <span style=\"color: #008700; text-decoration-color: #008700\">mention any implication of a more conservative approach, only that a </span>  <span style=\"color: #7f7f7f; text-decoration-color: #7f7f7f\">               </span>\n",
       "<span style=\"color: #7fbfbf; text-decoration-color: #7fbfbf\">                    </span>         <span style=\"color: #008700; text-decoration-color: #008700\">more conservative approach may be effective.\"</span><span style=\"font-weight: bold\">}]}</span>. Got: <span style=\"color: #008080; text-decoration-color: #008080; font-weight: bold\">1</span> validation    <span style=\"color: #7f7f7f; text-decoration-color: #7f7f7f\">               </span>\n",
       "<span style=\"color: #7fbfbf; text-decoration-color: #7fbfbf\">                    </span>         error for StringIO                                                     <span style=\"color: #7f7f7f; text-decoration-color: #7f7f7f\">               </span>\n",
       "<span style=\"color: #7fbfbf; text-decoration-color: #7fbfbf\">                    </span>         text                                                                   <span style=\"color: #7f7f7f; text-decoration-color: #7f7f7f\">               </span>\n",
       "<span style=\"color: #7fbfbf; text-decoration-color: #7fbfbf\">                    </span>           Field required <span style=\"font-weight: bold\">[</span><span style=\"color: #d7af00; text-decoration-color: #d7af00\">type</span>=<span style=\"color: #e100e1; text-decoration-color: #e100e1\">missing</span>, <span style=\"color: #d7af00; text-decoration-color: #d7af00\">input_value</span>=<span style=\"font-weight: bold\">{</span><span style=\"color: #008700; text-decoration-color: #008700\">'TP'</span>: <span style=\"font-weight: bold\">[]</span>, <span style=\"color: #008700; text-decoration-color: #008700\">'FP'</span>: <span style=\"font-weight: bold\">[]</span>,       <span style=\"color: #7f7f7f; text-decoration-color: #7f7f7f\">               </span>\n",
       "<span style=\"color: #7fbfbf; text-decoration-color: #7fbfbf\">                    </span>         <span style=\"color: #008700; text-decoration-color: #008700\">'FN'</span><span style=\"color: #808000; text-decoration-color: #808000\">...</span>ch may be effective.'<span style=\"font-weight: bold\">}]}</span>, <span style=\"color: #d7af00; text-decoration-color: #d7af00\">input_type</span>=<span style=\"color: #e100e1; text-decoration-color: #e100e1\">dict</span><span style=\"font-weight: bold\">]</span>                      <span style=\"color: #7f7f7f; text-decoration-color: #7f7f7f\">               </span>\n",
       "<span style=\"color: #7fbfbf; text-decoration-color: #7fbfbf\">                    </span>             For further information visit                                      <span style=\"color: #7f7f7f; text-decoration-color: #7f7f7f\">               </span>\n",
       "<span style=\"color: #7fbfbf; text-decoration-color: #7fbfbf\">                    </span>         <span style=\"color: #0069ff; text-decoration-color: #0069ff; text-decoration: underline\">https://errors.pydantic.dev/2.11/v/missing</span>                             <span style=\"color: #7f7f7f; text-decoration-color: #7f7f7f\">               </span>\n",
       "<span style=\"color: #7fbfbf; text-decoration-color: #7fbfbf\">                    </span>         For troubleshooting, visit:                                            <span style=\"color: #7f7f7f; text-decoration-color: #7f7f7f\">               </span>\n",
       "<span style=\"color: #7fbfbf; text-decoration-color: #7fbfbf\">                    </span>         <span style=\"color: #0069ff; text-decoration-color: #0069ff; text-decoration: underline\">https://python.langchain.com/docs/troubleshooting/errors/OUT</span><span style=\"color: #d7af00; text-decoration-color: #d7af00; font-weight: bold; text-decoration: underline\">PUT</span><span style=\"color: #0069ff; text-decoration-color: #0069ff; text-decoration: underline\">_PARSIN</span> <span style=\"color: #7f7f7f; text-decoration-color: #7f7f7f\">               </span>\n",
       "<span style=\"color: #7fbfbf; text-decoration-color: #7fbfbf\">                    </span>         <span style=\"color: #0069ff; text-decoration-color: #0069ff; text-decoration: underline\">G_FAILURE</span> <span style=\"font-weight: bold\">)</span>                                                            <span style=\"color: #7f7f7f; text-decoration-color: #7f7f7f\">               </span>\n",
       "</pre>\n"
      ],
      "text/plain": [
       "\u001b[2;36m[04/05/25 20:35:25]\u001b[0m\u001b[2;36m \u001b[0m\u001b[1;38;2;215;0;0mERROR   \u001b[0m Exception raised in Job\u001b[1m[\u001b[0m\u001b[1;36m3311\u001b[0m\u001b[1m]\u001b[0m: \u001b[1;38;2;225;0;225mOutputParserException\u001b[0m\u001b[1m(\u001b[0mFailed to parse   \u001b]8;id=583732;file:///opt/conda/lib/python3.11/site-packages/ragas/executor.py\u001b\\\u001b[2mexecutor.py\u001b[0m\u001b]8;;\u001b\\\u001b[2m:\u001b[0m\u001b]8;id=34065;file:///opt/conda/lib/python3.11/site-packages/ragas/executor.py#104\u001b\\\u001b[2m104\u001b[0m\u001b]8;;\u001b\\\n",
       "\u001b[2;36m                    \u001b[0m         StringIO from completion \u001b[1m{\u001b[0m\u001b[38;2;0;135;0m\"TP\"\u001b[0m: \u001b[1m[\u001b[0m\u001b[1m]\u001b[0m, \u001b[38;2;0;135;0m\"FP\"\u001b[0m: \u001b[1m[\u001b[0m\u001b[1m]\u001b[0m, \u001b[38;2;0;135;0m\"FN\"\u001b[0m: \u001b[1m[\u001b[0m\u001b[1m{\u001b[0m\u001b[38;2;0;135;0m\"statement\"\u001b[0m:     \u001b[2m               \u001b[0m\n",
       "\u001b[2;36m                    \u001b[0m         \u001b[38;2;0;135;0m\"The study suggests that preoperative localization methods and routine\u001b[0m \u001b[2m               \u001b[0m\n",
       "\u001b[2;36m                    \u001b[0m         \u001b[38;2;0;135;0mbiopsy of unaltered glands may not be necessary for parathyroidectomy \u001b[0m \u001b[2m               \u001b[0m\n",
       "\u001b[2;36m                    \u001b[0m         \u001b[38;2;0;135;0min primary hyperparathyroidism.\"\u001b[0m, \u001b[38;2;0;135;0m\"reason\"\u001b[0m: \u001b[38;2;0;135;0m\"This statement is not \u001b[0m    \u001b[2m               \u001b[0m\n",
       "\u001b[2;36m                    \u001b[0m         \u001b[38;2;0;135;0mdirectly supported by the ground truth. The ground truth mentions that\u001b[0m \u001b[2m               \u001b[0m\n",
       "\u001b[2;36m                    \u001b[0m         \u001b[38;2;0;135;0mno routine preoperative localization methods were used, contradicting \u001b[0m \u001b[2m               \u001b[0m\n",
       "\u001b[2;36m                    \u001b[0m         \u001b[38;2;0;135;0mthis statement.\"\u001b[0m\u001b[1m}\u001b[0m, \u001b[1m{\u001b[0m\u001b[38;2;0;135;0m\"statement\"\u001b[0m: \u001b[38;2;0;135;0m\"In the study, no routine \u001b[0m            \u001b[2m               \u001b[0m\n",
       "\u001b[2;36m                    \u001b[0m         \u001b[38;2;0;135;0mpreoperative localization methods were used.\"\u001b[0m, \u001b[38;2;0;135;0m\"reason\"\u001b[0m: \u001b[38;2;0;135;0m\"This \u001b[0m        \u001b[2m               \u001b[0m\n",
       "\u001b[2;36m                    \u001b[0m         \u001b[38;2;0;135;0mstatement is not directly supported by the ground truth. The ground \u001b[0m   \u001b[2m               \u001b[0m\n",
       "\u001b[2;36m                    \u001b[0m         \u001b[38;2;0;135;0mtruth explicitly mentions that no routine preoperative localization \u001b[0m   \u001b[2m               \u001b[0m\n",
       "\u001b[2;36m                    \u001b[0m         \u001b[38;2;0;135;0mmethods were used, contradicting this statement.\"\u001b[0m\u001b[1m}\u001b[0m, \u001b[1m{\u001b[0m\u001b[38;2;0;135;0m\"statement\"\u001b[0m:      \u001b[2m               \u001b[0m\n",
       "\u001b[2;36m                    \u001b[0m         \u001b[38;2;0;135;0m\"Intraoperative biopsy of glands with normal macroscopic appearance \u001b[0m   \u001b[2m               \u001b[0m\n",
       "\u001b[2;36m                    \u001b[0m         \u001b[38;2;0;135;0mwas not performed.\"\u001b[0m, \u001b[38;2;0;135;0m\"reason\"\u001b[0m: \u001b[38;2;0;135;0m\"This statement is not directly \u001b[0m        \u001b[2m               \u001b[0m\n",
       "\u001b[2;36m                    \u001b[0m         \u001b[38;2;0;135;0msupported by the ground truth. The ground truth explicitly mentions \u001b[0m   \u001b[2m               \u001b[0m\n",
       "\u001b[2;36m                    \u001b[0m         \u001b[38;2;0;135;0mthat intraoperative biopsy of glands with normal macroscopic \u001b[0m          \u001b[2m               \u001b[0m\n",
       "\u001b[2;36m                    \u001b[0m         \u001b[38;2;0;135;0mappearance was not performed, contradicting this statement.\"\u001b[0m\u001b[1m}\u001b[0m,         \u001b[2m               \u001b[0m\n",
       "\u001b[2;36m                    \u001b[0m         \u001b[1m{\u001b[0m\u001b[38;2;0;135;0m\"statement\"\u001b[0m: \u001b[38;2;0;135;0m\"Routine biopsy of normal-appearing glands may increase \u001b[0m \u001b[2m               \u001b[0m\n",
       "\u001b[2;36m                    \u001b[0m         \u001b[38;2;0;135;0mthe risk of hypoparathyroidism.\"\u001b[0m, \u001b[38;2;0;135;0m\"reason\"\u001b[0m: \u001b[38;2;0;135;0m\"This statement is not \u001b[0m    \u001b[2m               \u001b[0m\n",
       "\u001b[2;36m                    \u001b[0m         \u001b[38;2;0;135;0mdirectly supported by the ground truth. The ground truth states that \u001b[0m  \u001b[2m               \u001b[0m\n",
       "\u001b[2;36m                    \u001b[0m         \u001b[38;2;0;135;0mroutine biopsy of normal-appearing glands may increase the risk of \u001b[0m    \u001b[2m               \u001b[0m\n",
       "\u001b[2;36m                    \u001b[0m         \u001b[38;2;0;135;0mhypoparathyroidism, contradicting this statement.\"\u001b[0m\u001b[1m}\u001b[0m, \u001b[1m{\u001b[0m\u001b[38;2;0;135;0m\"statement\"\u001b[0m:     \u001b[2m               \u001b[0m\n",
       "\u001b[2;36m                    \u001b[0m         \u001b[38;2;0;135;0m\"The outcomes were favorable.\"\u001b[0m, \u001b[38;2;0;135;0m\"reason\"\u001b[0m: \u001b[38;2;0;135;0m\"This statement is not \u001b[0m      \u001b[2m               \u001b[0m\n",
       "\u001b[2;36m                    \u001b[0m         \u001b[38;2;0;135;0mdirectly supported by the ground truth. The ground truth states that \u001b[0m  \u001b[2m               \u001b[0m\n",
       "\u001b[2;36m                    \u001b[0m         \u001b[38;2;0;135;0mthe outcomes were favorable in more than 95% of patients, not just \u001b[0m    \u001b[2m               \u001b[0m\n",
       "\u001b[2;36m                    \u001b[0m         \u001b[38;2;0;135;0mfavorable.\"\u001b[0m\u001b[1m}\u001b[0m, \u001b[1m{\u001b[0m\u001b[38;2;0;135;0m\"statement\"\u001b[0m: \u001b[38;2;0;135;0m\"The study implies that a more \u001b[0m            \u001b[2m               \u001b[0m\n",
       "\u001b[2;36m                    \u001b[0m         \u001b[38;2;0;135;0mconservative approach to parathyroidectomy may be effective in \u001b[0m        \u001b[2m               \u001b[0m\n",
       "\u001b[2;36m                    \u001b[0m         \u001b[38;2;0;135;0mmanaging primary hyperparathyroidism.\"\u001b[0m, \u001b[38;2;0;135;0m\"reason\"\u001b[0m: \u001b[38;2;0;135;0m\"This statement is \u001b[0m  \u001b[2m               \u001b[0m\n",
       "\u001b[2;36m                    \u001b[0m         \u001b[38;2;0;135;0mnot directly supported by the ground truth. The ground truth does not \u001b[0m \u001b[2m               \u001b[0m\n",
       "\u001b[2;36m                    \u001b[0m         \u001b[38;2;0;135;0mmention any implication of a more conservative approach, only that a \u001b[0m  \u001b[2m               \u001b[0m\n",
       "\u001b[2;36m                    \u001b[0m         \u001b[38;2;0;135;0mmore conservative approach may be effective.\"\u001b[0m\u001b[1m}\u001b[0m\u001b[1m]\u001b[0m\u001b[1m}\u001b[0m. Got: \u001b[1;36m1\u001b[0m validation    \u001b[2m               \u001b[0m\n",
       "\u001b[2;36m                    \u001b[0m         error for StringIO                                                     \u001b[2m               \u001b[0m\n",
       "\u001b[2;36m                    \u001b[0m         text                                                                   \u001b[2m               \u001b[0m\n",
       "\u001b[2;36m                    \u001b[0m           Field required \u001b[1m[\u001b[0m\u001b[38;2;215;175;0mtype\u001b[0m=\u001b[38;2;225;0;225mmissing\u001b[0m, \u001b[38;2;215;175;0minput_value\u001b[0m=\u001b[1m{\u001b[0m\u001b[38;2;0;135;0m'TP'\u001b[0m: \u001b[1m[\u001b[0m\u001b[1m]\u001b[0m, \u001b[38;2;0;135;0m'FP'\u001b[0m: \u001b[1m[\u001b[0m\u001b[1m]\u001b[0m,       \u001b[2m               \u001b[0m\n",
       "\u001b[2;36m                    \u001b[0m         \u001b[38;2;0;135;0m'FN'\u001b[0m\u001b[33m...\u001b[0mch may be effective.'\u001b[1m}\u001b[0m\u001b[1m]\u001b[0m\u001b[1m}\u001b[0m, \u001b[38;2;215;175;0minput_type\u001b[0m=\u001b[38;2;225;0;225mdict\u001b[0m\u001b[1m]\u001b[0m                      \u001b[2m               \u001b[0m\n",
       "\u001b[2;36m                    \u001b[0m             For further information visit                                      \u001b[2m               \u001b[0m\n",
       "\u001b[2;36m                    \u001b[0m         \u001b[4;38;2;0;105;255mhttps://errors.pydantic.dev/2.11/v/missing\u001b[0m                             \u001b[2m               \u001b[0m\n",
       "\u001b[2;36m                    \u001b[0m         For troubleshooting, visit:                                            \u001b[2m               \u001b[0m\n",
       "\u001b[2;36m                    \u001b[0m         \u001b[4;38;2;0;105;255mhttps://python.langchain.com/docs/troubleshooting/errors/OUT\u001b[0m\u001b[1;4;38;2;215;175;0mPUT\u001b[0m\u001b[4;38;2;0;105;255m_PARSIN\u001b[0m \u001b[2m               \u001b[0m\n",
       "\u001b[2;36m                    \u001b[0m         \u001b[4;38;2;0;105;255mG_FAILURE\u001b[0m \u001b[1m)\u001b[0m                                                            \u001b[2m               \u001b[0m\n"
      ]
     },
     "metadata": {},
     "output_type": "display_data"
    },
    {
     "data": {
      "text/html": [
       "<pre style=\"white-space:pre;overflow-x:auto;line-height:normal;font-family:Menlo,'DejaVu Sans Mono',consolas,'Courier New',monospace\"><span style=\"color: #7fbfbf; text-decoration-color: #7fbfbf\">[04/05/25 20:37:57] </span><span style=\"color: #d70000; text-decoration-color: #d70000; font-weight: bold\">ERROR   </span> Exception raised in Job<span style=\"font-weight: bold\">[</span><span style=\"color: #008080; text-decoration-color: #008080; font-weight: bold\">3713</span><span style=\"font-weight: bold\">]</span>: <span style=\"color: #e100e1; text-decoration-color: #e100e1; font-weight: bold\">OutputParserException</span><span style=\"font-weight: bold\">(</span>Failed to parse   <a href=\"file:///opt/conda/lib/python3.11/site-packages/ragas/executor.py\" target=\"_blank\"><span style=\"color: #7f7f7f; text-decoration-color: #7f7f7f\">executor.py</span></a><span style=\"color: #7f7f7f; text-decoration-color: #7f7f7f\">:</span><a href=\"file:///opt/conda/lib/python3.11/site-packages/ragas/executor.py#104\" target=\"_blank\"><span style=\"color: #7f7f7f; text-decoration-color: #7f7f7f\">104</span></a>\n",
       "<span style=\"color: #7fbfbf; text-decoration-color: #7fbfbf\">                    </span>         StringIO from completion <span style=\"font-weight: bold\">{</span><span style=\"color: #008700; text-decoration-color: #008700\">\"TP\"</span>: <span style=\"font-weight: bold\">[{</span><span style=\"color: #008700; text-decoration-color: #008700\">\"statement\"</span>: <span style=\"color: #008700; text-decoration-color: #008700\">\"Cigarette smoking is </span>  <span style=\"color: #7f7f7f; text-decoration-color: #7f7f7f\">               </span>\n",
       "<span style=\"color: #7fbfbf; text-decoration-color: #7fbfbf\">                    </span>         <span style=\"color: #008700; text-decoration-color: #008700\">associated with advanced renal cell carcinoma.\"</span>, <span style=\"color: #008700; text-decoration-color: #008700\">\"reason\"</span>: <span style=\"color: #008700; text-decoration-color: #008700\">\"This </span>      <span style=\"color: #7f7f7f; text-decoration-color: #7f7f7f\">               </span>\n",
       "<span style=\"color: #7fbfbf; text-decoration-color: #7fbfbf\">                    </span>         <span style=\"color: #008700; text-decoration-color: #008700\">statement is directly supported by the ground truth which explicitly </span>  <span style=\"color: #7f7f7f; text-decoration-color: #7f7f7f\">               </span>\n",
       "<span style=\"color: #7fbfbf; text-decoration-color: #7fbfbf\">                    </span>         <span style=\"color: #008700; text-decoration-color: #008700\">states that cigarette smoking is an independent risk factor for </span>       <span style=\"color: #7f7f7f; text-decoration-color: #7f7f7f\">               </span>\n",
       "<span style=\"color: #7fbfbf; text-decoration-color: #7fbfbf\">                    </span>         <span style=\"color: #008700; text-decoration-color: #008700\">advanced RCC.\\n        </span><span style=\"color: #008700; text-decoration-color: #008700; font-weight: bold\">}</span><span style=\"color: #008700; text-decoration-color: #008700\">\\n    </span><span style=\"color: #008700; text-decoration-color: #008700; font-weight: bold\">]</span><span style=\"color: #008700; text-decoration-color: #008700\">,\\n    \"</span><span style=\"font-weight: bold\">}]}</span>. Got: <span style=\"color: #008080; text-decoration-color: #008080; font-weight: bold\">1</span> validation error    <span style=\"color: #7f7f7f; text-decoration-color: #7f7f7f\">               </span>\n",
       "<span style=\"color: #7fbfbf; text-decoration-color: #7fbfbf\">                    </span>         for StringIO                                                           <span style=\"color: #7f7f7f; text-decoration-color: #7f7f7f\">               </span>\n",
       "<span style=\"color: #7fbfbf; text-decoration-color: #7fbfbf\">                    </span>         text                                                                   <span style=\"color: #7f7f7f; text-decoration-color: #7f7f7f\">               </span>\n",
       "<span style=\"color: #7fbfbf; text-decoration-color: #7fbfbf\">                    </span>           Field required <span style=\"font-weight: bold\">[</span><span style=\"color: #d7af00; text-decoration-color: #d7af00\">type</span>=<span style=\"color: #e100e1; text-decoration-color: #e100e1\">missing</span>, <span style=\"color: #d7af00; text-decoration-color: #d7af00\">input_value</span>=<span style=\"font-weight: bold\">{</span><span style=\"color: #008700; text-decoration-color: #008700\">'TP'</span>: <span style=\"font-weight: bold\">[{</span><span style=\"color: #008700; text-decoration-color: #008700\">'statement'</span>:      <span style=\"color: #7f7f7f; text-decoration-color: #7f7f7f\">               </span>\n",
       "<span style=\"color: #7fbfbf; text-decoration-color: #7fbfbf\">                    </span>         <span style=\"color: #008700; text-decoration-color: #008700\">'Ci...     </span><span style=\"color: #008700; text-decoration-color: #008700; font-weight: bold\">}</span><span style=\"color: #008700; text-decoration-color: #008700\">\\n    </span><span style=\"color: #008700; text-decoration-color: #008700; font-weight: bold\">]</span><span style=\"color: #008700; text-decoration-color: #008700\">,\\n    '</span><span style=\"font-weight: bold\">}]}</span>, <span style=\"color: #d7af00; text-decoration-color: #d7af00\">input_type</span>=<span style=\"color: #e100e1; text-decoration-color: #e100e1\">dict</span><span style=\"font-weight: bold\">]</span>                       <span style=\"color: #7f7f7f; text-decoration-color: #7f7f7f\">               </span>\n",
       "<span style=\"color: #7fbfbf; text-decoration-color: #7fbfbf\">                    </span>             For further information visit                                      <span style=\"color: #7f7f7f; text-decoration-color: #7f7f7f\">               </span>\n",
       "<span style=\"color: #7fbfbf; text-decoration-color: #7fbfbf\">                    </span>         <span style=\"color: #0069ff; text-decoration-color: #0069ff; text-decoration: underline\">https://errors.pydantic.dev/2.11/v/missing</span>                             <span style=\"color: #7f7f7f; text-decoration-color: #7f7f7f\">               </span>\n",
       "<span style=\"color: #7fbfbf; text-decoration-color: #7fbfbf\">                    </span>         For troubleshooting, visit:                                            <span style=\"color: #7f7f7f; text-decoration-color: #7f7f7f\">               </span>\n",
       "<span style=\"color: #7fbfbf; text-decoration-color: #7fbfbf\">                    </span>         <span style=\"color: #0069ff; text-decoration-color: #0069ff; text-decoration: underline\">https://python.langchain.com/docs/troubleshooting/errors/OUT</span><span style=\"color: #d7af00; text-decoration-color: #d7af00; font-weight: bold; text-decoration: underline\">PUT</span><span style=\"color: #0069ff; text-decoration-color: #0069ff; text-decoration: underline\">_PARSIN</span> <span style=\"color: #7f7f7f; text-decoration-color: #7f7f7f\">               </span>\n",
       "<span style=\"color: #7fbfbf; text-decoration-color: #7fbfbf\">                    </span>         <span style=\"color: #0069ff; text-decoration-color: #0069ff; text-decoration: underline\">G_FAILURE</span> <span style=\"font-weight: bold\">)</span>                                                            <span style=\"color: #7f7f7f; text-decoration-color: #7f7f7f\">               </span>\n",
       "</pre>\n"
      ],
      "text/plain": [
       "\u001b[2;36m[04/05/25 20:37:57]\u001b[0m\u001b[2;36m \u001b[0m\u001b[1;38;2;215;0;0mERROR   \u001b[0m Exception raised in Job\u001b[1m[\u001b[0m\u001b[1;36m3713\u001b[0m\u001b[1m]\u001b[0m: \u001b[1;38;2;225;0;225mOutputParserException\u001b[0m\u001b[1m(\u001b[0mFailed to parse   \u001b]8;id=47979;file:///opt/conda/lib/python3.11/site-packages/ragas/executor.py\u001b\\\u001b[2mexecutor.py\u001b[0m\u001b]8;;\u001b\\\u001b[2m:\u001b[0m\u001b]8;id=420693;file:///opt/conda/lib/python3.11/site-packages/ragas/executor.py#104\u001b\\\u001b[2m104\u001b[0m\u001b]8;;\u001b\\\n",
       "\u001b[2;36m                    \u001b[0m         StringIO from completion \u001b[1m{\u001b[0m\u001b[38;2;0;135;0m\"TP\"\u001b[0m: \u001b[1m[\u001b[0m\u001b[1m{\u001b[0m\u001b[38;2;0;135;0m\"statement\"\u001b[0m: \u001b[38;2;0;135;0m\"Cigarette smoking is \u001b[0m  \u001b[2m               \u001b[0m\n",
       "\u001b[2;36m                    \u001b[0m         \u001b[38;2;0;135;0massociated with advanced renal cell carcinoma.\"\u001b[0m, \u001b[38;2;0;135;0m\"reason\"\u001b[0m: \u001b[38;2;0;135;0m\"This \u001b[0m      \u001b[2m               \u001b[0m\n",
       "\u001b[2;36m                    \u001b[0m         \u001b[38;2;0;135;0mstatement is directly supported by the ground truth which explicitly \u001b[0m  \u001b[2m               \u001b[0m\n",
       "\u001b[2;36m                    \u001b[0m         \u001b[38;2;0;135;0mstates that cigarette smoking is an independent risk factor for \u001b[0m       \u001b[2m               \u001b[0m\n",
       "\u001b[2;36m                    \u001b[0m         \u001b[38;2;0;135;0madvanced RCC.\\n        \u001b[0m\u001b[1;38;2;0;135;0m}\u001b[0m\u001b[38;2;0;135;0m\\n    \u001b[0m\u001b[1;38;2;0;135;0m]\u001b[0m\u001b[38;2;0;135;0m,\\n    \"\u001b[0m\u001b[1m}\u001b[0m\u001b[1m]\u001b[0m\u001b[1m}\u001b[0m. Got: \u001b[1;36m1\u001b[0m validation error    \u001b[2m               \u001b[0m\n",
       "\u001b[2;36m                    \u001b[0m         for StringIO                                                           \u001b[2m               \u001b[0m\n",
       "\u001b[2;36m                    \u001b[0m         text                                                                   \u001b[2m               \u001b[0m\n",
       "\u001b[2;36m                    \u001b[0m           Field required \u001b[1m[\u001b[0m\u001b[38;2;215;175;0mtype\u001b[0m=\u001b[38;2;225;0;225mmissing\u001b[0m, \u001b[38;2;215;175;0minput_value\u001b[0m=\u001b[1m{\u001b[0m\u001b[38;2;0;135;0m'TP'\u001b[0m: \u001b[1m[\u001b[0m\u001b[1m{\u001b[0m\u001b[38;2;0;135;0m'statement'\u001b[0m:      \u001b[2m               \u001b[0m\n",
       "\u001b[2;36m                    \u001b[0m         \u001b[38;2;0;135;0m'Ci...     \u001b[0m\u001b[1;38;2;0;135;0m}\u001b[0m\u001b[38;2;0;135;0m\\n    \u001b[0m\u001b[1;38;2;0;135;0m]\u001b[0m\u001b[38;2;0;135;0m,\\n    '\u001b[0m\u001b[1m}\u001b[0m\u001b[1m]\u001b[0m\u001b[1m}\u001b[0m, \u001b[38;2;215;175;0minput_type\u001b[0m=\u001b[38;2;225;0;225mdict\u001b[0m\u001b[1m]\u001b[0m                       \u001b[2m               \u001b[0m\n",
       "\u001b[2;36m                    \u001b[0m             For further information visit                                      \u001b[2m               \u001b[0m\n",
       "\u001b[2;36m                    \u001b[0m         \u001b[4;38;2;0;105;255mhttps://errors.pydantic.dev/2.11/v/missing\u001b[0m                             \u001b[2m               \u001b[0m\n",
       "\u001b[2;36m                    \u001b[0m         For troubleshooting, visit:                                            \u001b[2m               \u001b[0m\n",
       "\u001b[2;36m                    \u001b[0m         \u001b[4;38;2;0;105;255mhttps://python.langchain.com/docs/troubleshooting/errors/OUT\u001b[0m\u001b[1;4;38;2;215;175;0mPUT\u001b[0m\u001b[4;38;2;0;105;255m_PARSIN\u001b[0m \u001b[2m               \u001b[0m\n",
       "\u001b[2;36m                    \u001b[0m         \u001b[4;38;2;0;105;255mG_FAILURE\u001b[0m \u001b[1m)\u001b[0m                                                            \u001b[2m               \u001b[0m\n"
      ]
     },
     "metadata": {},
     "output_type": "display_data"
    },
    {
     "data": {
      "text/html": [
       "<pre style=\"white-space:pre;overflow-x:auto;line-height:normal;font-family:Menlo,'DejaVu Sans Mono',consolas,'Courier New',monospace\"><span style=\"color: #7fbfbf; text-decoration-color: #7fbfbf\">[04/05/25 20:40:43] </span><span style=\"color: #d70000; text-decoration-color: #d70000; font-weight: bold\">ERROR   </span> Prompt fix_output_format failed to parse output: The output     <a href=\"file:///opt/conda/lib/python3.11/site-packages/ragas/prompt/pydantic_prompt.py\" target=\"_blank\"><span style=\"color: #7f7f7f; text-decoration-color: #7f7f7f\">pydantic_prompt.py</span></a><span style=\"color: #7f7f7f; text-decoration-color: #7f7f7f\">:</span><a href=\"file:///opt/conda/lib/python3.11/site-packages/ragas/prompt/pydantic_prompt.py#214\" target=\"_blank\"><span style=\"color: #7f7f7f; text-decoration-color: #7f7f7f\">214</span></a>\n",
       "<span style=\"color: #7fbfbf; text-decoration-color: #7fbfbf\">                    </span>         parser failed to parse the output including retries.            <span style=\"color: #7f7f7f; text-decoration-color: #7f7f7f\">                      </span>\n",
       "</pre>\n"
      ],
      "text/plain": [
       "\u001b[2;36m[04/05/25 20:40:43]\u001b[0m\u001b[2;36m \u001b[0m\u001b[1;38;2;215;0;0mERROR   \u001b[0m Prompt fix_output_format failed to parse output: The output     \u001b]8;id=119693;file:///opt/conda/lib/python3.11/site-packages/ragas/prompt/pydantic_prompt.py\u001b\\\u001b[2mpydantic_prompt.py\u001b[0m\u001b]8;;\u001b\\\u001b[2m:\u001b[0m\u001b]8;id=321456;file:///opt/conda/lib/python3.11/site-packages/ragas/prompt/pydantic_prompt.py#214\u001b\\\u001b[2m214\u001b[0m\u001b]8;;\u001b\\\n",
       "\u001b[2;36m                    \u001b[0m         parser failed to parse the output including retries.            \u001b[2m                      \u001b[0m\n"
      ]
     },
     "metadata": {},
     "output_type": "display_data"
    },
    {
     "data": {
      "text/html": [
       "<pre style=\"white-space:pre;overflow-x:auto;line-height:normal;font-family:Menlo,'DejaVu Sans Mono',consolas,'Courier New',monospace\"><span style=\"color: #7fbfbf; text-decoration-color: #7fbfbf\">                    </span><span style=\"color: #d70000; text-decoration-color: #d70000; font-weight: bold\">ERROR   </span> Prompt fix_output_format failed to parse output: The output     <a href=\"file:///opt/conda/lib/python3.11/site-packages/ragas/prompt/pydantic_prompt.py\" target=\"_blank\"><span style=\"color: #7f7f7f; text-decoration-color: #7f7f7f\">pydantic_prompt.py</span></a><span style=\"color: #7f7f7f; text-decoration-color: #7f7f7f\">:</span><a href=\"file:///opt/conda/lib/python3.11/site-packages/ragas/prompt/pydantic_prompt.py#214\" target=\"_blank\"><span style=\"color: #7f7f7f; text-decoration-color: #7f7f7f\">214</span></a>\n",
       "<span style=\"color: #7fbfbf; text-decoration-color: #7fbfbf\">                    </span>         parser failed to parse the output including retries.            <span style=\"color: #7f7f7f; text-decoration-color: #7f7f7f\">                      </span>\n",
       "</pre>\n"
      ],
      "text/plain": [
       "\u001b[2;36m                   \u001b[0m\u001b[2;36m \u001b[0m\u001b[1;38;2;215;0;0mERROR   \u001b[0m Prompt fix_output_format failed to parse output: The output     \u001b]8;id=886266;file:///opt/conda/lib/python3.11/site-packages/ragas/prompt/pydantic_prompt.py\u001b\\\u001b[2mpydantic_prompt.py\u001b[0m\u001b]8;;\u001b\\\u001b[2m:\u001b[0m\u001b]8;id=200701;file:///opt/conda/lib/python3.11/site-packages/ragas/prompt/pydantic_prompt.py#214\u001b\\\u001b[2m214\u001b[0m\u001b]8;;\u001b\\\n",
       "\u001b[2;36m                    \u001b[0m         parser failed to parse the output including retries.            \u001b[2m                      \u001b[0m\n"
      ]
     },
     "metadata": {},
     "output_type": "display_data"
    },
    {
     "data": {
      "text/html": [
       "<pre style=\"white-space:pre;overflow-x:auto;line-height:normal;font-family:Menlo,'DejaVu Sans Mono',consolas,'Courier New',monospace\"><span style=\"color: #7fbfbf; text-decoration-color: #7fbfbf\">                    </span><span style=\"color: #d70000; text-decoration-color: #d70000; font-weight: bold\">ERROR   </span> Prompt fix_output_format failed to parse output: The output     <a href=\"file:///opt/conda/lib/python3.11/site-packages/ragas/prompt/pydantic_prompt.py\" target=\"_blank\"><span style=\"color: #7f7f7f; text-decoration-color: #7f7f7f\">pydantic_prompt.py</span></a><span style=\"color: #7f7f7f; text-decoration-color: #7f7f7f\">:</span><a href=\"file:///opt/conda/lib/python3.11/site-packages/ragas/prompt/pydantic_prompt.py#214\" target=\"_blank\"><span style=\"color: #7f7f7f; text-decoration-color: #7f7f7f\">214</span></a>\n",
       "<span style=\"color: #7fbfbf; text-decoration-color: #7fbfbf\">                    </span>         parser failed to parse the output including retries.            <span style=\"color: #7f7f7f; text-decoration-color: #7f7f7f\">                      </span>\n",
       "</pre>\n"
      ],
      "text/plain": [
       "\u001b[2;36m                   \u001b[0m\u001b[2;36m \u001b[0m\u001b[1;38;2;215;0;0mERROR   \u001b[0m Prompt fix_output_format failed to parse output: The output     \u001b]8;id=138704;file:///opt/conda/lib/python3.11/site-packages/ragas/prompt/pydantic_prompt.py\u001b\\\u001b[2mpydantic_prompt.py\u001b[0m\u001b]8;;\u001b\\\u001b[2m:\u001b[0m\u001b]8;id=477903;file:///opt/conda/lib/python3.11/site-packages/ragas/prompt/pydantic_prompt.py#214\u001b\\\u001b[2m214\u001b[0m\u001b]8;;\u001b\\\n",
       "\u001b[2;36m                    \u001b[0m         parser failed to parse the output including retries.            \u001b[2m                      \u001b[0m\n"
      ]
     },
     "metadata": {},
     "output_type": "display_data"
    },
    {
     "data": {
      "text/html": [
       "<pre style=\"white-space:pre;overflow-x:auto;line-height:normal;font-family:Menlo,'DejaVu Sans Mono',consolas,'Courier New',monospace\"><span style=\"color: #7fbfbf; text-decoration-color: #7fbfbf\">                    </span><span style=\"color: #d70000; text-decoration-color: #d70000; font-weight: bold\">ERROR   </span> Prompt statement_generator_prompt failed to parse output: The   <a href=\"file:///opt/conda/lib/python3.11/site-packages/ragas/prompt/pydantic_prompt.py\" target=\"_blank\"><span style=\"color: #7f7f7f; text-decoration-color: #7f7f7f\">pydantic_prompt.py</span></a><span style=\"color: #7f7f7f; text-decoration-color: #7f7f7f\">:</span><a href=\"file:///opt/conda/lib/python3.11/site-packages/ragas/prompt/pydantic_prompt.py#214\" target=\"_blank\"><span style=\"color: #7f7f7f; text-decoration-color: #7f7f7f\">214</span></a>\n",
       "<span style=\"color: #7fbfbf; text-decoration-color: #7fbfbf\">                    </span>         output parser failed to parse the output including retries.     <span style=\"color: #7f7f7f; text-decoration-color: #7f7f7f\">                      </span>\n",
       "</pre>\n"
      ],
      "text/plain": [
       "\u001b[2;36m                   \u001b[0m\u001b[2;36m \u001b[0m\u001b[1;38;2;215;0;0mERROR   \u001b[0m Prompt statement_generator_prompt failed to parse output: The   \u001b]8;id=886511;file:///opt/conda/lib/python3.11/site-packages/ragas/prompt/pydantic_prompt.py\u001b\\\u001b[2mpydantic_prompt.py\u001b[0m\u001b]8;;\u001b\\\u001b[2m:\u001b[0m\u001b]8;id=429830;file:///opt/conda/lib/python3.11/site-packages/ragas/prompt/pydantic_prompt.py#214\u001b\\\u001b[2m214\u001b[0m\u001b]8;;\u001b\\\n",
       "\u001b[2;36m                    \u001b[0m         output parser failed to parse the output including retries.     \u001b[2m                      \u001b[0m\n"
      ]
     },
     "metadata": {},
     "output_type": "display_data"
    },
    {
     "data": {
      "text/html": [
       "<pre style=\"white-space:pre;overflow-x:auto;line-height:normal;font-family:Menlo,'DejaVu Sans Mono',consolas,'Courier New',monospace\"><span style=\"color: #7fbfbf; text-decoration-color: #7fbfbf\">                    </span><span style=\"color: #d70000; text-decoration-color: #d70000; font-weight: bold\">ERROR   </span> Exception raised in Job<span style=\"font-weight: bold\">[</span><span style=\"color: #008080; text-decoration-color: #008080; font-weight: bold\">4117</span><span style=\"font-weight: bold\">]</span>: <span style=\"color: #e100e1; text-decoration-color: #e100e1; font-weight: bold\">RagasOutputParserException</span><span style=\"font-weight: bold\">(</span>The output   <a href=\"file:///opt/conda/lib/python3.11/site-packages/ragas/executor.py\" target=\"_blank\"><span style=\"color: #7f7f7f; text-decoration-color: #7f7f7f\">executor.py</span></a><span style=\"color: #7f7f7f; text-decoration-color: #7f7f7f\">:</span><a href=\"file:///opt/conda/lib/python3.11/site-packages/ragas/executor.py#104\" target=\"_blank\"><span style=\"color: #7f7f7f; text-decoration-color: #7f7f7f\">104</span></a>\n",
       "<span style=\"color: #7fbfbf; text-decoration-color: #7fbfbf\">                    </span>         parser failed to parse the output including retries.<span style=\"font-weight: bold\">)</span>                  <span style=\"color: #7f7f7f; text-decoration-color: #7f7f7f\">               </span>\n",
       "</pre>\n"
      ],
      "text/plain": [
       "\u001b[2;36m                   \u001b[0m\u001b[2;36m \u001b[0m\u001b[1;38;2;215;0;0mERROR   \u001b[0m Exception raised in Job\u001b[1m[\u001b[0m\u001b[1;36m4117\u001b[0m\u001b[1m]\u001b[0m: \u001b[1;38;2;225;0;225mRagasOutputParserException\u001b[0m\u001b[1m(\u001b[0mThe output   \u001b]8;id=443023;file:///opt/conda/lib/python3.11/site-packages/ragas/executor.py\u001b\\\u001b[2mexecutor.py\u001b[0m\u001b]8;;\u001b\\\u001b[2m:\u001b[0m\u001b]8;id=481115;file:///opt/conda/lib/python3.11/site-packages/ragas/executor.py#104\u001b\\\u001b[2m104\u001b[0m\u001b]8;;\u001b\\\n",
       "\u001b[2;36m                    \u001b[0m         parser failed to parse the output including retries.\u001b[1m)\u001b[0m                  \u001b[2m               \u001b[0m\n"
      ]
     },
     "metadata": {},
     "output_type": "display_data"
    },
    {
     "data": {
      "text/html": [
       "<pre style=\"white-space:pre;overflow-x:auto;line-height:normal;font-family:Menlo,'DejaVu Sans Mono',consolas,'Courier New',monospace\"><span style=\"color: #7fbfbf; text-decoration-color: #7fbfbf\">[04/05/25 20:41:05] </span><span style=\"color: #d70000; text-decoration-color: #d70000; font-weight: bold\">ERROR   </span> Exception raised in Job<span style=\"font-weight: bold\">[</span><span style=\"color: #008080; text-decoration-color: #008080; font-weight: bold\">4157</span><span style=\"font-weight: bold\">]</span>: <span style=\"color: #e100e1; text-decoration-color: #e100e1; font-weight: bold\">OutputParserException</span><span style=\"font-weight: bold\">(</span>Invalid json      <a href=\"file:///opt/conda/lib/python3.11/site-packages/ragas/executor.py\" target=\"_blank\"><span style=\"color: #7f7f7f; text-decoration-color: #7f7f7f\">executor.py</span></a><span style=\"color: #7f7f7f; text-decoration-color: #7f7f7f\">:</span><a href=\"file:///opt/conda/lib/python3.11/site-packages/ragas/executor.py#104\" target=\"_blank\"><span style=\"color: #7f7f7f; text-decoration-color: #7f7f7f\">104</span></a>\n",
       "<span style=\"color: #7fbfbf; text-decoration-color: #7fbfbf\">                    </span>         output: Is moderate hypothermia during aortic arch surgery associated  <span style=\"color: #7f7f7f; text-decoration-color: #7f7f7f\">               </span>\n",
       "<span style=\"color: #7fbfbf; text-decoration-color: #7fbfbf\">                    </span>         with reduced risk of early mortality?                                  <span style=\"color: #7f7f7f; text-decoration-color: #7f7f7f\">               </span>\n",
       "<span style=\"color: #7fbfbf; text-decoration-color: #7fbfbf\">                    </span>         For troubleshooting, visit:                                            <span style=\"color: #7f7f7f; text-decoration-color: #7f7f7f\">               </span>\n",
       "<span style=\"color: #7fbfbf; text-decoration-color: #7fbfbf\">                    </span>         <span style=\"color: #0069ff; text-decoration-color: #0069ff; text-decoration: underline\">https://python.langchain.com/docs/troubleshooting/errors/OUT</span><span style=\"color: #d7af00; text-decoration-color: #d7af00; font-weight: bold; text-decoration: underline\">PUT</span><span style=\"color: #0069ff; text-decoration-color: #0069ff; text-decoration: underline\">_PARSIN</span> <span style=\"color: #7f7f7f; text-decoration-color: #7f7f7f\">               </span>\n",
       "<span style=\"color: #7fbfbf; text-decoration-color: #7fbfbf\">                    </span>         <span style=\"color: #0069ff; text-decoration-color: #0069ff; text-decoration: underline\">G_FAILURE</span> <span style=\"font-weight: bold\">)</span>                                                            <span style=\"color: #7f7f7f; text-decoration-color: #7f7f7f\">               </span>\n",
       "</pre>\n"
      ],
      "text/plain": [
       "\u001b[2;36m[04/05/25 20:41:05]\u001b[0m\u001b[2;36m \u001b[0m\u001b[1;38;2;215;0;0mERROR   \u001b[0m Exception raised in Job\u001b[1m[\u001b[0m\u001b[1;36m4157\u001b[0m\u001b[1m]\u001b[0m: \u001b[1;38;2;225;0;225mOutputParserException\u001b[0m\u001b[1m(\u001b[0mInvalid json      \u001b]8;id=812315;file:///opt/conda/lib/python3.11/site-packages/ragas/executor.py\u001b\\\u001b[2mexecutor.py\u001b[0m\u001b]8;;\u001b\\\u001b[2m:\u001b[0m\u001b]8;id=944732;file:///opt/conda/lib/python3.11/site-packages/ragas/executor.py#104\u001b\\\u001b[2m104\u001b[0m\u001b]8;;\u001b\\\n",
       "\u001b[2;36m                    \u001b[0m         output: Is moderate hypothermia during aortic arch surgery associated  \u001b[2m               \u001b[0m\n",
       "\u001b[2;36m                    \u001b[0m         with reduced risk of early mortality?                                  \u001b[2m               \u001b[0m\n",
       "\u001b[2;36m                    \u001b[0m         For troubleshooting, visit:                                            \u001b[2m               \u001b[0m\n",
       "\u001b[2;36m                    \u001b[0m         \u001b[4;38;2;0;105;255mhttps://python.langchain.com/docs/troubleshooting/errors/OUT\u001b[0m\u001b[1;4;38;2;215;175;0mPUT\u001b[0m\u001b[4;38;2;0;105;255m_PARSIN\u001b[0m \u001b[2m               \u001b[0m\n",
       "\u001b[2;36m                    \u001b[0m         \u001b[4;38;2;0;105;255mG_FAILURE\u001b[0m \u001b[1m)\u001b[0m                                                            \u001b[2m               \u001b[0m\n"
      ]
     },
     "metadata": {},
     "output_type": "display_data"
    },
    {
     "data": {
      "text/html": [
       "<pre style=\"white-space:pre;overflow-x:auto;line-height:normal;font-family:Menlo,'DejaVu Sans Mono',consolas,'Courier New',monospace\"><span style=\"color: #7fbfbf; text-decoration-color: #7fbfbf\">[04/05/25 20:41:42] </span><span style=\"color: #d70000; text-decoration-color: #d70000; font-weight: bold\">ERROR   </span> Prompt fix_output_format failed to parse output: The output     <a href=\"file:///opt/conda/lib/python3.11/site-packages/ragas/prompt/pydantic_prompt.py\" target=\"_blank\"><span style=\"color: #7f7f7f; text-decoration-color: #7f7f7f\">pydantic_prompt.py</span></a><span style=\"color: #7f7f7f; text-decoration-color: #7f7f7f\">:</span><a href=\"file:///opt/conda/lib/python3.11/site-packages/ragas/prompt/pydantic_prompt.py#214\" target=\"_blank\"><span style=\"color: #7f7f7f; text-decoration-color: #7f7f7f\">214</span></a>\n",
       "<span style=\"color: #7fbfbf; text-decoration-color: #7fbfbf\">                    </span>         parser failed to parse the output including retries.            <span style=\"color: #7f7f7f; text-decoration-color: #7f7f7f\">                      </span>\n",
       "</pre>\n"
      ],
      "text/plain": [
       "\u001b[2;36m[04/05/25 20:41:42]\u001b[0m\u001b[2;36m \u001b[0m\u001b[1;38;2;215;0;0mERROR   \u001b[0m Prompt fix_output_format failed to parse output: The output     \u001b]8;id=763309;file:///opt/conda/lib/python3.11/site-packages/ragas/prompt/pydantic_prompt.py\u001b\\\u001b[2mpydantic_prompt.py\u001b[0m\u001b]8;;\u001b\\\u001b[2m:\u001b[0m\u001b]8;id=984745;file:///opt/conda/lib/python3.11/site-packages/ragas/prompt/pydantic_prompt.py#214\u001b\\\u001b[2m214\u001b[0m\u001b]8;;\u001b\\\n",
       "\u001b[2;36m                    \u001b[0m         parser failed to parse the output including retries.            \u001b[2m                      \u001b[0m\n"
      ]
     },
     "metadata": {},
     "output_type": "display_data"
    },
    {
     "data": {
      "text/html": [
       "<pre style=\"white-space:pre;overflow-x:auto;line-height:normal;font-family:Menlo,'DejaVu Sans Mono',consolas,'Courier New',monospace\"><span style=\"color: #7fbfbf; text-decoration-color: #7fbfbf\">                    </span><span style=\"color: #d70000; text-decoration-color: #d70000; font-weight: bold\">ERROR   </span> Prompt fix_output_format failed to parse output: The output     <a href=\"file:///opt/conda/lib/python3.11/site-packages/ragas/prompt/pydantic_prompt.py\" target=\"_blank\"><span style=\"color: #7f7f7f; text-decoration-color: #7f7f7f\">pydantic_prompt.py</span></a><span style=\"color: #7f7f7f; text-decoration-color: #7f7f7f\">:</span><a href=\"file:///opt/conda/lib/python3.11/site-packages/ragas/prompt/pydantic_prompt.py#214\" target=\"_blank\"><span style=\"color: #7f7f7f; text-decoration-color: #7f7f7f\">214</span></a>\n",
       "<span style=\"color: #7fbfbf; text-decoration-color: #7fbfbf\">                    </span>         parser failed to parse the output including retries.            <span style=\"color: #7f7f7f; text-decoration-color: #7f7f7f\">                      </span>\n",
       "</pre>\n"
      ],
      "text/plain": [
       "\u001b[2;36m                   \u001b[0m\u001b[2;36m \u001b[0m\u001b[1;38;2;215;0;0mERROR   \u001b[0m Prompt fix_output_format failed to parse output: The output     \u001b]8;id=231610;file:///opt/conda/lib/python3.11/site-packages/ragas/prompt/pydantic_prompt.py\u001b\\\u001b[2mpydantic_prompt.py\u001b[0m\u001b]8;;\u001b\\\u001b[2m:\u001b[0m\u001b]8;id=354882;file:///opt/conda/lib/python3.11/site-packages/ragas/prompt/pydantic_prompt.py#214\u001b\\\u001b[2m214\u001b[0m\u001b]8;;\u001b\\\n",
       "\u001b[2;36m                    \u001b[0m         parser failed to parse the output including retries.            \u001b[2m                      \u001b[0m\n"
      ]
     },
     "metadata": {},
     "output_type": "display_data"
    },
    {
     "data": {
      "text/html": [
       "<pre style=\"white-space:pre;overflow-x:auto;line-height:normal;font-family:Menlo,'DejaVu Sans Mono',consolas,'Courier New',monospace\"><span style=\"color: #7fbfbf; text-decoration-color: #7fbfbf\">                    </span><span style=\"color: #d70000; text-decoration-color: #d70000; font-weight: bold\">ERROR   </span> Prompt fix_output_format failed to parse output: The output     <a href=\"file:///opt/conda/lib/python3.11/site-packages/ragas/prompt/pydantic_prompt.py\" target=\"_blank\"><span style=\"color: #7f7f7f; text-decoration-color: #7f7f7f\">pydantic_prompt.py</span></a><span style=\"color: #7f7f7f; text-decoration-color: #7f7f7f\">:</span><a href=\"file:///opt/conda/lib/python3.11/site-packages/ragas/prompt/pydantic_prompt.py#214\" target=\"_blank\"><span style=\"color: #7f7f7f; text-decoration-color: #7f7f7f\">214</span></a>\n",
       "<span style=\"color: #7fbfbf; text-decoration-color: #7fbfbf\">                    </span>         parser failed to parse the output including retries.            <span style=\"color: #7f7f7f; text-decoration-color: #7f7f7f\">                      </span>\n",
       "</pre>\n"
      ],
      "text/plain": [
       "\u001b[2;36m                   \u001b[0m\u001b[2;36m \u001b[0m\u001b[1;38;2;215;0;0mERROR   \u001b[0m Prompt fix_output_format failed to parse output: The output     \u001b]8;id=387306;file:///opt/conda/lib/python3.11/site-packages/ragas/prompt/pydantic_prompt.py\u001b\\\u001b[2mpydantic_prompt.py\u001b[0m\u001b]8;;\u001b\\\u001b[2m:\u001b[0m\u001b]8;id=615540;file:///opt/conda/lib/python3.11/site-packages/ragas/prompt/pydantic_prompt.py#214\u001b\\\u001b[2m214\u001b[0m\u001b]8;;\u001b\\\n",
       "\u001b[2;36m                    \u001b[0m         parser failed to parse the output including retries.            \u001b[2m                      \u001b[0m\n"
      ]
     },
     "metadata": {},
     "output_type": "display_data"
    },
    {
     "data": {
      "text/html": [
       "<pre style=\"white-space:pre;overflow-x:auto;line-height:normal;font-family:Menlo,'DejaVu Sans Mono',consolas,'Courier New',monospace\"><span style=\"color: #7fbfbf; text-decoration-color: #7fbfbf\">                    </span><span style=\"color: #d70000; text-decoration-color: #d70000; font-weight: bold\">ERROR   </span> Prompt statement_generator_prompt failed to parse output: The   <a href=\"file:///opt/conda/lib/python3.11/site-packages/ragas/prompt/pydantic_prompt.py\" target=\"_blank\"><span style=\"color: #7f7f7f; text-decoration-color: #7f7f7f\">pydantic_prompt.py</span></a><span style=\"color: #7f7f7f; text-decoration-color: #7f7f7f\">:</span><a href=\"file:///opt/conda/lib/python3.11/site-packages/ragas/prompt/pydantic_prompt.py#214\" target=\"_blank\"><span style=\"color: #7f7f7f; text-decoration-color: #7f7f7f\">214</span></a>\n",
       "<span style=\"color: #7fbfbf; text-decoration-color: #7fbfbf\">                    </span>         output parser failed to parse the output including retries.     <span style=\"color: #7f7f7f; text-decoration-color: #7f7f7f\">                      </span>\n",
       "</pre>\n"
      ],
      "text/plain": [
       "\u001b[2;36m                   \u001b[0m\u001b[2;36m \u001b[0m\u001b[1;38;2;215;0;0mERROR   \u001b[0m Prompt statement_generator_prompt failed to parse output: The   \u001b]8;id=229607;file:///opt/conda/lib/python3.11/site-packages/ragas/prompt/pydantic_prompt.py\u001b\\\u001b[2mpydantic_prompt.py\u001b[0m\u001b]8;;\u001b\\\u001b[2m:\u001b[0m\u001b]8;id=407784;file:///opt/conda/lib/python3.11/site-packages/ragas/prompt/pydantic_prompt.py#214\u001b\\\u001b[2m214\u001b[0m\u001b]8;;\u001b\\\n",
       "\u001b[2;36m                    \u001b[0m         output parser failed to parse the output including retries.     \u001b[2m                      \u001b[0m\n"
      ]
     },
     "metadata": {},
     "output_type": "display_data"
    },
    {
     "data": {
      "text/html": [
       "<pre style=\"white-space:pre;overflow-x:auto;line-height:normal;font-family:Menlo,'DejaVu Sans Mono',consolas,'Courier New',monospace\"><span style=\"color: #7fbfbf; text-decoration-color: #7fbfbf\">                    </span><span style=\"color: #d70000; text-decoration-color: #d70000; font-weight: bold\">ERROR   </span> Exception raised in Job<span style=\"font-weight: bold\">[</span><span style=\"color: #008080; text-decoration-color: #008080; font-weight: bold\">4249</span><span style=\"font-weight: bold\">]</span>: <span style=\"color: #e100e1; text-decoration-color: #e100e1; font-weight: bold\">RagasOutputParserException</span><span style=\"font-weight: bold\">(</span>The output   <a href=\"file:///opt/conda/lib/python3.11/site-packages/ragas/executor.py\" target=\"_blank\"><span style=\"color: #7f7f7f; text-decoration-color: #7f7f7f\">executor.py</span></a><span style=\"color: #7f7f7f; text-decoration-color: #7f7f7f\">:</span><a href=\"file:///opt/conda/lib/python3.11/site-packages/ragas/executor.py#104\" target=\"_blank\"><span style=\"color: #7f7f7f; text-decoration-color: #7f7f7f\">104</span></a>\n",
       "<span style=\"color: #7fbfbf; text-decoration-color: #7fbfbf\">                    </span>         parser failed to parse the output including retries.<span style=\"font-weight: bold\">)</span>                  <span style=\"color: #7f7f7f; text-decoration-color: #7f7f7f\">               </span>\n",
       "</pre>\n"
      ],
      "text/plain": [
       "\u001b[2;36m                   \u001b[0m\u001b[2;36m \u001b[0m\u001b[1;38;2;215;0;0mERROR   \u001b[0m Exception raised in Job\u001b[1m[\u001b[0m\u001b[1;36m4249\u001b[0m\u001b[1m]\u001b[0m: \u001b[1;38;2;225;0;225mRagasOutputParserException\u001b[0m\u001b[1m(\u001b[0mThe output   \u001b]8;id=545238;file:///opt/conda/lib/python3.11/site-packages/ragas/executor.py\u001b\\\u001b[2mexecutor.py\u001b[0m\u001b]8;;\u001b\\\u001b[2m:\u001b[0m\u001b]8;id=321391;file:///opt/conda/lib/python3.11/site-packages/ragas/executor.py#104\u001b\\\u001b[2m104\u001b[0m\u001b]8;;\u001b\\\n",
       "\u001b[2;36m                    \u001b[0m         parser failed to parse the output including retries.\u001b[1m)\u001b[0m                  \u001b[2m               \u001b[0m\n"
      ]
     },
     "metadata": {},
     "output_type": "display_data"
    },
    {
     "data": {
      "text/html": [
       "<pre style=\"white-space:pre;overflow-x:auto;line-height:normal;font-family:Menlo,'DejaVu Sans Mono',consolas,'Courier New',monospace\"><span style=\"color: #7fbfbf; text-decoration-color: #7fbfbf\">[04/05/25 20:42:45] </span><span style=\"color: #d70000; text-decoration-color: #d70000; font-weight: bold\">ERROR   </span> Prompt fix_output_format failed to parse output: The output     <a href=\"file:///opt/conda/lib/python3.11/site-packages/ragas/prompt/pydantic_prompt.py\" target=\"_blank\"><span style=\"color: #7f7f7f; text-decoration-color: #7f7f7f\">pydantic_prompt.py</span></a><span style=\"color: #7f7f7f; text-decoration-color: #7f7f7f\">:</span><a href=\"file:///opt/conda/lib/python3.11/site-packages/ragas/prompt/pydantic_prompt.py#214\" target=\"_blank\"><span style=\"color: #7f7f7f; text-decoration-color: #7f7f7f\">214</span></a>\n",
       "<span style=\"color: #7fbfbf; text-decoration-color: #7fbfbf\">                    </span>         parser failed to parse the output including retries.            <span style=\"color: #7f7f7f; text-decoration-color: #7f7f7f\">                      </span>\n",
       "</pre>\n"
      ],
      "text/plain": [
       "\u001b[2;36m[04/05/25 20:42:45]\u001b[0m\u001b[2;36m \u001b[0m\u001b[1;38;2;215;0;0mERROR   \u001b[0m Prompt fix_output_format failed to parse output: The output     \u001b]8;id=139733;file:///opt/conda/lib/python3.11/site-packages/ragas/prompt/pydantic_prompt.py\u001b\\\u001b[2mpydantic_prompt.py\u001b[0m\u001b]8;;\u001b\\\u001b[2m:\u001b[0m\u001b]8;id=319494;file:///opt/conda/lib/python3.11/site-packages/ragas/prompt/pydantic_prompt.py#214\u001b\\\u001b[2m214\u001b[0m\u001b]8;;\u001b\\\n",
       "\u001b[2;36m                    \u001b[0m         parser failed to parse the output including retries.            \u001b[2m                      \u001b[0m\n"
      ]
     },
     "metadata": {},
     "output_type": "display_data"
    },
    {
     "data": {
      "text/html": [
       "<pre style=\"white-space:pre;overflow-x:auto;line-height:normal;font-family:Menlo,'DejaVu Sans Mono',consolas,'Courier New',monospace\"><span style=\"color: #7fbfbf; text-decoration-color: #7fbfbf\">                    </span><span style=\"color: #d70000; text-decoration-color: #d70000; font-weight: bold\">ERROR   </span> Prompt fix_output_format failed to parse output: The output     <a href=\"file:///opt/conda/lib/python3.11/site-packages/ragas/prompt/pydantic_prompt.py\" target=\"_blank\"><span style=\"color: #7f7f7f; text-decoration-color: #7f7f7f\">pydantic_prompt.py</span></a><span style=\"color: #7f7f7f; text-decoration-color: #7f7f7f\">:</span><a href=\"file:///opt/conda/lib/python3.11/site-packages/ragas/prompt/pydantic_prompt.py#214\" target=\"_blank\"><span style=\"color: #7f7f7f; text-decoration-color: #7f7f7f\">214</span></a>\n",
       "<span style=\"color: #7fbfbf; text-decoration-color: #7fbfbf\">                    </span>         parser failed to parse the output including retries.            <span style=\"color: #7f7f7f; text-decoration-color: #7f7f7f\">                      </span>\n",
       "</pre>\n"
      ],
      "text/plain": [
       "\u001b[2;36m                   \u001b[0m\u001b[2;36m \u001b[0m\u001b[1;38;2;215;0;0mERROR   \u001b[0m Prompt fix_output_format failed to parse output: The output     \u001b]8;id=15427;file:///opt/conda/lib/python3.11/site-packages/ragas/prompt/pydantic_prompt.py\u001b\\\u001b[2mpydantic_prompt.py\u001b[0m\u001b]8;;\u001b\\\u001b[2m:\u001b[0m\u001b]8;id=141796;file:///opt/conda/lib/python3.11/site-packages/ragas/prompt/pydantic_prompt.py#214\u001b\\\u001b[2m214\u001b[0m\u001b]8;;\u001b\\\n",
       "\u001b[2;36m                    \u001b[0m         parser failed to parse the output including retries.            \u001b[2m                      \u001b[0m\n"
      ]
     },
     "metadata": {},
     "output_type": "display_data"
    },
    {
     "data": {
      "text/html": [
       "<pre style=\"white-space:pre;overflow-x:auto;line-height:normal;font-family:Menlo,'DejaVu Sans Mono',consolas,'Courier New',monospace\"><span style=\"color: #7fbfbf; text-decoration-color: #7fbfbf\">                    </span><span style=\"color: #d70000; text-decoration-color: #d70000; font-weight: bold\">ERROR   </span> Prompt fix_output_format failed to parse output: The output     <a href=\"file:///opt/conda/lib/python3.11/site-packages/ragas/prompt/pydantic_prompt.py\" target=\"_blank\"><span style=\"color: #7f7f7f; text-decoration-color: #7f7f7f\">pydantic_prompt.py</span></a><span style=\"color: #7f7f7f; text-decoration-color: #7f7f7f\">:</span><a href=\"file:///opt/conda/lib/python3.11/site-packages/ragas/prompt/pydantic_prompt.py#214\" target=\"_blank\"><span style=\"color: #7f7f7f; text-decoration-color: #7f7f7f\">214</span></a>\n",
       "<span style=\"color: #7fbfbf; text-decoration-color: #7fbfbf\">                    </span>         parser failed to parse the output including retries.            <span style=\"color: #7f7f7f; text-decoration-color: #7f7f7f\">                      </span>\n",
       "</pre>\n"
      ],
      "text/plain": [
       "\u001b[2;36m                   \u001b[0m\u001b[2;36m \u001b[0m\u001b[1;38;2;215;0;0mERROR   \u001b[0m Prompt fix_output_format failed to parse output: The output     \u001b]8;id=736506;file:///opt/conda/lib/python3.11/site-packages/ragas/prompt/pydantic_prompt.py\u001b\\\u001b[2mpydantic_prompt.py\u001b[0m\u001b]8;;\u001b\\\u001b[2m:\u001b[0m\u001b]8;id=339097;file:///opt/conda/lib/python3.11/site-packages/ragas/prompt/pydantic_prompt.py#214\u001b\\\u001b[2m214\u001b[0m\u001b]8;;\u001b\\\n",
       "\u001b[2;36m                    \u001b[0m         parser failed to parse the output including retries.            \u001b[2m                      \u001b[0m\n"
      ]
     },
     "metadata": {},
     "output_type": "display_data"
    },
    {
     "data": {
      "text/html": [
       "<pre style=\"white-space:pre;overflow-x:auto;line-height:normal;font-family:Menlo,'DejaVu Sans Mono',consolas,'Courier New',monospace\"><span style=\"color: #7fbfbf; text-decoration-color: #7fbfbf\">                    </span><span style=\"color: #d70000; text-decoration-color: #d70000; font-weight: bold\">ERROR   </span> Prompt statement_generator_prompt failed to parse output: The   <a href=\"file:///opt/conda/lib/python3.11/site-packages/ragas/prompt/pydantic_prompt.py\" target=\"_blank\"><span style=\"color: #7f7f7f; text-decoration-color: #7f7f7f\">pydantic_prompt.py</span></a><span style=\"color: #7f7f7f; text-decoration-color: #7f7f7f\">:</span><a href=\"file:///opt/conda/lib/python3.11/site-packages/ragas/prompt/pydantic_prompt.py#214\" target=\"_blank\"><span style=\"color: #7f7f7f; text-decoration-color: #7f7f7f\">214</span></a>\n",
       "<span style=\"color: #7fbfbf; text-decoration-color: #7fbfbf\">                    </span>         output parser failed to parse the output including retries.     <span style=\"color: #7f7f7f; text-decoration-color: #7f7f7f\">                      </span>\n",
       "</pre>\n"
      ],
      "text/plain": [
       "\u001b[2;36m                   \u001b[0m\u001b[2;36m \u001b[0m\u001b[1;38;2;215;0;0mERROR   \u001b[0m Prompt statement_generator_prompt failed to parse output: The   \u001b]8;id=676218;file:///opt/conda/lib/python3.11/site-packages/ragas/prompt/pydantic_prompt.py\u001b\\\u001b[2mpydantic_prompt.py\u001b[0m\u001b]8;;\u001b\\\u001b[2m:\u001b[0m\u001b]8;id=738824;file:///opt/conda/lib/python3.11/site-packages/ragas/prompt/pydantic_prompt.py#214\u001b\\\u001b[2m214\u001b[0m\u001b]8;;\u001b\\\n",
       "\u001b[2;36m                    \u001b[0m         output parser failed to parse the output including retries.     \u001b[2m                      \u001b[0m\n"
      ]
     },
     "metadata": {},
     "output_type": "display_data"
    },
    {
     "data": {
      "text/html": [
       "<pre style=\"white-space:pre;overflow-x:auto;line-height:normal;font-family:Menlo,'DejaVu Sans Mono',consolas,'Courier New',monospace\"><span style=\"color: #7fbfbf; text-decoration-color: #7fbfbf\">                    </span><span style=\"color: #d70000; text-decoration-color: #d70000; font-weight: bold\">ERROR   </span> Exception raised in Job<span style=\"font-weight: bold\">[</span><span style=\"color: #008080; text-decoration-color: #008080; font-weight: bold\">4394</span><span style=\"font-weight: bold\">]</span>: <span style=\"color: #e100e1; text-decoration-color: #e100e1; font-weight: bold\">RagasOutputParserException</span><span style=\"font-weight: bold\">(</span>The output   <a href=\"file:///opt/conda/lib/python3.11/site-packages/ragas/executor.py\" target=\"_blank\"><span style=\"color: #7f7f7f; text-decoration-color: #7f7f7f\">executor.py</span></a><span style=\"color: #7f7f7f; text-decoration-color: #7f7f7f\">:</span><a href=\"file:///opt/conda/lib/python3.11/site-packages/ragas/executor.py#104\" target=\"_blank\"><span style=\"color: #7f7f7f; text-decoration-color: #7f7f7f\">104</span></a>\n",
       "<span style=\"color: #7fbfbf; text-decoration-color: #7fbfbf\">                    </span>         parser failed to parse the output including retries.<span style=\"font-weight: bold\">)</span>                  <span style=\"color: #7f7f7f; text-decoration-color: #7f7f7f\">               </span>\n",
       "</pre>\n"
      ],
      "text/plain": [
       "\u001b[2;36m                   \u001b[0m\u001b[2;36m \u001b[0m\u001b[1;38;2;215;0;0mERROR   \u001b[0m Exception raised in Job\u001b[1m[\u001b[0m\u001b[1;36m4394\u001b[0m\u001b[1m]\u001b[0m: \u001b[1;38;2;225;0;225mRagasOutputParserException\u001b[0m\u001b[1m(\u001b[0mThe output   \u001b]8;id=469518;file:///opt/conda/lib/python3.11/site-packages/ragas/executor.py\u001b\\\u001b[2mexecutor.py\u001b[0m\u001b]8;;\u001b\\\u001b[2m:\u001b[0m\u001b]8;id=790944;file:///opt/conda/lib/python3.11/site-packages/ragas/executor.py#104\u001b\\\u001b[2m104\u001b[0m\u001b]8;;\u001b\\\n",
       "\u001b[2;36m                    \u001b[0m         parser failed to parse the output including retries.\u001b[1m)\u001b[0m                  \u001b[2m               \u001b[0m\n"
      ]
     },
     "metadata": {},
     "output_type": "display_data"
    },
    {
     "data": {
      "text/html": [
       "<pre style=\"white-space:pre;overflow-x:auto;line-height:normal;font-family:Menlo,'DejaVu Sans Mono',consolas,'Courier New',monospace\"><span style=\"color: #7fbfbf; text-decoration-color: #7fbfbf\">[04/05/25 20:43:20] </span><span style=\"color: #d70000; text-decoration-color: #d70000; font-weight: bold\">ERROR   </span> Exception raised in Job<span style=\"font-weight: bold\">[</span><span style=\"color: #008080; text-decoration-color: #008080; font-weight: bold\">4466</span><span style=\"font-weight: bold\">]</span>: <span style=\"color: #e100e1; text-decoration-color: #e100e1; font-weight: bold\">OutputParserException</span><span style=\"font-weight: bold\">(</span>Failed to parse   <a href=\"file:///opt/conda/lib/python3.11/site-packages/ragas/executor.py\" target=\"_blank\"><span style=\"color: #7f7f7f; text-decoration-color: #7f7f7f\">executor.py</span></a><span style=\"color: #7f7f7f; text-decoration-color: #7f7f7f\">:</span><a href=\"file:///opt/conda/lib/python3.11/site-packages/ragas/executor.py#104\" target=\"_blank\"><span style=\"color: #7f7f7f; text-decoration-color: #7f7f7f\">104</span></a>\n",
       "<span style=\"color: #7fbfbf; text-decoration-color: #7fbfbf\">                    </span>         StringIO from completion <span style=\"font-weight: bold\">{</span><span style=\"color: #008700; text-decoration-color: #008700\">\"TP\"</span>: <span style=\"font-weight: bold\">[{</span><span style=\"color: #008700; text-decoration-color: #008700\">\"statement\"</span>: <span style=\"color: #008700; text-decoration-color: #008700\">\"Physical therapy </span>      <span style=\"color: #7f7f7f; text-decoration-color: #7f7f7f\">               </span>\n",
       "<span style=\"color: #7fbfbf; text-decoration-color: #7fbfbf\">                    </span>         <span style=\"color: #008700; text-decoration-color: #008700\">management of low back pain has changed since the 1990s.\"</span>, <span style=\"color: #008700; text-decoration-color: #008700\">\"reason\"</span>:   <span style=\"color: #7f7f7f; text-decoration-color: #7f7f7f\">               </span>\n",
       "<span style=\"color: #7fbfbf; text-decoration-color: #7fbfbf\">                    </span>         <span style=\"color: #008700; text-decoration-color: #008700\">\"This statement is directly supported by the ground truth which </span>       <span style=\"color: #7f7f7f; text-decoration-color: #7f7f7f\">               </span>\n",
       "<span style=\"color: #7fbfbf; text-decoration-color: #7fbfbf\">                    </span>         <span style=\"color: #008700; text-decoration-color: #008700\">mentions that physical therapy management has changed since 1990.\"</span><span style=\"font-weight: bold\">}]</span>,  <span style=\"color: #7f7f7f; text-decoration-color: #7f7f7f\">               </span>\n",
       "<span style=\"color: #7fbfbf; text-decoration-color: #7fbfbf\">                    </span>         <span style=\"color: #008700; text-decoration-color: #008700\">\"FP\"</span>: <span style=\"font-weight: bold\">[]</span>, <span style=\"color: #008700; text-decoration-color: #008700\">\"FN\"</span>: <span style=\"font-weight: bold\">[]}</span>. Got: <span style=\"color: #008080; text-decoration-color: #008080; font-weight: bold\">1</span> validation error for StringIO              <span style=\"color: #7f7f7f; text-decoration-color: #7f7f7f\">               </span>\n",
       "<span style=\"color: #7fbfbf; text-decoration-color: #7fbfbf\">                    </span>         text                                                                   <span style=\"color: #7f7f7f; text-decoration-color: #7f7f7f\">               </span>\n",
       "<span style=\"color: #7fbfbf; text-decoration-color: #7fbfbf\">                    </span>           Field required <span style=\"font-weight: bold\">[</span><span style=\"color: #d7af00; text-decoration-color: #d7af00\">type</span>=<span style=\"color: #e100e1; text-decoration-color: #e100e1\">missing</span>, <span style=\"color: #d7af00; text-decoration-color: #d7af00\">input_value</span>=<span style=\"font-weight: bold\">{</span><span style=\"color: #008700; text-decoration-color: #008700\">'TP'</span>: <span style=\"font-weight: bold\">[{</span><span style=\"color: #008700; text-decoration-color: #008700\">'statement'</span>:      <span style=\"color: #7f7f7f; text-decoration-color: #7f7f7f\">               </span>\n",
       "<span style=\"color: #7fbfbf; text-decoration-color: #7fbfbf\">                    </span>         <span style=\"color: #008700; text-decoration-color: #008700\">'Ph...'</span><span style=\"font-weight: bold\">}]</span>, <span style=\"color: #008700; text-decoration-color: #008700\">'FP'</span>: <span style=\"font-weight: bold\">[]</span>, <span style=\"color: #008700; text-decoration-color: #008700\">'FN'</span>: <span style=\"font-weight: bold\">[]}</span>, <span style=\"color: #d7af00; text-decoration-color: #d7af00\">input_type</span>=<span style=\"color: #e100e1; text-decoration-color: #e100e1\">dict</span><span style=\"font-weight: bold\">]</span>                       <span style=\"color: #7f7f7f; text-decoration-color: #7f7f7f\">               </span>\n",
       "<span style=\"color: #7fbfbf; text-decoration-color: #7fbfbf\">                    </span>             For further information visit                                      <span style=\"color: #7f7f7f; text-decoration-color: #7f7f7f\">               </span>\n",
       "<span style=\"color: #7fbfbf; text-decoration-color: #7fbfbf\">                    </span>         <span style=\"color: #0069ff; text-decoration-color: #0069ff; text-decoration: underline\">https://errors.pydantic.dev/2.11/v/missing</span>                             <span style=\"color: #7f7f7f; text-decoration-color: #7f7f7f\">               </span>\n",
       "<span style=\"color: #7fbfbf; text-decoration-color: #7fbfbf\">                    </span>         For troubleshooting, visit:                                            <span style=\"color: #7f7f7f; text-decoration-color: #7f7f7f\">               </span>\n",
       "<span style=\"color: #7fbfbf; text-decoration-color: #7fbfbf\">                    </span>         <span style=\"color: #0069ff; text-decoration-color: #0069ff; text-decoration: underline\">https://python.langchain.com/docs/troubleshooting/errors/OUT</span><span style=\"color: #d7af00; text-decoration-color: #d7af00; font-weight: bold; text-decoration: underline\">PUT</span><span style=\"color: #0069ff; text-decoration-color: #0069ff; text-decoration: underline\">_PARSIN</span> <span style=\"color: #7f7f7f; text-decoration-color: #7f7f7f\">               </span>\n",
       "<span style=\"color: #7fbfbf; text-decoration-color: #7fbfbf\">                    </span>         <span style=\"color: #0069ff; text-decoration-color: #0069ff; text-decoration: underline\">G_FAILURE</span> <span style=\"font-weight: bold\">)</span>                                                            <span style=\"color: #7f7f7f; text-decoration-color: #7f7f7f\">               </span>\n",
       "</pre>\n"
      ],
      "text/plain": [
       "\u001b[2;36m[04/05/25 20:43:20]\u001b[0m\u001b[2;36m \u001b[0m\u001b[1;38;2;215;0;0mERROR   \u001b[0m Exception raised in Job\u001b[1m[\u001b[0m\u001b[1;36m4466\u001b[0m\u001b[1m]\u001b[0m: \u001b[1;38;2;225;0;225mOutputParserException\u001b[0m\u001b[1m(\u001b[0mFailed to parse   \u001b]8;id=498051;file:///opt/conda/lib/python3.11/site-packages/ragas/executor.py\u001b\\\u001b[2mexecutor.py\u001b[0m\u001b]8;;\u001b\\\u001b[2m:\u001b[0m\u001b]8;id=133517;file:///opt/conda/lib/python3.11/site-packages/ragas/executor.py#104\u001b\\\u001b[2m104\u001b[0m\u001b]8;;\u001b\\\n",
       "\u001b[2;36m                    \u001b[0m         StringIO from completion \u001b[1m{\u001b[0m\u001b[38;2;0;135;0m\"TP\"\u001b[0m: \u001b[1m[\u001b[0m\u001b[1m{\u001b[0m\u001b[38;2;0;135;0m\"statement\"\u001b[0m: \u001b[38;2;0;135;0m\"Physical therapy \u001b[0m      \u001b[2m               \u001b[0m\n",
       "\u001b[2;36m                    \u001b[0m         \u001b[38;2;0;135;0mmanagement of low back pain has changed since the 1990s.\"\u001b[0m, \u001b[38;2;0;135;0m\"reason\"\u001b[0m:   \u001b[2m               \u001b[0m\n",
       "\u001b[2;36m                    \u001b[0m         \u001b[38;2;0;135;0m\"This statement is directly supported by the ground truth which \u001b[0m       \u001b[2m               \u001b[0m\n",
       "\u001b[2;36m                    \u001b[0m         \u001b[38;2;0;135;0mmentions that physical therapy management has changed since 1990.\"\u001b[0m\u001b[1m}\u001b[0m\u001b[1m]\u001b[0m,  \u001b[2m               \u001b[0m\n",
       "\u001b[2;36m                    \u001b[0m         \u001b[38;2;0;135;0m\"FP\"\u001b[0m: \u001b[1m[\u001b[0m\u001b[1m]\u001b[0m, \u001b[38;2;0;135;0m\"FN\"\u001b[0m: \u001b[1m[\u001b[0m\u001b[1m]\u001b[0m\u001b[1m}\u001b[0m. Got: \u001b[1;36m1\u001b[0m validation error for StringIO              \u001b[2m               \u001b[0m\n",
       "\u001b[2;36m                    \u001b[0m         text                                                                   \u001b[2m               \u001b[0m\n",
       "\u001b[2;36m                    \u001b[0m           Field required \u001b[1m[\u001b[0m\u001b[38;2;215;175;0mtype\u001b[0m=\u001b[38;2;225;0;225mmissing\u001b[0m, \u001b[38;2;215;175;0minput_value\u001b[0m=\u001b[1m{\u001b[0m\u001b[38;2;0;135;0m'TP'\u001b[0m: \u001b[1m[\u001b[0m\u001b[1m{\u001b[0m\u001b[38;2;0;135;0m'statement'\u001b[0m:      \u001b[2m               \u001b[0m\n",
       "\u001b[2;36m                    \u001b[0m         \u001b[38;2;0;135;0m'Ph...'\u001b[0m\u001b[1m}\u001b[0m\u001b[1m]\u001b[0m, \u001b[38;2;0;135;0m'FP'\u001b[0m: \u001b[1m[\u001b[0m\u001b[1m]\u001b[0m, \u001b[38;2;0;135;0m'FN'\u001b[0m: \u001b[1m[\u001b[0m\u001b[1m]\u001b[0m\u001b[1m}\u001b[0m, \u001b[38;2;215;175;0minput_type\u001b[0m=\u001b[38;2;225;0;225mdict\u001b[0m\u001b[1m]\u001b[0m                       \u001b[2m               \u001b[0m\n",
       "\u001b[2;36m                    \u001b[0m             For further information visit                                      \u001b[2m               \u001b[0m\n",
       "\u001b[2;36m                    \u001b[0m         \u001b[4;38;2;0;105;255mhttps://errors.pydantic.dev/2.11/v/missing\u001b[0m                             \u001b[2m               \u001b[0m\n",
       "\u001b[2;36m                    \u001b[0m         For troubleshooting, visit:                                            \u001b[2m               \u001b[0m\n",
       "\u001b[2;36m                    \u001b[0m         \u001b[4;38;2;0;105;255mhttps://python.langchain.com/docs/troubleshooting/errors/OUT\u001b[0m\u001b[1;4;38;2;215;175;0mPUT\u001b[0m\u001b[4;38;2;0;105;255m_PARSIN\u001b[0m \u001b[2m               \u001b[0m\n",
       "\u001b[2;36m                    \u001b[0m         \u001b[4;38;2;0;105;255mG_FAILURE\u001b[0m \u001b[1m)\u001b[0m                                                            \u001b[2m               \u001b[0m\n"
      ]
     },
     "metadata": {},
     "output_type": "display_data"
    },
    {
     "data": {
      "text/html": [
       "<pre style=\"white-space:pre;overflow-x:auto;line-height:normal;font-family:Menlo,'DejaVu Sans Mono',consolas,'Courier New',monospace\"><span style=\"color: #7fbfbf; text-decoration-color: #7fbfbf\">[04/05/25 20:44:26] </span><span style=\"color: #d70000; text-decoration-color: #d70000; font-weight: bold\">ERROR   </span> Exception raised in Job<span style=\"font-weight: bold\">[</span><span style=\"color: #008080; text-decoration-color: #008080; font-weight: bold\">4612</span><span style=\"font-weight: bold\">]</span>: <span style=\"color: #e100e1; text-decoration-color: #e100e1; font-weight: bold\">OutputParserException</span><span style=\"font-weight: bold\">(</span>Invalid json      <a href=\"file:///opt/conda/lib/python3.11/site-packages/ragas/executor.py\" target=\"_blank\"><span style=\"color: #7f7f7f; text-decoration-color: #7f7f7f\">executor.py</span></a><span style=\"color: #7f7f7f; text-decoration-color: #7f7f7f\">:</span><a href=\"file:///opt/conda/lib/python3.11/site-packages/ragas/executor.py#104\" target=\"_blank\"><span style=\"color: #7f7f7f; text-decoration-color: #7f7f7f\">104</span></a>\n",
       "<span style=\"color: #7fbfbf; text-decoration-color: #7fbfbf\">                    </span>         output: The study found that activation of Stat3 in androgen-sensitive <span style=\"color: #7f7f7f; text-decoration-color: #7f7f7f\">               </span>\n",
       "<span style=\"color: #7fbfbf; text-decoration-color: #7fbfbf\">                    </span>         LNCaP prostate cancer cells results in the enhancement of tumor growth <span style=\"color: #7f7f7f; text-decoration-color: #7f7f7f\">               </span>\n",
       "<span style=\"color: #7fbfbf; text-decoration-color: #7fbfbf\">                    </span>         in both intact and castrated male nude mice.                           <span style=\"color: #7f7f7f; text-decoration-color: #7f7f7f\">               </span>\n",
       "<span style=\"color: #7fbfbf; text-decoration-color: #7fbfbf\">                    </span>         For troubleshooting, visit:                                            <span style=\"color: #7f7f7f; text-decoration-color: #7f7f7f\">               </span>\n",
       "<span style=\"color: #7fbfbf; text-decoration-color: #7fbfbf\">                    </span>         <span style=\"color: #0069ff; text-decoration-color: #0069ff; text-decoration: underline\">https://python.langchain.com/docs/troubleshooting/errors/OUT</span><span style=\"color: #d7af00; text-decoration-color: #d7af00; font-weight: bold; text-decoration: underline\">PUT</span><span style=\"color: #0069ff; text-decoration-color: #0069ff; text-decoration: underline\">_PARSIN</span> <span style=\"color: #7f7f7f; text-decoration-color: #7f7f7f\">               </span>\n",
       "<span style=\"color: #7fbfbf; text-decoration-color: #7fbfbf\">                    </span>         <span style=\"color: #0069ff; text-decoration-color: #0069ff; text-decoration: underline\">G_FAILURE</span> <span style=\"font-weight: bold\">)</span>                                                            <span style=\"color: #7f7f7f; text-decoration-color: #7f7f7f\">               </span>\n",
       "</pre>\n"
      ],
      "text/plain": [
       "\u001b[2;36m[04/05/25 20:44:26]\u001b[0m\u001b[2;36m \u001b[0m\u001b[1;38;2;215;0;0mERROR   \u001b[0m Exception raised in Job\u001b[1m[\u001b[0m\u001b[1;36m4612\u001b[0m\u001b[1m]\u001b[0m: \u001b[1;38;2;225;0;225mOutputParserException\u001b[0m\u001b[1m(\u001b[0mInvalid json      \u001b]8;id=50503;file:///opt/conda/lib/python3.11/site-packages/ragas/executor.py\u001b\\\u001b[2mexecutor.py\u001b[0m\u001b]8;;\u001b\\\u001b[2m:\u001b[0m\u001b]8;id=955097;file:///opt/conda/lib/python3.11/site-packages/ragas/executor.py#104\u001b\\\u001b[2m104\u001b[0m\u001b]8;;\u001b\\\n",
       "\u001b[2;36m                    \u001b[0m         output: The study found that activation of Stat3 in androgen-sensitive \u001b[2m               \u001b[0m\n",
       "\u001b[2;36m                    \u001b[0m         LNCaP prostate cancer cells results in the enhancement of tumor growth \u001b[2m               \u001b[0m\n",
       "\u001b[2;36m                    \u001b[0m         in both intact and castrated male nude mice.                           \u001b[2m               \u001b[0m\n",
       "\u001b[2;36m                    \u001b[0m         For troubleshooting, visit:                                            \u001b[2m               \u001b[0m\n",
       "\u001b[2;36m                    \u001b[0m         \u001b[4;38;2;0;105;255mhttps://python.langchain.com/docs/troubleshooting/errors/OUT\u001b[0m\u001b[1;4;38;2;215;175;0mPUT\u001b[0m\u001b[4;38;2;0;105;255m_PARSIN\u001b[0m \u001b[2m               \u001b[0m\n",
       "\u001b[2;36m                    \u001b[0m         \u001b[4;38;2;0;105;255mG_FAILURE\u001b[0m \u001b[1m)\u001b[0m                                                            \u001b[2m               \u001b[0m\n"
      ]
     },
     "metadata": {},
     "output_type": "display_data"
    },
    {
     "data": {
      "text/html": [
       "<pre style=\"white-space:pre;overflow-x:auto;line-height:normal;font-family:Menlo,'DejaVu Sans Mono',consolas,'Courier New',monospace\"><span style=\"color: #7fbfbf; text-decoration-color: #7fbfbf\">[04/05/25 20:45:06] </span><span style=\"color: #d70000; text-decoration-color: #d70000; font-weight: bold\">ERROR   </span> Error raised by inference endpoint: An error occurred        <a href=\"file:///opt/conda/lib/python3.11/site-packages/langchain_aws/chat_models/sagemaker_endpoint.py\" target=\"_blank\"><span style=\"color: #7f7f7f; text-decoration-color: #7f7f7f\">sagemaker_endpoint.py</span></a><span style=\"color: #7f7f7f; text-decoration-color: #7f7f7f\">:</span><a href=\"file:///opt/conda/lib/python3.11/site-packages/langchain_aws/chat_models/sagemaker_endpoint.py#413\" target=\"_blank\"><span style=\"color: #7f7f7f; text-decoration-color: #7f7f7f\">413</span></a>\n",
       "<span style=\"color: #7fbfbf; text-decoration-color: #7fbfbf\">                    </span>         <span style=\"font-weight: bold\">(</span>ModelError<span style=\"font-weight: bold\">)</span> when calling the InvokeEndpoint operation:      <span style=\"color: #7f7f7f; text-decoration-color: #7f7f7f\">                         </span>\n",
       "<span style=\"color: #7fbfbf; text-decoration-color: #7fbfbf\">                    </span>         Received server error <span style=\"font-weight: bold\">(</span><span style=\"color: #008080; text-decoration-color: #008080; font-weight: bold\">0</span><span style=\"font-weight: bold\">)</span> from primary with message <span style=\"color: #008700; text-decoration-color: #008700\">\"Your </span>   <span style=\"color: #7f7f7f; text-decoration-color: #7f7f7f\">                         </span>\n",
       "<span style=\"color: #7fbfbf; text-decoration-color: #7fbfbf\">                    </span>         <span style=\"color: #008700; text-decoration-color: #008700\">invocation timed out while waiting for a response from </span>      <span style=\"color: #7f7f7f; text-decoration-color: #7f7f7f\">                         </span>\n",
       "<span style=\"color: #7fbfbf; text-decoration-color: #7fbfbf\">                    </span>         <span style=\"color: #008700; text-decoration-color: #008700\">container primary. Review the latency metrics for each </span>      <span style=\"color: #7f7f7f; text-decoration-color: #7f7f7f\">                         </span>\n",
       "<span style=\"color: #7fbfbf; text-decoration-color: #7fbfbf\">                    </span>         <span style=\"color: #008700; text-decoration-color: #008700\">container in Amazon CloudWatch, resolve the issue, and try </span>  <span style=\"color: #7f7f7f; text-decoration-color: #7f7f7f\">                         </span>\n",
       "<span style=\"color: #7fbfbf; text-decoration-color: #7fbfbf\">                    </span>         <span style=\"color: #008700; text-decoration-color: #008700\">again.\"</span>. See                                                 <span style=\"color: #7f7f7f; text-decoration-color: #7f7f7f\">                         </span>\n",
       "<span style=\"color: #7fbfbf; text-decoration-color: #7fbfbf\">                    </span>         <span style=\"color: #0069ff; text-decoration-color: #0069ff; text-decoration: underline\">https://us-west-2.console.aws.amazon.com/cloudwatch/home?</span><span style=\"color: #0069ff; text-decoration-color: #0069ff; text-decoration: underline\">reg</span> <span style=\"color: #7f7f7f; text-decoration-color: #7f7f7f\">                         </span>\n",
       "<span style=\"color: #7fbfbf; text-decoration-color: #7fbfbf\">                    </span>         <span style=\"color: #0069ff; text-decoration-color: #0069ff; text-decoration: underline\">ion</span><span style=\"color: #0069ff; text-decoration-color: #0069ff; text-decoration: underline\">=</span><span style=\"color: #0069ff; text-decoration-color: #0069ff; text-decoration: underline\">us</span><span style=\"color: #0069ff; text-decoration-color: #0069ff; text-decoration: underline\">-west-2#logEventViewer:</span><span style=\"color: #0069ff; text-decoration-color: #0069ff; text-decoration: underline\">group</span><span style=\"color: #0069ff; text-decoration-color: #0069ff; text-decoration: underline\">=/aws/sagemaker/Endpoints/</span> <span style=\"color: #7f7f7f; text-decoration-color: #7f7f7f\">                         </span>\n",
       "<span style=\"color: #7fbfbf; text-decoration-color: #7fbfbf\">                    </span>         <span style=\"color: #0069ff; text-decoration-color: #0069ff; text-decoration: underline\">qwen25-2025-04-04-17-16-38-665</span> in account <span style=\"color: #008080; text-decoration-color: #008080; font-weight: bold\">340043819279</span> for   <span style=\"color: #7f7f7f; text-decoration-color: #7f7f7f\">                         </span>\n",
       "<span style=\"color: #7fbfbf; text-decoration-color: #7fbfbf\">                    </span>         more information.                                            <span style=\"color: #7f7f7f; text-decoration-color: #7f7f7f\">                         </span>\n",
       "</pre>\n"
      ],
      "text/plain": [
       "\u001b[2;36m[04/05/25 20:45:06]\u001b[0m\u001b[2;36m \u001b[0m\u001b[1;38;2;215;0;0mERROR   \u001b[0m Error raised by inference endpoint: An error occurred        \u001b]8;id=450235;file:///opt/conda/lib/python3.11/site-packages/langchain_aws/chat_models/sagemaker_endpoint.py\u001b\\\u001b[2msagemaker_endpoint.py\u001b[0m\u001b]8;;\u001b\\\u001b[2m:\u001b[0m\u001b]8;id=520612;file:///opt/conda/lib/python3.11/site-packages/langchain_aws/chat_models/sagemaker_endpoint.py#413\u001b\\\u001b[2m413\u001b[0m\u001b]8;;\u001b\\\n",
       "\u001b[2;36m                    \u001b[0m         \u001b[1m(\u001b[0mModelError\u001b[1m)\u001b[0m when calling the InvokeEndpoint operation:      \u001b[2m                         \u001b[0m\n",
       "\u001b[2;36m                    \u001b[0m         Received server error \u001b[1m(\u001b[0m\u001b[1;36m0\u001b[0m\u001b[1m)\u001b[0m from primary with message \u001b[38;2;0;135;0m\"Your \u001b[0m   \u001b[2m                         \u001b[0m\n",
       "\u001b[2;36m                    \u001b[0m         \u001b[38;2;0;135;0minvocation timed out while waiting for a response from \u001b[0m      \u001b[2m                         \u001b[0m\n",
       "\u001b[2;36m                    \u001b[0m         \u001b[38;2;0;135;0mcontainer primary. Review the latency metrics for each \u001b[0m      \u001b[2m                         \u001b[0m\n",
       "\u001b[2;36m                    \u001b[0m         \u001b[38;2;0;135;0mcontainer in Amazon CloudWatch, resolve the issue, and try \u001b[0m  \u001b[2m                         \u001b[0m\n",
       "\u001b[2;36m                    \u001b[0m         \u001b[38;2;0;135;0magain.\"\u001b[0m. See                                                 \u001b[2m                         \u001b[0m\n",
       "\u001b[2;36m                    \u001b[0m         \u001b[4;38;2;0;105;255mhttps://us-west-2.console.aws.amazon.com/cloudwatch/home?\u001b[0m\u001b[4;38;2;0;105;255mreg\u001b[0m \u001b[2m                         \u001b[0m\n",
       "\u001b[2;36m                    \u001b[0m         \u001b[4;38;2;0;105;255mion\u001b[0m\u001b[4;38;2;0;105;255m=\u001b[0m\u001b[4;38;2;0;105;255mus\u001b[0m\u001b[4;38;2;0;105;255m-west-2#logEventViewer:\u001b[0m\u001b[4;38;2;0;105;255mgroup\u001b[0m\u001b[4;38;2;0;105;255m=/aws/sagemaker/Endpoints/\u001b[0m \u001b[2m                         \u001b[0m\n",
       "\u001b[2;36m                    \u001b[0m         \u001b[4;38;2;0;105;255mqwen25-2025-04-04-17-16-38-665\u001b[0m in account \u001b[1;36m340043819279\u001b[0m for   \u001b[2m                         \u001b[0m\n",
       "\u001b[2;36m                    \u001b[0m         more information.                                            \u001b[2m                         \u001b[0m\n"
      ]
     },
     "metadata": {},
     "output_type": "display_data"
    },
    {
     "data": {
      "text/html": [
       "<pre style=\"white-space:pre;overflow-x:auto;line-height:normal;font-family:Menlo,'DejaVu Sans Mono',consolas,'Courier New',monospace\"><span style=\"color: #7fbfbf; text-decoration-color: #7fbfbf\">[04/05/25 20:46:40] </span><span style=\"color: #d70000; text-decoration-color: #d70000; font-weight: bold\">ERROR   </span> Exception raised in Job<span style=\"font-weight: bold\">[</span><span style=\"color: #008080; text-decoration-color: #008080; font-weight: bold\">4861</span><span style=\"font-weight: bold\">]</span>: <span style=\"color: #e100e1; text-decoration-color: #e100e1; font-weight: bold\">OutputParserException</span><span style=\"font-weight: bold\">(</span>Failed to parse   <a href=\"file:///opt/conda/lib/python3.11/site-packages/ragas/executor.py\" target=\"_blank\"><span style=\"color: #7f7f7f; text-decoration-color: #7f7f7f\">executor.py</span></a><span style=\"color: #7f7f7f; text-decoration-color: #7f7f7f\">:</span><a href=\"file:///opt/conda/lib/python3.11/site-packages/ragas/executor.py#104\" target=\"_blank\"><span style=\"color: #7f7f7f; text-decoration-color: #7f7f7f\">104</span></a>\n",
       "<span style=\"color: #7fbfbf; text-decoration-color: #7fbfbf\">                    </span>         StringIO from completion <span style=\"font-weight: bold\">{</span><span style=\"color: #008700; text-decoration-color: #008700\">\"statements\"</span>: <span style=\"font-weight: bold\">[{</span><span style=\"color: #008700; text-decoration-color: #008700\">\"statement\"</span>: <span style=\"color: #008700; text-decoration-color: #008700\">\"The study </span>     <span style=\"color: #7f7f7f; text-decoration-color: #7f7f7f\">               </span>\n",
       "<span style=\"color: #7fbfbf; text-decoration-color: #7fbfbf\">                    </span>         <span style=\"color: #008700; text-decoration-color: #008700\">found that students who used a multimedia module for learning about </span>   <span style=\"color: #7f7f7f; text-decoration-color: #7f7f7f\">               </span>\n",
       "<span style=\"color: #7fbfbf; text-decoration-color: #7fbfbf\">                    </span>         <span style=\"color: #008700; text-decoration-color: #008700\">aortic valve replacement performed significantly better during an </span>     <span style=\"color: #7f7f7f; text-decoration-color: #7f7f7f\">               </span>\n",
       "<span style=\"color: #7fbfbf; text-decoration-color: #7fbfbf\">                    </span>         <span style=\"color: #008700; text-decoration-color: #008700\">operation compared to those who used a print medium.\"</span>, <span style=\"color: #008700; text-decoration-color: #008700\">\"reason\"</span>: <span style=\"color: #008700; text-decoration-color: #008700\">\"The </span> <span style=\"color: #7f7f7f; text-decoration-color: #7f7f7f\">               </span>\n",
       "<span style=\"color: #7fbfbf; text-decoration-color: #7fbfbf\">                    </span>         <span style=\"color: #008700; text-decoration-color: #008700\">context directly states that 'One hundred twenty-six students were </span>    <span style=\"color: #7f7f7f; text-decoration-color: #7f7f7f\">               </span>\n",
       "<span style=\"color: #7fbfbf; text-decoration-color: #7fbfbf\">                    </span>         <span style=\"color: #008700; text-decoration-color: #008700\">randomly assigned in a prospective study to either use the multimedia </span> <span style=\"color: #7f7f7f; text-decoration-color: #7f7f7f\">               </span>\n",
       "<span style=\"color: #7fbfbf; text-decoration-color: #7fbfbf\">                    </span>         <span style=\"color: #008700; text-decoration-color: #008700\">course </span><span style=\"color: #008700; text-decoration-color: #008700; font-weight: bold\">(</span><span style=\"color: #008700; text-decoration-color: #008700\">n = 69</span><span style=\"color: #008700; text-decoration-color: #008700; font-weight: bold\">)</span><span style=\"color: #008700; text-decoration-color: #008700\"> or a print version </span><span style=\"color: #008700; text-decoration-color: #008700; font-weight: bold\">(</span><span style=\"color: #008700; text-decoration-color: #008700\">n = 57</span><span style=\"color: #008700; text-decoration-color: #008700; font-weight: bold\">)</span><span style=\"color: #008700; text-decoration-color: #008700\">. A 20-item multiple-choice</span> <span style=\"color: #7f7f7f; text-decoration-color: #7f7f7f\">               </span>\n",
       "<span style=\"color: #7fbfbf; text-decoration-color: #7fbfbf\">                    </span>         <span style=\"color: #008700; text-decoration-color: #008700\">test was performed before and after learning with the respective </span>      <span style=\"color: #7f7f7f; text-decoration-color: #7f7f7f\">               </span>\n",
       "<span style=\"color: #7fbfbf; text-decoration-color: #7fbfbf\">                    </span>         <span style=\"color: #008700; text-decoration-color: #008700\">medium. Both groups participated in an operation during which they </span>    <span style=\"color: #7f7f7f; text-decoration-color: #7f7f7f\">               </span>\n",
       "<span style=\"color: #7fbfbf; text-decoration-color: #7fbfbf\">                    </span>         <span style=\"color: #008700; text-decoration-color: #008700\">were evaluated with 28 standardized tasks and questions. Individual </span>   <span style=\"color: #7f7f7f; text-decoration-color: #7f7f7f\">               </span>\n",
       "<span style=\"color: #7fbfbf; text-decoration-color: #7fbfbf\">                    </span>         <span style=\"color: #008700; text-decoration-color: #008700\">motivation, computer literacy, and didactic quality of both media were</span> <span style=\"color: #7f7f7f; text-decoration-color: #7f7f7f\">               </span>\n",
       "<span style=\"color: #7fbfbf; text-decoration-color: #7fbfbf\">                    </span>         <span style=\"color: #008700; text-decoration-color: #008700\">assessed with psychometric tests. The mean percentage of correct </span>      <span style=\"color: #7f7f7f; text-decoration-color: #7f7f7f\">               </span>\n",
       "<span style=\"color: #7fbfbf; text-decoration-color: #7fbfbf\">                    </span>         <span style=\"color: #008700; text-decoration-color: #008700\">answers during the operation was 82.9% +/- 10% in the online group and</span> <span style=\"color: #7f7f7f; text-decoration-color: #7f7f7f\">               </span>\n",
       "<span style=\"color: #7fbfbf; text-decoration-color: #7fbfbf\">                    </span>         <span style=\"color: #008700; text-decoration-color: #008700\">64.7% +/- 12% in the print group </span><span style=\"color: #008700; text-decoration-color: #008700; font-weight: bold\">(</span><span style=\"color: #008700; text-decoration-color: #008700\">p &lt; 0.0001</span><span style=\"color: #008700; text-decoration-color: #008700; font-weight: bold\">)</span><span style=\"color: #008700; text-decoration-color: #008700\">. The multimedia group </span>   <span style=\"color: #7f7f7f; text-decoration-color: #7f7f7f\">               </span>\n",
       "<span style=\"color: #7fbfbf; text-decoration-color: #7fbfbf\">                    </span>         <span style=\"color: #008700; text-decoration-color: #008700\">needed significantly </span><span style=\"color: #008700; text-decoration-color: #008700; font-weight: bold\">(</span><span style=\"color: #008700; text-decoration-color: #008700\">p &lt; 0.001</span><span style=\"color: #008700; text-decoration-color: #008700; font-weight: bold\">)</span><span style=\"color: #008700; text-decoration-color: #008700\"> less study time </span><span style=\"color: #008700; text-decoration-color: #008700; font-weight: bold\">(</span><span style=\"color: #008700; text-decoration-color: #008700\">105 +/- 24 minutes</span><span style=\"color: #008700; text-decoration-color: #008700; font-weight: bold\">)</span><span style=\"color: #008700; text-decoration-color: #008700\"> </span> <span style=\"color: #7f7f7f; text-decoration-color: #7f7f7f\">               </span>\n",
       "<span style=\"color: #7fbfbf; text-decoration-color: #7fbfbf\">                    </span>         <span style=\"color: #008700; text-decoration-color: #008700\">when compared with the text group </span><span style=\"color: #008700; text-decoration-color: #008700; font-weight: bold\">(</span><span style=\"color: #008700; text-decoration-color: #008700\">122 +/- 30 minutes</span><span style=\"color: #008700; text-decoration-color: #008700; font-weight: bold\">)</span><span style=\"color: #008700; text-decoration-color: #008700\">. There were no </span> <span style=\"color: #7f7f7f; text-decoration-color: #7f7f7f\">               </span>\n",
       "<span style=\"color: #7fbfbf; text-decoration-color: #7fbfbf\">                    </span>         <span style=\"color: #008700; text-decoration-color: #008700\">statistically significant differences in motivation, computer </span>         <span style=\"color: #7f7f7f; text-decoration-color: #7f7f7f\">               </span>\n",
       "<span style=\"color: #7fbfbf; text-decoration-color: #7fbfbf\">                    </span>         <span style=\"color: #008700; text-decoration-color: #008700\">literacy, and didactic quality of either medium.',\\n            \"</span><span style=\"font-weight: bold\">}]}</span>.  <span style=\"color: #7f7f7f; text-decoration-color: #7f7f7f\">               </span>\n",
       "<span style=\"color: #7fbfbf; text-decoration-color: #7fbfbf\">                    </span>         Got: <span style=\"color: #008080; text-decoration-color: #008080; font-weight: bold\">1</span> validation error for StringIO                                   <span style=\"color: #7f7f7f; text-decoration-color: #7f7f7f\">               </span>\n",
       "<span style=\"color: #7fbfbf; text-decoration-color: #7fbfbf\">                    </span>         text                                                                   <span style=\"color: #7f7f7f; text-decoration-color: #7f7f7f\">               </span>\n",
       "<span style=\"color: #7fbfbf; text-decoration-color: #7fbfbf\">                    </span>           Field required <span style=\"font-weight: bold\">[</span><span style=\"color: #d7af00; text-decoration-color: #d7af00\">type</span>=<span style=\"color: #e100e1; text-decoration-color: #e100e1\">missing</span>, <span style=\"color: #d7af00; text-decoration-color: #d7af00\">input_value</span>=<span style=\"font-weight: bold\">{</span><span style=\"color: #008700; text-decoration-color: #008700\">'statements'</span>:             <span style=\"color: #7f7f7f; text-decoration-color: #7f7f7f\">               </span>\n",
       "<span style=\"color: #7fbfbf; text-decoration-color: #7fbfbf\">                    </span>         <span style=\"font-weight: bold\">[{</span><span style=\"color: #008700; text-decoration-color: #008700\">'stateme...ium.'</span>,\\n            \"<span style=\"font-weight: bold\">}]}</span>, <span style=\"color: #d7af00; text-decoration-color: #d7af00\">input_type</span>=<span style=\"color: #e100e1; text-decoration-color: #e100e1\">dict</span><span style=\"font-weight: bold\">]</span>                <span style=\"color: #7f7f7f; text-decoration-color: #7f7f7f\">               </span>\n",
       "<span style=\"color: #7fbfbf; text-decoration-color: #7fbfbf\">                    </span>             For further information visit                                      <span style=\"color: #7f7f7f; text-decoration-color: #7f7f7f\">               </span>\n",
       "<span style=\"color: #7fbfbf; text-decoration-color: #7fbfbf\">                    </span>         <span style=\"color: #0069ff; text-decoration-color: #0069ff; text-decoration: underline\">https://errors.pydantic.dev/2.11/v/missing</span>                             <span style=\"color: #7f7f7f; text-decoration-color: #7f7f7f\">               </span>\n",
       "<span style=\"color: #7fbfbf; text-decoration-color: #7fbfbf\">                    </span>         For troubleshooting, visit:                                            <span style=\"color: #7f7f7f; text-decoration-color: #7f7f7f\">               </span>\n",
       "<span style=\"color: #7fbfbf; text-decoration-color: #7fbfbf\">                    </span>         <span style=\"color: #0069ff; text-decoration-color: #0069ff; text-decoration: underline\">https://python.langchain.com/docs/troubleshooting/errors/OUT</span><span style=\"color: #d7af00; text-decoration-color: #d7af00; font-weight: bold; text-decoration: underline\">PUT</span><span style=\"color: #0069ff; text-decoration-color: #0069ff; text-decoration: underline\">_PARSIN</span> <span style=\"color: #7f7f7f; text-decoration-color: #7f7f7f\">               </span>\n",
       "<span style=\"color: #7fbfbf; text-decoration-color: #7fbfbf\">                    </span>         <span style=\"color: #0069ff; text-decoration-color: #0069ff; text-decoration: underline\">G_FAILURE</span> <span style=\"font-weight: bold\">)</span>                                                            <span style=\"color: #7f7f7f; text-decoration-color: #7f7f7f\">               </span>\n",
       "</pre>\n"
      ],
      "text/plain": [
       "\u001b[2;36m[04/05/25 20:46:40]\u001b[0m\u001b[2;36m \u001b[0m\u001b[1;38;2;215;0;0mERROR   \u001b[0m Exception raised in Job\u001b[1m[\u001b[0m\u001b[1;36m4861\u001b[0m\u001b[1m]\u001b[0m: \u001b[1;38;2;225;0;225mOutputParserException\u001b[0m\u001b[1m(\u001b[0mFailed to parse   \u001b]8;id=321980;file:///opt/conda/lib/python3.11/site-packages/ragas/executor.py\u001b\\\u001b[2mexecutor.py\u001b[0m\u001b]8;;\u001b\\\u001b[2m:\u001b[0m\u001b]8;id=546679;file:///opt/conda/lib/python3.11/site-packages/ragas/executor.py#104\u001b\\\u001b[2m104\u001b[0m\u001b]8;;\u001b\\\n",
       "\u001b[2;36m                    \u001b[0m         StringIO from completion \u001b[1m{\u001b[0m\u001b[38;2;0;135;0m\"statements\"\u001b[0m: \u001b[1m[\u001b[0m\u001b[1m{\u001b[0m\u001b[38;2;0;135;0m\"statement\"\u001b[0m: \u001b[38;2;0;135;0m\"The study \u001b[0m     \u001b[2m               \u001b[0m\n",
       "\u001b[2;36m                    \u001b[0m         \u001b[38;2;0;135;0mfound that students who used a multimedia module for learning about \u001b[0m   \u001b[2m               \u001b[0m\n",
       "\u001b[2;36m                    \u001b[0m         \u001b[38;2;0;135;0maortic valve replacement performed significantly better during an \u001b[0m     \u001b[2m               \u001b[0m\n",
       "\u001b[2;36m                    \u001b[0m         \u001b[38;2;0;135;0moperation compared to those who used a print medium.\"\u001b[0m, \u001b[38;2;0;135;0m\"reason\"\u001b[0m: \u001b[38;2;0;135;0m\"The \u001b[0m \u001b[2m               \u001b[0m\n",
       "\u001b[2;36m                    \u001b[0m         \u001b[38;2;0;135;0mcontext directly states that 'One hundred twenty-six students were \u001b[0m    \u001b[2m               \u001b[0m\n",
       "\u001b[2;36m                    \u001b[0m         \u001b[38;2;0;135;0mrandomly assigned in a prospective study to either use the multimedia \u001b[0m \u001b[2m               \u001b[0m\n",
       "\u001b[2;36m                    \u001b[0m         \u001b[38;2;0;135;0mcourse \u001b[0m\u001b[1;38;2;0;135;0m(\u001b[0m\u001b[38;2;0;135;0mn = 69\u001b[0m\u001b[1;38;2;0;135;0m)\u001b[0m\u001b[38;2;0;135;0m or a print version \u001b[0m\u001b[1;38;2;0;135;0m(\u001b[0m\u001b[38;2;0;135;0mn = 57\u001b[0m\u001b[1;38;2;0;135;0m)\u001b[0m\u001b[38;2;0;135;0m. A 20-item multiple-choice\u001b[0m \u001b[2m               \u001b[0m\n",
       "\u001b[2;36m                    \u001b[0m         \u001b[38;2;0;135;0mtest was performed before and after learning with the respective \u001b[0m      \u001b[2m               \u001b[0m\n",
       "\u001b[2;36m                    \u001b[0m         \u001b[38;2;0;135;0mmedium. Both groups participated in an operation during which they \u001b[0m    \u001b[2m               \u001b[0m\n",
       "\u001b[2;36m                    \u001b[0m         \u001b[38;2;0;135;0mwere evaluated with 28 standardized tasks and questions. Individual \u001b[0m   \u001b[2m               \u001b[0m\n",
       "\u001b[2;36m                    \u001b[0m         \u001b[38;2;0;135;0mmotivation, computer literacy, and didactic quality of both media were\u001b[0m \u001b[2m               \u001b[0m\n",
       "\u001b[2;36m                    \u001b[0m         \u001b[38;2;0;135;0massessed with psychometric tests. The mean percentage of correct \u001b[0m      \u001b[2m               \u001b[0m\n",
       "\u001b[2;36m                    \u001b[0m         \u001b[38;2;0;135;0manswers during the operation was 82.9% +/- 10% in the online group and\u001b[0m \u001b[2m               \u001b[0m\n",
       "\u001b[2;36m                    \u001b[0m         \u001b[38;2;0;135;0m64.7% +/- 12% in the print group \u001b[0m\u001b[1;38;2;0;135;0m(\u001b[0m\u001b[38;2;0;135;0mp < 0.0001\u001b[0m\u001b[1;38;2;0;135;0m)\u001b[0m\u001b[38;2;0;135;0m. The multimedia group \u001b[0m   \u001b[2m               \u001b[0m\n",
       "\u001b[2;36m                    \u001b[0m         \u001b[38;2;0;135;0mneeded significantly \u001b[0m\u001b[1;38;2;0;135;0m(\u001b[0m\u001b[38;2;0;135;0mp < 0.001\u001b[0m\u001b[1;38;2;0;135;0m)\u001b[0m\u001b[38;2;0;135;0m less study time \u001b[0m\u001b[1;38;2;0;135;0m(\u001b[0m\u001b[38;2;0;135;0m105 +/- 24 minutes\u001b[0m\u001b[1;38;2;0;135;0m)\u001b[0m\u001b[38;2;0;135;0m \u001b[0m \u001b[2m               \u001b[0m\n",
       "\u001b[2;36m                    \u001b[0m         \u001b[38;2;0;135;0mwhen compared with the text group \u001b[0m\u001b[1;38;2;0;135;0m(\u001b[0m\u001b[38;2;0;135;0m122 +/- 30 minutes\u001b[0m\u001b[1;38;2;0;135;0m)\u001b[0m\u001b[38;2;0;135;0m. There were no \u001b[0m \u001b[2m               \u001b[0m\n",
       "\u001b[2;36m                    \u001b[0m         \u001b[38;2;0;135;0mstatistically significant differences in motivation, computer \u001b[0m         \u001b[2m               \u001b[0m\n",
       "\u001b[2;36m                    \u001b[0m         \u001b[38;2;0;135;0mliteracy, and didactic quality of either medium.',\\n            \"\u001b[0m\u001b[1m}\u001b[0m\u001b[1m]\u001b[0m\u001b[1m}\u001b[0m.  \u001b[2m               \u001b[0m\n",
       "\u001b[2;36m                    \u001b[0m         Got: \u001b[1;36m1\u001b[0m validation error for StringIO                                   \u001b[2m               \u001b[0m\n",
       "\u001b[2;36m                    \u001b[0m         text                                                                   \u001b[2m               \u001b[0m\n",
       "\u001b[2;36m                    \u001b[0m           Field required \u001b[1m[\u001b[0m\u001b[38;2;215;175;0mtype\u001b[0m=\u001b[38;2;225;0;225mmissing\u001b[0m, \u001b[38;2;215;175;0minput_value\u001b[0m=\u001b[1m{\u001b[0m\u001b[38;2;0;135;0m'statements'\u001b[0m:             \u001b[2m               \u001b[0m\n",
       "\u001b[2;36m                    \u001b[0m         \u001b[1m[\u001b[0m\u001b[1m{\u001b[0m\u001b[38;2;0;135;0m'stateme...ium.'\u001b[0m,\\n            \"\u001b[1m}\u001b[0m\u001b[1m]\u001b[0m\u001b[1m}\u001b[0m, \u001b[38;2;215;175;0minput_type\u001b[0m=\u001b[38;2;225;0;225mdict\u001b[0m\u001b[1m]\u001b[0m                \u001b[2m               \u001b[0m\n",
       "\u001b[2;36m                    \u001b[0m             For further information visit                                      \u001b[2m               \u001b[0m\n",
       "\u001b[2;36m                    \u001b[0m         \u001b[4;38;2;0;105;255mhttps://errors.pydantic.dev/2.11/v/missing\u001b[0m                             \u001b[2m               \u001b[0m\n",
       "\u001b[2;36m                    \u001b[0m         For troubleshooting, visit:                                            \u001b[2m               \u001b[0m\n",
       "\u001b[2;36m                    \u001b[0m         \u001b[4;38;2;0;105;255mhttps://python.langchain.com/docs/troubleshooting/errors/OUT\u001b[0m\u001b[1;4;38;2;215;175;0mPUT\u001b[0m\u001b[4;38;2;0;105;255m_PARSIN\u001b[0m \u001b[2m               \u001b[0m\n",
       "\u001b[2;36m                    \u001b[0m         \u001b[4;38;2;0;105;255mG_FAILURE\u001b[0m \u001b[1m)\u001b[0m                                                            \u001b[2m               \u001b[0m\n"
      ]
     },
     "metadata": {},
     "output_type": "display_data"
    },
    {
     "data": {
      "text/html": [
       "<pre style=\"white-space:pre;overflow-x:auto;line-height:normal;font-family:Menlo,'DejaVu Sans Mono',consolas,'Courier New',monospace\"><span style=\"color: #7fbfbf; text-decoration-color: #7fbfbf\">[04/05/25 20:48:07] </span><span style=\"color: #d70000; text-decoration-color: #d70000; font-weight: bold\">ERROR   </span> Error raised by inference endpoint: An error occurred        <a href=\"file:///opt/conda/lib/python3.11/site-packages/langchain_aws/chat_models/sagemaker_endpoint.py\" target=\"_blank\"><span style=\"color: #7f7f7f; text-decoration-color: #7f7f7f\">sagemaker_endpoint.py</span></a><span style=\"color: #7f7f7f; text-decoration-color: #7f7f7f\">:</span><a href=\"file:///opt/conda/lib/python3.11/site-packages/langchain_aws/chat_models/sagemaker_endpoint.py#413\" target=\"_blank\"><span style=\"color: #7f7f7f; text-decoration-color: #7f7f7f\">413</span></a>\n",
       "<span style=\"color: #7fbfbf; text-decoration-color: #7fbfbf\">                    </span>         <span style=\"font-weight: bold\">(</span>ModelError<span style=\"font-weight: bold\">)</span> when calling the InvokeEndpoint operation:      <span style=\"color: #7f7f7f; text-decoration-color: #7f7f7f\">                         </span>\n",
       "<span style=\"color: #7fbfbf; text-decoration-color: #7fbfbf\">                    </span>         Received server error <span style=\"font-weight: bold\">(</span><span style=\"color: #008080; text-decoration-color: #008080; font-weight: bold\">0</span><span style=\"font-weight: bold\">)</span> from primary with message <span style=\"color: #008700; text-decoration-color: #008700\">\"Your </span>   <span style=\"color: #7f7f7f; text-decoration-color: #7f7f7f\">                         </span>\n",
       "<span style=\"color: #7fbfbf; text-decoration-color: #7fbfbf\">                    </span>         <span style=\"color: #008700; text-decoration-color: #008700\">invocation timed out while waiting for a response from </span>      <span style=\"color: #7f7f7f; text-decoration-color: #7f7f7f\">                         </span>\n",
       "<span style=\"color: #7fbfbf; text-decoration-color: #7fbfbf\">                    </span>         <span style=\"color: #008700; text-decoration-color: #008700\">container primary. Review the latency metrics for each </span>      <span style=\"color: #7f7f7f; text-decoration-color: #7f7f7f\">                         </span>\n",
       "<span style=\"color: #7fbfbf; text-decoration-color: #7fbfbf\">                    </span>         <span style=\"color: #008700; text-decoration-color: #008700\">container in Amazon CloudWatch, resolve the issue, and try </span>  <span style=\"color: #7f7f7f; text-decoration-color: #7f7f7f\">                         </span>\n",
       "<span style=\"color: #7fbfbf; text-decoration-color: #7fbfbf\">                    </span>         <span style=\"color: #008700; text-decoration-color: #008700\">again.\"</span>. See                                                 <span style=\"color: #7f7f7f; text-decoration-color: #7f7f7f\">                         </span>\n",
       "<span style=\"color: #7fbfbf; text-decoration-color: #7fbfbf\">                    </span>         <span style=\"color: #0069ff; text-decoration-color: #0069ff; text-decoration: underline\">https://us-west-2.console.aws.amazon.com/cloudwatch/home?</span><span style=\"color: #0069ff; text-decoration-color: #0069ff; text-decoration: underline\">reg</span> <span style=\"color: #7f7f7f; text-decoration-color: #7f7f7f\">                         </span>\n",
       "<span style=\"color: #7fbfbf; text-decoration-color: #7fbfbf\">                    </span>         <span style=\"color: #0069ff; text-decoration-color: #0069ff; text-decoration: underline\">ion</span><span style=\"color: #0069ff; text-decoration-color: #0069ff; text-decoration: underline\">=</span><span style=\"color: #0069ff; text-decoration-color: #0069ff; text-decoration: underline\">us</span><span style=\"color: #0069ff; text-decoration-color: #0069ff; text-decoration: underline\">-west-2#logEventViewer:</span><span style=\"color: #0069ff; text-decoration-color: #0069ff; text-decoration: underline\">group</span><span style=\"color: #0069ff; text-decoration-color: #0069ff; text-decoration: underline\">=/aws/sagemaker/Endpoints/</span> <span style=\"color: #7f7f7f; text-decoration-color: #7f7f7f\">                         </span>\n",
       "<span style=\"color: #7fbfbf; text-decoration-color: #7fbfbf\">                    </span>         <span style=\"color: #0069ff; text-decoration-color: #0069ff; text-decoration: underline\">qwen25-2025-04-04-17-16-38-665</span> in account <span style=\"color: #008080; text-decoration-color: #008080; font-weight: bold\">340043819279</span> for   <span style=\"color: #7f7f7f; text-decoration-color: #7f7f7f\">                         </span>\n",
       "<span style=\"color: #7fbfbf; text-decoration-color: #7fbfbf\">                    </span>         more information.                                            <span style=\"color: #7f7f7f; text-decoration-color: #7f7f7f\">                         </span>\n",
       "</pre>\n"
      ],
      "text/plain": [
       "\u001b[2;36m[04/05/25 20:48:07]\u001b[0m\u001b[2;36m \u001b[0m\u001b[1;38;2;215;0;0mERROR   \u001b[0m Error raised by inference endpoint: An error occurred        \u001b]8;id=787056;file:///opt/conda/lib/python3.11/site-packages/langchain_aws/chat_models/sagemaker_endpoint.py\u001b\\\u001b[2msagemaker_endpoint.py\u001b[0m\u001b]8;;\u001b\\\u001b[2m:\u001b[0m\u001b]8;id=777697;file:///opt/conda/lib/python3.11/site-packages/langchain_aws/chat_models/sagemaker_endpoint.py#413\u001b\\\u001b[2m413\u001b[0m\u001b]8;;\u001b\\\n",
       "\u001b[2;36m                    \u001b[0m         \u001b[1m(\u001b[0mModelError\u001b[1m)\u001b[0m when calling the InvokeEndpoint operation:      \u001b[2m                         \u001b[0m\n",
       "\u001b[2;36m                    \u001b[0m         Received server error \u001b[1m(\u001b[0m\u001b[1;36m0\u001b[0m\u001b[1m)\u001b[0m from primary with message \u001b[38;2;0;135;0m\"Your \u001b[0m   \u001b[2m                         \u001b[0m\n",
       "\u001b[2;36m                    \u001b[0m         \u001b[38;2;0;135;0minvocation timed out while waiting for a response from \u001b[0m      \u001b[2m                         \u001b[0m\n",
       "\u001b[2;36m                    \u001b[0m         \u001b[38;2;0;135;0mcontainer primary. Review the latency metrics for each \u001b[0m      \u001b[2m                         \u001b[0m\n",
       "\u001b[2;36m                    \u001b[0m         \u001b[38;2;0;135;0mcontainer in Amazon CloudWatch, resolve the issue, and try \u001b[0m  \u001b[2m                         \u001b[0m\n",
       "\u001b[2;36m                    \u001b[0m         \u001b[38;2;0;135;0magain.\"\u001b[0m. See                                                 \u001b[2m                         \u001b[0m\n",
       "\u001b[2;36m                    \u001b[0m         \u001b[4;38;2;0;105;255mhttps://us-west-2.console.aws.amazon.com/cloudwatch/home?\u001b[0m\u001b[4;38;2;0;105;255mreg\u001b[0m \u001b[2m                         \u001b[0m\n",
       "\u001b[2;36m                    \u001b[0m         \u001b[4;38;2;0;105;255mion\u001b[0m\u001b[4;38;2;0;105;255m=\u001b[0m\u001b[4;38;2;0;105;255mus\u001b[0m\u001b[4;38;2;0;105;255m-west-2#logEventViewer:\u001b[0m\u001b[4;38;2;0;105;255mgroup\u001b[0m\u001b[4;38;2;0;105;255m=/aws/sagemaker/Endpoints/\u001b[0m \u001b[2m                         \u001b[0m\n",
       "\u001b[2;36m                    \u001b[0m         \u001b[4;38;2;0;105;255mqwen25-2025-04-04-17-16-38-665\u001b[0m in account \u001b[1;36m340043819279\u001b[0m for   \u001b[2m                         \u001b[0m\n",
       "\u001b[2;36m                    \u001b[0m         more information.                                            \u001b[2m                         \u001b[0m\n"
      ]
     },
     "metadata": {},
     "output_type": "display_data"
    },
    {
     "data": {
      "text/html": [
       "<pre style=\"white-space:pre;overflow-x:auto;line-height:normal;font-family:Menlo,'DejaVu Sans Mono',consolas,'Courier New',monospace\"><span style=\"color: #7fbfbf; text-decoration-color: #7fbfbf\">[04/05/25 20:48:24] </span><span style=\"color: #d70000; text-decoration-color: #d70000; font-weight: bold\">ERROR   </span> Prompt fix_output_format failed to parse output: The output     <a href=\"file:///opt/conda/lib/python3.11/site-packages/ragas/prompt/pydantic_prompt.py\" target=\"_blank\"><span style=\"color: #7f7f7f; text-decoration-color: #7f7f7f\">pydantic_prompt.py</span></a><span style=\"color: #7f7f7f; text-decoration-color: #7f7f7f\">:</span><a href=\"file:///opt/conda/lib/python3.11/site-packages/ragas/prompt/pydantic_prompt.py#214\" target=\"_blank\"><span style=\"color: #7f7f7f; text-decoration-color: #7f7f7f\">214</span></a>\n",
       "<span style=\"color: #7fbfbf; text-decoration-color: #7fbfbf\">                    </span>         parser failed to parse the output including retries.            <span style=\"color: #7f7f7f; text-decoration-color: #7f7f7f\">                      </span>\n",
       "</pre>\n"
      ],
      "text/plain": [
       "\u001b[2;36m[04/05/25 20:48:24]\u001b[0m\u001b[2;36m \u001b[0m\u001b[1;38;2;215;0;0mERROR   \u001b[0m Prompt fix_output_format failed to parse output: The output     \u001b]8;id=228216;file:///opt/conda/lib/python3.11/site-packages/ragas/prompt/pydantic_prompt.py\u001b\\\u001b[2mpydantic_prompt.py\u001b[0m\u001b]8;;\u001b\\\u001b[2m:\u001b[0m\u001b]8;id=357256;file:///opt/conda/lib/python3.11/site-packages/ragas/prompt/pydantic_prompt.py#214\u001b\\\u001b[2m214\u001b[0m\u001b]8;;\u001b\\\n",
       "\u001b[2;36m                    \u001b[0m         parser failed to parse the output including retries.            \u001b[2m                      \u001b[0m\n"
      ]
     },
     "metadata": {},
     "output_type": "display_data"
    },
    {
     "data": {
      "text/html": [
       "<pre style=\"white-space:pre;overflow-x:auto;line-height:normal;font-family:Menlo,'DejaVu Sans Mono',consolas,'Courier New',monospace\"><span style=\"color: #7fbfbf; text-decoration-color: #7fbfbf\">                    </span><span style=\"color: #d70000; text-decoration-color: #d70000; font-weight: bold\">ERROR   </span> Prompt fix_output_format failed to parse output: The output     <a href=\"file:///opt/conda/lib/python3.11/site-packages/ragas/prompt/pydantic_prompt.py\" target=\"_blank\"><span style=\"color: #7f7f7f; text-decoration-color: #7f7f7f\">pydantic_prompt.py</span></a><span style=\"color: #7f7f7f; text-decoration-color: #7f7f7f\">:</span><a href=\"file:///opt/conda/lib/python3.11/site-packages/ragas/prompt/pydantic_prompt.py#214\" target=\"_blank\"><span style=\"color: #7f7f7f; text-decoration-color: #7f7f7f\">214</span></a>\n",
       "<span style=\"color: #7fbfbf; text-decoration-color: #7fbfbf\">                    </span>         parser failed to parse the output including retries.            <span style=\"color: #7f7f7f; text-decoration-color: #7f7f7f\">                      </span>\n",
       "</pre>\n"
      ],
      "text/plain": [
       "\u001b[2;36m                   \u001b[0m\u001b[2;36m \u001b[0m\u001b[1;38;2;215;0;0mERROR   \u001b[0m Prompt fix_output_format failed to parse output: The output     \u001b]8;id=757331;file:///opt/conda/lib/python3.11/site-packages/ragas/prompt/pydantic_prompt.py\u001b\\\u001b[2mpydantic_prompt.py\u001b[0m\u001b]8;;\u001b\\\u001b[2m:\u001b[0m\u001b]8;id=790764;file:///opt/conda/lib/python3.11/site-packages/ragas/prompt/pydantic_prompt.py#214\u001b\\\u001b[2m214\u001b[0m\u001b]8;;\u001b\\\n",
       "\u001b[2;36m                    \u001b[0m         parser failed to parse the output including retries.            \u001b[2m                      \u001b[0m\n"
      ]
     },
     "metadata": {},
     "output_type": "display_data"
    },
    {
     "data": {
      "text/html": [
       "<pre style=\"white-space:pre;overflow-x:auto;line-height:normal;font-family:Menlo,'DejaVu Sans Mono',consolas,'Courier New',monospace\"><span style=\"color: #7fbfbf; text-decoration-color: #7fbfbf\">                    </span><span style=\"color: #d70000; text-decoration-color: #d70000; font-weight: bold\">ERROR   </span> Prompt fix_output_format failed to parse output: The output     <a href=\"file:///opt/conda/lib/python3.11/site-packages/ragas/prompt/pydantic_prompt.py\" target=\"_blank\"><span style=\"color: #7f7f7f; text-decoration-color: #7f7f7f\">pydantic_prompt.py</span></a><span style=\"color: #7f7f7f; text-decoration-color: #7f7f7f\">:</span><a href=\"file:///opt/conda/lib/python3.11/site-packages/ragas/prompt/pydantic_prompt.py#214\" target=\"_blank\"><span style=\"color: #7f7f7f; text-decoration-color: #7f7f7f\">214</span></a>\n",
       "<span style=\"color: #7fbfbf; text-decoration-color: #7fbfbf\">                    </span>         parser failed to parse the output including retries.            <span style=\"color: #7f7f7f; text-decoration-color: #7f7f7f\">                      </span>\n",
       "</pre>\n"
      ],
      "text/plain": [
       "\u001b[2;36m                   \u001b[0m\u001b[2;36m \u001b[0m\u001b[1;38;2;215;0;0mERROR   \u001b[0m Prompt fix_output_format failed to parse output: The output     \u001b]8;id=742561;file:///opt/conda/lib/python3.11/site-packages/ragas/prompt/pydantic_prompt.py\u001b\\\u001b[2mpydantic_prompt.py\u001b[0m\u001b]8;;\u001b\\\u001b[2m:\u001b[0m\u001b]8;id=896982;file:///opt/conda/lib/python3.11/site-packages/ragas/prompt/pydantic_prompt.py#214\u001b\\\u001b[2m214\u001b[0m\u001b]8;;\u001b\\\n",
       "\u001b[2;36m                    \u001b[0m         parser failed to parse the output including retries.            \u001b[2m                      \u001b[0m\n"
      ]
     },
     "metadata": {},
     "output_type": "display_data"
    },
    {
     "data": {
      "text/html": [
       "<pre style=\"white-space:pre;overflow-x:auto;line-height:normal;font-family:Menlo,'DejaVu Sans Mono',consolas,'Courier New',monospace\"><span style=\"color: #7fbfbf; text-decoration-color: #7fbfbf\">                    </span><span style=\"color: #d70000; text-decoration-color: #d70000; font-weight: bold\">ERROR   </span> Prompt statement_generator_prompt failed to parse output: The   <a href=\"file:///opt/conda/lib/python3.11/site-packages/ragas/prompt/pydantic_prompt.py\" target=\"_blank\"><span style=\"color: #7f7f7f; text-decoration-color: #7f7f7f\">pydantic_prompt.py</span></a><span style=\"color: #7f7f7f; text-decoration-color: #7f7f7f\">:</span><a href=\"file:///opt/conda/lib/python3.11/site-packages/ragas/prompt/pydantic_prompt.py#214\" target=\"_blank\"><span style=\"color: #7f7f7f; text-decoration-color: #7f7f7f\">214</span></a>\n",
       "<span style=\"color: #7fbfbf; text-decoration-color: #7fbfbf\">                    </span>         output parser failed to parse the output including retries.     <span style=\"color: #7f7f7f; text-decoration-color: #7f7f7f\">                      </span>\n",
       "</pre>\n"
      ],
      "text/plain": [
       "\u001b[2;36m                   \u001b[0m\u001b[2;36m \u001b[0m\u001b[1;38;2;215;0;0mERROR   \u001b[0m Prompt statement_generator_prompt failed to parse output: The   \u001b]8;id=245873;file:///opt/conda/lib/python3.11/site-packages/ragas/prompt/pydantic_prompt.py\u001b\\\u001b[2mpydantic_prompt.py\u001b[0m\u001b]8;;\u001b\\\u001b[2m:\u001b[0m\u001b]8;id=79931;file:///opt/conda/lib/python3.11/site-packages/ragas/prompt/pydantic_prompt.py#214\u001b\\\u001b[2m214\u001b[0m\u001b]8;;\u001b\\\n",
       "\u001b[2;36m                    \u001b[0m         output parser failed to parse the output including retries.     \u001b[2m                      \u001b[0m\n"
      ]
     },
     "metadata": {},
     "output_type": "display_data"
    },
    {
     "data": {
      "text/html": [
       "<pre style=\"white-space:pre;overflow-x:auto;line-height:normal;font-family:Menlo,'DejaVu Sans Mono',consolas,'Courier New',monospace\"><span style=\"color: #7fbfbf; text-decoration-color: #7fbfbf\">                    </span><span style=\"color: #d70000; text-decoration-color: #d70000; font-weight: bold\">ERROR   </span> Exception raised in Job<span style=\"font-weight: bold\">[</span><span style=\"color: #008080; text-decoration-color: #008080; font-weight: bold\">5176</span><span style=\"font-weight: bold\">]</span>: <span style=\"color: #e100e1; text-decoration-color: #e100e1; font-weight: bold\">RagasOutputParserException</span><span style=\"font-weight: bold\">(</span>The output   <a href=\"file:///opt/conda/lib/python3.11/site-packages/ragas/executor.py\" target=\"_blank\"><span style=\"color: #7f7f7f; text-decoration-color: #7f7f7f\">executor.py</span></a><span style=\"color: #7f7f7f; text-decoration-color: #7f7f7f\">:</span><a href=\"file:///opt/conda/lib/python3.11/site-packages/ragas/executor.py#104\" target=\"_blank\"><span style=\"color: #7f7f7f; text-decoration-color: #7f7f7f\">104</span></a>\n",
       "<span style=\"color: #7fbfbf; text-decoration-color: #7fbfbf\">                    </span>         parser failed to parse the output including retries.<span style=\"font-weight: bold\">)</span>                  <span style=\"color: #7f7f7f; text-decoration-color: #7f7f7f\">               </span>\n",
       "</pre>\n"
      ],
      "text/plain": [
       "\u001b[2;36m                   \u001b[0m\u001b[2;36m \u001b[0m\u001b[1;38;2;215;0;0mERROR   \u001b[0m Exception raised in Job\u001b[1m[\u001b[0m\u001b[1;36m5176\u001b[0m\u001b[1m]\u001b[0m: \u001b[1;38;2;225;0;225mRagasOutputParserException\u001b[0m\u001b[1m(\u001b[0mThe output   \u001b]8;id=7701;file:///opt/conda/lib/python3.11/site-packages/ragas/executor.py\u001b\\\u001b[2mexecutor.py\u001b[0m\u001b]8;;\u001b\\\u001b[2m:\u001b[0m\u001b]8;id=325308;file:///opt/conda/lib/python3.11/site-packages/ragas/executor.py#104\u001b\\\u001b[2m104\u001b[0m\u001b]8;;\u001b\\\n",
       "\u001b[2;36m                    \u001b[0m         parser failed to parse the output including retries.\u001b[1m)\u001b[0m                  \u001b[2m               \u001b[0m\n"
      ]
     },
     "metadata": {},
     "output_type": "display_data"
    },
    {
     "data": {
      "text/html": [
       "<pre style=\"white-space:pre;overflow-x:auto;line-height:normal;font-family:Menlo,'DejaVu Sans Mono',consolas,'Courier New',monospace\"><span style=\"color: #7fbfbf; text-decoration-color: #7fbfbf\">[04/05/25 20:50:20] </span><span style=\"color: #d70000; text-decoration-color: #d70000; font-weight: bold\">ERROR   </span> Exception raised in Job<span style=\"font-weight: bold\">[</span><span style=\"color: #008080; text-decoration-color: #008080; font-weight: bold\">5465</span><span style=\"font-weight: bold\">]</span>: <span style=\"color: #e100e1; text-decoration-color: #e100e1; font-weight: bold\">OutputParserException</span><span style=\"font-weight: bold\">(</span>Failed to parse   <a href=\"file:///opt/conda/lib/python3.11/site-packages/ragas/executor.py\" target=\"_blank\"><span style=\"color: #7f7f7f; text-decoration-color: #7f7f7f\">executor.py</span></a><span style=\"color: #7f7f7f; text-decoration-color: #7f7f7f\">:</span><a href=\"file:///opt/conda/lib/python3.11/site-packages/ragas/executor.py#104\" target=\"_blank\"><span style=\"color: #7f7f7f; text-decoration-color: #7f7f7f\">104</span></a>\n",
       "<span style=\"color: #7fbfbf; text-decoration-color: #7fbfbf\">                    </span>         StringIO from completion <span style=\"font-weight: bold\">{</span><span style=\"color: #008700; text-decoration-color: #008700\">\"TP\"</span>: <span style=\"font-weight: bold\">[]</span>, <span style=\"color: #008700; text-decoration-color: #008700\">\"FP\"</span>: <span style=\"font-weight: bold\">[]</span>, <span style=\"color: #008700; text-decoration-color: #008700\">\"FN\"</span>: <span style=\"font-weight: bold\">[{</span><span style=\"color: #008700; text-decoration-color: #008700\">\"statement\"</span>:     <span style=\"color: #7f7f7f; text-decoration-color: #7f7f7f\">               </span>\n",
       "<span style=\"color: #7fbfbf; text-decoration-color: #7fbfbf\">                    </span>         <span style=\"color: #008700; text-decoration-color: #008700\">\"The output string did not satisfy the constraints given in the </span>       <span style=\"color: #7f7f7f; text-decoration-color: #7f7f7f\">               </span>\n",
       "<span style=\"color: #7fbfbf; text-decoration-color: #7fbfbf\">                    </span>         <span style=\"color: #008700; text-decoration-color: #008700\">prompt. Fix the output string and return it.\"</span>, <span style=\"color: #008700; text-decoration-color: #008700\">\"reason\"</span>: <span style=\"color: #008700; text-decoration-color: #008700\">\"The output </span>  <span style=\"color: #7f7f7f; text-decoration-color: #7f7f7f\">               </span>\n",
       "<span style=\"color: #7fbfbf; text-decoration-color: #7fbfbf\">                    </span>         <span style=\"color: #008700; text-decoration-color: #008700\">string is already in the required JSON format and complies with the </span>   <span style=\"color: #7f7f7f; text-decoration-color: #7f7f7f\">               </span>\n",
       "<span style=\"color: #7fbfbf; text-decoration-color: #7fbfbf\">                    </span>         <span style=\"color: #008700; text-decoration-color: #008700\">given schema.\"</span><span style=\"font-weight: bold\">}]}</span>. Got: <span style=\"color: #008080; text-decoration-color: #008080; font-weight: bold\">1</span> validation error for StringIO                <span style=\"color: #7f7f7f; text-decoration-color: #7f7f7f\">               </span>\n",
       "<span style=\"color: #7fbfbf; text-decoration-color: #7fbfbf\">                    </span>         text                                                                   <span style=\"color: #7f7f7f; text-decoration-color: #7f7f7f\">               </span>\n",
       "<span style=\"color: #7fbfbf; text-decoration-color: #7fbfbf\">                    </span>           Field required <span style=\"font-weight: bold\">[</span><span style=\"color: #d7af00; text-decoration-color: #d7af00\">type</span>=<span style=\"color: #e100e1; text-decoration-color: #e100e1\">missing</span>, <span style=\"color: #d7af00; text-decoration-color: #d7af00\">input_value</span>=<span style=\"font-weight: bold\">{</span><span style=\"color: #008700; text-decoration-color: #008700\">'TP'</span>: <span style=\"font-weight: bold\">[]</span>, <span style=\"color: #008700; text-decoration-color: #008700\">'FP'</span>: <span style=\"font-weight: bold\">[]</span>,       <span style=\"color: #7f7f7f; text-decoration-color: #7f7f7f\">               </span>\n",
       "<span style=\"color: #7fbfbf; text-decoration-color: #7fbfbf\">                    </span>         <span style=\"color: #008700; text-decoration-color: #008700\">'FN'</span><span style=\"color: #808000; text-decoration-color: #808000\">...</span>th the given schema.'<span style=\"font-weight: bold\">}]}</span>, <span style=\"color: #d7af00; text-decoration-color: #d7af00\">input_type</span>=<span style=\"color: #e100e1; text-decoration-color: #e100e1\">dict</span><span style=\"font-weight: bold\">]</span>                      <span style=\"color: #7f7f7f; text-decoration-color: #7f7f7f\">               </span>\n",
       "<span style=\"color: #7fbfbf; text-decoration-color: #7fbfbf\">                    </span>             For further information visit                                      <span style=\"color: #7f7f7f; text-decoration-color: #7f7f7f\">               </span>\n",
       "<span style=\"color: #7fbfbf; text-decoration-color: #7fbfbf\">                    </span>         <span style=\"color: #0069ff; text-decoration-color: #0069ff; text-decoration: underline\">https://errors.pydantic.dev/2.11/v/missing</span>                             <span style=\"color: #7f7f7f; text-decoration-color: #7f7f7f\">               </span>\n",
       "<span style=\"color: #7fbfbf; text-decoration-color: #7fbfbf\">                    </span>         For troubleshooting, visit:                                            <span style=\"color: #7f7f7f; text-decoration-color: #7f7f7f\">               </span>\n",
       "<span style=\"color: #7fbfbf; text-decoration-color: #7fbfbf\">                    </span>         <span style=\"color: #0069ff; text-decoration-color: #0069ff; text-decoration: underline\">https://python.langchain.com/docs/troubleshooting/errors/OUT</span><span style=\"color: #d7af00; text-decoration-color: #d7af00; font-weight: bold; text-decoration: underline\">PUT</span><span style=\"color: #0069ff; text-decoration-color: #0069ff; text-decoration: underline\">_PARSIN</span> <span style=\"color: #7f7f7f; text-decoration-color: #7f7f7f\">               </span>\n",
       "<span style=\"color: #7fbfbf; text-decoration-color: #7fbfbf\">                    </span>         <span style=\"color: #0069ff; text-decoration-color: #0069ff; text-decoration: underline\">G_FAILURE</span> <span style=\"font-weight: bold\">)</span>                                                            <span style=\"color: #7f7f7f; text-decoration-color: #7f7f7f\">               </span>\n",
       "</pre>\n"
      ],
      "text/plain": [
       "\u001b[2;36m[04/05/25 20:50:20]\u001b[0m\u001b[2;36m \u001b[0m\u001b[1;38;2;215;0;0mERROR   \u001b[0m Exception raised in Job\u001b[1m[\u001b[0m\u001b[1;36m5465\u001b[0m\u001b[1m]\u001b[0m: \u001b[1;38;2;225;0;225mOutputParserException\u001b[0m\u001b[1m(\u001b[0mFailed to parse   \u001b]8;id=723462;file:///opt/conda/lib/python3.11/site-packages/ragas/executor.py\u001b\\\u001b[2mexecutor.py\u001b[0m\u001b]8;;\u001b\\\u001b[2m:\u001b[0m\u001b]8;id=869892;file:///opt/conda/lib/python3.11/site-packages/ragas/executor.py#104\u001b\\\u001b[2m104\u001b[0m\u001b]8;;\u001b\\\n",
       "\u001b[2;36m                    \u001b[0m         StringIO from completion \u001b[1m{\u001b[0m\u001b[38;2;0;135;0m\"TP\"\u001b[0m: \u001b[1m[\u001b[0m\u001b[1m]\u001b[0m, \u001b[38;2;0;135;0m\"FP\"\u001b[0m: \u001b[1m[\u001b[0m\u001b[1m]\u001b[0m, \u001b[38;2;0;135;0m\"FN\"\u001b[0m: \u001b[1m[\u001b[0m\u001b[1m{\u001b[0m\u001b[38;2;0;135;0m\"statement\"\u001b[0m:     \u001b[2m               \u001b[0m\n",
       "\u001b[2;36m                    \u001b[0m         \u001b[38;2;0;135;0m\"The output string did not satisfy the constraints given in the \u001b[0m       \u001b[2m               \u001b[0m\n",
       "\u001b[2;36m                    \u001b[0m         \u001b[38;2;0;135;0mprompt. Fix the output string and return it.\"\u001b[0m, \u001b[38;2;0;135;0m\"reason\"\u001b[0m: \u001b[38;2;0;135;0m\"The output \u001b[0m  \u001b[2m               \u001b[0m\n",
       "\u001b[2;36m                    \u001b[0m         \u001b[38;2;0;135;0mstring is already in the required JSON format and complies with the \u001b[0m   \u001b[2m               \u001b[0m\n",
       "\u001b[2;36m                    \u001b[0m         \u001b[38;2;0;135;0mgiven schema.\"\u001b[0m\u001b[1m}\u001b[0m\u001b[1m]\u001b[0m\u001b[1m}\u001b[0m. Got: \u001b[1;36m1\u001b[0m validation error for StringIO                \u001b[2m               \u001b[0m\n",
       "\u001b[2;36m                    \u001b[0m         text                                                                   \u001b[2m               \u001b[0m\n",
       "\u001b[2;36m                    \u001b[0m           Field required \u001b[1m[\u001b[0m\u001b[38;2;215;175;0mtype\u001b[0m=\u001b[38;2;225;0;225mmissing\u001b[0m, \u001b[38;2;215;175;0minput_value\u001b[0m=\u001b[1m{\u001b[0m\u001b[38;2;0;135;0m'TP'\u001b[0m: \u001b[1m[\u001b[0m\u001b[1m]\u001b[0m, \u001b[38;2;0;135;0m'FP'\u001b[0m: \u001b[1m[\u001b[0m\u001b[1m]\u001b[0m,       \u001b[2m               \u001b[0m\n",
       "\u001b[2;36m                    \u001b[0m         \u001b[38;2;0;135;0m'FN'\u001b[0m\u001b[33m...\u001b[0mth the given schema.'\u001b[1m}\u001b[0m\u001b[1m]\u001b[0m\u001b[1m}\u001b[0m, \u001b[38;2;215;175;0minput_type\u001b[0m=\u001b[38;2;225;0;225mdict\u001b[0m\u001b[1m]\u001b[0m                      \u001b[2m               \u001b[0m\n",
       "\u001b[2;36m                    \u001b[0m             For further information visit                                      \u001b[2m               \u001b[0m\n",
       "\u001b[2;36m                    \u001b[0m         \u001b[4;38;2;0;105;255mhttps://errors.pydantic.dev/2.11/v/missing\u001b[0m                             \u001b[2m               \u001b[0m\n",
       "\u001b[2;36m                    \u001b[0m         For troubleshooting, visit:                                            \u001b[2m               \u001b[0m\n",
       "\u001b[2;36m                    \u001b[0m         \u001b[4;38;2;0;105;255mhttps://python.langchain.com/docs/troubleshooting/errors/OUT\u001b[0m\u001b[1;4;38;2;215;175;0mPUT\u001b[0m\u001b[4;38;2;0;105;255m_PARSIN\u001b[0m \u001b[2m               \u001b[0m\n",
       "\u001b[2;36m                    \u001b[0m         \u001b[4;38;2;0;105;255mG_FAILURE\u001b[0m \u001b[1m)\u001b[0m                                                            \u001b[2m               \u001b[0m\n"
      ]
     },
     "metadata": {},
     "output_type": "display_data"
    },
    {
     "name": "stdout",
     "output_type": "stream",
     "text": [
      "{'answer_relevancy': 0.4344, 'faithfulness': 0.8287, 'answer_correctness': 0.5379}\n"
     ]
    }
   ],
   "source": [
    "# Initialize the evaluation_batch structure\n",
    "evaluation_batch = {\n",
    "    \"question\": [],\n",
    "    \"contexts\": [],\n",
    "    \"answer\": [],\n",
    "    \"reference\": []\n",
    "}\n",
    "\n",
    "# BASE\n",
    "for item in data:\n",
    "    evaluation_batch[\"question\"].append(item.get(\"question\", \"\"))\n",
    "    evaluation_batch[\"contexts\"].append([item.get(\"context\", \"\")])  # Wrap in list\n",
    "    evaluation_batch[\"answer\"].append(item.get(\"base\", \"\")) \n",
    "    evaluation_batch[\"reference\"].append(item.get(\"original_answer\", \"\"))\n",
    "\n",
    "\n",
    "\n",
    "# Create the full dataset first\n",
    "ds_full = Dataset.from_dict(evaluation_batch)\n",
    "\n",
    "# Shuffle and select 100 random samples\n",
    "ds = ds_full.shuffle(seed=42).select(range(sample_size))\n",
    "\n",
    "# Run evaluation\n",
    "base_evals_results = ragas_evaluate(\n",
    "    ds,\n",
    "    llm=LangchainLLMWrapper(llm),\n",
    "    embeddings=LangchainEmbeddingsWrapper(embed),\n",
    "    metrics=metrics,\n",
    ")\n",
    "\n",
    "print(base_evals_results)"
   ]
  },
  {
   "cell_type": "code",
   "execution_count": 49,
   "id": "35404901-a72d-494a-953e-3eda74a3c8b3",
   "metadata": {
    "scrolled": true
   },
   "outputs": [
    {
     "data": {
      "application/vnd.jupyter.widget-view+json": {
       "model_id": "4c1e533e49474641b2b380f52d902242",
       "version_major": 2,
       "version_minor": 0
      },
      "text/plain": [
       "Evaluating:   0%|          | 0/6000 [00:00<?, ?it/s]"
      ]
     },
     "metadata": {},
     "output_type": "display_data"
    },
    {
     "data": {
      "text/html": [
       "<pre style=\"white-space:pre;overflow-x:auto;line-height:normal;font-family:Menlo,'DejaVu Sans Mono',consolas,'Courier New',monospace\"><span style=\"color: #7fbfbf; text-decoration-color: #7fbfbf\">[04/05/25 20:57:09] </span><span style=\"color: #d70000; text-decoration-color: #d70000; font-weight: bold\">ERROR   </span> Prompt fix_output_format failed to parse output: The output     <a href=\"file:///opt/conda/lib/python3.11/site-packages/ragas/prompt/pydantic_prompt.py\" target=\"_blank\"><span style=\"color: #7f7f7f; text-decoration-color: #7f7f7f\">pydantic_prompt.py</span></a><span style=\"color: #7f7f7f; text-decoration-color: #7f7f7f\">:</span><a href=\"file:///opt/conda/lib/python3.11/site-packages/ragas/prompt/pydantic_prompt.py#214\" target=\"_blank\"><span style=\"color: #7f7f7f; text-decoration-color: #7f7f7f\">214</span></a>\n",
       "<span style=\"color: #7fbfbf; text-decoration-color: #7fbfbf\">                    </span>         parser failed to parse the output including retries.            <span style=\"color: #7f7f7f; text-decoration-color: #7f7f7f\">                      </span>\n",
       "</pre>\n"
      ],
      "text/plain": [
       "\u001b[2;36m[04/05/25 20:57:09]\u001b[0m\u001b[2;36m \u001b[0m\u001b[1;38;2;215;0;0mERROR   \u001b[0m Prompt fix_output_format failed to parse output: The output     \u001b]8;id=328539;file:///opt/conda/lib/python3.11/site-packages/ragas/prompt/pydantic_prompt.py\u001b\\\u001b[2mpydantic_prompt.py\u001b[0m\u001b]8;;\u001b\\\u001b[2m:\u001b[0m\u001b]8;id=198364;file:///opt/conda/lib/python3.11/site-packages/ragas/prompt/pydantic_prompt.py#214\u001b\\\u001b[2m214\u001b[0m\u001b]8;;\u001b\\\n",
       "\u001b[2;36m                    \u001b[0m         parser failed to parse the output including retries.            \u001b[2m                      \u001b[0m\n"
      ]
     },
     "metadata": {},
     "output_type": "display_data"
    },
    {
     "data": {
      "text/html": [
       "<pre style=\"white-space:pre;overflow-x:auto;line-height:normal;font-family:Menlo,'DejaVu Sans Mono',consolas,'Courier New',monospace\"><span style=\"color: #7fbfbf; text-decoration-color: #7fbfbf\">                    </span><span style=\"color: #d70000; text-decoration-color: #d70000; font-weight: bold\">ERROR   </span> Prompt fix_output_format failed to parse output: The output     <a href=\"file:///opt/conda/lib/python3.11/site-packages/ragas/prompt/pydantic_prompt.py\" target=\"_blank\"><span style=\"color: #7f7f7f; text-decoration-color: #7f7f7f\">pydantic_prompt.py</span></a><span style=\"color: #7f7f7f; text-decoration-color: #7f7f7f\">:</span><a href=\"file:///opt/conda/lib/python3.11/site-packages/ragas/prompt/pydantic_prompt.py#214\" target=\"_blank\"><span style=\"color: #7f7f7f; text-decoration-color: #7f7f7f\">214</span></a>\n",
       "<span style=\"color: #7fbfbf; text-decoration-color: #7fbfbf\">                    </span>         parser failed to parse the output including retries.            <span style=\"color: #7f7f7f; text-decoration-color: #7f7f7f\">                      </span>\n",
       "</pre>\n"
      ],
      "text/plain": [
       "\u001b[2;36m                   \u001b[0m\u001b[2;36m \u001b[0m\u001b[1;38;2;215;0;0mERROR   \u001b[0m Prompt fix_output_format failed to parse output: The output     \u001b]8;id=358932;file:///opt/conda/lib/python3.11/site-packages/ragas/prompt/pydantic_prompt.py\u001b\\\u001b[2mpydantic_prompt.py\u001b[0m\u001b]8;;\u001b\\\u001b[2m:\u001b[0m\u001b]8;id=688517;file:///opt/conda/lib/python3.11/site-packages/ragas/prompt/pydantic_prompt.py#214\u001b\\\u001b[2m214\u001b[0m\u001b]8;;\u001b\\\n",
       "\u001b[2;36m                    \u001b[0m         parser failed to parse the output including retries.            \u001b[2m                      \u001b[0m\n"
      ]
     },
     "metadata": {},
     "output_type": "display_data"
    },
    {
     "data": {
      "text/html": [
       "<pre style=\"white-space:pre;overflow-x:auto;line-height:normal;font-family:Menlo,'DejaVu Sans Mono',consolas,'Courier New',monospace\"><span style=\"color: #7fbfbf; text-decoration-color: #7fbfbf\">                    </span><span style=\"color: #d70000; text-decoration-color: #d70000; font-weight: bold\">ERROR   </span> Prompt fix_output_format failed to parse output: The output     <a href=\"file:///opt/conda/lib/python3.11/site-packages/ragas/prompt/pydantic_prompt.py\" target=\"_blank\"><span style=\"color: #7f7f7f; text-decoration-color: #7f7f7f\">pydantic_prompt.py</span></a><span style=\"color: #7f7f7f; text-decoration-color: #7f7f7f\">:</span><a href=\"file:///opt/conda/lib/python3.11/site-packages/ragas/prompt/pydantic_prompt.py#214\" target=\"_blank\"><span style=\"color: #7f7f7f; text-decoration-color: #7f7f7f\">214</span></a>\n",
       "<span style=\"color: #7fbfbf; text-decoration-color: #7fbfbf\">                    </span>         parser failed to parse the output including retries.            <span style=\"color: #7f7f7f; text-decoration-color: #7f7f7f\">                      </span>\n",
       "</pre>\n"
      ],
      "text/plain": [
       "\u001b[2;36m                   \u001b[0m\u001b[2;36m \u001b[0m\u001b[1;38;2;215;0;0mERROR   \u001b[0m Prompt fix_output_format failed to parse output: The output     \u001b]8;id=497093;file:///opt/conda/lib/python3.11/site-packages/ragas/prompt/pydantic_prompt.py\u001b\\\u001b[2mpydantic_prompt.py\u001b[0m\u001b]8;;\u001b\\\u001b[2m:\u001b[0m\u001b]8;id=344655;file:///opt/conda/lib/python3.11/site-packages/ragas/prompt/pydantic_prompt.py#214\u001b\\\u001b[2m214\u001b[0m\u001b]8;;\u001b\\\n",
       "\u001b[2;36m                    \u001b[0m         parser failed to parse the output including retries.            \u001b[2m                      \u001b[0m\n"
      ]
     },
     "metadata": {},
     "output_type": "display_data"
    },
    {
     "data": {
      "text/html": [
       "<pre style=\"white-space:pre;overflow-x:auto;line-height:normal;font-family:Menlo,'DejaVu Sans Mono',consolas,'Courier New',monospace\"><span style=\"color: #7fbfbf; text-decoration-color: #7fbfbf\">                    </span><span style=\"color: #d70000; text-decoration-color: #d70000; font-weight: bold\">ERROR   </span> Prompt statement_generator_prompt failed to parse output: The   <a href=\"file:///opt/conda/lib/python3.11/site-packages/ragas/prompt/pydantic_prompt.py\" target=\"_blank\"><span style=\"color: #7f7f7f; text-decoration-color: #7f7f7f\">pydantic_prompt.py</span></a><span style=\"color: #7f7f7f; text-decoration-color: #7f7f7f\">:</span><a href=\"file:///opt/conda/lib/python3.11/site-packages/ragas/prompt/pydantic_prompt.py#214\" target=\"_blank\"><span style=\"color: #7f7f7f; text-decoration-color: #7f7f7f\">214</span></a>\n",
       "<span style=\"color: #7fbfbf; text-decoration-color: #7fbfbf\">                    </span>         output parser failed to parse the output including retries.     <span style=\"color: #7f7f7f; text-decoration-color: #7f7f7f\">                      </span>\n",
       "</pre>\n"
      ],
      "text/plain": [
       "\u001b[2;36m                   \u001b[0m\u001b[2;36m \u001b[0m\u001b[1;38;2;215;0;0mERROR   \u001b[0m Prompt statement_generator_prompt failed to parse output: The   \u001b]8;id=982110;file:///opt/conda/lib/python3.11/site-packages/ragas/prompt/pydantic_prompt.py\u001b\\\u001b[2mpydantic_prompt.py\u001b[0m\u001b]8;;\u001b\\\u001b[2m:\u001b[0m\u001b]8;id=386142;file:///opt/conda/lib/python3.11/site-packages/ragas/prompt/pydantic_prompt.py#214\u001b\\\u001b[2m214\u001b[0m\u001b]8;;\u001b\\\n",
       "\u001b[2;36m                    \u001b[0m         output parser failed to parse the output including retries.     \u001b[2m                      \u001b[0m\n"
      ]
     },
     "metadata": {},
     "output_type": "display_data"
    },
    {
     "data": {
      "text/html": [
       "<pre style=\"white-space:pre;overflow-x:auto;line-height:normal;font-family:Menlo,'DejaVu Sans Mono',consolas,'Courier New',monospace\"><span style=\"color: #7fbfbf; text-decoration-color: #7fbfbf\">                    </span><span style=\"color: #d70000; text-decoration-color: #d70000; font-weight: bold\">ERROR   </span> Exception raised in Job<span style=\"font-weight: bold\">[</span><span style=\"color: #008080; text-decoration-color: #008080; font-weight: bold\">437</span><span style=\"font-weight: bold\">]</span>: <span style=\"color: #e100e1; text-decoration-color: #e100e1; font-weight: bold\">RagasOutputParserException</span><span style=\"font-weight: bold\">(</span>The output    <a href=\"file:///opt/conda/lib/python3.11/site-packages/ragas/executor.py\" target=\"_blank\"><span style=\"color: #7f7f7f; text-decoration-color: #7f7f7f\">executor.py</span></a><span style=\"color: #7f7f7f; text-decoration-color: #7f7f7f\">:</span><a href=\"file:///opt/conda/lib/python3.11/site-packages/ragas/executor.py#104\" target=\"_blank\"><span style=\"color: #7f7f7f; text-decoration-color: #7f7f7f\">104</span></a>\n",
       "<span style=\"color: #7fbfbf; text-decoration-color: #7fbfbf\">                    </span>         parser failed to parse the output including retries.<span style=\"font-weight: bold\">)</span>                  <span style=\"color: #7f7f7f; text-decoration-color: #7f7f7f\">               </span>\n",
       "</pre>\n"
      ],
      "text/plain": [
       "\u001b[2;36m                   \u001b[0m\u001b[2;36m \u001b[0m\u001b[1;38;2;215;0;0mERROR   \u001b[0m Exception raised in Job\u001b[1m[\u001b[0m\u001b[1;36m437\u001b[0m\u001b[1m]\u001b[0m: \u001b[1;38;2;225;0;225mRagasOutputParserException\u001b[0m\u001b[1m(\u001b[0mThe output    \u001b]8;id=587434;file:///opt/conda/lib/python3.11/site-packages/ragas/executor.py\u001b\\\u001b[2mexecutor.py\u001b[0m\u001b]8;;\u001b\\\u001b[2m:\u001b[0m\u001b]8;id=501639;file:///opt/conda/lib/python3.11/site-packages/ragas/executor.py#104\u001b\\\u001b[2m104\u001b[0m\u001b]8;;\u001b\\\n",
       "\u001b[2;36m                    \u001b[0m         parser failed to parse the output including retries.\u001b[1m)\u001b[0m                  \u001b[2m               \u001b[0m\n"
      ]
     },
     "metadata": {},
     "output_type": "display_data"
    },
    {
     "data": {
      "text/html": [
       "<pre style=\"white-space:pre;overflow-x:auto;line-height:normal;font-family:Menlo,'DejaVu Sans Mono',consolas,'Courier New',monospace\"><span style=\"color: #7fbfbf; text-decoration-color: #7fbfbf\">[04/05/25 21:01:36] </span><span style=\"color: #d70000; text-decoration-color: #d70000; font-weight: bold\">ERROR   </span> Exception raised in Job<span style=\"font-weight: bold\">[</span><span style=\"color: #008080; text-decoration-color: #008080; font-weight: bold\">1091</span><span style=\"font-weight: bold\">]</span>: <span style=\"color: #e100e1; text-decoration-color: #e100e1; font-weight: bold\">OutputParserException</span><span style=\"font-weight: bold\">(</span>Failed to parse   <a href=\"file:///opt/conda/lib/python3.11/site-packages/ragas/executor.py\" target=\"_blank\"><span style=\"color: #7f7f7f; text-decoration-color: #7f7f7f\">executor.py</span></a><span style=\"color: #7f7f7f; text-decoration-color: #7f7f7f\">:</span><a href=\"file:///opt/conda/lib/python3.11/site-packages/ragas/executor.py#104\" target=\"_blank\"><span style=\"color: #7f7f7f; text-decoration-color: #7f7f7f\">104</span></a>\n",
       "<span style=\"color: #7fbfbf; text-decoration-color: #7fbfbf\">                    </span>         StringIO from completion <span style=\"font-weight: bold\">{</span><span style=\"color: #008700; text-decoration-color: #008700\">\"TP\"</span>: <span style=\"font-weight: bold\">[]</span>, <span style=\"color: #008700; text-decoration-color: #008700\">\"FP\"</span>: <span style=\"font-weight: bold\">[]</span>, <span style=\"color: #008700; text-decoration-color: #008700\">\"FN\"</span>: <span style=\"font-weight: bold\">[{</span><span style=\"color: #008700; text-decoration-color: #008700\">\"statement\"</span>:     <span style=\"color: #7f7f7f; text-decoration-color: #7f7f7f\">               </span>\n",
       "<span style=\"color: #7fbfbf; text-decoration-color: #7fbfbf\">                    </span>         <span style=\"color: #008700; text-decoration-color: #008700\">\"The study found that patients with high-risk karyotypes had a lower </span>  <span style=\"color: #7f7f7f; text-decoration-color: #7f7f7f\">               </span>\n",
       "<span style=\"color: #7fbfbf; text-decoration-color: #7fbfbf\">                    </span>         <span style=\"color: #008700; text-decoration-color: #008700\">complete remission rate and shorter median survival time compared to </span>  <span style=\"color: #7f7f7f; text-decoration-color: #7f7f7f\">               </span>\n",
       "<span style=\"color: #7fbfbf; text-decoration-color: #7fbfbf\">                    </span>         <span style=\"color: #008700; text-decoration-color: #008700\">those with normal or abnormal karyotypes.\"</span><span style=\"font-weight: bold\">}]}</span>. Got: <span style=\"color: #008080; text-decoration-color: #008080; font-weight: bold\">1</span> validation error <span style=\"color: #7f7f7f; text-decoration-color: #7f7f7f\">               </span>\n",
       "<span style=\"color: #7fbfbf; text-decoration-color: #7fbfbf\">                    </span>         for StringIO                                                           <span style=\"color: #7f7f7f; text-decoration-color: #7f7f7f\">               </span>\n",
       "<span style=\"color: #7fbfbf; text-decoration-color: #7fbfbf\">                    </span>         text                                                                   <span style=\"color: #7f7f7f; text-decoration-color: #7f7f7f\">               </span>\n",
       "<span style=\"color: #7fbfbf; text-decoration-color: #7fbfbf\">                    </span>           Field required <span style=\"font-weight: bold\">[</span><span style=\"color: #d7af00; text-decoration-color: #d7af00\">type</span>=<span style=\"color: #e100e1; text-decoration-color: #e100e1\">missing</span>, <span style=\"color: #d7af00; text-decoration-color: #d7af00\">input_value</span>=<span style=\"font-weight: bold\">{</span><span style=\"color: #008700; text-decoration-color: #008700\">'TP'</span>: <span style=\"font-weight: bold\">[]</span>, <span style=\"color: #008700; text-decoration-color: #008700\">'FP'</span>: <span style=\"font-weight: bold\">[]</span>,       <span style=\"color: #7f7f7f; text-decoration-color: #7f7f7f\">               </span>\n",
       "<span style=\"color: #7fbfbf; text-decoration-color: #7fbfbf\">                    </span>         <span style=\"color: #008700; text-decoration-color: #008700\">'FN'</span><span style=\"color: #808000; text-decoration-color: #808000\">...</span>abnormal karyotypes.'<span style=\"font-weight: bold\">}]}</span>, <span style=\"color: #d7af00; text-decoration-color: #d7af00\">input_type</span>=<span style=\"color: #e100e1; text-decoration-color: #e100e1\">dict</span><span style=\"font-weight: bold\">]</span>                      <span style=\"color: #7f7f7f; text-decoration-color: #7f7f7f\">               </span>\n",
       "<span style=\"color: #7fbfbf; text-decoration-color: #7fbfbf\">                    </span>             For further information visit                                      <span style=\"color: #7f7f7f; text-decoration-color: #7f7f7f\">               </span>\n",
       "<span style=\"color: #7fbfbf; text-decoration-color: #7fbfbf\">                    </span>         <span style=\"color: #0069ff; text-decoration-color: #0069ff; text-decoration: underline\">https://errors.pydantic.dev/2.11/v/missing</span>                             <span style=\"color: #7f7f7f; text-decoration-color: #7f7f7f\">               </span>\n",
       "<span style=\"color: #7fbfbf; text-decoration-color: #7fbfbf\">                    </span>         For troubleshooting, visit:                                            <span style=\"color: #7f7f7f; text-decoration-color: #7f7f7f\">               </span>\n",
       "<span style=\"color: #7fbfbf; text-decoration-color: #7fbfbf\">                    </span>         <span style=\"color: #0069ff; text-decoration-color: #0069ff; text-decoration: underline\">https://python.langchain.com/docs/troubleshooting/errors/OUT</span><span style=\"color: #d7af00; text-decoration-color: #d7af00; font-weight: bold; text-decoration: underline\">PUT</span><span style=\"color: #0069ff; text-decoration-color: #0069ff; text-decoration: underline\">_PARSIN</span> <span style=\"color: #7f7f7f; text-decoration-color: #7f7f7f\">               </span>\n",
       "<span style=\"color: #7fbfbf; text-decoration-color: #7fbfbf\">                    </span>         <span style=\"color: #0069ff; text-decoration-color: #0069ff; text-decoration: underline\">G_FAILURE</span> <span style=\"font-weight: bold\">)</span>                                                            <span style=\"color: #7f7f7f; text-decoration-color: #7f7f7f\">               </span>\n",
       "</pre>\n"
      ],
      "text/plain": [
       "\u001b[2;36m[04/05/25 21:01:36]\u001b[0m\u001b[2;36m \u001b[0m\u001b[1;38;2;215;0;0mERROR   \u001b[0m Exception raised in Job\u001b[1m[\u001b[0m\u001b[1;36m1091\u001b[0m\u001b[1m]\u001b[0m: \u001b[1;38;2;225;0;225mOutputParserException\u001b[0m\u001b[1m(\u001b[0mFailed to parse   \u001b]8;id=459338;file:///opt/conda/lib/python3.11/site-packages/ragas/executor.py\u001b\\\u001b[2mexecutor.py\u001b[0m\u001b]8;;\u001b\\\u001b[2m:\u001b[0m\u001b]8;id=412334;file:///opt/conda/lib/python3.11/site-packages/ragas/executor.py#104\u001b\\\u001b[2m104\u001b[0m\u001b]8;;\u001b\\\n",
       "\u001b[2;36m                    \u001b[0m         StringIO from completion \u001b[1m{\u001b[0m\u001b[38;2;0;135;0m\"TP\"\u001b[0m: \u001b[1m[\u001b[0m\u001b[1m]\u001b[0m, \u001b[38;2;0;135;0m\"FP\"\u001b[0m: \u001b[1m[\u001b[0m\u001b[1m]\u001b[0m, \u001b[38;2;0;135;0m\"FN\"\u001b[0m: \u001b[1m[\u001b[0m\u001b[1m{\u001b[0m\u001b[38;2;0;135;0m\"statement\"\u001b[0m:     \u001b[2m               \u001b[0m\n",
       "\u001b[2;36m                    \u001b[0m         \u001b[38;2;0;135;0m\"The study found that patients with high-risk karyotypes had a lower \u001b[0m  \u001b[2m               \u001b[0m\n",
       "\u001b[2;36m                    \u001b[0m         \u001b[38;2;0;135;0mcomplete remission rate and shorter median survival time compared to \u001b[0m  \u001b[2m               \u001b[0m\n",
       "\u001b[2;36m                    \u001b[0m         \u001b[38;2;0;135;0mthose with normal or abnormal karyotypes.\"\u001b[0m\u001b[1m}\u001b[0m\u001b[1m]\u001b[0m\u001b[1m}\u001b[0m. Got: \u001b[1;36m1\u001b[0m validation error \u001b[2m               \u001b[0m\n",
       "\u001b[2;36m                    \u001b[0m         for StringIO                                                           \u001b[2m               \u001b[0m\n",
       "\u001b[2;36m                    \u001b[0m         text                                                                   \u001b[2m               \u001b[0m\n",
       "\u001b[2;36m                    \u001b[0m           Field required \u001b[1m[\u001b[0m\u001b[38;2;215;175;0mtype\u001b[0m=\u001b[38;2;225;0;225mmissing\u001b[0m, \u001b[38;2;215;175;0minput_value\u001b[0m=\u001b[1m{\u001b[0m\u001b[38;2;0;135;0m'TP'\u001b[0m: \u001b[1m[\u001b[0m\u001b[1m]\u001b[0m, \u001b[38;2;0;135;0m'FP'\u001b[0m: \u001b[1m[\u001b[0m\u001b[1m]\u001b[0m,       \u001b[2m               \u001b[0m\n",
       "\u001b[2;36m                    \u001b[0m         \u001b[38;2;0;135;0m'FN'\u001b[0m\u001b[33m...\u001b[0mabnormal karyotypes.'\u001b[1m}\u001b[0m\u001b[1m]\u001b[0m\u001b[1m}\u001b[0m, \u001b[38;2;215;175;0minput_type\u001b[0m=\u001b[38;2;225;0;225mdict\u001b[0m\u001b[1m]\u001b[0m                      \u001b[2m               \u001b[0m\n",
       "\u001b[2;36m                    \u001b[0m             For further information visit                                      \u001b[2m               \u001b[0m\n",
       "\u001b[2;36m                    \u001b[0m         \u001b[4;38;2;0;105;255mhttps://errors.pydantic.dev/2.11/v/missing\u001b[0m                             \u001b[2m               \u001b[0m\n",
       "\u001b[2;36m                    \u001b[0m         For troubleshooting, visit:                                            \u001b[2m               \u001b[0m\n",
       "\u001b[2;36m                    \u001b[0m         \u001b[4;38;2;0;105;255mhttps://python.langchain.com/docs/troubleshooting/errors/OUT\u001b[0m\u001b[1;4;38;2;215;175;0mPUT\u001b[0m\u001b[4;38;2;0;105;255m_PARSIN\u001b[0m \u001b[2m               \u001b[0m\n",
       "\u001b[2;36m                    \u001b[0m         \u001b[4;38;2;0;105;255mG_FAILURE\u001b[0m \u001b[1m)\u001b[0m                                                            \u001b[2m               \u001b[0m\n"
      ]
     },
     "metadata": {},
     "output_type": "display_data"
    },
    {
     "data": {
      "text/html": [
       "<pre style=\"white-space:pre;overflow-x:auto;line-height:normal;font-family:Menlo,'DejaVu Sans Mono',consolas,'Courier New',monospace\"><span style=\"color: #7fbfbf; text-decoration-color: #7fbfbf\">[04/05/25 21:03:28] </span><span style=\"color: #d70000; text-decoration-color: #d70000; font-weight: bold\">ERROR   </span> Exception raised in Job<span style=\"font-weight: bold\">[</span><span style=\"color: #008080; text-decoration-color: #008080; font-weight: bold\">1340</span><span style=\"font-weight: bold\">]</span>: <span style=\"color: #e100e1; text-decoration-color: #e100e1; font-weight: bold\">OutputParserException</span><span style=\"font-weight: bold\">(</span>Failed to parse   <a href=\"file:///opt/conda/lib/python3.11/site-packages/ragas/executor.py\" target=\"_blank\"><span style=\"color: #7f7f7f; text-decoration-color: #7f7f7f\">executor.py</span></a><span style=\"color: #7f7f7f; text-decoration-color: #7f7f7f\">:</span><a href=\"file:///opt/conda/lib/python3.11/site-packages/ragas/executor.py#104\" target=\"_blank\"><span style=\"color: #7f7f7f; text-decoration-color: #7f7f7f\">104</span></a>\n",
       "<span style=\"color: #7fbfbf; text-decoration-color: #7fbfbf\">                    </span>         StringIO from completion <span style=\"font-weight: bold\">{</span><span style=\"color: #008700; text-decoration-color: #008700\">\"TP\"</span>: <span style=\"font-weight: bold\">[]</span>, <span style=\"color: #008700; text-decoration-color: #008700\">\"FP\"</span>: <span style=\"font-weight: bold\">[]</span>, <span style=\"color: #008700; text-decoration-color: #008700\">\"FN\"</span>: <span style=\"font-weight: bold\">[]}</span>. Got: <span style=\"color: #008080; text-decoration-color: #008080; font-weight: bold\">1</span>        <span style=\"color: #7f7f7f; text-decoration-color: #7f7f7f\">               </span>\n",
       "<span style=\"color: #7fbfbf; text-decoration-color: #7fbfbf\">                    </span>         validation error for StringIO                                          <span style=\"color: #7f7f7f; text-decoration-color: #7f7f7f\">               </span>\n",
       "<span style=\"color: #7fbfbf; text-decoration-color: #7fbfbf\">                    </span>         text                                                                   <span style=\"color: #7f7f7f; text-decoration-color: #7f7f7f\">               </span>\n",
       "<span style=\"color: #7fbfbf; text-decoration-color: #7fbfbf\">                    </span>           Field required <span style=\"font-weight: bold\">[</span><span style=\"color: #d7af00; text-decoration-color: #d7af00\">type</span>=<span style=\"color: #e100e1; text-decoration-color: #e100e1\">missing</span>, <span style=\"color: #d7af00; text-decoration-color: #d7af00\">input_value</span>=<span style=\"font-weight: bold\">{</span><span style=\"color: #008700; text-decoration-color: #008700\">'TP'</span>: <span style=\"font-weight: bold\">[]</span>, <span style=\"color: #008700; text-decoration-color: #008700\">'FP'</span>: <span style=\"font-weight: bold\">[]</span>, <span style=\"color: #008700; text-decoration-color: #008700\">'FN'</span>: <span style=\"color: #7f7f7f; text-decoration-color: #7f7f7f\">               </span>\n",
       "<span style=\"color: #7fbfbf; text-decoration-color: #7fbfbf\">                    </span>         <span style=\"font-weight: bold\">[]}</span>, <span style=\"color: #d7af00; text-decoration-color: #d7af00\">input_type</span>=<span style=\"color: #e100e1; text-decoration-color: #e100e1\">dict</span><span style=\"font-weight: bold\">]</span>                                                  <span style=\"color: #7f7f7f; text-decoration-color: #7f7f7f\">               </span>\n",
       "<span style=\"color: #7fbfbf; text-decoration-color: #7fbfbf\">                    </span>             For further information visit                                      <span style=\"color: #7f7f7f; text-decoration-color: #7f7f7f\">               </span>\n",
       "<span style=\"color: #7fbfbf; text-decoration-color: #7fbfbf\">                    </span>         <span style=\"color: #0069ff; text-decoration-color: #0069ff; text-decoration: underline\">https://errors.pydantic.dev/2.11/v/missing</span>                             <span style=\"color: #7f7f7f; text-decoration-color: #7f7f7f\">               </span>\n",
       "<span style=\"color: #7fbfbf; text-decoration-color: #7fbfbf\">                    </span>         For troubleshooting, visit:                                            <span style=\"color: #7f7f7f; text-decoration-color: #7f7f7f\">               </span>\n",
       "<span style=\"color: #7fbfbf; text-decoration-color: #7fbfbf\">                    </span>         <span style=\"color: #0069ff; text-decoration-color: #0069ff; text-decoration: underline\">https://python.langchain.com/docs/troubleshooting/errors/OUT</span><span style=\"color: #d7af00; text-decoration-color: #d7af00; font-weight: bold; text-decoration: underline\">PUT</span><span style=\"color: #0069ff; text-decoration-color: #0069ff; text-decoration: underline\">_PARSIN</span> <span style=\"color: #7f7f7f; text-decoration-color: #7f7f7f\">               </span>\n",
       "<span style=\"color: #7fbfbf; text-decoration-color: #7fbfbf\">                    </span>         <span style=\"color: #0069ff; text-decoration-color: #0069ff; text-decoration: underline\">G_FAILURE</span> <span style=\"font-weight: bold\">)</span>                                                            <span style=\"color: #7f7f7f; text-decoration-color: #7f7f7f\">               </span>\n",
       "</pre>\n"
      ],
      "text/plain": [
       "\u001b[2;36m[04/05/25 21:03:28]\u001b[0m\u001b[2;36m \u001b[0m\u001b[1;38;2;215;0;0mERROR   \u001b[0m Exception raised in Job\u001b[1m[\u001b[0m\u001b[1;36m1340\u001b[0m\u001b[1m]\u001b[0m: \u001b[1;38;2;225;0;225mOutputParserException\u001b[0m\u001b[1m(\u001b[0mFailed to parse   \u001b]8;id=832894;file:///opt/conda/lib/python3.11/site-packages/ragas/executor.py\u001b\\\u001b[2mexecutor.py\u001b[0m\u001b]8;;\u001b\\\u001b[2m:\u001b[0m\u001b]8;id=928061;file:///opt/conda/lib/python3.11/site-packages/ragas/executor.py#104\u001b\\\u001b[2m104\u001b[0m\u001b]8;;\u001b\\\n",
       "\u001b[2;36m                    \u001b[0m         StringIO from completion \u001b[1m{\u001b[0m\u001b[38;2;0;135;0m\"TP\"\u001b[0m: \u001b[1m[\u001b[0m\u001b[1m]\u001b[0m, \u001b[38;2;0;135;0m\"FP\"\u001b[0m: \u001b[1m[\u001b[0m\u001b[1m]\u001b[0m, \u001b[38;2;0;135;0m\"FN\"\u001b[0m: \u001b[1m[\u001b[0m\u001b[1m]\u001b[0m\u001b[1m}\u001b[0m. Got: \u001b[1;36m1\u001b[0m        \u001b[2m               \u001b[0m\n",
       "\u001b[2;36m                    \u001b[0m         validation error for StringIO                                          \u001b[2m               \u001b[0m\n",
       "\u001b[2;36m                    \u001b[0m         text                                                                   \u001b[2m               \u001b[0m\n",
       "\u001b[2;36m                    \u001b[0m           Field required \u001b[1m[\u001b[0m\u001b[38;2;215;175;0mtype\u001b[0m=\u001b[38;2;225;0;225mmissing\u001b[0m, \u001b[38;2;215;175;0minput_value\u001b[0m=\u001b[1m{\u001b[0m\u001b[38;2;0;135;0m'TP'\u001b[0m: \u001b[1m[\u001b[0m\u001b[1m]\u001b[0m, \u001b[38;2;0;135;0m'FP'\u001b[0m: \u001b[1m[\u001b[0m\u001b[1m]\u001b[0m, \u001b[38;2;0;135;0m'FN'\u001b[0m: \u001b[2m               \u001b[0m\n",
       "\u001b[2;36m                    \u001b[0m         \u001b[1m[\u001b[0m\u001b[1m]\u001b[0m\u001b[1m}\u001b[0m, \u001b[38;2;215;175;0minput_type\u001b[0m=\u001b[38;2;225;0;225mdict\u001b[0m\u001b[1m]\u001b[0m                                                  \u001b[2m               \u001b[0m\n",
       "\u001b[2;36m                    \u001b[0m             For further information visit                                      \u001b[2m               \u001b[0m\n",
       "\u001b[2;36m                    \u001b[0m         \u001b[4;38;2;0;105;255mhttps://errors.pydantic.dev/2.11/v/missing\u001b[0m                             \u001b[2m               \u001b[0m\n",
       "\u001b[2;36m                    \u001b[0m         For troubleshooting, visit:                                            \u001b[2m               \u001b[0m\n",
       "\u001b[2;36m                    \u001b[0m         \u001b[4;38;2;0;105;255mhttps://python.langchain.com/docs/troubleshooting/errors/OUT\u001b[0m\u001b[1;4;38;2;215;175;0mPUT\u001b[0m\u001b[4;38;2;0;105;255m_PARSIN\u001b[0m \u001b[2m               \u001b[0m\n",
       "\u001b[2;36m                    \u001b[0m         \u001b[4;38;2;0;105;255mG_FAILURE\u001b[0m \u001b[1m)\u001b[0m                                                            \u001b[2m               \u001b[0m\n"
      ]
     },
     "metadata": {},
     "output_type": "display_data"
    },
    {
     "data": {
      "text/html": [
       "<pre style=\"white-space:pre;overflow-x:auto;line-height:normal;font-family:Menlo,'DejaVu Sans Mono',consolas,'Courier New',monospace\"><span style=\"color: #7fbfbf; text-decoration-color: #7fbfbf\">[04/05/25 21:04:50] </span><span style=\"color: #d70000; text-decoration-color: #d70000; font-weight: bold\">ERROR   </span> Exception raised in Job<span style=\"font-weight: bold\">[</span><span style=\"color: #008080; text-decoration-color: #008080; font-weight: bold\">1507</span><span style=\"font-weight: bold\">]</span>: <span style=\"color: #e100e1; text-decoration-color: #e100e1; font-weight: bold\">OutputParserException</span><span style=\"font-weight: bold\">(</span>Invalid json      <a href=\"file:///opt/conda/lib/python3.11/site-packages/ragas/executor.py\" target=\"_blank\"><span style=\"color: #7f7f7f; text-decoration-color: #7f7f7f\">executor.py</span></a><span style=\"color: #7f7f7f; text-decoration-color: #7f7f7f\">:</span><a href=\"file:///opt/conda/lib/python3.11/site-packages/ragas/executor.py#104\" target=\"_blank\"><span style=\"color: #7f7f7f; text-decoration-color: #7f7f7f\">104</span></a>\n",
       "<span style=\"color: #7fbfbf; text-decoration-color: #7fbfbf\">                    </span>         output: The study found that overall microRNA <span style=\"font-weight: bold\">(</span>miRNA<span style=\"font-weight: bold\">)</span> expression was   <span style=\"color: #7f7f7f; text-decoration-color: #7f7f7f\">               </span>\n",
       "<span style=\"color: #7fbfbf; text-decoration-color: #7fbfbf\">                    </span>         significantly and globally down-regulated in the prefrontal cortex of  <span style=\"color: #7f7f7f; text-decoration-color: #7f7f7f\">               </span>\n",
       "<span style=\"color: #7fbfbf; text-decoration-color: #7fbfbf\">                    </span>         depressed suicide subjects. The down-regulation was observed in <span style=\"color: #008080; text-decoration-color: #008080; font-weight: bold\">21</span>     <span style=\"color: #7f7f7f; text-decoration-color: #7f7f7f\">               </span>\n",
       "<span style=\"color: #7fbfbf; text-decoration-color: #7fbfbf\">                    </span>         miRNAs, which were significantly decreased at a p-value of <span style=\"color: #008080; text-decoration-color: #008080; font-weight: bold\">0.05</span> or     <span style=\"color: #7f7f7f; text-decoration-color: #7f7f7f\">               </span>\n",
       "<span style=\"color: #7fbfbf; text-decoration-color: #7fbfbf\">                    </span>         better. The down-regulated miRNAs were encoded at nearby chromosomal   <span style=\"color: #7f7f7f; text-decoration-color: #7f7f7f\">               </span>\n",
       "<span style=\"color: #7fbfbf; text-decoration-color: #7fbfbf\">                    </span>         loci, shared motifs within the <span style=\"color: #008080; text-decoration-color: #008080; font-weight: bold\">5</span>'-seeds, and shared putative mRNA      <span style=\"color: #7f7f7f; text-decoration-color: #7f7f7f\">               </span>\n",
       "<span style=\"color: #7fbfbf; text-decoration-color: #7fbfbf\">                    </span>         targets, several of which have been implicated in depression. This     <span style=\"color: #7f7f7f; text-decoration-color: #7f7f7f\">               </span>\n",
       "<span style=\"color: #7fbfbf; text-decoration-color: #7fbfbf\">                    </span>         suggests that miRNA expression is not only down-regulated but also     <span style=\"color: #7f7f7f; text-decoration-color: #7f7f7f\">               </span>\n",
       "<span style=\"color: #7fbfbf; text-decoration-color: #7fbfbf\">                    </span>         reorganized in the prefrontal cortex of depressed suicide subjects.    <span style=\"color: #7f7f7f; text-decoration-color: #7f7f7f\">               </span>\n",
       "<span style=\"color: #7fbfbf; text-decoration-color: #7fbfbf\">                    </span>         The co-regulation of <span style=\"color: #008080; text-decoration-color: #008080; font-weight: bold\">29</span> miRNAs across individuals in the depressed     <span style=\"color: #7f7f7f; text-decoration-color: #7f7f7f\">               </span>\n",
       "<span style=\"color: #7fbfbf; text-decoration-color: #7fbfbf\">                    </span>         suicide group further supports the reorganization of miRNA expression  <span style=\"color: #7f7f7f; text-decoration-color: #7f7f7f\">               </span>\n",
       "<span style=\"color: #7fbfbf; text-decoration-color: #7fbfbf\">                    </span>         in depression.                                                         <span style=\"color: #7f7f7f; text-decoration-color: #7f7f7f\">               </span>\n",
       "<span style=\"color: #7fbfbf; text-decoration-color: #7fbfbf\">                    </span>         For troubleshooting, visit:                                            <span style=\"color: #7f7f7f; text-decoration-color: #7f7f7f\">               </span>\n",
       "<span style=\"color: #7fbfbf; text-decoration-color: #7fbfbf\">                    </span>         <span style=\"color: #0069ff; text-decoration-color: #0069ff; text-decoration: underline\">https://python.langchain.com/docs/troubleshooting/errors/OUT</span><span style=\"color: #d7af00; text-decoration-color: #d7af00; font-weight: bold; text-decoration: underline\">PUT</span><span style=\"color: #0069ff; text-decoration-color: #0069ff; text-decoration: underline\">_PARSIN</span> <span style=\"color: #7f7f7f; text-decoration-color: #7f7f7f\">               </span>\n",
       "<span style=\"color: #7fbfbf; text-decoration-color: #7fbfbf\">                    </span>         <span style=\"color: #0069ff; text-decoration-color: #0069ff; text-decoration: underline\">G_FAILURE</span> <span style=\"font-weight: bold\">)</span>                                                            <span style=\"color: #7f7f7f; text-decoration-color: #7f7f7f\">               </span>\n",
       "</pre>\n"
      ],
      "text/plain": [
       "\u001b[2;36m[04/05/25 21:04:50]\u001b[0m\u001b[2;36m \u001b[0m\u001b[1;38;2;215;0;0mERROR   \u001b[0m Exception raised in Job\u001b[1m[\u001b[0m\u001b[1;36m1507\u001b[0m\u001b[1m]\u001b[0m: \u001b[1;38;2;225;0;225mOutputParserException\u001b[0m\u001b[1m(\u001b[0mInvalid json      \u001b]8;id=974821;file:///opt/conda/lib/python3.11/site-packages/ragas/executor.py\u001b\\\u001b[2mexecutor.py\u001b[0m\u001b]8;;\u001b\\\u001b[2m:\u001b[0m\u001b]8;id=5455;file:///opt/conda/lib/python3.11/site-packages/ragas/executor.py#104\u001b\\\u001b[2m104\u001b[0m\u001b]8;;\u001b\\\n",
       "\u001b[2;36m                    \u001b[0m         output: The study found that overall microRNA \u001b[1m(\u001b[0mmiRNA\u001b[1m)\u001b[0m expression was   \u001b[2m               \u001b[0m\n",
       "\u001b[2;36m                    \u001b[0m         significantly and globally down-regulated in the prefrontal cortex of  \u001b[2m               \u001b[0m\n",
       "\u001b[2;36m                    \u001b[0m         depressed suicide subjects. The down-regulation was observed in \u001b[1;36m21\u001b[0m     \u001b[2m               \u001b[0m\n",
       "\u001b[2;36m                    \u001b[0m         miRNAs, which were significantly decreased at a p-value of \u001b[1;36m0.05\u001b[0m or     \u001b[2m               \u001b[0m\n",
       "\u001b[2;36m                    \u001b[0m         better. The down-regulated miRNAs were encoded at nearby chromosomal   \u001b[2m               \u001b[0m\n",
       "\u001b[2;36m                    \u001b[0m         loci, shared motifs within the \u001b[1;36m5\u001b[0m'-seeds, and shared putative mRNA      \u001b[2m               \u001b[0m\n",
       "\u001b[2;36m                    \u001b[0m         targets, several of which have been implicated in depression. This     \u001b[2m               \u001b[0m\n",
       "\u001b[2;36m                    \u001b[0m         suggests that miRNA expression is not only down-regulated but also     \u001b[2m               \u001b[0m\n",
       "\u001b[2;36m                    \u001b[0m         reorganized in the prefrontal cortex of depressed suicide subjects.    \u001b[2m               \u001b[0m\n",
       "\u001b[2;36m                    \u001b[0m         The co-regulation of \u001b[1;36m29\u001b[0m miRNAs across individuals in the depressed     \u001b[2m               \u001b[0m\n",
       "\u001b[2;36m                    \u001b[0m         suicide group further supports the reorganization of miRNA expression  \u001b[2m               \u001b[0m\n",
       "\u001b[2;36m                    \u001b[0m         in depression.                                                         \u001b[2m               \u001b[0m\n",
       "\u001b[2;36m                    \u001b[0m         For troubleshooting, visit:                                            \u001b[2m               \u001b[0m\n",
       "\u001b[2;36m                    \u001b[0m         \u001b[4;38;2;0;105;255mhttps://python.langchain.com/docs/troubleshooting/errors/OUT\u001b[0m\u001b[1;4;38;2;215;175;0mPUT\u001b[0m\u001b[4;38;2;0;105;255m_PARSIN\u001b[0m \u001b[2m               \u001b[0m\n",
       "\u001b[2;36m                    \u001b[0m         \u001b[4;38;2;0;105;255mG_FAILURE\u001b[0m \u001b[1m)\u001b[0m                                                            \u001b[2m               \u001b[0m\n"
      ]
     },
     "metadata": {},
     "output_type": "display_data"
    },
    {
     "data": {
      "text/html": [
       "<pre style=\"white-space:pre;overflow-x:auto;line-height:normal;font-family:Menlo,'DejaVu Sans Mono',consolas,'Courier New',monospace\"><span style=\"color: #7fbfbf; text-decoration-color: #7fbfbf\">[04/05/25 21:08:44] </span><span style=\"color: #d70000; text-decoration-color: #d70000; font-weight: bold\">ERROR   </span> Exception raised in Job<span style=\"font-weight: bold\">[</span><span style=\"color: #008080; text-decoration-color: #008080; font-weight: bold\">2059</span><span style=\"font-weight: bold\">]</span>: <span style=\"color: #e100e1; text-decoration-color: #e100e1; font-weight: bold\">OutputParserException</span><span style=\"font-weight: bold\">(</span>Failed to parse   <a href=\"file:///opt/conda/lib/python3.11/site-packages/ragas/executor.py\" target=\"_blank\"><span style=\"color: #7f7f7f; text-decoration-color: #7f7f7f\">executor.py</span></a><span style=\"color: #7f7f7f; text-decoration-color: #7f7f7f\">:</span><a href=\"file:///opt/conda/lib/python3.11/site-packages/ragas/executor.py#104\" target=\"_blank\"><span style=\"color: #7f7f7f; text-decoration-color: #7f7f7f\">104</span></a>\n",
       "<span style=\"color: #7fbfbf; text-decoration-color: #7fbfbf\">                    </span>         StringIO from completion <span style=\"font-weight: bold\">{</span><span style=\"color: #008700; text-decoration-color: #008700\">\"statements\"</span>: <span style=\"font-weight: bold\">[{</span><span style=\"color: #008700; text-decoration-color: #008700\">\"statement\"</span>: <span style=\"color: #008700; text-decoration-color: #008700\">\"Parstatin was </span> <span style=\"color: #7f7f7f; text-decoration-color: #7f7f7f\">               </span>\n",
       "<span style=\"color: #7fbfbf; text-decoration-color: #7fbfbf\">                    </span>         <span style=\"color: #008700; text-decoration-color: #008700\">found to prevent renal injury following ischemia/reperfusion and </span>      <span style=\"color: #7f7f7f; text-decoration-color: #7f7f7f\">               </span>\n",
       "<span style=\"color: #7fbfbf; text-decoration-color: #7fbfbf\">                    </span>         <span style=\"color: #008700; text-decoration-color: #008700\">radiocontrast administration.\"</span>, <span style=\"color: #008700; text-decoration-color: #008700\">\"reason\"</span>: <span style=\"color: #008700; text-decoration-color: #008700\">\"The context states that </span>    <span style=\"color: #7f7f7f; text-decoration-color: #7f7f7f\">               </span>\n",
       "<span style=\"color: #7fbfbf; text-decoration-color: #7fbfbf\">                    </span>         <span style=\"color: #008700; text-decoration-color: #008700\">Parstatin \\\"was recently found to be cardioprotective against </span>         <span style=\"color: #7f7f7f; text-decoration-color: #7f7f7f\">               </span>\n",
       "<span style=\"color: #7fbfbf; text-decoration-color: #7fbfbf\">                    </span>         <span style=\"color: #008700; text-decoration-color: #008700\">myocardial ischemia/reperfusion </span><span style=\"color: #008700; text-decoration-color: #008700; font-weight: bold\">(</span><span style=\"color: #008700; text-decoration-color: #008700\">IR</span><span style=\"color: #008700; text-decoration-color: #008700; font-weight: bold\">)</span><span style=\"color: #008700; text-decoration-color: #008700\"> injury\\\" and that \\\"Parstatin's </span>  <span style=\"color: #7f7f7f; text-decoration-color: #7f7f7f\">               </span>\n",
       "<span style=\"color: #7fbfbf; text-decoration-color: #7fbfbf\">                    </span>         <span style=\"color: #008700; text-decoration-color: #008700\">protective effects were dose-dependent and provided evidence for a </span>    <span style=\"color: #7f7f7f; text-decoration-color: #7f7f7f\">               </span>\n",
       "<span style=\"color: #7fbfbf; text-decoration-color: #7fbfbf\">                    </span>         <span style=\"color: #008700; text-decoration-color: #008700\">more prominent protection of tubular than glomerulal function. </span>        <span style=\"color: #7f7f7f; text-decoration-color: #7f7f7f\">               </span>\n",
       "<span style=\"color: #7fbfbf; text-decoration-color: #7fbfbf\">                    </span>         <span style=\"color: #008700; text-decoration-color: #008700\">Histopathological examination of the kidneys revealed severe renal </span>    <span style=\"color: #7f7f7f; text-decoration-color: #7f7f7f\">               </span>\n",
       "<span style=\"color: #7fbfbf; text-decoration-color: #7fbfbf\">                    </span>         <span style=\"color: #008700; text-decoration-color: #008700\">damage, which was significantly suppressed by the parstatin.\"</span>,         <span style=\"color: #7f7f7f; text-decoration-color: #7f7f7f\">               </span>\n",
       "<span style=\"color: #7fbfbf; text-decoration-color: #7fbfbf\">                    </span>         <span style=\"color: #008700; text-decoration-color: #008700\">\"verdict\"</span>: <span style=\"color: #008080; text-decoration-color: #008080; font-weight: bold\">1</span><span style=\"font-weight: bold\">}</span>, <span style=\"font-weight: bold\">{</span><span style=\"color: #008700; text-decoration-color: #008700\">\"statement\"</span>: <span style=\"color: #008700; text-decoration-color: #008700\">\"Parstatin was demonstrated to protect </span>   <span style=\"color: #7f7f7f; text-decoration-color: #7f7f7f\">               </span>\n",
       "<span style=\"color: #7fbfbf; text-decoration-color: #7fbfbf\">                    </span>         <span style=\"color: #008700; text-decoration-color: #008700\">the kidneys against damage caused by these conditions.\"</span>, <span style=\"color: #008700; text-decoration-color: #008700\">\"reason\"</span>:     <span style=\"color: #7f7f7f; text-decoration-color: #7f7f7f\">               </span>\n",
       "<span style=\"color: #7fbfbf; text-decoration-color: #7fbfbf\">                    </span>         <span style=\"color: #008700; text-decoration-color: #008700\">\"The context confirms that Parstatin's protective effects were </span>        <span style=\"color: #7f7f7f; text-decoration-color: #7f7f7f\">               </span>\n",
       "<span style=\"color: #7fbfbf; text-decoration-color: #7fbfbf\">                    </span>         <span style=\"color: #008700; text-decoration-color: #008700\">dose-dependent and provided evidence for a more prominent protection </span>  <span style=\"color: #7f7f7f; text-decoration-color: #7f7f7f\">               </span>\n",
       "<span style=\"color: #7fbfbf; text-decoration-color: #7fbfbf\">                    </span>         <span style=\"color: #008700; text-decoration-color: #008700\">of tubular than glomerulal function. Histopathological examination of </span> <span style=\"color: #7f7f7f; text-decoration-color: #7f7f7f\">               </span>\n",
       "<span style=\"color: #7fbfbf; text-decoration-color: #7fbfbf\">                    </span>         <span style=\"color: #008700; text-decoration-color: #008700\">the kidneys revealed severe renal damage, which was significantly </span>     <span style=\"color: #7f7f7f; text-decoration-color: #7f7f7f\">               </span>\n",
       "<span style=\"color: #7fbfbf; text-decoration-color: #7fbfbf\">                    </span>         <span style=\"color: #008700; text-decoration-color: #008700\">suppressed by the parstatin.\"</span>, <span style=\"color: #008700; text-decoration-color: #008700\">\"verdict\"</span>: <span style=\"color: #008080; text-decoration-color: #008080; font-weight: bold\">1</span><span style=\"font-weight: bold\">}</span>, <span style=\"font-weight: bold\">{</span><span style=\"color: #008700; text-decoration-color: #008700\">\"statement\"</span>: <span style=\"color: #008700; text-decoration-color: #008700\">\"The </span>      <span style=\"color: #7f7f7f; text-decoration-color: #7f7f7f\">               </span>\n",
       "<span style=\"color: #7fbfbf; text-decoration-color: #7fbfbf\">                    </span>         <span style=\"color: #008700; text-decoration-color: #008700\">peptide was shown to improve biochemical indicators and scintigraphic </span> <span style=\"color: #7f7f7f; text-decoration-color: #7f7f7f\">               </span>\n",
       "<span style=\"color: #7fbfbf; text-decoration-color: #7fbfbf\">                    </span>         <span style=\"color: #008700; text-decoration-color: #008700\">analysis.\"</span>, <span style=\"color: #008700; text-decoration-color: #008700\">\"reason\"</span>: <span style=\"color: #008700; text-decoration-color: #008700\">\"The context states that Parstatin \\\"improved </span>   <span style=\"color: #7f7f7f; text-decoration-color: #7f7f7f\">               </span>\n",
       "<span style=\"color: #7fbfbf; text-decoration-color: #7fbfbf\">                    </span>         <span style=\"color: #008700; text-decoration-color: #008700\">biochemical indicators </span><span style=\"color: #008700; text-decoration-color: #008700; font-weight: bold\">(</span><span style=\"color: #008700; text-decoration-color: #008700\">serum creatinine and fractional excretion of </span>  <span style=\"color: #7f7f7f; text-decoration-color: #7f7f7f\">               </span>\n",
       "<span style=\"color: #7fbfbf; text-decoration-color: #7fbfbf\">                    </span>         <span style=\"color: #008700; text-decoration-color: #008700\">Na</span><span style=\"color: #008700; text-decoration-color: #008700; font-weight: bold\">(</span><span style=\"color: #008700; text-decoration-color: #008700\">+</span><span style=\"color: #008700; text-decoration-color: #008700; font-weight: bold\">)))</span><span style=\"color: #008700; text-decoration-color: #008700\"> and scintigraphic analysis.\"</span>, <span style=\"color: #008700; text-decoration-color: #008700\">\"verdict\"</span>: <span style=\"color: #008080; text-decoration-color: #008080; font-weight: bold\">1</span><span style=\"font-weight: bold\">}</span>, <span style=\"font-weight: bold\">{</span><span style=\"color: #008700; text-decoration-color: #008700\">\"statement\"</span>:     <span style=\"color: #7f7f7f; text-decoration-color: #7f7f7f\">               </span>\n",
       "<span style=\"color: #7fbfbf; text-decoration-color: #7fbfbf\">                    </span>         <span style=\"color: #008700; text-decoration-color: #008700\">\"Parstatin's protective effects were dose-dependent.\"</span>, <span style=\"color: #008700; text-decoration-color: #008700\">\"reason\"</span>: <span style=\"color: #008700; text-decoration-color: #008700\">\"The </span> <span style=\"color: #7f7f7f; text-decoration-color: #7f7f7f\">               </span>\n",
       "<span style=\"color: #7fbfbf; text-decoration-color: #7fbfbf\">                    </span>         <span style=\"color: #008700; text-decoration-color: #008700\">context mentions that \\\"The protective effects were dose-dependent\\\" </span>  <span style=\"color: #7f7f7f; text-decoration-color: #7f7f7f\">               </span>\n",
       "<span style=\"color: #7fbfbf; text-decoration-color: #7fbfbf\">                    </span>         <span style=\"color: #008700; text-decoration-color: #008700\">and that \\\"The protective effects were dose-dependent and provided </span>    <span style=\"color: #7f7f7f; text-decoration-color: #7f7f7f\">               </span>\n",
       "<span style=\"color: #7fbfbf; text-decoration-color: #7fbfbf\">                    </span>         <span style=\"color: #008700; text-decoration-color: #008700\">evidence for a more prominent protection of tubular than glomerulal </span>   <span style=\"color: #7f7f7f; text-decoration-color: #7f7f7f\">               </span>\n",
       "<span style=\"color: #7fbfbf; text-decoration-color: #7fbfbf\">                    </span>         <span style=\"color: #008700; text-decoration-color: #008700\">function.\\\",\"</span>, <span style=\"color: #008700; text-decoration-color: #008700\">\"verdict\"</span>: <span style=\"color: #008080; text-decoration-color: #008080; font-weight: bold\">1</span><span style=\"font-weight: bold\">}</span>, <span style=\"font-weight: bold\">{</span><span style=\"color: #008700; text-decoration-color: #008700\">\"statement\"</span>: <span style=\"color: #008700; text-decoration-color: #008700\">\"Parstatin suppressed </span>     <span style=\"color: #7f7f7f; text-decoration-color: #7f7f7f\">               </span>\n",
       "<span style=\"color: #7fbfbf; text-decoration-color: #7fbfbf\">                    </span>         <span style=\"color: #008700; text-decoration-color: #008700\">renal damage caused by ischemia/reperfusion and radiocontrast </span>         <span style=\"color: #7f7f7f; text-decoration-color: #7f7f7f\">               </span>\n",
       "<span style=\"color: #7fbfbf; text-decoration-color: #7fbfbf\">                    </span>         <span style=\"color: #008700; text-decoration-color: #008700\">administration.\"</span>, <span style=\"color: #008700; text-decoration-color: #008700\">\"reason\"</span>: <span style=\"color: #008700; text-decoration-color: #008700\">\"The context states that \\\"Parstatin was </span>  <span style=\"color: #7f7f7f; text-decoration-color: #7f7f7f\">               </span>\n",
       "<span style=\"color: #7fbfbf; text-decoration-color: #7fbfbf\">                    </span>         <span style=\"color: #008700; text-decoration-color: #008700\">recently found to be cardioprotective against myocardial </span>              <span style=\"color: #7f7f7f; text-decoration-color: #7f7f7f\">               </span>\n",
       "<span style=\"color: #7fbfbf; text-decoration-color: #7fbfbf\">                    </span>         <span style=\"color: #008700; text-decoration-color: #008700\">ischemia/reperfusion </span><span style=\"color: #008700; text-decoration-color: #008700; font-weight: bold\">(</span><span style=\"color: #008700; text-decoration-color: #008700\">IR</span><span style=\"color: #008700; text-decoration-color: #008700; font-weight: bold\">)</span><span style=\"color: #008700; text-decoration-color: #008700\"> injury\\\" and \\\"This review summarizes </span>       <span style=\"color: #7f7f7f; text-decoration-color: #7f7f7f\">               </span>\n",
       "<span style=\"color: #7fbfbf; text-decoration-color: #7fbfbf\">                    </span>         <span style=\"color: #008700; text-decoration-color: #008700\">epidemiological data linking the fatty acid desaturation index </span>        <span style=\"color: #7f7f7f; text-decoration-color: #7f7f7f\">               </span>\n",
       "<span style=\"color: #7fbfbf; text-decoration-color: #7fbfbf\">                    </span>         <span style=\"color: #008700; text-decoration-color: #008700\">measured in blood lipids, as a biomarker of hepatic stearoyl-CoA </span>      <span style=\"color: #7f7f7f; text-decoration-color: #7f7f7f\">               </span>\n",
       "<span style=\"color: #7fbfbf; text-decoration-color: #7fbfbf\">                    </span>         <span style=\"color: #008700; text-decoration-color: #008700\">desaturase activity, the key enzyme involved in the synthesis of </span>      <span style=\"color: #7f7f7f; text-decoration-color: #7f7f7f\">               </span>\n",
       "<span style=\"color: #7fbfbf; text-decoration-color: #7fbfbf\">                    </span>         <span style=\"color: #008700; text-decoration-color: #008700\">monounsaturated fatty acids from saturated fatty acids, to breast </span>     <span style=\"color: #7f7f7f; text-decoration-color: #7f7f7f\">               </span>\n",
       "<span style=\"color: #7fbfbf; text-decoration-color: #7fbfbf\">                    </span>         <span style=\"color: #008700; text-decoration-color: #008700\">cancer risk.\\\",\"</span>, <span style=\"color: #008700; text-decoration-color: #008700\">\"verdict\"</span>: <span style=\"color: #008080; text-decoration-color: #008080; font-weight: bold\">1</span><span style=\"font-weight: bold\">}</span>, <span style=\"font-weight: bold\">{</span><span style=\"color: #008700; text-decoration-color: #008700\">\"statement\"</span>: <span style=\"color: #008700; text-decoration-color: #008700\">\"Histopathological </span>     <span style=\"color: #7f7f7f; text-decoration-color: #7f7f7f\">               </span>\n",
       "<span style=\"color: #7fbfbf; text-decoration-color: #7fbfbf\">                    </span>         <span style=\"color: #008700; text-decoration-color: #008700\">examination revealed that parstatin significantly suppressed renal </span>    <span style=\"color: #7f7f7f; text-decoration-color: #7f7f7f\">               </span>\n",
       "<span style=\"color: #7fbfbf; text-decoration-color: #7fbfbf\">                    </span>         <span style=\"color: #008700; text-decoration-color: #008700\">damage caused by ischemia/reperfusion and radiocontrast </span>               <span style=\"color: #7f7f7f; text-decoration-color: #7f7f7f\">               </span>\n",
       "<span style=\"color: #7fbfbf; text-decoration-color: #7fbfbf\">                    </span>         <span style=\"color: #008700; text-decoration-color: #008700\">administration.\"</span>, <span style=\"color: #008700; text-decoration-color: #008700\">\"reason\"</span>: <span style=\"color: #008700; text-decoration-color: #008700\">\"The context states that </span>                  <span style=\"color: #7f7f7f; text-decoration-color: #7f7f7f\">               </span>\n",
       "<span style=\"color: #7fbfbf; text-decoration-color: #7fbfbf\">                    </span>         <span style=\"color: #008700; text-decoration-color: #008700\">\\\"Histopathological examination revealed that parstatin significantly </span> <span style=\"color: #7f7f7f; text-decoration-color: #7f7f7f\">               </span>\n",
       "<span style=\"color: #7fbfbf; text-decoration-color: #7fbfbf\">                    </span>         <span style=\"color: #008700; text-decoration-color: #008700\">suppressed renal damage caused by ischemia/reperfusion and </span>            <span style=\"color: #7f7f7f; text-decoration-color: #7f7f7f\">               </span>\n",
       "<span style=\"color: #7fbfbf; text-decoration-color: #7fbfbf\">                    </span>         <span style=\"color: #008700; text-decoration-color: #008700\">radiocontrast administration.\\\",\"</span>, <span style=\"color: #008700; text-decoration-color: #008700\">\"verdict\"</span>: <span style=\"color: #008080; text-decoration-color: #008080; font-weight: bold\">1</span><span style=\"font-weight: bold\">}]}</span>. Got: <span style=\"color: #008080; text-decoration-color: #008080; font-weight: bold\">1</span> validation  <span style=\"color: #7f7f7f; text-decoration-color: #7f7f7f\">               </span>\n",
       "<span style=\"color: #7fbfbf; text-decoration-color: #7fbfbf\">                    </span>         error for StringIO                                                     <span style=\"color: #7f7f7f; text-decoration-color: #7f7f7f\">               </span>\n",
       "<span style=\"color: #7fbfbf; text-decoration-color: #7fbfbf\">                    </span>         text                                                                   <span style=\"color: #7f7f7f; text-decoration-color: #7f7f7f\">               </span>\n",
       "<span style=\"color: #7fbfbf; text-decoration-color: #7fbfbf\">                    </span>           Field required <span style=\"font-weight: bold\">[</span><span style=\"color: #d7af00; text-decoration-color: #d7af00\">type</span>=<span style=\"color: #e100e1; text-decoration-color: #e100e1\">missing</span>, <span style=\"color: #d7af00; text-decoration-color: #d7af00\">input_value</span>=<span style=\"font-weight: bold\">{</span><span style=\"color: #008700; text-decoration-color: #008700\">'statements'</span>:             <span style=\"color: #7f7f7f; text-decoration-color: #7f7f7f\">               </span>\n",
       "<span style=\"color: #7fbfbf; text-decoration-color: #7fbfbf\">                    </span>         <span style=\"font-weight: bold\">[{</span><span style=\"color: #008700; text-decoration-color: #008700\">'stateme...ion.\",'</span>, <span style=\"color: #008700; text-decoration-color: #008700\">'verdict'</span>: <span style=\"color: #008080; text-decoration-color: #008080; font-weight: bold\">1</span><span style=\"font-weight: bold\">}]}</span>, <span style=\"color: #d7af00; text-decoration-color: #d7af00\">input_type</span>=<span style=\"color: #e100e1; text-decoration-color: #e100e1\">dict</span><span style=\"font-weight: bold\">]</span>                <span style=\"color: #7f7f7f; text-decoration-color: #7f7f7f\">               </span>\n",
       "<span style=\"color: #7fbfbf; text-decoration-color: #7fbfbf\">                    </span>             For further information visit                                      <span style=\"color: #7f7f7f; text-decoration-color: #7f7f7f\">               </span>\n",
       "<span style=\"color: #7fbfbf; text-decoration-color: #7fbfbf\">                    </span>         <span style=\"color: #0069ff; text-decoration-color: #0069ff; text-decoration: underline\">https://errors.pydantic.dev/2.11/v/missing</span>                             <span style=\"color: #7f7f7f; text-decoration-color: #7f7f7f\">               </span>\n",
       "<span style=\"color: #7fbfbf; text-decoration-color: #7fbfbf\">                    </span>         For troubleshooting, visit:                                            <span style=\"color: #7f7f7f; text-decoration-color: #7f7f7f\">               </span>\n",
       "<span style=\"color: #7fbfbf; text-decoration-color: #7fbfbf\">                    </span>         <span style=\"color: #0069ff; text-decoration-color: #0069ff; text-decoration: underline\">https://python.langchain.com/docs/troubleshooting/errors/OUT</span><span style=\"color: #d7af00; text-decoration-color: #d7af00; font-weight: bold; text-decoration: underline\">PUT</span><span style=\"color: #0069ff; text-decoration-color: #0069ff; text-decoration: underline\">_PARSIN</span> <span style=\"color: #7f7f7f; text-decoration-color: #7f7f7f\">               </span>\n",
       "<span style=\"color: #7fbfbf; text-decoration-color: #7fbfbf\">                    </span>         <span style=\"color: #0069ff; text-decoration-color: #0069ff; text-decoration: underline\">G_FAILURE</span> <span style=\"font-weight: bold\">)</span>                                                            <span style=\"color: #7f7f7f; text-decoration-color: #7f7f7f\">               </span>\n",
       "</pre>\n"
      ],
      "text/plain": [
       "\u001b[2;36m[04/05/25 21:08:44]\u001b[0m\u001b[2;36m \u001b[0m\u001b[1;38;2;215;0;0mERROR   \u001b[0m Exception raised in Job\u001b[1m[\u001b[0m\u001b[1;36m2059\u001b[0m\u001b[1m]\u001b[0m: \u001b[1;38;2;225;0;225mOutputParserException\u001b[0m\u001b[1m(\u001b[0mFailed to parse   \u001b]8;id=581984;file:///opt/conda/lib/python3.11/site-packages/ragas/executor.py\u001b\\\u001b[2mexecutor.py\u001b[0m\u001b]8;;\u001b\\\u001b[2m:\u001b[0m\u001b]8;id=281785;file:///opt/conda/lib/python3.11/site-packages/ragas/executor.py#104\u001b\\\u001b[2m104\u001b[0m\u001b]8;;\u001b\\\n",
       "\u001b[2;36m                    \u001b[0m         StringIO from completion \u001b[1m{\u001b[0m\u001b[38;2;0;135;0m\"statements\"\u001b[0m: \u001b[1m[\u001b[0m\u001b[1m{\u001b[0m\u001b[38;2;0;135;0m\"statement\"\u001b[0m: \u001b[38;2;0;135;0m\"Parstatin was \u001b[0m \u001b[2m               \u001b[0m\n",
       "\u001b[2;36m                    \u001b[0m         \u001b[38;2;0;135;0mfound to prevent renal injury following ischemia/reperfusion and \u001b[0m      \u001b[2m               \u001b[0m\n",
       "\u001b[2;36m                    \u001b[0m         \u001b[38;2;0;135;0mradiocontrast administration.\"\u001b[0m, \u001b[38;2;0;135;0m\"reason\"\u001b[0m: \u001b[38;2;0;135;0m\"The context states that \u001b[0m    \u001b[2m               \u001b[0m\n",
       "\u001b[2;36m                    \u001b[0m         \u001b[38;2;0;135;0mParstatin \\\"was recently found to be cardioprotective against \u001b[0m         \u001b[2m               \u001b[0m\n",
       "\u001b[2;36m                    \u001b[0m         \u001b[38;2;0;135;0mmyocardial ischemia/reperfusion \u001b[0m\u001b[1;38;2;0;135;0m(\u001b[0m\u001b[38;2;0;135;0mIR\u001b[0m\u001b[1;38;2;0;135;0m)\u001b[0m\u001b[38;2;0;135;0m injury\\\" and that \\\"Parstatin's \u001b[0m  \u001b[2m               \u001b[0m\n",
       "\u001b[2;36m                    \u001b[0m         \u001b[38;2;0;135;0mprotective effects were dose-dependent and provided evidence for a \u001b[0m    \u001b[2m               \u001b[0m\n",
       "\u001b[2;36m                    \u001b[0m         \u001b[38;2;0;135;0mmore prominent protection of tubular than glomerulal function. \u001b[0m        \u001b[2m               \u001b[0m\n",
       "\u001b[2;36m                    \u001b[0m         \u001b[38;2;0;135;0mHistopathological examination of the kidneys revealed severe renal \u001b[0m    \u001b[2m               \u001b[0m\n",
       "\u001b[2;36m                    \u001b[0m         \u001b[38;2;0;135;0mdamage, which was significantly suppressed by the parstatin.\"\u001b[0m,         \u001b[2m               \u001b[0m\n",
       "\u001b[2;36m                    \u001b[0m         \u001b[38;2;0;135;0m\"verdict\"\u001b[0m: \u001b[1;36m1\u001b[0m\u001b[1m}\u001b[0m, \u001b[1m{\u001b[0m\u001b[38;2;0;135;0m\"statement\"\u001b[0m: \u001b[38;2;0;135;0m\"Parstatin was demonstrated to protect \u001b[0m   \u001b[2m               \u001b[0m\n",
       "\u001b[2;36m                    \u001b[0m         \u001b[38;2;0;135;0mthe kidneys against damage caused by these conditions.\"\u001b[0m, \u001b[38;2;0;135;0m\"reason\"\u001b[0m:     \u001b[2m               \u001b[0m\n",
       "\u001b[2;36m                    \u001b[0m         \u001b[38;2;0;135;0m\"The context confirms that Parstatin's protective effects were \u001b[0m        \u001b[2m               \u001b[0m\n",
       "\u001b[2;36m                    \u001b[0m         \u001b[38;2;0;135;0mdose-dependent and provided evidence for a more prominent protection \u001b[0m  \u001b[2m               \u001b[0m\n",
       "\u001b[2;36m                    \u001b[0m         \u001b[38;2;0;135;0mof tubular than glomerulal function. Histopathological examination of \u001b[0m \u001b[2m               \u001b[0m\n",
       "\u001b[2;36m                    \u001b[0m         \u001b[38;2;0;135;0mthe kidneys revealed severe renal damage, which was significantly \u001b[0m     \u001b[2m               \u001b[0m\n",
       "\u001b[2;36m                    \u001b[0m         \u001b[38;2;0;135;0msuppressed by the parstatin.\"\u001b[0m, \u001b[38;2;0;135;0m\"verdict\"\u001b[0m: \u001b[1;36m1\u001b[0m\u001b[1m}\u001b[0m, \u001b[1m{\u001b[0m\u001b[38;2;0;135;0m\"statement\"\u001b[0m: \u001b[38;2;0;135;0m\"The \u001b[0m      \u001b[2m               \u001b[0m\n",
       "\u001b[2;36m                    \u001b[0m         \u001b[38;2;0;135;0mpeptide was shown to improve biochemical indicators and scintigraphic \u001b[0m \u001b[2m               \u001b[0m\n",
       "\u001b[2;36m                    \u001b[0m         \u001b[38;2;0;135;0manalysis.\"\u001b[0m, \u001b[38;2;0;135;0m\"reason\"\u001b[0m: \u001b[38;2;0;135;0m\"The context states that Parstatin \\\"improved \u001b[0m   \u001b[2m               \u001b[0m\n",
       "\u001b[2;36m                    \u001b[0m         \u001b[38;2;0;135;0mbiochemical indicators \u001b[0m\u001b[1;38;2;0;135;0m(\u001b[0m\u001b[38;2;0;135;0mserum creatinine and fractional excretion of \u001b[0m  \u001b[2m               \u001b[0m\n",
       "\u001b[2;36m                    \u001b[0m         \u001b[38;2;0;135;0mNa\u001b[0m\u001b[1;38;2;0;135;0m(\u001b[0m\u001b[38;2;0;135;0m+\u001b[0m\u001b[1;38;2;0;135;0m)\u001b[0m\u001b[1;38;2;0;135;0m)\u001b[0m\u001b[1;38;2;0;135;0m)\u001b[0m\u001b[38;2;0;135;0m and scintigraphic analysis.\"\u001b[0m, \u001b[38;2;0;135;0m\"verdict\"\u001b[0m: \u001b[1;36m1\u001b[0m\u001b[1m}\u001b[0m, \u001b[1m{\u001b[0m\u001b[38;2;0;135;0m\"statement\"\u001b[0m:     \u001b[2m               \u001b[0m\n",
       "\u001b[2;36m                    \u001b[0m         \u001b[38;2;0;135;0m\"Parstatin's protective effects were dose-dependent.\"\u001b[0m, \u001b[38;2;0;135;0m\"reason\"\u001b[0m: \u001b[38;2;0;135;0m\"The \u001b[0m \u001b[2m               \u001b[0m\n",
       "\u001b[2;36m                    \u001b[0m         \u001b[38;2;0;135;0mcontext mentions that \\\"The protective effects were dose-dependent\\\" \u001b[0m  \u001b[2m               \u001b[0m\n",
       "\u001b[2;36m                    \u001b[0m         \u001b[38;2;0;135;0mand that \\\"The protective effects were dose-dependent and provided \u001b[0m    \u001b[2m               \u001b[0m\n",
       "\u001b[2;36m                    \u001b[0m         \u001b[38;2;0;135;0mevidence for a more prominent protection of tubular than glomerulal \u001b[0m   \u001b[2m               \u001b[0m\n",
       "\u001b[2;36m                    \u001b[0m         \u001b[38;2;0;135;0mfunction.\\\",\"\u001b[0m, \u001b[38;2;0;135;0m\"verdict\"\u001b[0m: \u001b[1;36m1\u001b[0m\u001b[1m}\u001b[0m, \u001b[1m{\u001b[0m\u001b[38;2;0;135;0m\"statement\"\u001b[0m: \u001b[38;2;0;135;0m\"Parstatin suppressed \u001b[0m     \u001b[2m               \u001b[0m\n",
       "\u001b[2;36m                    \u001b[0m         \u001b[38;2;0;135;0mrenal damage caused by ischemia/reperfusion and radiocontrast \u001b[0m         \u001b[2m               \u001b[0m\n",
       "\u001b[2;36m                    \u001b[0m         \u001b[38;2;0;135;0madministration.\"\u001b[0m, \u001b[38;2;0;135;0m\"reason\"\u001b[0m: \u001b[38;2;0;135;0m\"The context states that \\\"Parstatin was \u001b[0m  \u001b[2m               \u001b[0m\n",
       "\u001b[2;36m                    \u001b[0m         \u001b[38;2;0;135;0mrecently found to be cardioprotective against myocardial \u001b[0m              \u001b[2m               \u001b[0m\n",
       "\u001b[2;36m                    \u001b[0m         \u001b[38;2;0;135;0mischemia/reperfusion \u001b[0m\u001b[1;38;2;0;135;0m(\u001b[0m\u001b[38;2;0;135;0mIR\u001b[0m\u001b[1;38;2;0;135;0m)\u001b[0m\u001b[38;2;0;135;0m injury\\\" and \\\"This review summarizes \u001b[0m       \u001b[2m               \u001b[0m\n",
       "\u001b[2;36m                    \u001b[0m         \u001b[38;2;0;135;0mepidemiological data linking the fatty acid desaturation index \u001b[0m        \u001b[2m               \u001b[0m\n",
       "\u001b[2;36m                    \u001b[0m         \u001b[38;2;0;135;0mmeasured in blood lipids, as a biomarker of hepatic stearoyl-CoA \u001b[0m      \u001b[2m               \u001b[0m\n",
       "\u001b[2;36m                    \u001b[0m         \u001b[38;2;0;135;0mdesaturase activity, the key enzyme involved in the synthesis of \u001b[0m      \u001b[2m               \u001b[0m\n",
       "\u001b[2;36m                    \u001b[0m         \u001b[38;2;0;135;0mmonounsaturated fatty acids from saturated fatty acids, to breast \u001b[0m     \u001b[2m               \u001b[0m\n",
       "\u001b[2;36m                    \u001b[0m         \u001b[38;2;0;135;0mcancer risk.\\\",\"\u001b[0m, \u001b[38;2;0;135;0m\"verdict\"\u001b[0m: \u001b[1;36m1\u001b[0m\u001b[1m}\u001b[0m, \u001b[1m{\u001b[0m\u001b[38;2;0;135;0m\"statement\"\u001b[0m: \u001b[38;2;0;135;0m\"Histopathological \u001b[0m     \u001b[2m               \u001b[0m\n",
       "\u001b[2;36m                    \u001b[0m         \u001b[38;2;0;135;0mexamination revealed that parstatin significantly suppressed renal \u001b[0m    \u001b[2m               \u001b[0m\n",
       "\u001b[2;36m                    \u001b[0m         \u001b[38;2;0;135;0mdamage caused by ischemia/reperfusion and radiocontrast \u001b[0m               \u001b[2m               \u001b[0m\n",
       "\u001b[2;36m                    \u001b[0m         \u001b[38;2;0;135;0madministration.\"\u001b[0m, \u001b[38;2;0;135;0m\"reason\"\u001b[0m: \u001b[38;2;0;135;0m\"The context states that \u001b[0m                  \u001b[2m               \u001b[0m\n",
       "\u001b[2;36m                    \u001b[0m         \u001b[38;2;0;135;0m\\\"Histopathological examination revealed that parstatin significantly \u001b[0m \u001b[2m               \u001b[0m\n",
       "\u001b[2;36m                    \u001b[0m         \u001b[38;2;0;135;0msuppressed renal damage caused by ischemia/reperfusion and \u001b[0m            \u001b[2m               \u001b[0m\n",
       "\u001b[2;36m                    \u001b[0m         \u001b[38;2;0;135;0mradiocontrast administration.\\\",\"\u001b[0m, \u001b[38;2;0;135;0m\"verdict\"\u001b[0m: \u001b[1;36m1\u001b[0m\u001b[1m}\u001b[0m\u001b[1m]\u001b[0m\u001b[1m}\u001b[0m. Got: \u001b[1;36m1\u001b[0m validation  \u001b[2m               \u001b[0m\n",
       "\u001b[2;36m                    \u001b[0m         error for StringIO                                                     \u001b[2m               \u001b[0m\n",
       "\u001b[2;36m                    \u001b[0m         text                                                                   \u001b[2m               \u001b[0m\n",
       "\u001b[2;36m                    \u001b[0m           Field required \u001b[1m[\u001b[0m\u001b[38;2;215;175;0mtype\u001b[0m=\u001b[38;2;225;0;225mmissing\u001b[0m, \u001b[38;2;215;175;0minput_value\u001b[0m=\u001b[1m{\u001b[0m\u001b[38;2;0;135;0m'statements'\u001b[0m:             \u001b[2m               \u001b[0m\n",
       "\u001b[2;36m                    \u001b[0m         \u001b[1m[\u001b[0m\u001b[1m{\u001b[0m\u001b[38;2;0;135;0m'stateme...ion.\",'\u001b[0m, \u001b[38;2;0;135;0m'verdict'\u001b[0m: \u001b[1;36m1\u001b[0m\u001b[1m}\u001b[0m\u001b[1m]\u001b[0m\u001b[1m}\u001b[0m, \u001b[38;2;215;175;0minput_type\u001b[0m=\u001b[38;2;225;0;225mdict\u001b[0m\u001b[1m]\u001b[0m                \u001b[2m               \u001b[0m\n",
       "\u001b[2;36m                    \u001b[0m             For further information visit                                      \u001b[2m               \u001b[0m\n",
       "\u001b[2;36m                    \u001b[0m         \u001b[4;38;2;0;105;255mhttps://errors.pydantic.dev/2.11/v/missing\u001b[0m                             \u001b[2m               \u001b[0m\n",
       "\u001b[2;36m                    \u001b[0m         For troubleshooting, visit:                                            \u001b[2m               \u001b[0m\n",
       "\u001b[2;36m                    \u001b[0m         \u001b[4;38;2;0;105;255mhttps://python.langchain.com/docs/troubleshooting/errors/OUT\u001b[0m\u001b[1;4;38;2;215;175;0mPUT\u001b[0m\u001b[4;38;2;0;105;255m_PARSIN\u001b[0m \u001b[2m               \u001b[0m\n",
       "\u001b[2;36m                    \u001b[0m         \u001b[4;38;2;0;105;255mG_FAILURE\u001b[0m \u001b[1m)\u001b[0m                                                            \u001b[2m               \u001b[0m\n"
      ]
     },
     "metadata": {},
     "output_type": "display_data"
    },
    {
     "data": {
      "text/html": [
       "<pre style=\"white-space:pre;overflow-x:auto;line-height:normal;font-family:Menlo,'DejaVu Sans Mono',consolas,'Courier New',monospace\"><span style=\"color: #7fbfbf; text-decoration-color: #7fbfbf\">[04/05/25 21:09:53] </span><span style=\"color: #d70000; text-decoration-color: #d70000; font-weight: bold\">ERROR   </span> Prompt fix_output_format failed to parse output: The output     <a href=\"file:///opt/conda/lib/python3.11/site-packages/ragas/prompt/pydantic_prompt.py\" target=\"_blank\"><span style=\"color: #7f7f7f; text-decoration-color: #7f7f7f\">pydantic_prompt.py</span></a><span style=\"color: #7f7f7f; text-decoration-color: #7f7f7f\">:</span><a href=\"file:///opt/conda/lib/python3.11/site-packages/ragas/prompt/pydantic_prompt.py#214\" target=\"_blank\"><span style=\"color: #7f7f7f; text-decoration-color: #7f7f7f\">214</span></a>\n",
       "<span style=\"color: #7fbfbf; text-decoration-color: #7fbfbf\">                    </span>         parser failed to parse the output including retries.            <span style=\"color: #7f7f7f; text-decoration-color: #7f7f7f\">                      </span>\n",
       "</pre>\n"
      ],
      "text/plain": [
       "\u001b[2;36m[04/05/25 21:09:53]\u001b[0m\u001b[2;36m \u001b[0m\u001b[1;38;2;215;0;0mERROR   \u001b[0m Prompt fix_output_format failed to parse output: The output     \u001b]8;id=640775;file:///opt/conda/lib/python3.11/site-packages/ragas/prompt/pydantic_prompt.py\u001b\\\u001b[2mpydantic_prompt.py\u001b[0m\u001b]8;;\u001b\\\u001b[2m:\u001b[0m\u001b]8;id=717610;file:///opt/conda/lib/python3.11/site-packages/ragas/prompt/pydantic_prompt.py#214\u001b\\\u001b[2m214\u001b[0m\u001b]8;;\u001b\\\n",
       "\u001b[2;36m                    \u001b[0m         parser failed to parse the output including retries.            \u001b[2m                      \u001b[0m\n"
      ]
     },
     "metadata": {},
     "output_type": "display_data"
    },
    {
     "data": {
      "text/html": [
       "<pre style=\"white-space:pre;overflow-x:auto;line-height:normal;font-family:Menlo,'DejaVu Sans Mono',consolas,'Courier New',monospace\"><span style=\"color: #7fbfbf; text-decoration-color: #7fbfbf\">[04/05/25 21:09:54] </span><span style=\"color: #d70000; text-decoration-color: #d70000; font-weight: bold\">ERROR   </span> Prompt fix_output_format failed to parse output: The output     <a href=\"file:///opt/conda/lib/python3.11/site-packages/ragas/prompt/pydantic_prompt.py\" target=\"_blank\"><span style=\"color: #7f7f7f; text-decoration-color: #7f7f7f\">pydantic_prompt.py</span></a><span style=\"color: #7f7f7f; text-decoration-color: #7f7f7f\">:</span><a href=\"file:///opt/conda/lib/python3.11/site-packages/ragas/prompt/pydantic_prompt.py#214\" target=\"_blank\"><span style=\"color: #7f7f7f; text-decoration-color: #7f7f7f\">214</span></a>\n",
       "<span style=\"color: #7fbfbf; text-decoration-color: #7fbfbf\">                    </span>         parser failed to parse the output including retries.            <span style=\"color: #7f7f7f; text-decoration-color: #7f7f7f\">                      </span>\n",
       "</pre>\n"
      ],
      "text/plain": [
       "\u001b[2;36m[04/05/25 21:09:54]\u001b[0m\u001b[2;36m \u001b[0m\u001b[1;38;2;215;0;0mERROR   \u001b[0m Prompt fix_output_format failed to parse output: The output     \u001b]8;id=592626;file:///opt/conda/lib/python3.11/site-packages/ragas/prompt/pydantic_prompt.py\u001b\\\u001b[2mpydantic_prompt.py\u001b[0m\u001b]8;;\u001b\\\u001b[2m:\u001b[0m\u001b]8;id=576531;file:///opt/conda/lib/python3.11/site-packages/ragas/prompt/pydantic_prompt.py#214\u001b\\\u001b[2m214\u001b[0m\u001b]8;;\u001b\\\n",
       "\u001b[2;36m                    \u001b[0m         parser failed to parse the output including retries.            \u001b[2m                      \u001b[0m\n"
      ]
     },
     "metadata": {},
     "output_type": "display_data"
    },
    {
     "data": {
      "text/html": [
       "<pre style=\"white-space:pre;overflow-x:auto;line-height:normal;font-family:Menlo,'DejaVu Sans Mono',consolas,'Courier New',monospace\"><span style=\"color: #7fbfbf; text-decoration-color: #7fbfbf\">                    </span><span style=\"color: #d70000; text-decoration-color: #d70000; font-weight: bold\">ERROR   </span> Prompt fix_output_format failed to parse output: The output     <a href=\"file:///opt/conda/lib/python3.11/site-packages/ragas/prompt/pydantic_prompt.py\" target=\"_blank\"><span style=\"color: #7f7f7f; text-decoration-color: #7f7f7f\">pydantic_prompt.py</span></a><span style=\"color: #7f7f7f; text-decoration-color: #7f7f7f\">:</span><a href=\"file:///opt/conda/lib/python3.11/site-packages/ragas/prompt/pydantic_prompt.py#214\" target=\"_blank\"><span style=\"color: #7f7f7f; text-decoration-color: #7f7f7f\">214</span></a>\n",
       "<span style=\"color: #7fbfbf; text-decoration-color: #7fbfbf\">                    </span>         parser failed to parse the output including retries.            <span style=\"color: #7f7f7f; text-decoration-color: #7f7f7f\">                      </span>\n",
       "</pre>\n"
      ],
      "text/plain": [
       "\u001b[2;36m                   \u001b[0m\u001b[2;36m \u001b[0m\u001b[1;38;2;215;0;0mERROR   \u001b[0m Prompt fix_output_format failed to parse output: The output     \u001b]8;id=615064;file:///opt/conda/lib/python3.11/site-packages/ragas/prompt/pydantic_prompt.py\u001b\\\u001b[2mpydantic_prompt.py\u001b[0m\u001b]8;;\u001b\\\u001b[2m:\u001b[0m\u001b]8;id=798604;file:///opt/conda/lib/python3.11/site-packages/ragas/prompt/pydantic_prompt.py#214\u001b\\\u001b[2m214\u001b[0m\u001b]8;;\u001b\\\n",
       "\u001b[2;36m                    \u001b[0m         parser failed to parse the output including retries.            \u001b[2m                      \u001b[0m\n"
      ]
     },
     "metadata": {},
     "output_type": "display_data"
    },
    {
     "data": {
      "text/html": [
       "<pre style=\"white-space:pre;overflow-x:auto;line-height:normal;font-family:Menlo,'DejaVu Sans Mono',consolas,'Courier New',monospace\"><span style=\"color: #7fbfbf; text-decoration-color: #7fbfbf\">                    </span><span style=\"color: #d70000; text-decoration-color: #d70000; font-weight: bold\">ERROR   </span> Prompt statement_generator_prompt failed to parse output: The   <a href=\"file:///opt/conda/lib/python3.11/site-packages/ragas/prompt/pydantic_prompt.py\" target=\"_blank\"><span style=\"color: #7f7f7f; text-decoration-color: #7f7f7f\">pydantic_prompt.py</span></a><span style=\"color: #7f7f7f; text-decoration-color: #7f7f7f\">:</span><a href=\"file:///opt/conda/lib/python3.11/site-packages/ragas/prompt/pydantic_prompt.py#214\" target=\"_blank\"><span style=\"color: #7f7f7f; text-decoration-color: #7f7f7f\">214</span></a>\n",
       "<span style=\"color: #7fbfbf; text-decoration-color: #7fbfbf\">                    </span>         output parser failed to parse the output including retries.     <span style=\"color: #7f7f7f; text-decoration-color: #7f7f7f\">                      </span>\n",
       "</pre>\n"
      ],
      "text/plain": [
       "\u001b[2;36m                   \u001b[0m\u001b[2;36m \u001b[0m\u001b[1;38;2;215;0;0mERROR   \u001b[0m Prompt statement_generator_prompt failed to parse output: The   \u001b]8;id=957492;file:///opt/conda/lib/python3.11/site-packages/ragas/prompt/pydantic_prompt.py\u001b\\\u001b[2mpydantic_prompt.py\u001b[0m\u001b]8;;\u001b\\\u001b[2m:\u001b[0m\u001b]8;id=147242;file:///opt/conda/lib/python3.11/site-packages/ragas/prompt/pydantic_prompt.py#214\u001b\\\u001b[2m214\u001b[0m\u001b]8;;\u001b\\\n",
       "\u001b[2;36m                    \u001b[0m         output parser failed to parse the output including retries.     \u001b[2m                      \u001b[0m\n"
      ]
     },
     "metadata": {},
     "output_type": "display_data"
    },
    {
     "data": {
      "text/html": [
       "<pre style=\"white-space:pre;overflow-x:auto;line-height:normal;font-family:Menlo,'DejaVu Sans Mono',consolas,'Courier New',monospace\"><span style=\"color: #7fbfbf; text-decoration-color: #7fbfbf\">                    </span><span style=\"color: #d70000; text-decoration-color: #d70000; font-weight: bold\">ERROR   </span> Exception raised in Job<span style=\"font-weight: bold\">[</span><span style=\"color: #008080; text-decoration-color: #008080; font-weight: bold\">2270</span><span style=\"font-weight: bold\">]</span>: <span style=\"color: #e100e1; text-decoration-color: #e100e1; font-weight: bold\">RagasOutputParserException</span><span style=\"font-weight: bold\">(</span>The output   <a href=\"file:///opt/conda/lib/python3.11/site-packages/ragas/executor.py\" target=\"_blank\"><span style=\"color: #7f7f7f; text-decoration-color: #7f7f7f\">executor.py</span></a><span style=\"color: #7f7f7f; text-decoration-color: #7f7f7f\">:</span><a href=\"file:///opt/conda/lib/python3.11/site-packages/ragas/executor.py#104\" target=\"_blank\"><span style=\"color: #7f7f7f; text-decoration-color: #7f7f7f\">104</span></a>\n",
       "<span style=\"color: #7fbfbf; text-decoration-color: #7fbfbf\">                    </span>         parser failed to parse the output including retries.<span style=\"font-weight: bold\">)</span>                  <span style=\"color: #7f7f7f; text-decoration-color: #7f7f7f\">               </span>\n",
       "</pre>\n"
      ],
      "text/plain": [
       "\u001b[2;36m                   \u001b[0m\u001b[2;36m \u001b[0m\u001b[1;38;2;215;0;0mERROR   \u001b[0m Exception raised in Job\u001b[1m[\u001b[0m\u001b[1;36m2270\u001b[0m\u001b[1m]\u001b[0m: \u001b[1;38;2;225;0;225mRagasOutputParserException\u001b[0m\u001b[1m(\u001b[0mThe output   \u001b]8;id=938759;file:///opt/conda/lib/python3.11/site-packages/ragas/executor.py\u001b\\\u001b[2mexecutor.py\u001b[0m\u001b]8;;\u001b\\\u001b[2m:\u001b[0m\u001b]8;id=717617;file:///opt/conda/lib/python3.11/site-packages/ragas/executor.py#104\u001b\\\u001b[2m104\u001b[0m\u001b]8;;\u001b\\\n",
       "\u001b[2;36m                    \u001b[0m         parser failed to parse the output including retries.\u001b[1m)\u001b[0m                  \u001b[2m               \u001b[0m\n"
      ]
     },
     "metadata": {},
     "output_type": "display_data"
    },
    {
     "data": {
      "text/html": [
       "<pre style=\"white-space:pre;overflow-x:auto;line-height:normal;font-family:Menlo,'DejaVu Sans Mono',consolas,'Courier New',monospace\"><span style=\"color: #7fbfbf; text-decoration-color: #7fbfbf\">[04/05/25 21:14:58] </span><span style=\"color: #d70000; text-decoration-color: #d70000; font-weight: bold\">ERROR   </span> Prompt fix_output_format failed to parse output: The output     <a href=\"file:///opt/conda/lib/python3.11/site-packages/ragas/prompt/pydantic_prompt.py\" target=\"_blank\"><span style=\"color: #7f7f7f; text-decoration-color: #7f7f7f\">pydantic_prompt.py</span></a><span style=\"color: #7f7f7f; text-decoration-color: #7f7f7f\">:</span><a href=\"file:///opt/conda/lib/python3.11/site-packages/ragas/prompt/pydantic_prompt.py#214\" target=\"_blank\"><span style=\"color: #7f7f7f; text-decoration-color: #7f7f7f\">214</span></a>\n",
       "<span style=\"color: #7fbfbf; text-decoration-color: #7fbfbf\">                    </span>         parser failed to parse the output including retries.            <span style=\"color: #7f7f7f; text-decoration-color: #7f7f7f\">                      </span>\n",
       "</pre>\n"
      ],
      "text/plain": [
       "\u001b[2;36m[04/05/25 21:14:58]\u001b[0m\u001b[2;36m \u001b[0m\u001b[1;38;2;215;0;0mERROR   \u001b[0m Prompt fix_output_format failed to parse output: The output     \u001b]8;id=82689;file:///opt/conda/lib/python3.11/site-packages/ragas/prompt/pydantic_prompt.py\u001b\\\u001b[2mpydantic_prompt.py\u001b[0m\u001b]8;;\u001b\\\u001b[2m:\u001b[0m\u001b]8;id=424844;file:///opt/conda/lib/python3.11/site-packages/ragas/prompt/pydantic_prompt.py#214\u001b\\\u001b[2m214\u001b[0m\u001b]8;;\u001b\\\n",
       "\u001b[2;36m                    \u001b[0m         parser failed to parse the output including retries.            \u001b[2m                      \u001b[0m\n"
      ]
     },
     "metadata": {},
     "output_type": "display_data"
    },
    {
     "data": {
      "text/html": [
       "<pre style=\"white-space:pre;overflow-x:auto;line-height:normal;font-family:Menlo,'DejaVu Sans Mono',consolas,'Courier New',monospace\"><span style=\"color: #7fbfbf; text-decoration-color: #7fbfbf\">                    </span><span style=\"color: #d70000; text-decoration-color: #d70000; font-weight: bold\">ERROR   </span> Prompt fix_output_format failed to parse output: The output     <a href=\"file:///opt/conda/lib/python3.11/site-packages/ragas/prompt/pydantic_prompt.py\" target=\"_blank\"><span style=\"color: #7f7f7f; text-decoration-color: #7f7f7f\">pydantic_prompt.py</span></a><span style=\"color: #7f7f7f; text-decoration-color: #7f7f7f\">:</span><a href=\"file:///opt/conda/lib/python3.11/site-packages/ragas/prompt/pydantic_prompt.py#214\" target=\"_blank\"><span style=\"color: #7f7f7f; text-decoration-color: #7f7f7f\">214</span></a>\n",
       "<span style=\"color: #7fbfbf; text-decoration-color: #7fbfbf\">                    </span>         parser failed to parse the output including retries.            <span style=\"color: #7f7f7f; text-decoration-color: #7f7f7f\">                      </span>\n",
       "</pre>\n"
      ],
      "text/plain": [
       "\u001b[2;36m                   \u001b[0m\u001b[2;36m \u001b[0m\u001b[1;38;2;215;0;0mERROR   \u001b[0m Prompt fix_output_format failed to parse output: The output     \u001b]8;id=696040;file:///opt/conda/lib/python3.11/site-packages/ragas/prompt/pydantic_prompt.py\u001b\\\u001b[2mpydantic_prompt.py\u001b[0m\u001b]8;;\u001b\\\u001b[2m:\u001b[0m\u001b]8;id=589657;file:///opt/conda/lib/python3.11/site-packages/ragas/prompt/pydantic_prompt.py#214\u001b\\\u001b[2m214\u001b[0m\u001b]8;;\u001b\\\n",
       "\u001b[2;36m                    \u001b[0m         parser failed to parse the output including retries.            \u001b[2m                      \u001b[0m\n"
      ]
     },
     "metadata": {},
     "output_type": "display_data"
    },
    {
     "data": {
      "text/html": [
       "<pre style=\"white-space:pre;overflow-x:auto;line-height:normal;font-family:Menlo,'DejaVu Sans Mono',consolas,'Courier New',monospace\"><span style=\"color: #7fbfbf; text-decoration-color: #7fbfbf\">                    </span><span style=\"color: #d70000; text-decoration-color: #d70000; font-weight: bold\">ERROR   </span> Prompt fix_output_format failed to parse output: The output     <a href=\"file:///opt/conda/lib/python3.11/site-packages/ragas/prompt/pydantic_prompt.py\" target=\"_blank\"><span style=\"color: #7f7f7f; text-decoration-color: #7f7f7f\">pydantic_prompt.py</span></a><span style=\"color: #7f7f7f; text-decoration-color: #7f7f7f\">:</span><a href=\"file:///opt/conda/lib/python3.11/site-packages/ragas/prompt/pydantic_prompt.py#214\" target=\"_blank\"><span style=\"color: #7f7f7f; text-decoration-color: #7f7f7f\">214</span></a>\n",
       "<span style=\"color: #7fbfbf; text-decoration-color: #7fbfbf\">                    </span>         parser failed to parse the output including retries.            <span style=\"color: #7f7f7f; text-decoration-color: #7f7f7f\">                      </span>\n",
       "</pre>\n"
      ],
      "text/plain": [
       "\u001b[2;36m                   \u001b[0m\u001b[2;36m \u001b[0m\u001b[1;38;2;215;0;0mERROR   \u001b[0m Prompt fix_output_format failed to parse output: The output     \u001b]8;id=622336;file:///opt/conda/lib/python3.11/site-packages/ragas/prompt/pydantic_prompt.py\u001b\\\u001b[2mpydantic_prompt.py\u001b[0m\u001b]8;;\u001b\\\u001b[2m:\u001b[0m\u001b]8;id=987370;file:///opt/conda/lib/python3.11/site-packages/ragas/prompt/pydantic_prompt.py#214\u001b\\\u001b[2m214\u001b[0m\u001b]8;;\u001b\\\n",
       "\u001b[2;36m                    \u001b[0m         parser failed to parse the output including retries.            \u001b[2m                      \u001b[0m\n"
      ]
     },
     "metadata": {},
     "output_type": "display_data"
    },
    {
     "data": {
      "text/html": [
       "<pre style=\"white-space:pre;overflow-x:auto;line-height:normal;font-family:Menlo,'DejaVu Sans Mono',consolas,'Courier New',monospace\"><span style=\"color: #7fbfbf; text-decoration-color: #7fbfbf\">                    </span><span style=\"color: #d70000; text-decoration-color: #d70000; font-weight: bold\">ERROR   </span> Prompt statement_generator_prompt failed to parse output: The   <a href=\"file:///opt/conda/lib/python3.11/site-packages/ragas/prompt/pydantic_prompt.py\" target=\"_blank\"><span style=\"color: #7f7f7f; text-decoration-color: #7f7f7f\">pydantic_prompt.py</span></a><span style=\"color: #7f7f7f; text-decoration-color: #7f7f7f\">:</span><a href=\"file:///opt/conda/lib/python3.11/site-packages/ragas/prompt/pydantic_prompt.py#214\" target=\"_blank\"><span style=\"color: #7f7f7f; text-decoration-color: #7f7f7f\">214</span></a>\n",
       "<span style=\"color: #7fbfbf; text-decoration-color: #7fbfbf\">                    </span>         output parser failed to parse the output including retries.     <span style=\"color: #7f7f7f; text-decoration-color: #7f7f7f\">                      </span>\n",
       "</pre>\n"
      ],
      "text/plain": [
       "\u001b[2;36m                   \u001b[0m\u001b[2;36m \u001b[0m\u001b[1;38;2;215;0;0mERROR   \u001b[0m Prompt statement_generator_prompt failed to parse output: The   \u001b]8;id=2175;file:///opt/conda/lib/python3.11/site-packages/ragas/prompt/pydantic_prompt.py\u001b\\\u001b[2mpydantic_prompt.py\u001b[0m\u001b]8;;\u001b\\\u001b[2m:\u001b[0m\u001b]8;id=487553;file:///opt/conda/lib/python3.11/site-packages/ragas/prompt/pydantic_prompt.py#214\u001b\\\u001b[2m214\u001b[0m\u001b]8;;\u001b\\\n",
       "\u001b[2;36m                    \u001b[0m         output parser failed to parse the output including retries.     \u001b[2m                      \u001b[0m\n"
      ]
     },
     "metadata": {},
     "output_type": "display_data"
    },
    {
     "data": {
      "text/html": [
       "<pre style=\"white-space:pre;overflow-x:auto;line-height:normal;font-family:Menlo,'DejaVu Sans Mono',consolas,'Courier New',monospace\"><span style=\"color: #7fbfbf; text-decoration-color: #7fbfbf\">                    </span><span style=\"color: #d70000; text-decoration-color: #d70000; font-weight: bold\">ERROR   </span> Exception raised in Job<span style=\"font-weight: bold\">[</span><span style=\"color: #008080; text-decoration-color: #008080; font-weight: bold\">2998</span><span style=\"font-weight: bold\">]</span>: <span style=\"color: #e100e1; text-decoration-color: #e100e1; font-weight: bold\">RagasOutputParserException</span><span style=\"font-weight: bold\">(</span>The output   <a href=\"file:///opt/conda/lib/python3.11/site-packages/ragas/executor.py\" target=\"_blank\"><span style=\"color: #7f7f7f; text-decoration-color: #7f7f7f\">executor.py</span></a><span style=\"color: #7f7f7f; text-decoration-color: #7f7f7f\">:</span><a href=\"file:///opt/conda/lib/python3.11/site-packages/ragas/executor.py#104\" target=\"_blank\"><span style=\"color: #7f7f7f; text-decoration-color: #7f7f7f\">104</span></a>\n",
       "<span style=\"color: #7fbfbf; text-decoration-color: #7fbfbf\">                    </span>         parser failed to parse the output including retries.<span style=\"font-weight: bold\">)</span>                  <span style=\"color: #7f7f7f; text-decoration-color: #7f7f7f\">               </span>\n",
       "</pre>\n"
      ],
      "text/plain": [
       "\u001b[2;36m                   \u001b[0m\u001b[2;36m \u001b[0m\u001b[1;38;2;215;0;0mERROR   \u001b[0m Exception raised in Job\u001b[1m[\u001b[0m\u001b[1;36m2998\u001b[0m\u001b[1m]\u001b[0m: \u001b[1;38;2;225;0;225mRagasOutputParserException\u001b[0m\u001b[1m(\u001b[0mThe output   \u001b]8;id=257542;file:///opt/conda/lib/python3.11/site-packages/ragas/executor.py\u001b\\\u001b[2mexecutor.py\u001b[0m\u001b]8;;\u001b\\\u001b[2m:\u001b[0m\u001b]8;id=982738;file:///opt/conda/lib/python3.11/site-packages/ragas/executor.py#104\u001b\\\u001b[2m104\u001b[0m\u001b]8;;\u001b\\\n",
       "\u001b[2;36m                    \u001b[0m         parser failed to parse the output including retries.\u001b[1m)\u001b[0m                  \u001b[2m               \u001b[0m\n"
      ]
     },
     "metadata": {},
     "output_type": "display_data"
    },
    {
     "data": {
      "text/html": [
       "<pre style=\"white-space:pre;overflow-x:auto;line-height:normal;font-family:Menlo,'DejaVu Sans Mono',consolas,'Courier New',monospace\"><span style=\"color: #7fbfbf; text-decoration-color: #7fbfbf\">[04/05/25 21:17:11] </span><span style=\"color: #d70000; text-decoration-color: #d70000; font-weight: bold\">ERROR   </span> Error raised by inference endpoint: An error occurred        <a href=\"file:///opt/conda/lib/python3.11/site-packages/langchain_aws/chat_models/sagemaker_endpoint.py\" target=\"_blank\"><span style=\"color: #7f7f7f; text-decoration-color: #7f7f7f\">sagemaker_endpoint.py</span></a><span style=\"color: #7f7f7f; text-decoration-color: #7f7f7f\">:</span><a href=\"file:///opt/conda/lib/python3.11/site-packages/langchain_aws/chat_models/sagemaker_endpoint.py#413\" target=\"_blank\"><span style=\"color: #7f7f7f; text-decoration-color: #7f7f7f\">413</span></a>\n",
       "<span style=\"color: #7fbfbf; text-decoration-color: #7fbfbf\">                    </span>         <span style=\"font-weight: bold\">(</span>ModelError<span style=\"font-weight: bold\">)</span> when calling the InvokeEndpoint operation:      <span style=\"color: #7f7f7f; text-decoration-color: #7f7f7f\">                         </span>\n",
       "<span style=\"color: #7fbfbf; text-decoration-color: #7fbfbf\">                    </span>         Received server error <span style=\"font-weight: bold\">(</span><span style=\"color: #008080; text-decoration-color: #008080; font-weight: bold\">0</span><span style=\"font-weight: bold\">)</span> from primary with message <span style=\"color: #008700; text-decoration-color: #008700\">\"Your </span>   <span style=\"color: #7f7f7f; text-decoration-color: #7f7f7f\">                         </span>\n",
       "<span style=\"color: #7fbfbf; text-decoration-color: #7fbfbf\">                    </span>         <span style=\"color: #008700; text-decoration-color: #008700\">invocation timed out while waiting for a response from </span>      <span style=\"color: #7f7f7f; text-decoration-color: #7f7f7f\">                         </span>\n",
       "<span style=\"color: #7fbfbf; text-decoration-color: #7fbfbf\">                    </span>         <span style=\"color: #008700; text-decoration-color: #008700\">container primary. Review the latency metrics for each </span>      <span style=\"color: #7f7f7f; text-decoration-color: #7f7f7f\">                         </span>\n",
       "<span style=\"color: #7fbfbf; text-decoration-color: #7fbfbf\">                    </span>         <span style=\"color: #008700; text-decoration-color: #008700\">container in Amazon CloudWatch, resolve the issue, and try </span>  <span style=\"color: #7f7f7f; text-decoration-color: #7f7f7f\">                         </span>\n",
       "<span style=\"color: #7fbfbf; text-decoration-color: #7fbfbf\">                    </span>         <span style=\"color: #008700; text-decoration-color: #008700\">again.\"</span>. See                                                 <span style=\"color: #7f7f7f; text-decoration-color: #7f7f7f\">                         </span>\n",
       "<span style=\"color: #7fbfbf; text-decoration-color: #7fbfbf\">                    </span>         <span style=\"color: #0069ff; text-decoration-color: #0069ff; text-decoration: underline\">https://us-west-2.console.aws.amazon.com/cloudwatch/home?</span><span style=\"color: #0069ff; text-decoration-color: #0069ff; text-decoration: underline\">reg</span> <span style=\"color: #7f7f7f; text-decoration-color: #7f7f7f\">                         </span>\n",
       "<span style=\"color: #7fbfbf; text-decoration-color: #7fbfbf\">                    </span>         <span style=\"color: #0069ff; text-decoration-color: #0069ff; text-decoration: underline\">ion</span><span style=\"color: #0069ff; text-decoration-color: #0069ff; text-decoration: underline\">=</span><span style=\"color: #0069ff; text-decoration-color: #0069ff; text-decoration: underline\">us</span><span style=\"color: #0069ff; text-decoration-color: #0069ff; text-decoration: underline\">-west-2#logEventViewer:</span><span style=\"color: #0069ff; text-decoration-color: #0069ff; text-decoration: underline\">group</span><span style=\"color: #0069ff; text-decoration-color: #0069ff; text-decoration: underline\">=/aws/sagemaker/Endpoints/</span> <span style=\"color: #7f7f7f; text-decoration-color: #7f7f7f\">                         </span>\n",
       "<span style=\"color: #7fbfbf; text-decoration-color: #7fbfbf\">                    </span>         <span style=\"color: #0069ff; text-decoration-color: #0069ff; text-decoration: underline\">qwen25-2025-04-04-17-16-38-665</span> in account <span style=\"color: #008080; text-decoration-color: #008080; font-weight: bold\">340043819279</span> for   <span style=\"color: #7f7f7f; text-decoration-color: #7f7f7f\">                         </span>\n",
       "<span style=\"color: #7fbfbf; text-decoration-color: #7fbfbf\">                    </span>         more information.                                            <span style=\"color: #7f7f7f; text-decoration-color: #7f7f7f\">                         </span>\n",
       "</pre>\n"
      ],
      "text/plain": [
       "\u001b[2;36m[04/05/25 21:17:11]\u001b[0m\u001b[2;36m \u001b[0m\u001b[1;38;2;215;0;0mERROR   \u001b[0m Error raised by inference endpoint: An error occurred        \u001b]8;id=882850;file:///opt/conda/lib/python3.11/site-packages/langchain_aws/chat_models/sagemaker_endpoint.py\u001b\\\u001b[2msagemaker_endpoint.py\u001b[0m\u001b]8;;\u001b\\\u001b[2m:\u001b[0m\u001b]8;id=115300;file:///opt/conda/lib/python3.11/site-packages/langchain_aws/chat_models/sagemaker_endpoint.py#413\u001b\\\u001b[2m413\u001b[0m\u001b]8;;\u001b\\\n",
       "\u001b[2;36m                    \u001b[0m         \u001b[1m(\u001b[0mModelError\u001b[1m)\u001b[0m when calling the InvokeEndpoint operation:      \u001b[2m                         \u001b[0m\n",
       "\u001b[2;36m                    \u001b[0m         Received server error \u001b[1m(\u001b[0m\u001b[1;36m0\u001b[0m\u001b[1m)\u001b[0m from primary with message \u001b[38;2;0;135;0m\"Your \u001b[0m   \u001b[2m                         \u001b[0m\n",
       "\u001b[2;36m                    \u001b[0m         \u001b[38;2;0;135;0minvocation timed out while waiting for a response from \u001b[0m      \u001b[2m                         \u001b[0m\n",
       "\u001b[2;36m                    \u001b[0m         \u001b[38;2;0;135;0mcontainer primary. Review the latency metrics for each \u001b[0m      \u001b[2m                         \u001b[0m\n",
       "\u001b[2;36m                    \u001b[0m         \u001b[38;2;0;135;0mcontainer in Amazon CloudWatch, resolve the issue, and try \u001b[0m  \u001b[2m                         \u001b[0m\n",
       "\u001b[2;36m                    \u001b[0m         \u001b[38;2;0;135;0magain.\"\u001b[0m. See                                                 \u001b[2m                         \u001b[0m\n",
       "\u001b[2;36m                    \u001b[0m         \u001b[4;38;2;0;105;255mhttps://us-west-2.console.aws.amazon.com/cloudwatch/home?\u001b[0m\u001b[4;38;2;0;105;255mreg\u001b[0m \u001b[2m                         \u001b[0m\n",
       "\u001b[2;36m                    \u001b[0m         \u001b[4;38;2;0;105;255mion\u001b[0m\u001b[4;38;2;0;105;255m=\u001b[0m\u001b[4;38;2;0;105;255mus\u001b[0m\u001b[4;38;2;0;105;255m-west-2#logEventViewer:\u001b[0m\u001b[4;38;2;0;105;255mgroup\u001b[0m\u001b[4;38;2;0;105;255m=/aws/sagemaker/Endpoints/\u001b[0m \u001b[2m                         \u001b[0m\n",
       "\u001b[2;36m                    \u001b[0m         \u001b[4;38;2;0;105;255mqwen25-2025-04-04-17-16-38-665\u001b[0m in account \u001b[1;36m340043819279\u001b[0m for   \u001b[2m                         \u001b[0m\n",
       "\u001b[2;36m                    \u001b[0m         more information.                                            \u001b[2m                         \u001b[0m\n"
      ]
     },
     "metadata": {},
     "output_type": "display_data"
    },
    {
     "data": {
      "text/html": [
       "<pre style=\"white-space:pre;overflow-x:auto;line-height:normal;font-family:Menlo,'DejaVu Sans Mono',consolas,'Courier New',monospace\"><span style=\"color: #7fbfbf; text-decoration-color: #7fbfbf\">[04/05/25 21:18:44] </span><span style=\"color: #d70000; text-decoration-color: #d70000; font-weight: bold\">ERROR   </span> Prompt fix_output_format failed to parse output: The output     <a href=\"file:///opt/conda/lib/python3.11/site-packages/ragas/prompt/pydantic_prompt.py\" target=\"_blank\"><span style=\"color: #7f7f7f; text-decoration-color: #7f7f7f\">pydantic_prompt.py</span></a><span style=\"color: #7f7f7f; text-decoration-color: #7f7f7f\">:</span><a href=\"file:///opt/conda/lib/python3.11/site-packages/ragas/prompt/pydantic_prompt.py#214\" target=\"_blank\"><span style=\"color: #7f7f7f; text-decoration-color: #7f7f7f\">214</span></a>\n",
       "<span style=\"color: #7fbfbf; text-decoration-color: #7fbfbf\">                    </span>         parser failed to parse the output including retries.            <span style=\"color: #7f7f7f; text-decoration-color: #7f7f7f\">                      </span>\n",
       "</pre>\n"
      ],
      "text/plain": [
       "\u001b[2;36m[04/05/25 21:18:44]\u001b[0m\u001b[2;36m \u001b[0m\u001b[1;38;2;215;0;0mERROR   \u001b[0m Prompt fix_output_format failed to parse output: The output     \u001b]8;id=470373;file:///opt/conda/lib/python3.11/site-packages/ragas/prompt/pydantic_prompt.py\u001b\\\u001b[2mpydantic_prompt.py\u001b[0m\u001b]8;;\u001b\\\u001b[2m:\u001b[0m\u001b]8;id=986815;file:///opt/conda/lib/python3.11/site-packages/ragas/prompt/pydantic_prompt.py#214\u001b\\\u001b[2m214\u001b[0m\u001b]8;;\u001b\\\n",
       "\u001b[2;36m                    \u001b[0m         parser failed to parse the output including retries.            \u001b[2m                      \u001b[0m\n"
      ]
     },
     "metadata": {},
     "output_type": "display_data"
    },
    {
     "data": {
      "text/html": [
       "<pre style=\"white-space:pre;overflow-x:auto;line-height:normal;font-family:Menlo,'DejaVu Sans Mono',consolas,'Courier New',monospace\"><span style=\"color: #7fbfbf; text-decoration-color: #7fbfbf\">                    </span><span style=\"color: #d70000; text-decoration-color: #d70000; font-weight: bold\">ERROR   </span> Prompt fix_output_format failed to parse output: The output     <a href=\"file:///opt/conda/lib/python3.11/site-packages/ragas/prompt/pydantic_prompt.py\" target=\"_blank\"><span style=\"color: #7f7f7f; text-decoration-color: #7f7f7f\">pydantic_prompt.py</span></a><span style=\"color: #7f7f7f; text-decoration-color: #7f7f7f\">:</span><a href=\"file:///opt/conda/lib/python3.11/site-packages/ragas/prompt/pydantic_prompt.py#214\" target=\"_blank\"><span style=\"color: #7f7f7f; text-decoration-color: #7f7f7f\">214</span></a>\n",
       "<span style=\"color: #7fbfbf; text-decoration-color: #7fbfbf\">                    </span>         parser failed to parse the output including retries.            <span style=\"color: #7f7f7f; text-decoration-color: #7f7f7f\">                      </span>\n",
       "</pre>\n"
      ],
      "text/plain": [
       "\u001b[2;36m                   \u001b[0m\u001b[2;36m \u001b[0m\u001b[1;38;2;215;0;0mERROR   \u001b[0m Prompt fix_output_format failed to parse output: The output     \u001b]8;id=88780;file:///opt/conda/lib/python3.11/site-packages/ragas/prompt/pydantic_prompt.py\u001b\\\u001b[2mpydantic_prompt.py\u001b[0m\u001b]8;;\u001b\\\u001b[2m:\u001b[0m\u001b]8;id=102413;file:///opt/conda/lib/python3.11/site-packages/ragas/prompt/pydantic_prompt.py#214\u001b\\\u001b[2m214\u001b[0m\u001b]8;;\u001b\\\n",
       "\u001b[2;36m                    \u001b[0m         parser failed to parse the output including retries.            \u001b[2m                      \u001b[0m\n"
      ]
     },
     "metadata": {},
     "output_type": "display_data"
    },
    {
     "data": {
      "text/html": [
       "<pre style=\"white-space:pre;overflow-x:auto;line-height:normal;font-family:Menlo,'DejaVu Sans Mono',consolas,'Courier New',monospace\"><span style=\"color: #7fbfbf; text-decoration-color: #7fbfbf\">                    </span><span style=\"color: #d70000; text-decoration-color: #d70000; font-weight: bold\">ERROR   </span> Prompt fix_output_format failed to parse output: The output     <a href=\"file:///opt/conda/lib/python3.11/site-packages/ragas/prompt/pydantic_prompt.py\" target=\"_blank\"><span style=\"color: #7f7f7f; text-decoration-color: #7f7f7f\">pydantic_prompt.py</span></a><span style=\"color: #7f7f7f; text-decoration-color: #7f7f7f\">:</span><a href=\"file:///opt/conda/lib/python3.11/site-packages/ragas/prompt/pydantic_prompt.py#214\" target=\"_blank\"><span style=\"color: #7f7f7f; text-decoration-color: #7f7f7f\">214</span></a>\n",
       "<span style=\"color: #7fbfbf; text-decoration-color: #7fbfbf\">                    </span>         parser failed to parse the output including retries.            <span style=\"color: #7f7f7f; text-decoration-color: #7f7f7f\">                      </span>\n",
       "</pre>\n"
      ],
      "text/plain": [
       "\u001b[2;36m                   \u001b[0m\u001b[2;36m \u001b[0m\u001b[1;38;2;215;0;0mERROR   \u001b[0m Prompt fix_output_format failed to parse output: The output     \u001b]8;id=143169;file:///opt/conda/lib/python3.11/site-packages/ragas/prompt/pydantic_prompt.py\u001b\\\u001b[2mpydantic_prompt.py\u001b[0m\u001b]8;;\u001b\\\u001b[2m:\u001b[0m\u001b]8;id=60012;file:///opt/conda/lib/python3.11/site-packages/ragas/prompt/pydantic_prompt.py#214\u001b\\\u001b[2m214\u001b[0m\u001b]8;;\u001b\\\n",
       "\u001b[2;36m                    \u001b[0m         parser failed to parse the output including retries.            \u001b[2m                      \u001b[0m\n"
      ]
     },
     "metadata": {},
     "output_type": "display_data"
    },
    {
     "data": {
      "text/html": [
       "<pre style=\"white-space:pre;overflow-x:auto;line-height:normal;font-family:Menlo,'DejaVu Sans Mono',consolas,'Courier New',monospace\"><span style=\"color: #7fbfbf; text-decoration-color: #7fbfbf\">                    </span><span style=\"color: #d70000; text-decoration-color: #d70000; font-weight: bold\">ERROR   </span> Prompt statement_generator_prompt failed to parse output: The   <a href=\"file:///opt/conda/lib/python3.11/site-packages/ragas/prompt/pydantic_prompt.py\" target=\"_blank\"><span style=\"color: #7f7f7f; text-decoration-color: #7f7f7f\">pydantic_prompt.py</span></a><span style=\"color: #7f7f7f; text-decoration-color: #7f7f7f\">:</span><a href=\"file:///opt/conda/lib/python3.11/site-packages/ragas/prompt/pydantic_prompt.py#214\" target=\"_blank\"><span style=\"color: #7f7f7f; text-decoration-color: #7f7f7f\">214</span></a>\n",
       "<span style=\"color: #7fbfbf; text-decoration-color: #7fbfbf\">                    </span>         output parser failed to parse the output including retries.     <span style=\"color: #7f7f7f; text-decoration-color: #7f7f7f\">                      </span>\n",
       "</pre>\n"
      ],
      "text/plain": [
       "\u001b[2;36m                   \u001b[0m\u001b[2;36m \u001b[0m\u001b[1;38;2;215;0;0mERROR   \u001b[0m Prompt statement_generator_prompt failed to parse output: The   \u001b]8;id=564366;file:///opt/conda/lib/python3.11/site-packages/ragas/prompt/pydantic_prompt.py\u001b\\\u001b[2mpydantic_prompt.py\u001b[0m\u001b]8;;\u001b\\\u001b[2m:\u001b[0m\u001b]8;id=598810;file:///opt/conda/lib/python3.11/site-packages/ragas/prompt/pydantic_prompt.py#214\u001b\\\u001b[2m214\u001b[0m\u001b]8;;\u001b\\\n",
       "\u001b[2;36m                    \u001b[0m         output parser failed to parse the output including retries.     \u001b[2m                      \u001b[0m\n"
      ]
     },
     "metadata": {},
     "output_type": "display_data"
    },
    {
     "data": {
      "text/html": [
       "<pre style=\"white-space:pre;overflow-x:auto;line-height:normal;font-family:Menlo,'DejaVu Sans Mono',consolas,'Courier New',monospace\"><span style=\"color: #7fbfbf; text-decoration-color: #7fbfbf\">                    </span><span style=\"color: #d70000; text-decoration-color: #d70000; font-weight: bold\">ERROR   </span> Exception raised in Job<span style=\"font-weight: bold\">[</span><span style=\"color: #008080; text-decoration-color: #008080; font-weight: bold\">3521</span><span style=\"font-weight: bold\">]</span>: <span style=\"color: #e100e1; text-decoration-color: #e100e1; font-weight: bold\">RagasOutputParserException</span><span style=\"font-weight: bold\">(</span>The output   <a href=\"file:///opt/conda/lib/python3.11/site-packages/ragas/executor.py\" target=\"_blank\"><span style=\"color: #7f7f7f; text-decoration-color: #7f7f7f\">executor.py</span></a><span style=\"color: #7f7f7f; text-decoration-color: #7f7f7f\">:</span><a href=\"file:///opt/conda/lib/python3.11/site-packages/ragas/executor.py#104\" target=\"_blank\"><span style=\"color: #7f7f7f; text-decoration-color: #7f7f7f\">104</span></a>\n",
       "<span style=\"color: #7fbfbf; text-decoration-color: #7fbfbf\">                    </span>         parser failed to parse the output including retries.<span style=\"font-weight: bold\">)</span>                  <span style=\"color: #7f7f7f; text-decoration-color: #7f7f7f\">               </span>\n",
       "</pre>\n"
      ],
      "text/plain": [
       "\u001b[2;36m                   \u001b[0m\u001b[2;36m \u001b[0m\u001b[1;38;2;215;0;0mERROR   \u001b[0m Exception raised in Job\u001b[1m[\u001b[0m\u001b[1;36m3521\u001b[0m\u001b[1m]\u001b[0m: \u001b[1;38;2;225;0;225mRagasOutputParserException\u001b[0m\u001b[1m(\u001b[0mThe output   \u001b]8;id=416816;file:///opt/conda/lib/python3.11/site-packages/ragas/executor.py\u001b\\\u001b[2mexecutor.py\u001b[0m\u001b]8;;\u001b\\\u001b[2m:\u001b[0m\u001b]8;id=119912;file:///opt/conda/lib/python3.11/site-packages/ragas/executor.py#104\u001b\\\u001b[2m104\u001b[0m\u001b]8;;\u001b\\\n",
       "\u001b[2;36m                    \u001b[0m         parser failed to parse the output including retries.\u001b[1m)\u001b[0m                  \u001b[2m               \u001b[0m\n"
      ]
     },
     "metadata": {},
     "output_type": "display_data"
    },
    {
     "data": {
      "text/html": [
       "<pre style=\"white-space:pre;overflow-x:auto;line-height:normal;font-family:Menlo,'DejaVu Sans Mono',consolas,'Courier New',monospace\"><span style=\"color: #7fbfbf; text-decoration-color: #7fbfbf\">[04/05/25 21:27:57] </span><span style=\"color: #d70000; text-decoration-color: #d70000; font-weight: bold\">ERROR   </span> Error raised by inference endpoint: An error occurred        <a href=\"file:///opt/conda/lib/python3.11/site-packages/langchain_aws/chat_models/sagemaker_endpoint.py\" target=\"_blank\"><span style=\"color: #7f7f7f; text-decoration-color: #7f7f7f\">sagemaker_endpoint.py</span></a><span style=\"color: #7f7f7f; text-decoration-color: #7f7f7f\">:</span><a href=\"file:///opt/conda/lib/python3.11/site-packages/langchain_aws/chat_models/sagemaker_endpoint.py#413\" target=\"_blank\"><span style=\"color: #7f7f7f; text-decoration-color: #7f7f7f\">413</span></a>\n",
       "<span style=\"color: #7fbfbf; text-decoration-color: #7fbfbf\">                    </span>         <span style=\"font-weight: bold\">(</span>ModelError<span style=\"font-weight: bold\">)</span> when calling the InvokeEndpoint operation:      <span style=\"color: #7f7f7f; text-decoration-color: #7f7f7f\">                         </span>\n",
       "<span style=\"color: #7fbfbf; text-decoration-color: #7fbfbf\">                    </span>         Received server error <span style=\"font-weight: bold\">(</span><span style=\"color: #008080; text-decoration-color: #008080; font-weight: bold\">0</span><span style=\"font-weight: bold\">)</span> from primary with message <span style=\"color: #008700; text-decoration-color: #008700\">\"Your </span>   <span style=\"color: #7f7f7f; text-decoration-color: #7f7f7f\">                         </span>\n",
       "<span style=\"color: #7fbfbf; text-decoration-color: #7fbfbf\">                    </span>         <span style=\"color: #008700; text-decoration-color: #008700\">invocation timed out while waiting for a response from </span>      <span style=\"color: #7f7f7f; text-decoration-color: #7f7f7f\">                         </span>\n",
       "<span style=\"color: #7fbfbf; text-decoration-color: #7fbfbf\">                    </span>         <span style=\"color: #008700; text-decoration-color: #008700\">container primary. Review the latency metrics for each </span>      <span style=\"color: #7f7f7f; text-decoration-color: #7f7f7f\">                         </span>\n",
       "<span style=\"color: #7fbfbf; text-decoration-color: #7fbfbf\">                    </span>         <span style=\"color: #008700; text-decoration-color: #008700\">container in Amazon CloudWatch, resolve the issue, and try </span>  <span style=\"color: #7f7f7f; text-decoration-color: #7f7f7f\">                         </span>\n",
       "<span style=\"color: #7fbfbf; text-decoration-color: #7fbfbf\">                    </span>         <span style=\"color: #008700; text-decoration-color: #008700\">again.\"</span>. See                                                 <span style=\"color: #7f7f7f; text-decoration-color: #7f7f7f\">                         </span>\n",
       "<span style=\"color: #7fbfbf; text-decoration-color: #7fbfbf\">                    </span>         <span style=\"color: #0069ff; text-decoration-color: #0069ff; text-decoration: underline\">https://us-west-2.console.aws.amazon.com/cloudwatch/home?</span><span style=\"color: #0069ff; text-decoration-color: #0069ff; text-decoration: underline\">reg</span> <span style=\"color: #7f7f7f; text-decoration-color: #7f7f7f\">                         </span>\n",
       "<span style=\"color: #7fbfbf; text-decoration-color: #7fbfbf\">                    </span>         <span style=\"color: #0069ff; text-decoration-color: #0069ff; text-decoration: underline\">ion</span><span style=\"color: #0069ff; text-decoration-color: #0069ff; text-decoration: underline\">=</span><span style=\"color: #0069ff; text-decoration-color: #0069ff; text-decoration: underline\">us</span><span style=\"color: #0069ff; text-decoration-color: #0069ff; text-decoration: underline\">-west-2#logEventViewer:</span><span style=\"color: #0069ff; text-decoration-color: #0069ff; text-decoration: underline\">group</span><span style=\"color: #0069ff; text-decoration-color: #0069ff; text-decoration: underline\">=/aws/sagemaker/Endpoints/</span> <span style=\"color: #7f7f7f; text-decoration-color: #7f7f7f\">                         </span>\n",
       "<span style=\"color: #7fbfbf; text-decoration-color: #7fbfbf\">                    </span>         <span style=\"color: #0069ff; text-decoration-color: #0069ff; text-decoration: underline\">qwen25-2025-04-04-17-16-38-665</span> in account <span style=\"color: #008080; text-decoration-color: #008080; font-weight: bold\">340043819279</span> for   <span style=\"color: #7f7f7f; text-decoration-color: #7f7f7f\">                         </span>\n",
       "<span style=\"color: #7fbfbf; text-decoration-color: #7fbfbf\">                    </span>         more information.                                            <span style=\"color: #7f7f7f; text-decoration-color: #7f7f7f\">                         </span>\n",
       "</pre>\n"
      ],
      "text/plain": [
       "\u001b[2;36m[04/05/25 21:27:57]\u001b[0m\u001b[2;36m \u001b[0m\u001b[1;38;2;215;0;0mERROR   \u001b[0m Error raised by inference endpoint: An error occurred        \u001b]8;id=607289;file:///opt/conda/lib/python3.11/site-packages/langchain_aws/chat_models/sagemaker_endpoint.py\u001b\\\u001b[2msagemaker_endpoint.py\u001b[0m\u001b]8;;\u001b\\\u001b[2m:\u001b[0m\u001b]8;id=52966;file:///opt/conda/lib/python3.11/site-packages/langchain_aws/chat_models/sagemaker_endpoint.py#413\u001b\\\u001b[2m413\u001b[0m\u001b]8;;\u001b\\\n",
       "\u001b[2;36m                    \u001b[0m         \u001b[1m(\u001b[0mModelError\u001b[1m)\u001b[0m when calling the InvokeEndpoint operation:      \u001b[2m                         \u001b[0m\n",
       "\u001b[2;36m                    \u001b[0m         Received server error \u001b[1m(\u001b[0m\u001b[1;36m0\u001b[0m\u001b[1m)\u001b[0m from primary with message \u001b[38;2;0;135;0m\"Your \u001b[0m   \u001b[2m                         \u001b[0m\n",
       "\u001b[2;36m                    \u001b[0m         \u001b[38;2;0;135;0minvocation timed out while waiting for a response from \u001b[0m      \u001b[2m                         \u001b[0m\n",
       "\u001b[2;36m                    \u001b[0m         \u001b[38;2;0;135;0mcontainer primary. Review the latency metrics for each \u001b[0m      \u001b[2m                         \u001b[0m\n",
       "\u001b[2;36m                    \u001b[0m         \u001b[38;2;0;135;0mcontainer in Amazon CloudWatch, resolve the issue, and try \u001b[0m  \u001b[2m                         \u001b[0m\n",
       "\u001b[2;36m                    \u001b[0m         \u001b[38;2;0;135;0magain.\"\u001b[0m. See                                                 \u001b[2m                         \u001b[0m\n",
       "\u001b[2;36m                    \u001b[0m         \u001b[4;38;2;0;105;255mhttps://us-west-2.console.aws.amazon.com/cloudwatch/home?\u001b[0m\u001b[4;38;2;0;105;255mreg\u001b[0m \u001b[2m                         \u001b[0m\n",
       "\u001b[2;36m                    \u001b[0m         \u001b[4;38;2;0;105;255mion\u001b[0m\u001b[4;38;2;0;105;255m=\u001b[0m\u001b[4;38;2;0;105;255mus\u001b[0m\u001b[4;38;2;0;105;255m-west-2#logEventViewer:\u001b[0m\u001b[4;38;2;0;105;255mgroup\u001b[0m\u001b[4;38;2;0;105;255m=/aws/sagemaker/Endpoints/\u001b[0m \u001b[2m                         \u001b[0m\n",
       "\u001b[2;36m                    \u001b[0m         \u001b[4;38;2;0;105;255mqwen25-2025-04-04-17-16-38-665\u001b[0m in account \u001b[1;36m340043819279\u001b[0m for   \u001b[2m                         \u001b[0m\n",
       "\u001b[2;36m                    \u001b[0m         more information.                                            \u001b[2m                         \u001b[0m\n"
      ]
     },
     "metadata": {},
     "output_type": "display_data"
    },
    {
     "data": {
      "text/html": [
       "<pre style=\"white-space:pre;overflow-x:auto;line-height:normal;font-family:Menlo,'DejaVu Sans Mono',consolas,'Courier New',monospace\"><span style=\"color: #7fbfbf; text-decoration-color: #7fbfbf\">[04/05/25 21:28:10] </span><span style=\"color: #d70000; text-decoration-color: #d70000; font-weight: bold\">ERROR   </span> Exception raised in Job<span style=\"font-weight: bold\">[</span><span style=\"color: #008080; text-decoration-color: #008080; font-weight: bold\">4783</span><span style=\"font-weight: bold\">]</span>: <span style=\"color: #e100e1; text-decoration-color: #e100e1; font-weight: bold\">OutputParserException</span><span style=\"font-weight: bold\">(</span>Failed to parse   <a href=\"file:///opt/conda/lib/python3.11/site-packages/ragas/executor.py\" target=\"_blank\"><span style=\"color: #7f7f7f; text-decoration-color: #7f7f7f\">executor.py</span></a><span style=\"color: #7f7f7f; text-decoration-color: #7f7f7f\">:</span><a href=\"file:///opt/conda/lib/python3.11/site-packages/ragas/executor.py#104\" target=\"_blank\"><span style=\"color: #7f7f7f; text-decoration-color: #7f7f7f\">104</span></a>\n",
       "<span style=\"color: #7fbfbf; text-decoration-color: #7fbfbf\">                    </span>         StringIO from completion <span style=\"font-weight: bold\">{</span><span style=\"color: #008700; text-decoration-color: #008700\">\"statements\"</span>: <span style=\"font-weight: bold\">[{</span><span style=\"color: #008700; text-decoration-color: #008700\">\"statement\"</span>: <span style=\"color: #008700; text-decoration-color: #008700\">\"Maternal </span>      <span style=\"color: #7f7f7f; text-decoration-color: #7f7f7f\">               </span>\n",
       "<span style=\"color: #7fbfbf; text-decoration-color: #7fbfbf\">                    </span>         <span style=\"color: #008700; text-decoration-color: #008700\">education is associated with the vaccination status of infants less </span>   <span style=\"color: #7f7f7f; text-decoration-color: #7f7f7f\">               </span>\n",
       "<span style=\"color: #7fbfbf; text-decoration-color: #7fbfbf\">                    </span>         <span style=\"color: #008700; text-decoration-color: #008700\">than 6 months in Eastern Uganda.\"</span>, <span style=\"color: #008700; text-decoration-color: #008700\">\"reason\"</span>: <span style=\"color: #008700; text-decoration-color: #008700\">\"The context discusses a </span> <span style=\"color: #7f7f7f; text-decoration-color: #7f7f7f\">               </span>\n",
       "<span style=\"color: #7fbfbf; text-decoration-color: #7fbfbf\">                    </span>         <span style=\"color: #008700; text-decoration-color: #008700\">community-based prospective cohort study conducted between January </span>    <span style=\"color: #7f7f7f; text-decoration-color: #7f7f7f\">               </span>\n",
       "<span style=\"color: #7fbfbf; text-decoration-color: #7fbfbf\">                    </span>         <span style=\"color: #008700; text-decoration-color: #008700\">2006 and May 2008 in Uganda.\"</span>, <span style=\"color: #008700; text-decoration-color: #008700\">\"verdict\"</span>: <span style=\"color: #008080; text-decoration-color: #008080; font-weight: bold\">1</span><span style=\"font-weight: bold\">}</span>, <span style=\"font-weight: bold\">{</span><span style=\"color: #008700; text-decoration-color: #008700\">\"statement\"</span>: <span style=\"color: #008700; text-decoration-color: #008700\">\"According</span> <span style=\"color: #7f7f7f; text-decoration-color: #7f7f7f\">               </span>\n",
       "<span style=\"color: #7fbfbf; text-decoration-color: #7fbfbf\">                    </span>         <span style=\"color: #008700; text-decoration-color: #008700\">to a cohort study conducted between 2006 and 2008.\"</span>, <span style=\"color: #008700; text-decoration-color: #008700\">\"reason\"</span>: <span style=\"color: #008700; text-decoration-color: #008700\">\"The </span>   <span style=\"color: #7f7f7f; text-decoration-color: #7f7f7f\">               </span>\n",
       "<span style=\"color: #7fbfbf; text-decoration-color: #7fbfbf\">                    </span>         <span style=\"color: #008700; text-decoration-color: #008700\">context mentions a cohort study conducted between 2006 and 2008.\"</span>,     <span style=\"color: #7f7f7f; text-decoration-color: #7f7f7f\">               </span>\n",
       "<span style=\"color: #7fbfbf; text-decoration-color: #7fbfbf\">                    </span>         <span style=\"color: #008700; text-decoration-color: #008700\">\"verdict\"</span>: <span style=\"color: #008080; text-decoration-color: #008080; font-weight: bold\">1</span><span style=\"font-weight: bold\">}</span>, <span style=\"font-weight: bold\">{</span><span style=\"color: #008700; text-decoration-color: #008700\">\"statement\"</span>: <span style=\"color: #008700; text-decoration-color: #008700\">\"The study found that infants whose </span>      <span style=\"color: #7f7f7f; text-decoration-color: #7f7f7f\">               </span>\n",
       "<span style=\"color: #7fbfbf; text-decoration-color: #7fbfbf\">                    </span>         <span style=\"color: #008700; text-decoration-color: #008700\">mothers had some secondary education were more likely to be fully </span>     <span style=\"color: #7f7f7f; text-decoration-color: #7f7f7f\">               </span>\n",
       "<span style=\"color: #7fbfbf; text-decoration-color: #7fbfbf\">                    </span>         <span style=\"color: #008700; text-decoration-color: #008700\">vaccinated.\"</span>, <span style=\"color: #008700; text-decoration-color: #008700\">\"reason\"</span>: <span style=\"color: #008700; text-decoration-color: #008700\">\"The context states, 'Infants whose mothers </span>   <span style=\"color: #7f7f7f; text-decoration-color: #7f7f7f\">               </span>\n",
       "<span style=\"color: #7fbfbf; text-decoration-color: #7fbfbf\">                    </span>         <span style=\"color: #008700; text-decoration-color: #008700\">had some secondary education were less likely to be fully vaccinated, </span> <span style=\"color: #7f7f7f; text-decoration-color: #7f7f7f\">               </span>\n",
       "<span style=\"color: #7fbfbf; text-decoration-color: #7fbfbf\">                    </span>         <span style=\"color: #008700; text-decoration-color: #008700\">but other factors showed some association with a reduced risk of </span>      <span style=\"color: #7f7f7f; text-decoration-color: #7f7f7f\">               </span>\n",
       "<span style=\"color: #7fbfbf; text-decoration-color: #7fbfbf\">                    </span>         <span style=\"color: #008700; text-decoration-color: #008700\">missed vaccinations.', implying a reverse relationship.\\\",,\\n         </span> <span style=\"color: #7f7f7f; text-decoration-color: #7f7f7f\">               </span>\n",
       "<span style=\"color: #7fbfbf; text-decoration-color: #7fbfbf\">                    </span>         <span style=\"color: #008700; text-decoration-color: #008700\">\"</span><span style=\"font-weight: bold\">}]}</span>. Got: <span style=\"color: #008080; text-decoration-color: #008080; font-weight: bold\">1</span> validation error for StringIO                             <span style=\"color: #7f7f7f; text-decoration-color: #7f7f7f\">               </span>\n",
       "<span style=\"color: #7fbfbf; text-decoration-color: #7fbfbf\">                    </span>         text                                                                   <span style=\"color: #7f7f7f; text-decoration-color: #7f7f7f\">               </span>\n",
       "<span style=\"color: #7fbfbf; text-decoration-color: #7fbfbf\">                    </span>           Field required <span style=\"font-weight: bold\">[</span><span style=\"color: #d7af00; text-decoration-color: #d7af00\">type</span>=<span style=\"color: #e100e1; text-decoration-color: #e100e1\">missing</span>, <span style=\"color: #d7af00; text-decoration-color: #d7af00\">input_value</span>=<span style=\"font-weight: bold\">{</span><span style=\"color: #008700; text-decoration-color: #008700\">'statements'</span>:             <span style=\"color: #7f7f7f; text-decoration-color: #7f7f7f\">               </span>\n",
       "<span style=\"color: #7fbfbf; text-decoration-color: #7fbfbf\">                    </span>         <span style=\"font-weight: bold\">[{</span><span style=\"color: #008700; text-decoration-color: #008700\">'stateme...ip.\",,\\n            '</span><span style=\"font-weight: bold\">}]}</span>, <span style=\"color: #d7af00; text-decoration-color: #d7af00\">input_type</span>=<span style=\"color: #e100e1; text-decoration-color: #e100e1\">dict</span><span style=\"font-weight: bold\">]</span>                <span style=\"color: #7f7f7f; text-decoration-color: #7f7f7f\">               </span>\n",
       "<span style=\"color: #7fbfbf; text-decoration-color: #7fbfbf\">                    </span>             For further information visit                                      <span style=\"color: #7f7f7f; text-decoration-color: #7f7f7f\">               </span>\n",
       "<span style=\"color: #7fbfbf; text-decoration-color: #7fbfbf\">                    </span>         <span style=\"color: #0069ff; text-decoration-color: #0069ff; text-decoration: underline\">https://errors.pydantic.dev/2.11/v/missing</span>                             <span style=\"color: #7f7f7f; text-decoration-color: #7f7f7f\">               </span>\n",
       "<span style=\"color: #7fbfbf; text-decoration-color: #7fbfbf\">                    </span>         For troubleshooting, visit:                                            <span style=\"color: #7f7f7f; text-decoration-color: #7f7f7f\">               </span>\n",
       "<span style=\"color: #7fbfbf; text-decoration-color: #7fbfbf\">                    </span>         <span style=\"color: #0069ff; text-decoration-color: #0069ff; text-decoration: underline\">https://python.langchain.com/docs/troubleshooting/errors/OUT</span><span style=\"color: #d7af00; text-decoration-color: #d7af00; font-weight: bold; text-decoration: underline\">PUT</span><span style=\"color: #0069ff; text-decoration-color: #0069ff; text-decoration: underline\">_PARSIN</span> <span style=\"color: #7f7f7f; text-decoration-color: #7f7f7f\">               </span>\n",
       "<span style=\"color: #7fbfbf; text-decoration-color: #7fbfbf\">                    </span>         <span style=\"color: #0069ff; text-decoration-color: #0069ff; text-decoration: underline\">G_FAILURE</span> <span style=\"font-weight: bold\">)</span>                                                            <span style=\"color: #7f7f7f; text-decoration-color: #7f7f7f\">               </span>\n",
       "</pre>\n"
      ],
      "text/plain": [
       "\u001b[2;36m[04/05/25 21:28:10]\u001b[0m\u001b[2;36m \u001b[0m\u001b[1;38;2;215;0;0mERROR   \u001b[0m Exception raised in Job\u001b[1m[\u001b[0m\u001b[1;36m4783\u001b[0m\u001b[1m]\u001b[0m: \u001b[1;38;2;225;0;225mOutputParserException\u001b[0m\u001b[1m(\u001b[0mFailed to parse   \u001b]8;id=821265;file:///opt/conda/lib/python3.11/site-packages/ragas/executor.py\u001b\\\u001b[2mexecutor.py\u001b[0m\u001b]8;;\u001b\\\u001b[2m:\u001b[0m\u001b]8;id=421619;file:///opt/conda/lib/python3.11/site-packages/ragas/executor.py#104\u001b\\\u001b[2m104\u001b[0m\u001b]8;;\u001b\\\n",
       "\u001b[2;36m                    \u001b[0m         StringIO from completion \u001b[1m{\u001b[0m\u001b[38;2;0;135;0m\"statements\"\u001b[0m: \u001b[1m[\u001b[0m\u001b[1m{\u001b[0m\u001b[38;2;0;135;0m\"statement\"\u001b[0m: \u001b[38;2;0;135;0m\"Maternal \u001b[0m      \u001b[2m               \u001b[0m\n",
       "\u001b[2;36m                    \u001b[0m         \u001b[38;2;0;135;0meducation is associated with the vaccination status of infants less \u001b[0m   \u001b[2m               \u001b[0m\n",
       "\u001b[2;36m                    \u001b[0m         \u001b[38;2;0;135;0mthan 6 months in Eastern Uganda.\"\u001b[0m, \u001b[38;2;0;135;0m\"reason\"\u001b[0m: \u001b[38;2;0;135;0m\"The context discusses a \u001b[0m \u001b[2m               \u001b[0m\n",
       "\u001b[2;36m                    \u001b[0m         \u001b[38;2;0;135;0mcommunity-based prospective cohort study conducted between January \u001b[0m    \u001b[2m               \u001b[0m\n",
       "\u001b[2;36m                    \u001b[0m         \u001b[38;2;0;135;0m2006 and May 2008 in Uganda.\"\u001b[0m, \u001b[38;2;0;135;0m\"verdict\"\u001b[0m: \u001b[1;36m1\u001b[0m\u001b[1m}\u001b[0m, \u001b[1m{\u001b[0m\u001b[38;2;0;135;0m\"statement\"\u001b[0m: \u001b[38;2;0;135;0m\"According\u001b[0m \u001b[2m               \u001b[0m\n",
       "\u001b[2;36m                    \u001b[0m         \u001b[38;2;0;135;0mto a cohort study conducted between 2006 and 2008.\"\u001b[0m, \u001b[38;2;0;135;0m\"reason\"\u001b[0m: \u001b[38;2;0;135;0m\"The \u001b[0m   \u001b[2m               \u001b[0m\n",
       "\u001b[2;36m                    \u001b[0m         \u001b[38;2;0;135;0mcontext mentions a cohort study conducted between 2006 and 2008.\"\u001b[0m,     \u001b[2m               \u001b[0m\n",
       "\u001b[2;36m                    \u001b[0m         \u001b[38;2;0;135;0m\"verdict\"\u001b[0m: \u001b[1;36m1\u001b[0m\u001b[1m}\u001b[0m, \u001b[1m{\u001b[0m\u001b[38;2;0;135;0m\"statement\"\u001b[0m: \u001b[38;2;0;135;0m\"The study found that infants whose \u001b[0m      \u001b[2m               \u001b[0m\n",
       "\u001b[2;36m                    \u001b[0m         \u001b[38;2;0;135;0mmothers had some secondary education were more likely to be fully \u001b[0m     \u001b[2m               \u001b[0m\n",
       "\u001b[2;36m                    \u001b[0m         \u001b[38;2;0;135;0mvaccinated.\"\u001b[0m, \u001b[38;2;0;135;0m\"reason\"\u001b[0m: \u001b[38;2;0;135;0m\"The context states, 'Infants whose mothers \u001b[0m   \u001b[2m               \u001b[0m\n",
       "\u001b[2;36m                    \u001b[0m         \u001b[38;2;0;135;0mhad some secondary education were less likely to be fully vaccinated, \u001b[0m \u001b[2m               \u001b[0m\n",
       "\u001b[2;36m                    \u001b[0m         \u001b[38;2;0;135;0mbut other factors showed some association with a reduced risk of \u001b[0m      \u001b[2m               \u001b[0m\n",
       "\u001b[2;36m                    \u001b[0m         \u001b[38;2;0;135;0mmissed vaccinations.', implying a reverse relationship.\\\",,\\n         \u001b[0m \u001b[2m               \u001b[0m\n",
       "\u001b[2;36m                    \u001b[0m         \u001b[38;2;0;135;0m\"\u001b[0m\u001b[1m}\u001b[0m\u001b[1m]\u001b[0m\u001b[1m}\u001b[0m. Got: \u001b[1;36m1\u001b[0m validation error for StringIO                             \u001b[2m               \u001b[0m\n",
       "\u001b[2;36m                    \u001b[0m         text                                                                   \u001b[2m               \u001b[0m\n",
       "\u001b[2;36m                    \u001b[0m           Field required \u001b[1m[\u001b[0m\u001b[38;2;215;175;0mtype\u001b[0m=\u001b[38;2;225;0;225mmissing\u001b[0m, \u001b[38;2;215;175;0minput_value\u001b[0m=\u001b[1m{\u001b[0m\u001b[38;2;0;135;0m'statements'\u001b[0m:             \u001b[2m               \u001b[0m\n",
       "\u001b[2;36m                    \u001b[0m         \u001b[1m[\u001b[0m\u001b[1m{\u001b[0m\u001b[38;2;0;135;0m'stateme...ip.\",,\\n            '\u001b[0m\u001b[1m}\u001b[0m\u001b[1m]\u001b[0m\u001b[1m}\u001b[0m, \u001b[38;2;215;175;0minput_type\u001b[0m=\u001b[38;2;225;0;225mdict\u001b[0m\u001b[1m]\u001b[0m                \u001b[2m               \u001b[0m\n",
       "\u001b[2;36m                    \u001b[0m             For further information visit                                      \u001b[2m               \u001b[0m\n",
       "\u001b[2;36m                    \u001b[0m         \u001b[4;38;2;0;105;255mhttps://errors.pydantic.dev/2.11/v/missing\u001b[0m                             \u001b[2m               \u001b[0m\n",
       "\u001b[2;36m                    \u001b[0m         For troubleshooting, visit:                                            \u001b[2m               \u001b[0m\n",
       "\u001b[2;36m                    \u001b[0m         \u001b[4;38;2;0;105;255mhttps://python.langchain.com/docs/troubleshooting/errors/OUT\u001b[0m\u001b[1;4;38;2;215;175;0mPUT\u001b[0m\u001b[4;38;2;0;105;255m_PARSIN\u001b[0m \u001b[2m               \u001b[0m\n",
       "\u001b[2;36m                    \u001b[0m         \u001b[4;38;2;0;105;255mG_FAILURE\u001b[0m \u001b[1m)\u001b[0m                                                            \u001b[2m               \u001b[0m\n"
      ]
     },
     "metadata": {},
     "output_type": "display_data"
    },
    {
     "data": {
      "text/html": [
       "<pre style=\"white-space:pre;overflow-x:auto;line-height:normal;font-family:Menlo,'DejaVu Sans Mono',consolas,'Courier New',monospace\"><span style=\"color: #7fbfbf; text-decoration-color: #7fbfbf\">[04/05/25 21:30:34] </span><span style=\"color: #d70000; text-decoration-color: #d70000; font-weight: bold\">ERROR   </span> Error raised by inference endpoint: An error occurred        <a href=\"file:///opt/conda/lib/python3.11/site-packages/langchain_aws/chat_models/sagemaker_endpoint.py\" target=\"_blank\"><span style=\"color: #7f7f7f; text-decoration-color: #7f7f7f\">sagemaker_endpoint.py</span></a><span style=\"color: #7f7f7f; text-decoration-color: #7f7f7f\">:</span><a href=\"file:///opt/conda/lib/python3.11/site-packages/langchain_aws/chat_models/sagemaker_endpoint.py#413\" target=\"_blank\"><span style=\"color: #7f7f7f; text-decoration-color: #7f7f7f\">413</span></a>\n",
       "<span style=\"color: #7fbfbf; text-decoration-color: #7fbfbf\">                    </span>         <span style=\"font-weight: bold\">(</span>ModelError<span style=\"font-weight: bold\">)</span> when calling the InvokeEndpoint operation:      <span style=\"color: #7f7f7f; text-decoration-color: #7f7f7f\">                         </span>\n",
       "<span style=\"color: #7fbfbf; text-decoration-color: #7fbfbf\">                    </span>         Received server error <span style=\"font-weight: bold\">(</span><span style=\"color: #008080; text-decoration-color: #008080; font-weight: bold\">0</span><span style=\"font-weight: bold\">)</span> from primary with message <span style=\"color: #008700; text-decoration-color: #008700\">\"Your </span>   <span style=\"color: #7f7f7f; text-decoration-color: #7f7f7f\">                         </span>\n",
       "<span style=\"color: #7fbfbf; text-decoration-color: #7fbfbf\">                    </span>         <span style=\"color: #008700; text-decoration-color: #008700\">invocation timed out while waiting for a response from </span>      <span style=\"color: #7f7f7f; text-decoration-color: #7f7f7f\">                         </span>\n",
       "<span style=\"color: #7fbfbf; text-decoration-color: #7fbfbf\">                    </span>         <span style=\"color: #008700; text-decoration-color: #008700\">container primary. Review the latency metrics for each </span>      <span style=\"color: #7f7f7f; text-decoration-color: #7f7f7f\">                         </span>\n",
       "<span style=\"color: #7fbfbf; text-decoration-color: #7fbfbf\">                    </span>         <span style=\"color: #008700; text-decoration-color: #008700\">container in Amazon CloudWatch, resolve the issue, and try </span>  <span style=\"color: #7f7f7f; text-decoration-color: #7f7f7f\">                         </span>\n",
       "<span style=\"color: #7fbfbf; text-decoration-color: #7fbfbf\">                    </span>         <span style=\"color: #008700; text-decoration-color: #008700\">again.\"</span>. See                                                 <span style=\"color: #7f7f7f; text-decoration-color: #7f7f7f\">                         </span>\n",
       "<span style=\"color: #7fbfbf; text-decoration-color: #7fbfbf\">                    </span>         <span style=\"color: #0069ff; text-decoration-color: #0069ff; text-decoration: underline\">https://us-west-2.console.aws.amazon.com/cloudwatch/home?</span><span style=\"color: #0069ff; text-decoration-color: #0069ff; text-decoration: underline\">reg</span> <span style=\"color: #7f7f7f; text-decoration-color: #7f7f7f\">                         </span>\n",
       "<span style=\"color: #7fbfbf; text-decoration-color: #7fbfbf\">                    </span>         <span style=\"color: #0069ff; text-decoration-color: #0069ff; text-decoration: underline\">ion</span><span style=\"color: #0069ff; text-decoration-color: #0069ff; text-decoration: underline\">=</span><span style=\"color: #0069ff; text-decoration-color: #0069ff; text-decoration: underline\">us</span><span style=\"color: #0069ff; text-decoration-color: #0069ff; text-decoration: underline\">-west-2#logEventViewer:</span><span style=\"color: #0069ff; text-decoration-color: #0069ff; text-decoration: underline\">group</span><span style=\"color: #0069ff; text-decoration-color: #0069ff; text-decoration: underline\">=/aws/sagemaker/Endpoints/</span> <span style=\"color: #7f7f7f; text-decoration-color: #7f7f7f\">                         </span>\n",
       "<span style=\"color: #7fbfbf; text-decoration-color: #7fbfbf\">                    </span>         <span style=\"color: #0069ff; text-decoration-color: #0069ff; text-decoration: underline\">qwen25-2025-04-04-17-16-38-665</span> in account <span style=\"color: #008080; text-decoration-color: #008080; font-weight: bold\">340043819279</span> for   <span style=\"color: #7f7f7f; text-decoration-color: #7f7f7f\">                         </span>\n",
       "<span style=\"color: #7fbfbf; text-decoration-color: #7fbfbf\">                    </span>         more information.                                            <span style=\"color: #7f7f7f; text-decoration-color: #7f7f7f\">                         </span>\n",
       "</pre>\n"
      ],
      "text/plain": [
       "\u001b[2;36m[04/05/25 21:30:34]\u001b[0m\u001b[2;36m \u001b[0m\u001b[1;38;2;215;0;0mERROR   \u001b[0m Error raised by inference endpoint: An error occurred        \u001b]8;id=464672;file:///opt/conda/lib/python3.11/site-packages/langchain_aws/chat_models/sagemaker_endpoint.py\u001b\\\u001b[2msagemaker_endpoint.py\u001b[0m\u001b]8;;\u001b\\\u001b[2m:\u001b[0m\u001b]8;id=144780;file:///opt/conda/lib/python3.11/site-packages/langchain_aws/chat_models/sagemaker_endpoint.py#413\u001b\\\u001b[2m413\u001b[0m\u001b]8;;\u001b\\\n",
       "\u001b[2;36m                    \u001b[0m         \u001b[1m(\u001b[0mModelError\u001b[1m)\u001b[0m when calling the InvokeEndpoint operation:      \u001b[2m                         \u001b[0m\n",
       "\u001b[2;36m                    \u001b[0m         Received server error \u001b[1m(\u001b[0m\u001b[1;36m0\u001b[0m\u001b[1m)\u001b[0m from primary with message \u001b[38;2;0;135;0m\"Your \u001b[0m   \u001b[2m                         \u001b[0m\n",
       "\u001b[2;36m                    \u001b[0m         \u001b[38;2;0;135;0minvocation timed out while waiting for a response from \u001b[0m      \u001b[2m                         \u001b[0m\n",
       "\u001b[2;36m                    \u001b[0m         \u001b[38;2;0;135;0mcontainer primary. Review the latency metrics for each \u001b[0m      \u001b[2m                         \u001b[0m\n",
       "\u001b[2;36m                    \u001b[0m         \u001b[38;2;0;135;0mcontainer in Amazon CloudWatch, resolve the issue, and try \u001b[0m  \u001b[2m                         \u001b[0m\n",
       "\u001b[2;36m                    \u001b[0m         \u001b[38;2;0;135;0magain.\"\u001b[0m. See                                                 \u001b[2m                         \u001b[0m\n",
       "\u001b[2;36m                    \u001b[0m         \u001b[4;38;2;0;105;255mhttps://us-west-2.console.aws.amazon.com/cloudwatch/home?\u001b[0m\u001b[4;38;2;0;105;255mreg\u001b[0m \u001b[2m                         \u001b[0m\n",
       "\u001b[2;36m                    \u001b[0m         \u001b[4;38;2;0;105;255mion\u001b[0m\u001b[4;38;2;0;105;255m=\u001b[0m\u001b[4;38;2;0;105;255mus\u001b[0m\u001b[4;38;2;0;105;255m-west-2#logEventViewer:\u001b[0m\u001b[4;38;2;0;105;255mgroup\u001b[0m\u001b[4;38;2;0;105;255m=/aws/sagemaker/Endpoints/\u001b[0m \u001b[2m                         \u001b[0m\n",
       "\u001b[2;36m                    \u001b[0m         \u001b[4;38;2;0;105;255mqwen25-2025-04-04-17-16-38-665\u001b[0m in account \u001b[1;36m340043819279\u001b[0m for   \u001b[2m                         \u001b[0m\n",
       "\u001b[2;36m                    \u001b[0m         more information.                                            \u001b[2m                         \u001b[0m\n"
      ]
     },
     "metadata": {},
     "output_type": "display_data"
    },
    {
     "data": {
      "text/html": [
       "<pre style=\"white-space:pre;overflow-x:auto;line-height:normal;font-family:Menlo,'DejaVu Sans Mono',consolas,'Courier New',monospace\"><span style=\"color: #7fbfbf; text-decoration-color: #7fbfbf\">[04/05/25 21:34:42] </span><span style=\"color: #d70000; text-decoration-color: #d70000; font-weight: bold\">ERROR   </span> Prompt fix_output_format failed to parse output: The output     <a href=\"file:///opt/conda/lib/python3.11/site-packages/ragas/prompt/pydantic_prompt.py\" target=\"_blank\"><span style=\"color: #7f7f7f; text-decoration-color: #7f7f7f\">pydantic_prompt.py</span></a><span style=\"color: #7f7f7f; text-decoration-color: #7f7f7f\">:</span><a href=\"file:///opt/conda/lib/python3.11/site-packages/ragas/prompt/pydantic_prompt.py#214\" target=\"_blank\"><span style=\"color: #7f7f7f; text-decoration-color: #7f7f7f\">214</span></a>\n",
       "<span style=\"color: #7fbfbf; text-decoration-color: #7fbfbf\">                    </span>         parser failed to parse the output including retries.            <span style=\"color: #7f7f7f; text-decoration-color: #7f7f7f\">                      </span>\n",
       "</pre>\n"
      ],
      "text/plain": [
       "\u001b[2;36m[04/05/25 21:34:42]\u001b[0m\u001b[2;36m \u001b[0m\u001b[1;38;2;215;0;0mERROR   \u001b[0m Prompt fix_output_format failed to parse output: The output     \u001b]8;id=729434;file:///opt/conda/lib/python3.11/site-packages/ragas/prompt/pydantic_prompt.py\u001b\\\u001b[2mpydantic_prompt.py\u001b[0m\u001b]8;;\u001b\\\u001b[2m:\u001b[0m\u001b]8;id=17245;file:///opt/conda/lib/python3.11/site-packages/ragas/prompt/pydantic_prompt.py#214\u001b\\\u001b[2m214\u001b[0m\u001b]8;;\u001b\\\n",
       "\u001b[2;36m                    \u001b[0m         parser failed to parse the output including retries.            \u001b[2m                      \u001b[0m\n"
      ]
     },
     "metadata": {},
     "output_type": "display_data"
    },
    {
     "data": {
      "text/html": [
       "<pre style=\"white-space:pre;overflow-x:auto;line-height:normal;font-family:Menlo,'DejaVu Sans Mono',consolas,'Courier New',monospace\"><span style=\"color: #7fbfbf; text-decoration-color: #7fbfbf\">                    </span><span style=\"color: #d70000; text-decoration-color: #d70000; font-weight: bold\">ERROR   </span> Prompt fix_output_format failed to parse output: The output     <a href=\"file:///opt/conda/lib/python3.11/site-packages/ragas/prompt/pydantic_prompt.py\" target=\"_blank\"><span style=\"color: #7f7f7f; text-decoration-color: #7f7f7f\">pydantic_prompt.py</span></a><span style=\"color: #7f7f7f; text-decoration-color: #7f7f7f\">:</span><a href=\"file:///opt/conda/lib/python3.11/site-packages/ragas/prompt/pydantic_prompt.py#214\" target=\"_blank\"><span style=\"color: #7f7f7f; text-decoration-color: #7f7f7f\">214</span></a>\n",
       "<span style=\"color: #7fbfbf; text-decoration-color: #7fbfbf\">                    </span>         parser failed to parse the output including retries.            <span style=\"color: #7f7f7f; text-decoration-color: #7f7f7f\">                      </span>\n",
       "</pre>\n"
      ],
      "text/plain": [
       "\u001b[2;36m                   \u001b[0m\u001b[2;36m \u001b[0m\u001b[1;38;2;215;0;0mERROR   \u001b[0m Prompt fix_output_format failed to parse output: The output     \u001b]8;id=579406;file:///opt/conda/lib/python3.11/site-packages/ragas/prompt/pydantic_prompt.py\u001b\\\u001b[2mpydantic_prompt.py\u001b[0m\u001b]8;;\u001b\\\u001b[2m:\u001b[0m\u001b]8;id=532137;file:///opt/conda/lib/python3.11/site-packages/ragas/prompt/pydantic_prompt.py#214\u001b\\\u001b[2m214\u001b[0m\u001b]8;;\u001b\\\n",
       "\u001b[2;36m                    \u001b[0m         parser failed to parse the output including retries.            \u001b[2m                      \u001b[0m\n"
      ]
     },
     "metadata": {},
     "output_type": "display_data"
    },
    {
     "data": {
      "text/html": [
       "<pre style=\"white-space:pre;overflow-x:auto;line-height:normal;font-family:Menlo,'DejaVu Sans Mono',consolas,'Courier New',monospace\"><span style=\"color: #7fbfbf; text-decoration-color: #7fbfbf\">                    </span><span style=\"color: #d70000; text-decoration-color: #d70000; font-weight: bold\">ERROR   </span> Prompt fix_output_format failed to parse output: The output     <a href=\"file:///opt/conda/lib/python3.11/site-packages/ragas/prompt/pydantic_prompt.py\" target=\"_blank\"><span style=\"color: #7f7f7f; text-decoration-color: #7f7f7f\">pydantic_prompt.py</span></a><span style=\"color: #7f7f7f; text-decoration-color: #7f7f7f\">:</span><a href=\"file:///opt/conda/lib/python3.11/site-packages/ragas/prompt/pydantic_prompt.py#214\" target=\"_blank\"><span style=\"color: #7f7f7f; text-decoration-color: #7f7f7f\">214</span></a>\n",
       "<span style=\"color: #7fbfbf; text-decoration-color: #7fbfbf\">                    </span>         parser failed to parse the output including retries.            <span style=\"color: #7f7f7f; text-decoration-color: #7f7f7f\">                      </span>\n",
       "</pre>\n"
      ],
      "text/plain": [
       "\u001b[2;36m                   \u001b[0m\u001b[2;36m \u001b[0m\u001b[1;38;2;215;0;0mERROR   \u001b[0m Prompt fix_output_format failed to parse output: The output     \u001b]8;id=937729;file:///opt/conda/lib/python3.11/site-packages/ragas/prompt/pydantic_prompt.py\u001b\\\u001b[2mpydantic_prompt.py\u001b[0m\u001b]8;;\u001b\\\u001b[2m:\u001b[0m\u001b]8;id=512475;file:///opt/conda/lib/python3.11/site-packages/ragas/prompt/pydantic_prompt.py#214\u001b\\\u001b[2m214\u001b[0m\u001b]8;;\u001b\\\n",
       "\u001b[2;36m                    \u001b[0m         parser failed to parse the output including retries.            \u001b[2m                      \u001b[0m\n"
      ]
     },
     "metadata": {},
     "output_type": "display_data"
    },
    {
     "data": {
      "text/html": [
       "<pre style=\"white-space:pre;overflow-x:auto;line-height:normal;font-family:Menlo,'DejaVu Sans Mono',consolas,'Courier New',monospace\"><span style=\"color: #7fbfbf; text-decoration-color: #7fbfbf\">                    </span><span style=\"color: #d70000; text-decoration-color: #d70000; font-weight: bold\">ERROR   </span> Prompt statement_generator_prompt failed to parse output: The   <a href=\"file:///opt/conda/lib/python3.11/site-packages/ragas/prompt/pydantic_prompt.py\" target=\"_blank\"><span style=\"color: #7f7f7f; text-decoration-color: #7f7f7f\">pydantic_prompt.py</span></a><span style=\"color: #7f7f7f; text-decoration-color: #7f7f7f\">:</span><a href=\"file:///opt/conda/lib/python3.11/site-packages/ragas/prompt/pydantic_prompt.py#214\" target=\"_blank\"><span style=\"color: #7f7f7f; text-decoration-color: #7f7f7f\">214</span></a>\n",
       "<span style=\"color: #7fbfbf; text-decoration-color: #7fbfbf\">                    </span>         output parser failed to parse the output including retries.     <span style=\"color: #7f7f7f; text-decoration-color: #7f7f7f\">                      </span>\n",
       "</pre>\n"
      ],
      "text/plain": [
       "\u001b[2;36m                   \u001b[0m\u001b[2;36m \u001b[0m\u001b[1;38;2;215;0;0mERROR   \u001b[0m Prompt statement_generator_prompt failed to parse output: The   \u001b]8;id=491419;file:///opt/conda/lib/python3.11/site-packages/ragas/prompt/pydantic_prompt.py\u001b\\\u001b[2mpydantic_prompt.py\u001b[0m\u001b]8;;\u001b\\\u001b[2m:\u001b[0m\u001b]8;id=238805;file:///opt/conda/lib/python3.11/site-packages/ragas/prompt/pydantic_prompt.py#214\u001b\\\u001b[2m214\u001b[0m\u001b]8;;\u001b\\\n",
       "\u001b[2;36m                    \u001b[0m         output parser failed to parse the output including retries.     \u001b[2m                      \u001b[0m\n"
      ]
     },
     "metadata": {},
     "output_type": "display_data"
    },
    {
     "data": {
      "text/html": [
       "<pre style=\"white-space:pre;overflow-x:auto;line-height:normal;font-family:Menlo,'DejaVu Sans Mono',consolas,'Courier New',monospace\"><span style=\"color: #7fbfbf; text-decoration-color: #7fbfbf\">                    </span><span style=\"color: #d70000; text-decoration-color: #d70000; font-weight: bold\">ERROR   </span> Exception raised in Job<span style=\"font-weight: bold\">[</span><span style=\"color: #008080; text-decoration-color: #008080; font-weight: bold\">5825</span><span style=\"font-weight: bold\">]</span>: <span style=\"color: #e100e1; text-decoration-color: #e100e1; font-weight: bold\">RagasOutputParserException</span><span style=\"font-weight: bold\">(</span>The output   <a href=\"file:///opt/conda/lib/python3.11/site-packages/ragas/executor.py\" target=\"_blank\"><span style=\"color: #7f7f7f; text-decoration-color: #7f7f7f\">executor.py</span></a><span style=\"color: #7f7f7f; text-decoration-color: #7f7f7f\">:</span><a href=\"file:///opt/conda/lib/python3.11/site-packages/ragas/executor.py#104\" target=\"_blank\"><span style=\"color: #7f7f7f; text-decoration-color: #7f7f7f\">104</span></a>\n",
       "<span style=\"color: #7fbfbf; text-decoration-color: #7fbfbf\">                    </span>         parser failed to parse the output including retries.<span style=\"font-weight: bold\">)</span>                  <span style=\"color: #7f7f7f; text-decoration-color: #7f7f7f\">               </span>\n",
       "</pre>\n"
      ],
      "text/plain": [
       "\u001b[2;36m                   \u001b[0m\u001b[2;36m \u001b[0m\u001b[1;38;2;215;0;0mERROR   \u001b[0m Exception raised in Job\u001b[1m[\u001b[0m\u001b[1;36m5825\u001b[0m\u001b[1m]\u001b[0m: \u001b[1;38;2;225;0;225mRagasOutputParserException\u001b[0m\u001b[1m(\u001b[0mThe output   \u001b]8;id=220619;file:///opt/conda/lib/python3.11/site-packages/ragas/executor.py\u001b\\\u001b[2mexecutor.py\u001b[0m\u001b]8;;\u001b\\\u001b[2m:\u001b[0m\u001b]8;id=807835;file:///opt/conda/lib/python3.11/site-packages/ragas/executor.py#104\u001b\\\u001b[2m104\u001b[0m\u001b]8;;\u001b\\\n",
       "\u001b[2;36m                    \u001b[0m         parser failed to parse the output including retries.\u001b[1m)\u001b[0m                  \u001b[2m               \u001b[0m\n"
      ]
     },
     "metadata": {},
     "output_type": "display_data"
    },
    {
     "name": "stdout",
     "output_type": "stream",
     "text": [
      "{'answer_relevancy': 0.6146, 'faithfulness': 0.7514, 'answer_correctness': 0.5259}\n"
     ]
    }
   ],
   "source": [
    "# Initialize the evaluation_batch structure\n",
    "evaluation_batch = {\n",
    "    \"question\": [],\n",
    "    \"contexts\": [],\n",
    "    \"answer\": [],\n",
    "    \"reference\": []\n",
    "}\n",
    "\n",
    "# TUNED\n",
    "for item in data:\n",
    "    evaluation_batch[\"question\"].append(item.get(\"question\", \"\"))\n",
    "    evaluation_batch[\"contexts\"].append([item.get(\"context\", \"\")])  # Wrap in list\n",
    "    evaluation_batch[\"answer\"].append(item.get(\"tuned\", \"\")) \n",
    "    evaluation_batch[\"reference\"].append(item.get(\"original_answer\", \"\"))\n",
    "\n",
    "# Create the full dataset first\n",
    "ds_full = Dataset.from_dict(evaluation_batch)\n",
    "\n",
    "# Shuffle and select 100 random samples\n",
    "ds = ds_full.shuffle(seed=42).select(range(sample_size))\n",
    "\n",
    "#llm = ThrottledLLM(llm, delay=1.0, max_retries=6)\n",
    "\n",
    "\n",
    "# Run evaluation\n",
    "tuned_evals_results = ragas_evaluate(\n",
    "    ds,\n",
    "    llm=LangchainLLMWrapper(llm),\n",
    "    embeddings=LangchainEmbeddingsWrapper(embed),\n",
    "    metrics=metrics,\n",
    ")\n",
    "\n",
    "print(tuned_evals_results)"
   ]
  },
  {
   "cell_type": "code",
   "execution_count": 50,
   "id": "6fa60bf1-2814-4174-a643-4dd3c13643b4",
   "metadata": {},
   "outputs": [
    {
     "data": {
      "text/plain": [
       "{'answer_relevancy': 0.4344,\n",
       " 'faithfulness': 0.8287,\n",
       " 'answer_correctness': 0.5379}"
      ]
     },
     "execution_count": 50,
     "metadata": {},
     "output_type": "execute_result"
    }
   ],
   "source": [
    "base_evals_results_dict = json.loads(str(base_evals_results).replace(\"'\",\"\\\"\"))\n",
    "base_evals_results_dict"
   ]
  },
  {
   "cell_type": "code",
   "execution_count": 51,
   "id": "123a1f09-58db-4b73-918c-b60b9a336b26",
   "metadata": {},
   "outputs": [
    {
     "data": {
      "text/plain": [
       "{'answer_relevancy': 0.6146,\n",
       " 'faithfulness': 0.7514,\n",
       " 'answer_correctness': 0.5259}"
      ]
     },
     "execution_count": 51,
     "metadata": {},
     "output_type": "execute_result"
    }
   ],
   "source": [
    "tuned_evals_results_dict = json.loads(str(tuned_evals_results).replace(\"'\",\"\\\"\"))\n",
    "tuned_evals_results_dict"
   ]
  },
  {
   "cell_type": "code",
   "execution_count": 52,
   "id": "61fb7302-c12b-4edb-bc46-99231808d6da",
   "metadata": {},
   "outputs": [
    {
     "data": {
      "image/png": "[encoded data removed]",
      "text/plain": [
       "<Figure size 800x500 with 1 Axes>"
      ]
     },
     "metadata": {},
     "output_type": "display_data"
    }
   ],
   "source": [
    "import matplotlib.pyplot as plt\n",
    "import numpy as np\n",
    "\n",
    "# Metric names and corresponding values for both models\n",
    "metrics = [\"Answer Relevancy\", \"Faithfulness\", \"Answer Correctness\"]\n",
    "base_scores = [base_evals_results_dict[\"answer_relevancy\"], base_evals_results_dict[\"faithfulness\"], base_evals_results_dict[\"answer_correctness\"]]\n",
    "tuned_scores = [tuned_evals_results_dict[\"answer_relevancy\"], tuned_evals_results_dict[\"faithfulness\"], tuned_evals_results_dict[\"answer_correctness\"]]\n",
    "\n",
    "x = np.arange(len(metrics))  # label locations\n",
    "width = 0.35  # width of the bars\n",
    "\n",
    "fig, ax = plt.subplots(figsize=(8, 5))\n",
    "bars1 = ax.bar(x - width/2, base_scores, width, label='Base Model')\n",
    "bars2 = ax.bar(x + width/2, tuned_scores, width, label='Tuned Model')\n",
    "\n",
    "# Labels and title\n",
    "ax.set_ylabel('Score')\n",
    "ax.set_title('RAGAS Evaluation: Base vs Tuned Model')\n",
    "ax.set_xticks(x)\n",
    "ax.set_xticklabels(metrics)\n",
    "ax.set_ylim(0, 1)\n",
    "ax.legend()\n",
    "\n",
    "# Add value labels on top\n",
    "for bars in [bars1, bars2]:\n",
    "    for bar in bars:\n",
    "        height = bar.get_height()\n",
    "        ax.annotate(f'{height:.2f}', xy=(bar.get_x() + bar.get_width() / 2, height),\n",
    "                    xytext=(0, 3), textcoords=\"offset points\",\n",
    "                    ha='center', va='bottom', fontsize=9)\n",
    "\n",
    "plt.tight_layout()\n",
    "plt.show()"
   ]
  },
  {
   "cell_type": "code",
   "execution_count": null,
   "id": "222492c6-6280-4769-9b87-80617c5783a4",
   "metadata": {},
   "outputs": [],
   "source": []
  },
  {
   "cell_type": "code",
   "execution_count": null,
   "id": "f62e7e6e-96e1-4c53-b163-4dc498c10635",
   "metadata": {},
   "outputs": [],
   "source": []
  }
 ],
 "metadata": {
  "kernelspec": {
   "display_name": "Python 3 (ipykernel)",
   "language": "python",
   "name": "python3"
  },
  "language_info": {
   "codemirror_mode": {
    "name": "ipython",
    "version": 3
   },
   "file_extension": ".py",
   "mimetype": "text/x-python",
   "name": "python",
   "nbconvert_exporter": "python",
   "pygments_lexer": "ipython3",
   "version": "3.11.11"
  }
 },
 "nbformat": 4,
 "nbformat_minor": 5
}
